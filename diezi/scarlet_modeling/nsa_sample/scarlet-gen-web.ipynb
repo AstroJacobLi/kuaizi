{
 "cells": [
  {
   "cell_type": "code",
   "execution_count": 2,
   "id": "0c4b27f0",
   "metadata": {},
   "outputs": [
    {
     "name": "stdout",
     "output_type": "stream",
     "text": [
      "The autoreload extension is already loaded. To reload it, use:\n",
      "  %reload_ext autoreload\n"
     ]
    }
   ],
   "source": [
    "# Import packages\n",
    "%load_ext autoreload\n",
    "%autoreload 2\n",
    "import os\n",
    "import kuaizi as kz\n",
    "from kuaizi.display import display_single, SEG_CMAP\n",
    "from astropy.table import Table, Column, hstack"
   ]
  },
  {
   "cell_type": "raw",
   "id": "1f0be0a3",
   "metadata": {},
   "source": [
    "import sys\n",
    "sys.path.insert(1, '/home/jiaxuanl/Research/kuaizi/diezi/gen_cutout/')"
   ]
  },
  {
   "cell_type": "code",
   "execution_count": 3,
   "id": "03c1f6e4",
   "metadata": {},
   "outputs": [],
   "source": [
    "env_dict = {'project': 'HSC', 'name': 'LSBG', 'data_dir': '/scratch/gpfs/jiaxuanl/Data'}\n",
    "kz.utils.set_env(**env_dict)\n",
    "kz.utils.set_matplotlib(style='default', usetex=False)"
   ]
  },
  {
   "cell_type": "code",
   "execution_count": 4,
   "id": "56abadb4",
   "metadata": {},
   "outputs": [],
   "source": [
    "lsbg_cat = Table.read('./Cutout/NSA/nsa_cutout_cat.fits')\n",
    "lsbg_cat.sort('viz-id')"
   ]
  },
  {
   "cell_type": "code",
   "execution_count": 5,
   "id": "b0472a88",
   "metadata": {},
   "outputs": [
    {
     "data": {
      "text/html": [
       "<i>Row index=0</i>\n",
       "<table id=\"table47956624260624\">\n",
       "<thead><tr><th>ra</th><th>dec</th><th>a_image</th><th>b_image</th><th>theta_image</th><th>ellipticity</th><th>mag_auto_g</th><th>mag_auto_r</th><th>mag_auto_i</th><th>flux_radius_ave_g</th><th>flux_radius_ave_i</th><th>mu_ave_g</th><th>mu_ave_i</th><th>acorr_ratio</th><th>g-i</th><th>g-r</th><th>A_g</th><th>A_r</th><th>A_i</th><th>tract</th><th>patch</th><th>synth_id</th><th>viz-id</th><th>is_candy</th><th>is_galaxy</th><th>is_tidal</th><th>is_outskirts</th><th>is_cirrus</th><th>is_junk</th><th>num_votes</th><th>good_votes</th><th>bad_votes</th><th>cutout_size</th><th>prefix</th><th>radius</th><th>image_flag [5]</th><th>psf_flag [5]</th></tr></thead>\n",
       "<thead><tr><th></th><th></th><th></th><th></th><th></th><th></th><th></th><th></th><th></th><th></th><th></th><th></th><th></th><th></th><th></th><th></th><th></th><th></th><th></th><th></th><th></th><th></th><th></th><th></th><th></th><th></th><th></th><th></th><th></th><th></th><th></th><th></th><th></th><th></th><th>arcmin</th><th></th><th></th></tr></thead>\n",
       "<thead><tr><th>float64</th><th>float64</th><th>float64</th><th>float64</th><th>float64</th><th>float64</th><th>float64</th><th>float64</th><th>float64</th><th>float64</th><th>float64</th><th>float64</th><th>float64</th><th>float64</th><th>float64</th><th>float64</th><th>float64</th><th>float64</th><th>float64</th><th>int64</th><th>bytes3</th><th>int64</th><th>int64</th><th>int64</th><th>int64</th><th>int64</th><th>int64</th><th>int64</th><th>int64</th><th>int64</th><th>int64</th><th>int64</th><th>float64</th><th>bytes57</th><th>float64</th><th>bool</th><th>bool</th></tr></thead>\n",
       "<tr><td>191.8775898</td><td>1.8191396</td><td>13.171</td><td>6.847</td><td>17.16</td><td>0.48</td><td>20.3681</td><td>19.6069</td><td>19.419</td><td>2.48388</td><td>2.9379</td><td>23.63544893666136</td><td>23.162196553690602</td><td>1.3531789075180445</td><td>0.8617938102989308</td><td>0.676572821840797</td><td>0.057065463894592376</td><td>0.04043828573538853</td><td>0.02885927419352259</td><td>9841</td><td>4,2</td><td>-1</td><td>1554</td><td>2</td><td>0</td><td>0</td><td>0</td><td>0</td><td>0</td><td>2</td><td>2</td><td>0</td><td>1.0</td><td>/scratch/gpfs/jiaxuanl/Data/HSC/LSBG/Cutout/NSA/nsa_1554</td><td>1.0</td><td>True .. True</td><td>True .. True</td></tr>\n",
       "</table>"
      ],
      "text/plain": [
       "<Row index=0>\n",
       "     ra        dec    a_image b_image theta_image ellipticity mag_auto_g mag_auto_r mag_auto_i flux_radius_ave_g flux_radius_ave_i      mu_ave_g          mu_ave_i         acorr_ratio            g-i                g-r                A_g                  A_r                 A_i         tract patch  synth_id viz-id is_candy is_galaxy is_tidal is_outskirts is_cirrus is_junk num_votes good_votes bad_votes cutout_size                          prefix                           radius image_flag [5] psf_flag [5]\n",
       "                                                                                                                                                                                                                                                                                                                                                                                                                                                                                          arcmin                            \n",
       "  float64    float64  float64 float64   float64     float64    float64    float64    float64        float64           float64           float64           float64            float64            float64            float64            float64              float64             float64       int64 bytes3  int64   int64   int64     int64    int64      int64       int64    int64    int64     int64      int64     float64                           bytes57                          float64      bool          bool    \n",
       "----------- --------- ------- ------- ----------- ----------- ---------- ---------- ---------- ----------------- ----------------- ----------------- ------------------ ------------------ ------------------ ----------------- -------------------- ------------------- ------------------- ----- ------ -------- ------ -------- --------- -------- ------------ --------- ------- --------- ---------- --------- ----------- -------------------------------------------------------- ------- -------------- ------------\n",
       "191.8775898 1.8191396  13.171   6.847       17.16        0.48    20.3681    19.6069     19.419           2.48388            2.9379 23.63544893666136 23.162196553690602 1.3531789075180445 0.8617938102989308 0.676572821840797 0.057065463894592376 0.04043828573538853 0.02885927419352259  9841    4,2       -1   1554        2         0        0            0         0       0         2          2         0         1.0 /scratch/gpfs/jiaxuanl/Data/HSC/LSBG/Cutout/NSA/nsa_1554     1.0   True .. True True .. True"
      ]
     },
     "execution_count": 5,
     "metadata": {},
     "output_type": "execute_result"
    }
   ],
   "source": [
    "lsbg_cat[0]"
   ]
  },
  {
   "cell_type": "code",
   "execution_count": 6,
   "id": "3e25a7d3",
   "metadata": {},
   "outputs": [],
   "source": [
    "import sys\n",
    "sys.path.append('/home/jiaxuanl/Research/Packages/kuaizi/diezi/webpage/')\n",
    "from gen_web_scarlet import webpage_scarlet"
   ]
  },
  {
   "cell_type": "code",
   "execution_count": 7,
   "id": "ba832cef",
   "metadata": {},
   "outputs": [],
   "source": [
    "# Check the below information carefully!\n",
    "CATALOG_DIR = '/scratch/gpfs/jiaxuanl/Data/HSC/LSBG/Cutout/NSA/nsa_cutout_cat.fits'\n",
    "FIGURE_DIR = '/scratch/gpfs/jiaxuanl/Data/HSC/LSBG/Figure/NSA'\n",
    "WEBPAGE_DIR = '/tigress/jiaxuanl/public_html/NSA/scarlet_result'\n",
    "sample_name = 'nsa'\n",
    "ind_name = 'viz-id'"
   ]
  },
  {
   "cell_type": "code",
   "execution_count": 8,
   "id": "a9d81aee",
   "metadata": {},
   "outputs": [
    {
     "name": "stdout",
     "output_type": "stream",
     "text": [
      "Failed 0 galaxies (based on checking figures): viz-id\n",
      "------\n",
      "Failed 1 galaxies (based on checking log files): [18809]\n",
      "You have 50 galaxies to be displayed\n",
      "Total pages: 7\n"
     ]
    }
   ],
   "source": [
    "webpage_scarlet(CATALOG_DIR, FIGURE_DIR, WEBPAGE_DIR, sample_name, ind_name, row_num=8)"
   ]
  },
  {
   "cell_type": "code",
   "execution_count": null,
   "id": "fc49dbf2",
   "metadata": {},
   "outputs": [],
   "source": []
  },
  {
   "cell_type": "code",
   "execution_count": null,
   "id": "470c0644",
   "metadata": {},
   "outputs": [],
   "source": []
  }
 ],
 "metadata": {
  "kernelspec": {
   "display_name": "Python 3",
   "language": "python",
   "name": "python3"
  },
  "language_info": {
   "codemirror_mode": {
    "name": "ipython",
    "version": 3
   },
   "file_extension": ".py",
   "mimetype": "text/x-python",
   "name": "python",
   "nbconvert_exporter": "python",
   "pygments_lexer": "ipython3",
   "version": "3.7.8"
  }
 },
 "nbformat": 4,
 "nbformat_minor": 5
}
