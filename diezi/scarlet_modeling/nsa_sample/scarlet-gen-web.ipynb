{
 "cells": [
  {
   "cell_type": "code",
   "execution_count": 4,
   "id": "0c4b27f0",
   "metadata": {},
   "outputs": [
    {
     "name": "stdout",
     "output_type": "stream",
     "text": [
      "The autoreload extension is already loaded. To reload it, use:\n",
      "  %reload_ext autoreload\n"
     ]
    }
   ],
   "source": [
    "# Import packages\n",
    "%load_ext autoreload\n",
    "%autoreload 2\n",
    "import os\n",
    "import kuaizi as kz\n",
    "from kuaizi.display import display_single, SEG_CMAP\n",
    "from astropy.table import Table, Column, hstack, vstack"
   ]
  },
  {
   "cell_type": "raw",
   "id": "1f0be0a3",
   "metadata": {},
   "source": [
    "import sys\n",
    "sys.path.insert(1, '/home/jiaxuanl/Research/kuaizi/diezi/gen_cutout/')"
   ]
  },
  {
   "cell_type": "code",
   "execution_count": 3,
   "id": "03c1f6e4",
   "metadata": {},
   "outputs": [],
   "source": [
    "env_dict = {'project': 'HSC', 'name': 'LSBG', 'data_dir': '/scratch/gpfs/jiaxuanl/Data'}\n",
    "kz.utils.set_env(**env_dict)\n",
    "kz.utils.set_matplotlib(style='default', usetex=False)"
   ]
  },
  {
   "cell_type": "code",
   "execution_count": 5,
   "id": "56abadb4",
   "metadata": {},
   "outputs": [],
   "source": [
    "lsbg_cat_1 = Table.read('./Cutout/NSA/nsa_cutout_cat_0928.fits')\n",
    "lsbg_cat_2 = Table.read('./Cutout/NSA/nsa_cutout_cat_1007.fits')\n",
    "\n",
    "lsbg_cat = vstack([lsbg_cat_1, lsbg_cat_2])\n",
    "\n",
    "lsbg_cat.sort('viz-id')"
   ]
  },
  {
   "cell_type": "code",
   "execution_count": 9,
   "id": "2c1b948d",
   "metadata": {},
   "outputs": [],
   "source": [
    "lsbg_cat.write('./Cutout/NSA/nsa_cutout_cat.fits')"
   ]
  },
  {
   "cell_type": "code",
   "execution_count": 10,
   "id": "b0472a88",
   "metadata": {},
   "outputs": [
    {
     "data": {
      "text/html": [
       "<i>Row index=0</i>\n",
       "<table id=\"table47832717543504\">\n",
       "<thead><tr><th>ra</th><th>dec</th><th>a_image</th><th>b_image</th><th>theta_image</th><th>ellipticity</th><th>mag_auto_g</th><th>mag_auto_r</th><th>mag_auto_i</th><th>flux_radius_ave_g</th><th>flux_radius_ave_i</th><th>mu_ave_g</th><th>mu_ave_i</th><th>acorr_ratio</th><th>g-i</th><th>g-r</th><th>A_g</th><th>A_r</th><th>A_i</th><th>tract</th><th>patch</th><th>synth_id</th><th>viz-id</th><th>is_candy</th><th>is_galaxy</th><th>is_tidal</th><th>is_outskirts</th><th>is_cirrus</th><th>is_junk</th><th>num_votes</th><th>good_votes</th><th>bad_votes</th><th>cutout_size</th><th>prefix</th><th>radius</th><th>image_flag [5]</th><th>psf_flag [5]</th></tr></thead>\n",
       "<thead><tr><th></th><th></th><th></th><th></th><th></th><th></th><th></th><th></th><th></th><th></th><th></th><th></th><th></th><th></th><th></th><th></th><th></th><th></th><th></th><th></th><th></th><th></th><th></th><th></th><th></th><th></th><th></th><th></th><th></th><th></th><th></th><th></th><th></th><th></th><th>arcmin</th><th></th><th></th></tr></thead>\n",
       "<thead><tr><th>float64</th><th>float64</th><th>float64</th><th>float64</th><th>float64</th><th>float64</th><th>float64</th><th>float64</th><th>float64</th><th>float64</th><th>float64</th><th>float64</th><th>float64</th><th>float64</th><th>float64</th><th>float64</th><th>float64</th><th>float64</th><th>float64</th><th>int64</th><th>bytes3</th><th>int64</th><th>int64</th><th>int64</th><th>int64</th><th>int64</th><th>int64</th><th>int64</th><th>int64</th><th>int64</th><th>int64</th><th>int64</th><th>float64</th><th>bytes57</th><th>float64</th><th>bool</th><th>bool</th></tr></thead>\n",
       "<tr><td>30.6411865</td><td>-5.4208379</td><td>5.668</td><td>4.748</td><td>-70.15</td><td>0.162</td><td>23.5773</td><td>23.0723</td><td>23.05</td><td>2.5482240000000003</td><td>2.1488880000000004</td><td>26.92808632341621</td><td>26.27463419035521</td><td>1.6249965069592989</td><td>0.5496779663821286</td><td>0.5456349463904673</td><td>0.074698957876451</td><td>0.05293390426691903</td><td>0.03777692425858255</td><td>8521</td><td>7,3</td><td>-1</td><td>43</td><td>2</td><td>0</td><td>0</td><td>1</td><td>0</td><td>0</td><td>3</td><td>2</td><td>1</td><td>1.0</td><td>/scratch/gpfs/jiaxuanl/Data/HSC/LSBG/Cutout/NSA/nsa_43</td><td>1.0</td><td>True .. True</td><td>True .. True</td></tr>\n",
       "</table>"
      ],
      "text/plain": [
       "<Row index=0>\n",
       "    ra        dec     a_image b_image theta_image ellipticity mag_auto_g mag_auto_r mag_auto_i flux_radius_ave_g  flux_radius_ave_i       mu_ave_g          mu_ave_i        acorr_ratio            g-i                g-r                A_g                A_r                 A_i         tract patch  synth_id viz-id is_candy is_galaxy is_tidal is_outskirts is_cirrus is_junk num_votes good_votes bad_votes cutout_size                         prefix                          radius image_flag [5] psf_flag [5]\n",
       "                                                                                                                                                                                                                                                                                                                                                                                                                                                                                       arcmin                            \n",
       " float64    float64   float64 float64   float64     float64    float64    float64    float64        float64            float64            float64           float64           float64            float64            float64            float64            float64             float64       int64 bytes3  int64   int64   int64     int64    int64      int64       int64    int64    int64     int64      int64     float64                          bytes57                         float64      bool          bool    \n",
       "---------- ---------- ------- ------- ----------- ----------- ---------- ---------- ---------- ------------------ ------------------ ----------------- ----------------- ------------------ ------------------ ------------------ ----------------- ------------------- ------------------- ----- ------ -------- ------ -------- --------- -------- ------------ --------- ------- --------- ---------- --------- ----------- ------------------------------------------------------ ------- -------------- ------------\n",
       "30.6411865 -5.4208379   5.668   4.748      -70.15       0.162    23.5773    23.0723      23.05 2.5482240000000003 2.1488880000000004 26.92808632341621 26.27463419035521 1.6249965069592989 0.5496779663821286 0.5456349463904673 0.074698957876451 0.05293390426691903 0.03777692425858255  8521    7,3       -1     43        2         0        0            1         0       0         3          2         1         1.0 /scratch/gpfs/jiaxuanl/Data/HSC/LSBG/Cutout/NSA/nsa_43     1.0   True .. True True .. True"
      ]
     },
     "execution_count": 10,
     "metadata": {},
     "output_type": "execute_result"
    }
   ],
   "source": [
    "lsbg_cat[0]"
   ]
  },
  {
   "cell_type": "code",
   "execution_count": 11,
   "id": "3e25a7d3",
   "metadata": {},
   "outputs": [],
   "source": [
    "import sys\n",
    "sys.path.append('/home/jiaxuanl/Research/Packages/kuaizi/diezi/webpage/')\n",
    "from gen_web_scarlet import webpage_scarlet"
   ]
  },
  {
   "cell_type": "code",
   "execution_count": 12,
   "id": "ba832cef",
   "metadata": {},
   "outputs": [],
   "source": [
    "# Check the below information carefully!\n",
    "CATALOG_DIR = '/scratch/gpfs/jiaxuanl/Data/HSC/LSBG/Cutout/NSA/nsa_cutout_cat.fits'\n",
    "FIGURE_DIR = '/scratch/gpfs/jiaxuanl/Data/HSC/LSBG/Figure/NSA'\n",
    "WEBPAGE_DIR = '/tigress/jiaxuanl/public_html/NSA/scarlet_result'\n",
    "sample_name = 'nsa'\n",
    "ind_name = 'viz-id'"
   ]
  },
  {
   "cell_type": "code",
   "execution_count": 30,
   "id": "a9d81aee",
   "metadata": {},
   "outputs": [
    {
     "name": "stdout",
     "output_type": "stream",
     "text": [
      "Failed 6 galaxies (based on checking figures): viz-id\n",
      "------\n",
      " 23076\n",
      " 36129\n",
      " 36974\n",
      " 59841\n",
      " 76469\n",
      " 84001\n",
      "Failed 6 galaxies (based on checking log files): [23076 36129 36974 59841 76469 84001]\n",
      "You have 286 galaxies to be displayed\n",
      "Total pages: 31\n"
     ]
    }
   ],
   "source": [
    "webpage_scarlet(CATALOG_DIR, FIGURE_DIR, WEBPAGE_DIR, sample_name, ind_name, row_num=10)"
   ]
  },
  {
   "cell_type": "code",
   "execution_count": null,
   "id": "cb962245",
   "metadata": {},
   "outputs": [],
   "source": []
  },
  {
   "cell_type": "code",
   "execution_count": null,
   "id": "1dc86f53",
   "metadata": {},
   "outputs": [],
   "source": []
  },
  {
   "cell_type": "code",
   "execution_count": null,
   "id": "b22f836b",
   "metadata": {},
   "outputs": [],
   "source": []
  },
  {
   "cell_type": "code",
   "execution_count": 21,
   "id": "fc49dbf2",
   "metadata": {},
   "outputs": [],
   "source": [
    "ind = 6162"
   ]
  },
  {
   "cell_type": "code",
   "execution_count": 22,
   "id": "470c0644",
   "metadata": {},
   "outputs": [],
   "source": [
    "gal = lsbg_cat[lsbg_cat['viz-id'] == ind]"
   ]
  },
  {
   "cell_type": "code",
   "execution_count": 23,
   "id": "b9140787",
   "metadata": {},
   "outputs": [],
   "source": [
    "caption = ''"
   ]
  },
  {
   "cell_type": "code",
   "execution_count": 27,
   "id": "6290211b",
   "metadata": {},
   "outputs": [],
   "source": [
    "if gal['is_galaxy'] >= 1:\n",
    "    caption += '<p style=\"color:red;\">Galaxy</p>'\n",
    "if gal['is_candy'] >= 1:\n",
    "    caption += '<p style=\"color:green;\">Candy</p>'\n",
    "if gal['is_junk'] + gal['is_cirrus'] + gal['is_outskirts'] + gal['is_tidal'] >= 1:\n",
    "    caption += '<p style=\"color:black;\">Junk</p>'\n",
    "\n",
    "if gal['good_votes'] + gal['bad_votes'] == 0:\n",
    "    caption += 'No votes!'"
   ]
  },
  {
   "cell_type": "code",
   "execution_count": 29,
   "id": "7ad8c283",
   "metadata": {},
   "outputs": [
    {
     "data": {
      "text/plain": [
       "'<p style=\"color:black;\">Junk</p>'"
      ]
     },
     "execution_count": 29,
     "metadata": {},
     "output_type": "execute_result"
    }
   ],
   "source": [
    "caption"
   ]
  }
 ],
 "metadata": {
  "kernelspec": {
   "display_name": "Python 3",
   "language": "python",
   "name": "python3"
  },
  "language_info": {
   "codemirror_mode": {
    "name": "ipython",
    "version": 3
   },
   "file_extension": ".py",
   "mimetype": "text/x-python",
   "name": "python",
   "nbconvert_exporter": "python",
   "pygments_lexer": "ipython3",
   "version": "3.7.8"
  }
 },
 "nbformat": 4,
 "nbformat_minor": 5
}
