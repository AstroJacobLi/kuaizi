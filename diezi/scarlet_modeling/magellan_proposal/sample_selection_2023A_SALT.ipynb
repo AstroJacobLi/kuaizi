{
 "cells": [
  {
   "cell_type": "markdown",
   "id": "907d9cc0",
   "metadata": {},
   "source": [
    "### Here I make a catalog for Ryan Hickox at Dartmouth. He'd like to help us observe UDGs to measure spec-zs.\n",
    "\n",
    "### Last update: 2023-04-13"
   ]
  },
  {
   "cell_type": "code",
   "execution_count": 1,
   "id": "fb5cee37",
   "metadata": {},
   "outputs": [],
   "source": [
    "# Import packages\n",
    "%load_ext autoreload\n",
    "%autoreload 2"
   ]
  },
  {
   "cell_type": "code",
   "execution_count": 2,
   "id": "617ab640",
   "metadata": {},
   "outputs": [],
   "source": [
    "import os\n",
    "import dill, sys\n",
    "import copy\n",
    "import numpy as np\n",
    "import matplotlib.pyplot as plt\n",
    "import scarlet\n",
    "\n",
    "import kuaizi as kz\n",
    "from kuaizi.display import display_single, SEG_CMAP, display_scarlet_results_tigress\n",
    "\n",
    "import astropy.units as u\n",
    "from astropy.table import Table, Column, Row, vstack, hstack\n",
    "from astropy.coordinates import SkyCoord\n",
    "\n",
    "import pickle"
   ]
  },
  {
   "cell_type": "code",
   "execution_count": 3,
   "id": "c543efc0",
   "metadata": {},
   "outputs": [],
   "source": [
    "env_dict = {'project': 'HSC', 'name': 'LSBG', 'data_dir': '/scratch/gpfs/jiaxuanl/Data'}\n",
    "kz.utils.set_env(**env_dict)\n",
    "kz.set_matplotlib(style='JL', usetex=True, dpi=100, fontsize=16)\n",
    "GALARY = '/tigress/jiaxuanl/public_html/galary/'"
   ]
  },
  {
   "cell_type": "raw",
   "id": "94125047",
   "metadata": {},
   "source": [
    "udg_cat = Table.read(\n",
    "    '/tigress/jiaxuanl/public_html/galary/catalogs/nsa_z001_004/udg_z001_004_spergel_after_viz_w_missed.fits')\n",
    "flag = (udg_cat['rhalf_phys'] + udg_cat['rhalf_phys_err'] >= 1.5\n",
    "       ) & (udg_cat['SB_eff_avg'][:, 0] + udg_cat['SB_eff_avg_err'][:, 0] >= 24.8)\n",
    "udg_cat = udg_cat[flag]\n",
    "\n",
    "# udg_cat = Table.read(\n",
    "#     '/tigress/jiaxuanl/public_html/galary/catalogs/nsa_z001_004/upg_z001_004_spergel_after_viz_1.5sigma.fits')\n",
    "# udg_cat = udg_cat[udg_cat['completeness'] > 0.1]"
   ]
  },
  {
   "cell_type": "code",
   "execution_count": 109,
   "id": "17a65af6",
   "metadata": {},
   "outputs": [
    {
     "name": "stdout",
     "output_type": "stream",
     "text": [
      "Total angular area [deg2]: 32.70887732960614\n"
     ]
    }
   ],
   "source": [
    "### UDG ###\n",
    "name = 'udg'\n",
    "udg_cat = Table.read(\n",
    "    f'{GALARY}/catalogs/nsa_z001_004/{name}_z001_004_spergel_after_viz_w_missed.fits')\n",
    "flag = (udg_cat['rhalf_phys'] + udg_cat['rhalf_phys_err'] >= 1.5\n",
    "       ) & (udg_cat['SB_eff_avg'][:, 0] + udg_cat['SB_eff_avg_err'][:, 0] >= 25)\n",
    "udg_cat = udg_cat[flag]\n",
    "udg_cat = udg_cat[udg_cat['completeness'] > 0.1]\n",
    "\n",
    "_, ind = np.unique(udg_cat['host_name'].data, return_index=True)\n",
    "total_area = (np.pi * (udg_cat['host_r_vir_ang'].data[ind]**2)).sum() # deg^2 #  - (3/60)**2\n",
    "print('Total angular area [deg2]:', total_area)\n",
    "\n",
    "fake_udg_cat = Table.read(f'./Catalog/random_field/fake_{name}_cat_220726.fits')\n",
    "fake_udg_cat = fake_udg_cat[fake_udg_cat['completeness'] > 0.1]\n",
    "fake_udg_num = np.load(f'./Catalog/random_field/fake_{name}_cat_220726_{name}_num.npy')\n",
    "density_bkg = len(fake_udg_cat) / (10 * 20) / 24 # bkg per sqr deg"
   ]
  },
  {
   "cell_type": "code",
   "execution_count": 4,
   "id": "ca0190f8",
   "metadata": {},
   "outputs": [
    {
     "name": "stdout",
     "output_type": "stream",
     "text": [
      "Total angular area [deg2]: 32.36912377009267\n"
     ]
    }
   ],
   "source": [
    "### UPG ###\n",
    "name = 'upg'\n",
    "thresh = 1.5\n",
    "udg_cat = Table.read(\n",
    "    f'{GALARY}/catalogs/nsa_z001_004/{name}_z001_004_spergel_after_viz_{thresh}sigma.fits')\n",
    "udg_cat = udg_cat[udg_cat['completeness'] > 0.1]\n",
    "\n",
    "_, ind = np.unique(udg_cat['host_name'].data, return_index=True)\n",
    "total_area = (np.pi * (udg_cat['host_r_vir_ang'].data[ind]**2)).sum() # deg^2 #  - (3/60)**2\n",
    "print('Total angular area [deg2]:', total_area)\n",
    "\n",
    "fake_udg_cat = Table.read(f'./Catalog/random_field/fake_{name}_cat_{thresh}sigma_220726.fits')\n",
    "fake_udg_num = np.load(f'./Catalog/random_field/fake_{name}_cat_{thresh}sigma_220726_{name}_num.npy')\n",
    "density_bkg = len(fake_udg_cat) / (10 * 20) / 24 # bkg per sqr deg"
   ]
  },
  {
   "cell_type": "markdown",
   "id": "980b2e13",
   "metadata": {},
   "source": [
    "#### Only select bright ones, then rank by color"
   ]
  },
  {
   "cell_type": "code",
   "execution_count": 5,
   "id": "02f62278",
   "metadata": {},
   "outputs": [],
   "source": [
    "# flag = ((udg_cat['SB_eff_avg'][:, 0] + udg_cat['SB_eff_avg_err'][:, 0]) > 24.5) & (udg_cat['SB_eff_avg'][:, 0] < 25.5)\n",
    "flag = (udg_cat['SB_eff_avg'][:, 0] < 25.5)\n",
    "flag &= ((udg_cat['rhalf_spergel'] + udg_cat['rhalf_spergel_err']) > 3.) # large ones\n",
    "# flag &= (udg_cat['g-i'] >= 0.6) # only want red ones\n",
    "# flag &= (udg_cat['g-i'] < 0.6) # only want blue ones"
   ]
  },
  {
   "cell_type": "code",
   "execution_count": 6,
   "id": "45ba2e68",
   "metadata": {},
   "outputs": [
    {
     "data": {
      "text/plain": [
       "117"
      ]
     },
     "execution_count": 6,
     "metadata": {},
     "output_type": "execute_result"
    }
   ],
   "source": [
    "np.sum(flag)"
   ]
  },
  {
   "cell_type": "code",
   "execution_count": 7,
   "id": "49e41328",
   "metadata": {},
   "outputs": [
    {
     "name": "stdout",
     "output_type": "stream",
     "text": [
      "No overlapping objects\n"
     ]
    }
   ],
   "source": [
    "cat = udg_cat[flag]\n",
    "\n",
    "# Check repeatance\n",
    "lsbg_coord = SkyCoord(cat['ra'], cat['dec'], unit='deg')\n",
    "\n",
    "dist_mat = lsbg_coord[None, :].separation(lsbg_coord[:, None]).to(u.deg).value\n",
    "np.fill_diagonal(dist_mat, 100)\n",
    "\n",
    "if (dist_mat < (2 * u.arcsec).to(u.deg).value).sum() > 0:\n",
    "    print('Have overlapping objects')\n",
    "else:\n",
    "    print('No overlapping objects')"
   ]
  },
  {
   "cell_type": "code",
   "execution_count": 8,
   "id": "b1cccd41",
   "metadata": {},
   "outputs": [],
   "source": [
    "# distance to host\n",
    "lsbg_coord = SkyCoord(cat['ra'], cat['dec'], unit='deg')\n",
    "host_coord = SkyCoord(cat['host_RA'], cat['host_DEC'], unit='deg')\n",
    "dist = lsbg_coord.separation(host_coord).to(u.deg).value\n",
    "dist_vir = dist / cat['host_r_vir_ang'].data\n",
    "\n",
    "cat['dist_to_host_rvir'] = dist_vir\n",
    "cat['SB_eff_avg_g'] = cat['SB_eff_avg'][:, 0]\n",
    "\n",
    "cat.sort('g-i')"
   ]
  },
  {
   "cell_type": "code",
   "execution_count": 9,
   "id": "0559f504",
   "metadata": {},
   "outputs": [],
   "source": [
    "flag = (cat['dec'] < 20) # (udg_cat['ra'] >= 10 * 15) & (udg_cat['ra'] <= 20 * 15) & \n",
    "flag &= (cat['g-i'] < 0.6) # nothing too red. Otherwise it will be hard to get redshift\n",
    "cat = cat[flag]"
   ]
  },
  {
   "cell_type": "code",
   "execution_count": 10,
   "id": "47d0a695",
   "metadata": {},
   "outputs": [],
   "source": [
    "from astropy.cosmology import Planck15\n",
    "# Calculate V-band abs mag according to Lupton 2005: https://classic.sdss.org/dr7/algorithms/sdssUBVRITransform.html#Lupton2005\n",
    "V = cat['mag'][:, 0] - 0.5784 * \\\n",
    "    (cat['mag'][:, 0] - cat['mag'][:, 1]) - 0.0038\n",
    "V_abs = V - 25 - 5 * np.log10(cat['host_ang_diam_dist'].data *\n",
    "                              (1 + cat['host_z'].data)**2)\n",
    "# The criterion for quenching is from Carlsten+22. The original intercept is -0.23. I think 0.28 works better for our sample.\n",
    "quenched = (cat['g-i'] > (-0.067 * V_abs - 0.23))\n",
    "cat['quenched'] = quenched"
   ]
  },
  {
   "cell_type": "code",
   "execution_count": 118,
   "id": "641b9368",
   "metadata": {},
   "outputs": [
    {
     "data": {
      "text/html": [
       "<div><i>Table length=61</i>\n",
       "<table id=\"table47743379654160\" class=\"table-striped table-bordered table-condensed\">\n",
       "<thead><tr><th>viz-id</th><th>ra</th><th>dec</th><th>rhalf_arcsec</th><th>SB_eff_avg_g</th><th>host_z</th><th>host_stellar_mass</th><th>dist_to_host_rvir</th><th>host_RA</th><th>host_DEC</th><th>g-i</th><th>quenched</th></tr></thead>\n",
       "<thead><tr><th></th><th>deg</th><th>deg</th><th>arcsec</th><th></th><th></th><th></th><th></th><th></th><th></th><th></th><th></th></tr></thead>\n",
       "<thead><tr><th>int64</th><th>float64</th><th>float64</th><th>float64</th><th>float64</th><th>float64</th><th>float64</th><th>float64</th><th>float64</th><th>float64</th><th>float64</th><th>bool</th></tr></thead>\n",
       "<tr><td>3805</td><td>151.1125408</td><td>1.8948408</td><td>3.6067294255409994</td><td>23.308638038810717</td><td>0.030993763357400894</td><td>10.683559745082484</td><td>0.7998688404269608</td><td>151.13947296455328</td><td>1.7877533343766783</td><td>0.10969507764885929</td><td>False</td></tr>\n",
       "<tr><td>4144</td><td>31.8970727</td><td>-4.0439644</td><td>6.3241135493617335</td><td>23.346930921756496</td><td>0.03880023583769798</td><td>10.261992781886683</td><td>0.8810568301653664</td><td>31.8981616276332</td><td>-4.109705621306714</td><td>0.4662759608983885</td><td>False</td></tr>\n",
       "<tr><td>27138</td><td>129.6172269</td><td>-2.0361118</td><td>4.5248061812148315</td><td>23.488564219435272</td><td>0.03919384256005287</td><td>10.941068976649866</td><td>0.9541639738281797</td><td>129.75536183317658</td><td>-1.9539365674169382</td><td>0.4210062541386294</td><td>False</td></tr>\n",
       "<tr><td>59963</td><td>18.7058033</td><td>1.8020719</td><td>3.0108099869050107</td><td>23.788430198041297</td><td>0.03471063822507858</td><td>11.001523345241175</td><td>0.24734936161989465</td><td>18.660658838183835</td><td>1.8294761295928061</td><td>0.2955895987354898</td><td>False</td></tr>\n",
       "<tr><td>42044</td><td>217.0244677</td><td>-1.6665135</td><td>5.494245737324448</td><td>23.79301559290445</td><td>0.030484382063150406</td><td>10.274616568812952</td><td>0.2122342046346625</td><td>217.04180372160715</td><td>-1.6768087901870683</td><td>0.38386452363109286</td><td>False</td></tr>\n",
       "<tr><td>68047</td><td>334.136724</td><td>3.5017738</td><td>2.8620620900606677</td><td>23.92171923999677</td><td>0.03853338211774826</td><td>11.001868575343714</td><td>0.46964307217447715</td><td>334.15499546345075</td><td>3.4128962305387627</td><td>0.2438751693802</td><td>False</td></tr>\n",
       "<tr><td>40344</td><td>338.0062275</td><td>0.0164106</td><td>6.532459926627873</td><td>23.928765183638955</td><td>0.03894214704632759</td><td>11.009867041835413</td><td>0.16288995948751278</td><td>338.03023482448975</td><td>0.0370669306217399</td><td>0.588387051153014</td><td>False</td></tr>\n",
       "<tr><td>14681</td><td>18.949017</td><td>-0.7763651</td><td>4.82094740230489</td><td>23.94398935510788</td><td>0.038293078541755676</td><td>10.744828551540003</td><td>0.7237129805443552</td><td>18.895972555619927</td><td>-0.8478539208837471</td><td>0.5186291719749713</td><td>False</td></tr>\n",
       "<tr><td>31639</td><td>127.4878328</td><td>-1.2739235</td><td>5.43158554727518</td><td>23.96081608419313</td><td>0.039390645921230316</td><td>10.43959268880807</td><td>0.7275239237459198</td><td>127.5487398797155</td><td>-1.2701524877867092</td><td>0.5853767019671389</td><td>False</td></tr>\n",
       "<tr><td>...</td><td>...</td><td>...</td><td>...</td><td>...</td><td>...</td><td>...</td><td>...</td><td>...</td><td>...</td><td>...</td><td>...</td></tr>\n",
       "<tr><td>75212</td><td>32.2729832</td><td>-6.3073727</td><td>4.031836932045927</td><td>25.143687382016545</td><td>0.017738966271281242</td><td>10.2586978371235</td><td>0.8356643679426063</td><td>32.37006651247556</td><td>-6.215301205815394</td><td>0.18935103041747714</td><td>False</td></tr>\n",
       "<tr><td>4363</td><td>176.3969337</td><td>-1.8543287</td><td>3.963494714611321</td><td>25.158689430456043</td><td>0.02700159139931202</td><td>10.432674735316859</td><td>0.48389260073914736</td><td>176.34334484192382</td><td>-1.8767259083508003</td><td>0.4976121357816304</td><td>False</td></tr>\n",
       "<tr><td>45406</td><td>35.3498461</td><td>-5.3589374</td><td>2.6624316889367865</td><td>25.20655859500249</td><td>0.03246917948126793</td><td>10.535680144557581</td><td>0.9448160439045865</td><td>35.34454537185288</td><td>-5.463323678787792</td><td>0.38893199268931816</td><td>False</td></tr>\n",
       "<tr><td>75146</td><td>151.2527336</td><td>1.818769</td><td>2.4344589416666866</td><td>25.22253932734003</td><td>0.030993763357400894</td><td>10.683559745082484</td><td>0.8502698117492118</td><td>151.13947296455328</td><td>1.7877533343766783</td><td>0.5737096007860966</td><td>False</td></tr>\n",
       "<tr><td>51667</td><td>214.5833531</td><td>0.8662071</td><td>2.6420764048763496</td><td>25.294609547085006</td><td>0.02594488300383091</td><td>10.423200934657679</td><td>0.26426294450621074</td><td>214.56214057025574</td><td>0.8910905415231057</td><td>0.3291506886813691</td><td>False</td></tr>\n",
       "<tr><td>82340</td><td>211.2652064</td><td>-0.6982816</td><td>3.9756541188587686</td><td>25.322152729168565</td><td>0.024441352114081383</td><td>10.761310904750452</td><td>0.38766444292477126</td><td>211.2155818950048</td><td>-0.6416123720214427</td><td>0.4894989088533086</td><td>False</td></tr>\n",
       "<tr><td>62335</td><td>189.7311301</td><td>0.2940206</td><td>3.1342495842205595</td><td>25.390520893463034</td><td>0.02301519364118576</td><td>10.971159308681116</td><td>0.2521165198297114</td><td>189.75467996838842</td><td>0.365557035035748</td><td>0.2973502562677849</td><td>False</td></tr>\n",
       "<tr><td>82230</td><td>340.1742102</td><td>3.1779487</td><td>2.845967979569235</td><td>25.434926596139878</td><td>0.03988102823495865</td><td>10.70796140981637</td><td>0.5185090569833224</td><td>340.11932446353836</td><td>3.197408503113005</td><td>0.39161657528577687</td><td>False</td></tr>\n",
       "<tr><td>33394</td><td>217.4791213</td><td>-0.1297751</td><td>2.446349491938888</td><td>25.469242456057316</td><td>0.03010684624314308</td><td>10.383340209254847</td><td>0.419866592202361</td><td>217.4418949902573</td><td>-0.15237901255615877</td><td>0.5963394334047065</td><td>False</td></tr>\n",
       "</table></div>"
      ],
      "text/plain": [
       "<Table length=61>\n",
       "viz-id      ra        dec     ...       host_DEC               g-i         quenched\n",
       "           deg        deg     ...                                                  \n",
       "int64    float64    float64   ...       float64              float64         bool  \n",
       "------ ----------- ---------- ... -------------------- ------------------- --------\n",
       "  3805 151.1125408  1.8948408 ...   1.7877533343766783 0.10969507764885929    False\n",
       "  4144  31.8970727 -4.0439644 ...   -4.109705621306714  0.4662759608983885    False\n",
       " 27138 129.6172269 -2.0361118 ...  -1.9539365674169382  0.4210062541386294    False\n",
       " 59963  18.7058033  1.8020719 ...   1.8294761295928061  0.2955895987354898    False\n",
       " 42044 217.0244677 -1.6665135 ...  -1.6768087901870683 0.38386452363109286    False\n",
       " 68047  334.136724  3.5017738 ...   3.4128962305387627     0.2438751693802    False\n",
       " 40344 338.0062275  0.0164106 ...   0.0370669306217399   0.588387051153014    False\n",
       " 14681   18.949017 -0.7763651 ...  -0.8478539208837471  0.5186291719749713    False\n",
       " 31639 127.4878328 -1.2739235 ...  -1.2701524877867092  0.5853767019671389    False\n",
       "   ...         ...        ... ...                  ...                 ...      ...\n",
       " 75212  32.2729832 -6.3073727 ...   -6.215301205815394 0.18935103041747714    False\n",
       "  4363 176.3969337 -1.8543287 ...  -1.8767259083508003  0.4976121357816304    False\n",
       " 45406  35.3498461 -5.3589374 ...   -5.463323678787792 0.38893199268931816    False\n",
       " 75146 151.2527336   1.818769 ...   1.7877533343766783  0.5737096007860966    False\n",
       " 51667 214.5833531  0.8662071 ...   0.8910905415231057  0.3291506886813691    False\n",
       " 82340 211.2652064 -0.6982816 ...  -0.6416123720214427  0.4894989088533086    False\n",
       " 62335 189.7311301  0.2940206 ...    0.365557035035748  0.2973502562677849    False\n",
       " 82230 340.1742102  3.1779487 ...    3.197408503113005 0.39161657528577687    False\n",
       " 33394 217.4791213 -0.1297751 ... -0.15237901255615877  0.5963394334047065    False"
      ]
     },
     "execution_count": 118,
     "metadata": {},
     "output_type": "execute_result"
    }
   ],
   "source": [
    "output_cat = cat[['viz-id', 'ra', 'dec', 'rhalf_spergel', 'SB_eff_avg_g', \n",
    "                  'host_z', 'host_stellar_mass', 'dist_to_host_rvir', 'host_RA', 'host_DEC', 'g-i', 'quenched']]\n",
    "output_cat.rename_column('rhalf_spergel', 'rhalf_arcsec')\n",
    "output_cat.sort('SB_eff_avg_g')\n",
    "output_cat"
   ]
  },
  {
   "cell_type": "code",
   "execution_count": 119,
   "id": "dddd2092",
   "metadata": {},
   "outputs": [],
   "source": [
    "simbad_specz_ids = {4144: 0.04283,\n",
    "                    42044: 0.03088,\n",
    "                    40344: 0.03880,\n",
    "                    14681: 0.00619,\n",
    "                    9499: 0.024, #[0.024, 0.00079], \n",
    "                    75274: 0.015633,\n",
    "                    81215: 0.16353, \n",
    "                    23284: 0.03737,\n",
    "                    44907: 0.10063,\n",
    "                    81956: 0.017318,\n",
    "                    58058: 0.011636,\n",
    "                    1072: 0.1591,\n",
    "                    86749: 0.00, # already observed with Meng using LDSS3\n",
    "                    27138: 0.00, # dont like it\n",
    "                    }"
   ]
  },
  {
   "cell_type": "code",
   "execution_count": 120,
   "id": "ded29806",
   "metadata": {},
   "outputs": [],
   "source": [
    "sorted_specz = np.array(list(simbad_specz_ids.values()))[np.argsort(list(simbad_specz_ids.keys()))]\n",
    "specz_cat = output_cat[np.in1d(output_cat['viz-id'].data, list(simbad_specz_ids.keys()))]\n",
    "specz_cat['spec_z'] = [simbad_specz_ids[item] for item in specz_cat['viz-id']]\n",
    "\n",
    "output_cat = output_cat[~np.in1d(output_cat['viz-id'].data, list(simbad_specz_ids.keys()))]"
   ]
  },
  {
   "cell_type": "code",
   "execution_count": 121,
   "id": "553f8d4c",
   "metadata": {},
   "outputs": [
    {
     "data": {
      "text/html": [
       "<div><i>Table length=47</i>\n",
       "<table id=\"table47743379658288\" class=\"table-striped table-bordered table-condensed\">\n",
       "<thead><tr><th>viz-id</th><th>ra</th><th>dec</th><th>rhalf_arcsec</th><th>SB_eff_avg_g</th><th>host_z</th><th>host_stellar_mass</th><th>dist_to_host_rvir</th><th>host_RA</th><th>host_DEC</th><th>g-i</th><th>quenched</th></tr></thead>\n",
       "<thead><tr><th></th><th>deg</th><th>deg</th><th>arcsec</th><th></th><th></th><th></th><th></th><th></th><th></th><th></th><th></th></tr></thead>\n",
       "<thead><tr><th>int64</th><th>float64</th><th>float64</th><th>float64</th><th>float64</th><th>float64</th><th>float64</th><th>float64</th><th>float64</th><th>float64</th><th>float64</th><th>bool</th></tr></thead>\n",
       "<tr><td>3805</td><td>151.1125408</td><td>1.8948408</td><td>3.6067294255409994</td><td>23.308638038810717</td><td>0.030993763357400894</td><td>10.683559745082484</td><td>0.7998688404269608</td><td>151.13947296455328</td><td>1.7877533343766783</td><td>0.10969507764885929</td><td>False</td></tr>\n",
       "<tr><td>59963</td><td>18.7058033</td><td>1.8020719</td><td>3.0108099869050107</td><td>23.788430198041297</td><td>0.03471063822507858</td><td>11.001523345241175</td><td>0.24734936161989465</td><td>18.660658838183835</td><td>1.8294761295928061</td><td>0.2955895987354898</td><td>False</td></tr>\n",
       "<tr><td>68047</td><td>334.136724</td><td>3.5017738</td><td>2.8620620900606677</td><td>23.92171923999677</td><td>0.03853338211774826</td><td>11.001868575343714</td><td>0.46964307217447715</td><td>334.15499546345075</td><td>3.4128962305387627</td><td>0.2438751693802</td><td>False</td></tr>\n",
       "<tr><td>31639</td><td>127.4878328</td><td>-1.2739235</td><td>5.43158554727518</td><td>23.96081608419313</td><td>0.039390645921230316</td><td>10.43959268880807</td><td>0.7275239237459198</td><td>127.5487398797155</td><td>-1.2701524877867092</td><td>0.5853767019671389</td><td>False</td></tr>\n",
       "<tr><td>2965</td><td>225.5325325</td><td>1.5155803</td><td>4.578332349199997</td><td>24.112195795104896</td><td>0.03512850031256676</td><td>11.112083762416468</td><td>0.8542251667347637</td><td>225.33813869581473</td><td>1.6371053856753905</td><td>0.5038261613338773</td><td>False</td></tr>\n",
       "<tr><td>78872</td><td>188.2742841</td><td>0.8168608</td><td>3.7815775270551244</td><td>24.23227414165203</td><td>0.031207069754600525</td><td>10.35820612264596</td><td>0.39191121860943845</td><td>188.27518365318946</td><td>0.7783466002094354</td><td>0.4724549889358286</td><td>False</td></tr>\n",
       "<tr><td>86760</td><td>355.9775462</td><td>2.7696841</td><td>3.5607185764939637</td><td>24.253991369957465</td><td>0.0374559685587883</td><td>10.81927618337594</td><td>0.19435024993365466</td><td>355.9903651158272</td><td>2.7453934644243927</td><td>0.5589767915891098</td><td>False</td></tr>\n",
       "<tr><td>79073</td><td>3.3471024</td><td>0.7698461</td><td>3.782772505918614</td><td>24.280743552499793</td><td>0.038762882351875305</td><td>10.866063445338831</td><td>0.3611621791732638</td><td>3.3008501896299296</td><td>0.7429423363952744</td><td>0.5884620144265159</td><td>False</td></tr>\n",
       "<tr><td>44389</td><td>351.2517382</td><td>-0.103729</td><td>2.8723006059067306</td><td>24.28650508626391</td><td>0.03415801748633385</td><td>10.669611304530726</td><td>0.8464532524088704</td><td>351.2570561556118</td><td>0.0005939716972169003</td><td>0.36416863666363064</td><td>False</td></tr>\n",
       "<tr><td>...</td><td>...</td><td>...</td><td>...</td><td>...</td><td>...</td><td>...</td><td>...</td><td>...</td><td>...</td><td>...</td><td>...</td></tr>\n",
       "<tr><td>75212</td><td>32.2729832</td><td>-6.3073727</td><td>4.031836932045927</td><td>25.143687382016545</td><td>0.017738966271281242</td><td>10.2586978371235</td><td>0.8356643679426063</td><td>32.37006651247556</td><td>-6.215301205815394</td><td>0.18935103041747714</td><td>False</td></tr>\n",
       "<tr><td>4363</td><td>176.3969337</td><td>-1.8543287</td><td>3.963494714611321</td><td>25.158689430456043</td><td>0.02700159139931202</td><td>10.432674735316859</td><td>0.48389260073914736</td><td>176.34334484192382</td><td>-1.8767259083508003</td><td>0.4976121357816304</td><td>False</td></tr>\n",
       "<tr><td>45406</td><td>35.3498461</td><td>-5.3589374</td><td>2.6624316889367865</td><td>25.20655859500249</td><td>0.03246917948126793</td><td>10.535680144557581</td><td>0.9448160439045865</td><td>35.34454537185288</td><td>-5.463323678787792</td><td>0.38893199268931816</td><td>False</td></tr>\n",
       "<tr><td>75146</td><td>151.2527336</td><td>1.818769</td><td>2.4344589416666866</td><td>25.22253932734003</td><td>0.030993763357400894</td><td>10.683559745082484</td><td>0.8502698117492118</td><td>151.13947296455328</td><td>1.7877533343766783</td><td>0.5737096007860966</td><td>False</td></tr>\n",
       "<tr><td>51667</td><td>214.5833531</td><td>0.8662071</td><td>2.6420764048763496</td><td>25.294609547085006</td><td>0.02594488300383091</td><td>10.423200934657679</td><td>0.26426294450621074</td><td>214.56214057025574</td><td>0.8910905415231057</td><td>0.3291506886813691</td><td>False</td></tr>\n",
       "<tr><td>82340</td><td>211.2652064</td><td>-0.6982816</td><td>3.9756541188587686</td><td>25.322152729168565</td><td>0.024441352114081383</td><td>10.761310904750452</td><td>0.38766444292477126</td><td>211.2155818950048</td><td>-0.6416123720214427</td><td>0.4894989088533086</td><td>False</td></tr>\n",
       "<tr><td>62335</td><td>189.7311301</td><td>0.2940206</td><td>3.1342495842205595</td><td>25.390520893463034</td><td>0.02301519364118576</td><td>10.971159308681116</td><td>0.2521165198297114</td><td>189.75467996838842</td><td>0.365557035035748</td><td>0.2973502562677849</td><td>False</td></tr>\n",
       "<tr><td>82230</td><td>340.1742102</td><td>3.1779487</td><td>2.845967979569235</td><td>25.434926596139878</td><td>0.03988102823495865</td><td>10.70796140981637</td><td>0.5185090569833224</td><td>340.11932446353836</td><td>3.197408503113005</td><td>0.39161657528577687</td><td>False</td></tr>\n",
       "<tr><td>33394</td><td>217.4791213</td><td>-0.1297751</td><td>2.446349491938888</td><td>25.469242456057316</td><td>0.03010684624314308</td><td>10.383340209254847</td><td>0.419866592202361</td><td>217.4418949902573</td><td>-0.15237901255615877</td><td>0.5963394334047065</td><td>False</td></tr>\n",
       "</table></div>"
      ],
      "text/plain": [
       "<Table length=47>\n",
       "viz-id      ra        dec     ...        host_DEC               g-i         quenched\n",
       "           deg        deg     ...                                                   \n",
       "int64    float64    float64   ...        float64              float64         bool  \n",
       "------ ----------- ---------- ... --------------------- ------------------- --------\n",
       "  3805 151.1125408  1.8948408 ...    1.7877533343766783 0.10969507764885929    False\n",
       " 59963  18.7058033  1.8020719 ...    1.8294761295928061  0.2955895987354898    False\n",
       " 68047  334.136724  3.5017738 ...    3.4128962305387627     0.2438751693802    False\n",
       " 31639 127.4878328 -1.2739235 ...   -1.2701524877867092  0.5853767019671389    False\n",
       "  2965 225.5325325  1.5155803 ...    1.6371053856753905  0.5038261613338773    False\n",
       " 78872 188.2742841  0.8168608 ...    0.7783466002094354  0.4724549889358286    False\n",
       " 86760 355.9775462  2.7696841 ...    2.7453934644243927  0.5589767915891098    False\n",
       " 79073   3.3471024  0.7698461 ...    0.7429423363952744  0.5884620144265159    False\n",
       " 44389 351.2517382  -0.103729 ... 0.0005939716972169003 0.36416863666363064    False\n",
       "   ...         ...        ... ...                   ...                 ...      ...\n",
       " 75212  32.2729832 -6.3073727 ...    -6.215301205815394 0.18935103041747714    False\n",
       "  4363 176.3969337 -1.8543287 ...   -1.8767259083508003  0.4976121357816304    False\n",
       " 45406  35.3498461 -5.3589374 ...    -5.463323678787792 0.38893199268931816    False\n",
       " 75146 151.2527336   1.818769 ...    1.7877533343766783  0.5737096007860966    False\n",
       " 51667 214.5833531  0.8662071 ...    0.8910905415231057  0.3291506886813691    False\n",
       " 82340 211.2652064 -0.6982816 ...   -0.6416123720214427  0.4894989088533086    False\n",
       " 62335 189.7311301  0.2940206 ...     0.365557035035748  0.2973502562677849    False\n",
       " 82230 340.1742102  3.1779487 ...     3.197408503113005 0.39161657528577687    False\n",
       " 33394 217.4791213 -0.1297751 ...  -0.15237901255615877  0.5963394334047065    False"
      ]
     },
     "execution_count": 121,
     "metadata": {},
     "output_type": "execute_result"
    }
   ],
   "source": [
    "output_cat"
   ]
  },
  {
   "cell_type": "code",
   "execution_count": 122,
   "id": "bb738790",
   "metadata": {},
   "outputs": [
    {
     "data": {
      "text/plain": [
       "Text(0, 0.5, 'Host-z')"
      ]
     },
     "execution_count": 122,
     "metadata": {},
     "output_type": "execute_result"
    },
    {
     "data": {
      "image/png": "[encoded data removed]",
      "text/plain": [
       "<Figure size 432x288 with 1 Axes>"
      ]
     },
     "metadata": {
      "needs_background": "light"
     },
     "output_type": "display_data"
    }
   ],
   "source": [
    "plt.scatter(specz_cat['spec_z'].data, specz_cat['host_z'].data)\n",
    "x = np.linspace(0, 0.1, 100)\n",
    "plt.plot(x, x, ls='--', c='gray')\n",
    "\n",
    "plt.xlabel('Spec-z of UPG')\n",
    "plt.ylabel('Host-z')"
   ]
  },
  {
   "cell_type": "markdown",
   "id": "679cc3cf",
   "metadata": {},
   "source": [
    "17H - 0H - 3H is observable\n",
    "\n",
    "2H - 12H"
   ]
  },
  {
   "cell_type": "markdown",
   "id": "35991f78",
   "metadata": {},
   "source": [
    "Apr 17: 8h-18h observable"
   ]
  },
  {
   "cell_type": "code",
   "execution_count": 123,
   "id": "8c8e3524",
   "metadata": {},
   "outputs": [],
   "source": [
    "output_cat.write('/tigress/jiaxuanl/public_html/galary/catalogs/magellan_proposal/upg_2023_SALT_blue.fits', \n",
    "                 overwrite=True)"
   ]
  },
  {
   "cell_type": "code",
   "execution_count": 111,
   "id": "726ec820",
   "metadata": {},
   "outputs": [
    {
     "data": {
      "text/html": [
       "<div><i>Table length=47</i>\n",
       "<table id=\"table47743384550848\" class=\"table-striped table-bordered table-condensed\">\n",
       "<thead><tr><th>viz-id</th><th>ra</th><th>dec</th><th>rhalf_spergel</th><th>SB_eff_avg_g</th><th>host_z</th><th>host_stellar_mass</th><th>dist_to_host_rvir</th><th>host_RA</th><th>host_DEC</th><th>g-i</th><th>quenched</th></tr></thead>\n",
       "<thead><tr><th></th><th>deg</th><th>deg</th><th>arcsec</th><th></th><th></th><th></th><th></th><th></th><th></th><th></th><th></th></tr></thead>\n",
       "<thead><tr><th>int64</th><th>float64</th><th>float64</th><th>float64</th><th>float64</th><th>float64</th><th>float64</th><th>float64</th><th>float64</th><th>float64</th><th>float64</th><th>bool</th></tr></thead>\n",
       "<tr><td>3805</td><td>151.1125408</td><td>1.8948408</td><td>3.6067294255409994</td><td>23.308638038810717</td><td>0.030993763357400894</td><td>10.683559745082484</td><td>0.7998688404269608</td><td>151.13947296455328</td><td>1.7877533343766783</td><td>0.10969507764885929</td><td>False</td></tr>\n",
       "<tr><td>59963</td><td>18.7058033</td><td>1.8020719</td><td>3.0108099869050107</td><td>23.788430198041297</td><td>0.03471063822507858</td><td>11.001523345241175</td><td>0.24734936161989465</td><td>18.660658838183835</td><td>1.8294761295928061</td><td>0.2955895987354898</td><td>False</td></tr>\n",
       "<tr><td>68047</td><td>334.136724</td><td>3.5017738</td><td>2.8620620900606677</td><td>23.92171923999677</td><td>0.03853338211774826</td><td>11.001868575343714</td><td>0.46964307217447715</td><td>334.15499546345075</td><td>3.4128962305387627</td><td>0.2438751693802</td><td>False</td></tr>\n",
       "<tr><td>31639</td><td>127.4878328</td><td>-1.2739235</td><td>5.43158554727518</td><td>23.96081608419313</td><td>0.039390645921230316</td><td>10.43959268880807</td><td>0.7275239237459198</td><td>127.5487398797155</td><td>-1.2701524877867092</td><td>0.5853767019671389</td><td>False</td></tr>\n",
       "<tr><td>2965</td><td>225.5325325</td><td>1.5155803</td><td>4.578332349199997</td><td>24.112195795104896</td><td>0.03512850031256676</td><td>11.112083762416468</td><td>0.8542251667347637</td><td>225.33813869581473</td><td>1.6371053856753905</td><td>0.5038261613338773</td><td>False</td></tr>\n",
       "<tr><td>78872</td><td>188.2742841</td><td>0.8168608</td><td>3.7815775270551244</td><td>24.23227414165203</td><td>0.031207069754600525</td><td>10.35820612264596</td><td>0.39191121860943845</td><td>188.27518365318946</td><td>0.7783466002094354</td><td>0.4724549889358286</td><td>False</td></tr>\n",
       "<tr><td>86760</td><td>355.9775462</td><td>2.7696841</td><td>3.5607185764939637</td><td>24.253991369957465</td><td>0.0374559685587883</td><td>10.81927618337594</td><td>0.19435024993365466</td><td>355.9903651158272</td><td>2.7453934644243927</td><td>0.5589767915891098</td><td>False</td></tr>\n",
       "<tr><td>79073</td><td>3.3471024</td><td>0.7698461</td><td>3.782772505918614</td><td>24.280743552499793</td><td>0.038762882351875305</td><td>10.866063445338831</td><td>0.3611621791732638</td><td>3.3008501896299296</td><td>0.7429423363952744</td><td>0.5884620144265159</td><td>False</td></tr>\n",
       "<tr><td>44389</td><td>351.2517382</td><td>-0.103729</td><td>2.8723006059067306</td><td>24.28650508626391</td><td>0.03415801748633385</td><td>10.669611304530726</td><td>0.8464532524088704</td><td>351.2570561556118</td><td>0.0005939716972169003</td><td>0.36416863666363064</td><td>False</td></tr>\n",
       "<tr><td>...</td><td>...</td><td>...</td><td>...</td><td>...</td><td>...</td><td>...</td><td>...</td><td>...</td><td>...</td><td>...</td><td>...</td></tr>\n",
       "<tr><td>75212</td><td>32.2729832</td><td>-6.3073727</td><td>4.031836932045927</td><td>25.143687382016545</td><td>0.017738966271281242</td><td>10.2586978371235</td><td>0.8356643679426063</td><td>32.37006651247556</td><td>-6.215301205815394</td><td>0.18935103041747714</td><td>False</td></tr>\n",
       "<tr><td>4363</td><td>176.3969337</td><td>-1.8543287</td><td>3.963494714611321</td><td>25.158689430456043</td><td>0.02700159139931202</td><td>10.432674735316859</td><td>0.48389260073914736</td><td>176.34334484192382</td><td>-1.8767259083508003</td><td>0.4976121357816304</td><td>False</td></tr>\n",
       "<tr><td>45406</td><td>35.3498461</td><td>-5.3589374</td><td>2.6624316889367865</td><td>25.20655859500249</td><td>0.03246917948126793</td><td>10.535680144557581</td><td>0.9448160439045865</td><td>35.34454537185288</td><td>-5.463323678787792</td><td>0.38893199268931816</td><td>False</td></tr>\n",
       "<tr><td>75146</td><td>151.2527336</td><td>1.818769</td><td>2.4344589416666866</td><td>25.22253932734003</td><td>0.030993763357400894</td><td>10.683559745082484</td><td>0.8502698117492118</td><td>151.13947296455328</td><td>1.7877533343766783</td><td>0.5737096007860966</td><td>False</td></tr>\n",
       "<tr><td>51667</td><td>214.5833531</td><td>0.8662071</td><td>2.6420764048763496</td><td>25.294609547085006</td><td>0.02594488300383091</td><td>10.423200934657679</td><td>0.26426294450621074</td><td>214.56214057025574</td><td>0.8910905415231057</td><td>0.3291506886813691</td><td>False</td></tr>\n",
       "<tr><td>82340</td><td>211.2652064</td><td>-0.6982816</td><td>3.9756541188587686</td><td>25.322152729168565</td><td>0.024441352114081383</td><td>10.761310904750452</td><td>0.38766444292477126</td><td>211.2155818950048</td><td>-0.6416123720214427</td><td>0.4894989088533086</td><td>False</td></tr>\n",
       "<tr><td>62335</td><td>189.7311301</td><td>0.2940206</td><td>3.1342495842205595</td><td>25.390520893463034</td><td>0.02301519364118576</td><td>10.971159308681116</td><td>0.2521165198297114</td><td>189.75467996838842</td><td>0.365557035035748</td><td>0.2973502562677849</td><td>False</td></tr>\n",
       "<tr><td>82230</td><td>340.1742102</td><td>3.1779487</td><td>2.845967979569235</td><td>25.434926596139878</td><td>0.03988102823495865</td><td>10.70796140981637</td><td>0.5185090569833224</td><td>340.11932446353836</td><td>3.197408503113005</td><td>0.39161657528577687</td><td>False</td></tr>\n",
       "<tr><td>33394</td><td>217.4791213</td><td>-0.1297751</td><td>2.446349491938888</td><td>25.469242456057316</td><td>0.03010684624314308</td><td>10.383340209254847</td><td>0.419866592202361</td><td>217.4418949902573</td><td>-0.15237901255615877</td><td>0.5963394334047065</td><td>False</td></tr>\n",
       "</table></div>"
      ],
      "text/plain": [
       "<Table length=47>\n",
       "viz-id      ra        dec     ...        host_DEC               g-i         quenched\n",
       "           deg        deg     ...                                                   \n",
       "int64    float64    float64   ...        float64              float64         bool  \n",
       "------ ----------- ---------- ... --------------------- ------------------- --------\n",
       "  3805 151.1125408  1.8948408 ...    1.7877533343766783 0.10969507764885929    False\n",
       " 59963  18.7058033  1.8020719 ...    1.8294761295928061  0.2955895987354898    False\n",
       " 68047  334.136724  3.5017738 ...    3.4128962305387627     0.2438751693802    False\n",
       " 31639 127.4878328 -1.2739235 ...   -1.2701524877867092  0.5853767019671389    False\n",
       "  2965 225.5325325  1.5155803 ...    1.6371053856753905  0.5038261613338773    False\n",
       " 78872 188.2742841  0.8168608 ...    0.7783466002094354  0.4724549889358286    False\n",
       " 86760 355.9775462  2.7696841 ...    2.7453934644243927  0.5589767915891098    False\n",
       " 79073   3.3471024  0.7698461 ...    0.7429423363952744  0.5884620144265159    False\n",
       " 44389 351.2517382  -0.103729 ... 0.0005939716972169003 0.36416863666363064    False\n",
       "   ...         ...        ... ...                   ...                 ...      ...\n",
       " 75212  32.2729832 -6.3073727 ...    -6.215301205815394 0.18935103041747714    False\n",
       "  4363 176.3969337 -1.8543287 ...   -1.8767259083508003  0.4976121357816304    False\n",
       " 45406  35.3498461 -5.3589374 ...    -5.463323678787792 0.38893199268931816    False\n",
       " 75146 151.2527336   1.818769 ...    1.7877533343766783  0.5737096007860966    False\n",
       " 51667 214.5833531  0.8662071 ...    0.8910905415231057  0.3291506886813691    False\n",
       " 82340 211.2652064 -0.6982816 ...   -0.6416123720214427  0.4894989088533086    False\n",
       " 62335 189.7311301  0.2940206 ...     0.365557035035748  0.2973502562677849    False\n",
       " 82230 340.1742102  3.1779487 ...     3.197408503113005 0.39161657528577687    False\n",
       " 33394 217.4791213 -0.1297751 ...  -0.15237901255615877  0.5963394334047065    False"
      ]
     },
     "execution_count": 111,
     "metadata": {},
     "output_type": "execute_result"
    }
   ],
   "source": [
    "output_cat"
   ]
  },
  {
   "cell_type": "code",
   "execution_count": 82,
   "id": "5ff23178",
   "metadata": {},
   "outputs": [],
   "source": [
    "# cat['ra_abs'] = cat['ra'] #[ra - 360 if ra > 180 else ra for ra in cat['ra']]\n",
    "# cat.sort('ra_abs')\n",
    "# # sort by hour angle"
   ]
  },
  {
   "cell_type": "code",
   "execution_count": 112,
   "id": "ea598984",
   "metadata": {},
   "outputs": [
    {
     "data": {
      "text/plain": [
       "61"
      ]
     },
     "execution_count": 112,
     "metadata": {},
     "output_type": "execute_result"
    }
   ],
   "source": [
    "len(cat)"
   ]
  },
  {
   "cell_type": "code",
   "execution_count": 113,
   "id": "2696878c",
   "metadata": {},
   "outputs": [],
   "source": [
    "obscat = output_cat[['viz-id', 'ra', 'dec', 'rhalf_spergel', 'SB_eff_avg_g']]\n",
    "# obscat = obscat[(obscat['ra'] > 250) | (obscat['ra'] < 190)]"
   ]
  },
  {
   "cell_type": "code",
   "execution_count": 114,
   "id": "75ed187a",
   "metadata": {},
   "outputs": [
    {
     "data": {
      "text/plain": [
       "47"
      ]
     },
     "execution_count": 114,
     "metadata": {},
     "output_type": "execute_result"
    }
   ],
   "source": [
    "len(obscat)"
   ]
  },
  {
   "cell_type": "code",
   "execution_count": 115,
   "id": "6bf9a3dd",
   "metadata": {},
   "outputs": [],
   "source": [
    "obscat['exptime'] = 10**(0.4 * (obscat['SB_eff_avg_g'].data - 24.5)) * 0.5"
   ]
  },
  {
   "cell_type": "raw",
   "id": "f094a1f3",
   "metadata": {},
   "source": [
    "coords = SkyCoord(ra='16 23 33.75', dec='-39 13 47.5', unit=(u.hourangle, u.deg))\n",
    "obscat.add_row(vals=['EG274', coords.ra.deg, coords.dec.deg, 0, 0, 0])\n",
    "# coords = SkyCoord(ra='18:36:26.29', dec='-44:18:33.0', unit=(u.hourangle, u.deg))\n",
    "# obscat.add_row(vals=['LTT7379', coords.ra.deg, coords.dec.deg, 0, 0, 0])"
   ]
  },
  {
   "cell_type": "code",
   "execution_count": 71,
   "id": "0490779c",
   "metadata": {},
   "outputs": [],
   "source": [
    "# absra = obscat['ra'] #[ra - 360 if ra > 180 else ra for ra in obscat['ra']]\n",
    "# obscat = obscat[np.argsort(absra)]"
   ]
  },
  {
   "cell_type": "code",
   "execution_count": 116,
   "id": "25d76615",
   "metadata": {},
   "outputs": [],
   "source": [
    "obscat.sort('SB_eff_avg_g')"
   ]
  },
  {
   "cell_type": "code",
   "execution_count": 117,
   "id": "5dee9b3d",
   "metadata": {},
   "outputs": [],
   "source": [
    "hstack([obscat[['viz-id', 'ra', 'dec', 'rhalf_spergel', 'SB_eff_avg_g']], \n",
    "       ],\n",
    "      ).write(\n",
    "    '/tigress/jiaxuanl/public_html/galary/catalogs/magellan_proposal/upg_2023_SALT_blue.txt', \n",
    "    format='ascii', overwrite=True)"
   ]
  },
  {
   "cell_type": "code",
   "execution_count": 121,
   "id": "0f68d812",
   "metadata": {},
   "outputs": [
    {
     "data": {
      "text/plain": [
       "21.333333333333332"
      ]
     },
     "execution_count": 121,
     "metadata": {},
     "output_type": "execute_result"
    }
   ],
   "source": [
    "320 / 15"
   ]
  },
  {
   "cell_type": "code",
   "execution_count": 73,
   "id": "3e4c4e7b",
   "metadata": {},
   "outputs": [
    {
     "data": {
      "text/plain": [
       "(array([10.,  0.,  0.,  5.,  6.,  3.,  0.,  0.,  0., 14.]),\n",
       " array([ 0.22314016,  2.57400979,  4.92487941,  7.27574904,  9.62661866,\n",
       "        11.97748829, 14.32835791, 16.67922754, 19.03009716, 21.38096679,\n",
       "        23.73183641]),\n",
       " <BarContainer object of 10 artists>)"
      ]
     },
     "execution_count": 73,
     "metadata": {},
     "output_type": "execute_result"
    },
    {
     "data": {
      "image/png": "[encoded data removed]",
      "text/plain": [
       "<Figure size 432x288 with 1 Axes>"
      ]
     },
     "metadata": {
      "needs_background": "light"
     },
     "output_type": "display_data"
    }
   ],
   "source": [
    "plt.hist(obscat['ra'] / 15)"
   ]
  },
  {
   "cell_type": "markdown",
   "id": "d9ac385f",
   "metadata": {},
   "source": [
    "---"
   ]
  },
  {
   "cell_type": "code",
   "execution_count": 94,
   "id": "71e509df",
   "metadata": {},
   "outputs": [],
   "source": [
    "import astropy.units as u\n",
    "from astropy.time import Time\n",
    "from astropy.coordinates import SkyCoord, EarthLocation, AltAz\n",
    "\n",
    "from astropy.coordinates import SkyCoord\n",
    "from astroplan import FixedTarget\n",
    "from astroplan import Observer\n",
    "from pytz import timezone\n",
    "from astropy.coordinates import EarthLocation\n",
    "from astroplan.plots import plot_airmass \n",
    "observer = Observer.at_site('Southern African Large Telescope', timezone=timezone('US/Eastern'))"
   ]
  },
  {
   "cell_type": "code",
   "execution_count": 95,
   "id": "c1ebb989",
   "metadata": {},
   "outputs": [
    {
     "data": {
      "text/html": [
       "<div><i>Table length=48</i>\n",
       "<table id=\"table47743330056272\" class=\"table-striped table-bordered table-condensed\">\n",
       "<thead><tr><th>viz-id</th><th>ra</th><th>dec</th><th>rhalf_spergel</th><th>SB_eff_avg_g</th><th>exptime</th></tr></thead>\n",
       "<thead><tr><th></th><th>deg</th><th>deg</th><th>arcsec</th><th></th><th></th></tr></thead>\n",
       "<thead><tr><th>int64</th><th>float64</th><th>float64</th><th>float64</th><th>float64</th><th>float64</th></tr></thead>\n",
       "<tr><td>3805</td><td>151.1125408</td><td>1.8948408</td><td>3.6067294255409994</td><td>23.308638038810717</td><td>0.16688804218968703</td></tr>\n",
       "<tr><td>27138</td><td>129.6172269</td><td>-2.0361118</td><td>4.5248061812148315</td><td>23.488564219435272</td><td>0.19696800769889145</td></tr>\n",
       "<tr><td>59963</td><td>18.7058033</td><td>1.8020719</td><td>3.0108099869050107</td><td>23.788430198041297</td><td>0.2596223541179851</td></tr>\n",
       "<tr><td>68047</td><td>334.136724</td><td>3.5017738</td><td>2.8620620900606677</td><td>23.92171923999677</td><td>0.2935335184792966</td></tr>\n",
       "<tr><td>31639</td><td>127.4878328</td><td>-1.2739235</td><td>5.43158554727518</td><td>23.96081608419313</td><td>0.30429613625185487</td></tr>\n",
       "<tr><td>2965</td><td>225.5325325</td><td>1.5155803</td><td>4.578332349199997</td><td>24.112195795104896</td><td>0.3498229697977855</td></tr>\n",
       "<tr><td>78872</td><td>188.2742841</td><td>0.8168608</td><td>3.7815775270551244</td><td>24.23227414165203</td><td>0.39073261238080675</td></tr>\n",
       "<tr><td>86760</td><td>355.9775462</td><td>2.7696841</td><td>3.5607185764939637</td><td>24.253991369957465</td><td>0.39862685416004223</td></tr>\n",
       "<tr><td>79073</td><td>3.3471024</td><td>0.7698461</td><td>3.782772505918614</td><td>24.280743552499793</td><td>0.40857089442219574</td></tr>\n",
       "<tr><td>...</td><td>...</td><td>...</td><td>...</td><td>...</td><td>...</td></tr>\n",
       "<tr><td>75212</td><td>32.2729832</td><td>-6.3073727</td><td>4.031836932045927</td><td>25.143687382016545</td><td>0.9045757837572622</td></tr>\n",
       "<tr><td>4363</td><td>176.3969337</td><td>-1.8543287</td><td>3.963494714611321</td><td>25.158689430456043</td><td>0.9171614168039323</td></tr>\n",
       "<tr><td>45406</td><td>35.3498461</td><td>-5.3589374</td><td>2.6624316889367865</td><td>25.20655859500249</td><td>0.9585029245876305</td></tr>\n",
       "<tr><td>75146</td><td>151.2527336</td><td>1.818769</td><td>2.4344589416666866</td><td>25.22253932734003</td><td>0.9727152736895769</td></tr>\n",
       "<tr><td>51667</td><td>214.5833531</td><td>0.8662071</td><td>2.6420764048763496</td><td>25.294609547085006</td><td>1.0394744600810821</td></tr>\n",
       "<tr><td>82340</td><td>211.2652064</td><td>-0.6982816</td><td>3.9756541188587686</td><td>25.322152729168565</td><td>1.0661813857740565</td></tr>\n",
       "<tr><td>62335</td><td>189.7311301</td><td>0.2940206</td><td>3.1342495842205595</td><td>25.390520893463034</td><td>1.1354770524487166</td></tr>\n",
       "<tr><td>82230</td><td>340.1742102</td><td>3.1779487</td><td>2.845967979569235</td><td>25.434926596139878</td><td>1.1828798745432105</td></tr>\n",
       "<tr><td>33394</td><td>217.4791213</td><td>-0.1297751</td><td>2.446349491938888</td><td>25.469242456057316</td><td>1.2208631538833632</td></tr>\n",
       "</table></div>"
      ],
      "text/plain": [
       "<Table length=48>\n",
       "viz-id      ra        dec       rhalf_spergel       SB_eff_avg_g          exptime      \n",
       "           deg        deg           arcsec                                             \n",
       "int64    float64    float64        float64            float64             float64      \n",
       "------ ----------- ---------- ------------------ ------------------ -------------------\n",
       "  3805 151.1125408  1.8948408 3.6067294255409994 23.308638038810717 0.16688804218968703\n",
       " 27138 129.6172269 -2.0361118 4.5248061812148315 23.488564219435272 0.19696800769889145\n",
       " 59963  18.7058033  1.8020719 3.0108099869050107 23.788430198041297  0.2596223541179851\n",
       " 68047  334.136724  3.5017738 2.8620620900606677  23.92171923999677  0.2935335184792966\n",
       " 31639 127.4878328 -1.2739235   5.43158554727518  23.96081608419313 0.30429613625185487\n",
       "  2965 225.5325325  1.5155803  4.578332349199997 24.112195795104896  0.3498229697977855\n",
       " 78872 188.2742841  0.8168608 3.7815775270551244  24.23227414165203 0.39073261238080675\n",
       " 86760 355.9775462  2.7696841 3.5607185764939637 24.253991369957465 0.39862685416004223\n",
       " 79073   3.3471024  0.7698461  3.782772505918614 24.280743552499793 0.40857089442219574\n",
       "   ...         ...        ...                ...                ...                 ...\n",
       " 75212  32.2729832 -6.3073727  4.031836932045927 25.143687382016545  0.9045757837572622\n",
       "  4363 176.3969337 -1.8543287  3.963494714611321 25.158689430456043  0.9171614168039323\n",
       " 45406  35.3498461 -5.3589374 2.6624316889367865  25.20655859500249  0.9585029245876305\n",
       " 75146 151.2527336   1.818769 2.4344589416666866  25.22253932734003  0.9727152736895769\n",
       " 51667 214.5833531  0.8662071 2.6420764048763496 25.294609547085006  1.0394744600810821\n",
       " 82340 211.2652064 -0.6982816 3.9756541188587686 25.322152729168565  1.0661813857740565\n",
       " 62335 189.7311301  0.2940206 3.1342495842205595 25.390520893463034  1.1354770524487166\n",
       " 82230 340.1742102  3.1779487  2.845967979569235 25.434926596139878  1.1828798745432105\n",
       " 33394 217.4791213 -0.1297751  2.446349491938888 25.469242456057316  1.2208631538833632"
      ]
     },
     "execution_count": 95,
     "metadata": {},
     "output_type": "execute_result"
    }
   ],
   "source": [
    "obscat"
   ]
  },
  {
   "cell_type": "code",
   "execution_count": 96,
   "id": "f5a5e18a",
   "metadata": {},
   "outputs": [],
   "source": [
    "objs = []\n",
    "for i in range(len(obscat)):\n",
    "    coord = SkyCoord(obscat['ra'][i], obscat['dec'][i], unit='deg')\n",
    "#     obj = FixedTarget(name=str(cat['viz-id'][i]), coord=coord)\n",
    "    obj = FixedTarget(name=obscat[i]['viz-id'], coord=coord)\n",
    "    objs.append(obj)"
   ]
  },
  {
   "cell_type": "code",
   "execution_count": 97,
   "id": "ffaa11ef",
   "metadata": {},
   "outputs": [
    {
     "data": {
      "text/plain": [
       "<FixedTarget \"27138\" at SkyCoord (ICRS): (ra, dec) in deg (129.6172269, -2.0361118)>"
      ]
     },
     "execution_count": 97,
     "metadata": {},
     "output_type": "execute_result"
    }
   ],
   "source": [
    "objs[1]"
   ]
  },
  {
   "cell_type": "code",
   "execution_count": 113,
   "id": "939cab21",
   "metadata": {},
   "outputs": [],
   "source": [
    "# night ends at 9:43"
   ]
  },
  {
   "cell_type": "code",
   "execution_count": 99,
   "id": "0102ca6f",
   "metadata": {},
   "outputs": [
    {
     "ename": "ValueError",
     "evalue": "year -4713 is out of range",
     "output_type": "error",
     "traceback": [
      "\u001b[0;31m---------------------------------------------------------------------------\u001b[0m",
      "\u001b[0;31mValueError\u001b[0m                                Traceback (most recent call last)",
      "Input \u001b[0;32mIn [99]\u001b[0m, in \u001b[0;36m<cell line: 8>\u001b[0;34m()\u001b[0m\n\u001b[1;32m      4\u001b[0m sunrise_time \u001b[38;5;241m=\u001b[39m observer\u001b[38;5;241m.\u001b[39msun_rise_time(time, which\u001b[38;5;241m=\u001b[39m\u001b[38;5;124m'\u001b[39m\u001b[38;5;124mnearest\u001b[39m\u001b[38;5;124m'\u001b[39m)\n\u001b[1;32m      6\u001b[0m observe_time \u001b[38;5;241m=\u001b[39m sunset_time \u001b[38;5;241m+\u001b[39m np\u001b[38;5;241m.\u001b[39mlinspace(\u001b[38;5;241m0\u001b[39m, \u001b[38;5;241m12\u001b[39m, \u001b[38;5;241m50\u001b[39m) \u001b[38;5;241m*\u001b[39m u\u001b[38;5;241m.\u001b[39mhour\n\u001b[0;32m----> 8\u001b[0m \u001b[43mplot_airmass\u001b[49m\u001b[43m(\u001b[49m\u001b[43mobjs\u001b[49m\u001b[43m[\u001b[49m\u001b[38;5;241;43m1\u001b[39;49m\u001b[43m]\u001b[49m\u001b[43m,\u001b[49m\u001b[43m \u001b[49m\u001b[43mobserver\u001b[49m\u001b[43m,\u001b[49m\u001b[43m \u001b[49m\u001b[43mobserve_time\u001b[49m\u001b[43m,\u001b[49m\u001b[43m  \u001b[49m\n\u001b[1;32m      9\u001b[0m \u001b[43m             \u001b[49m\u001b[43mbrightness_shading\u001b[49m\u001b[38;5;241;43m=\u001b[39;49m\u001b[38;5;28;43;01mTrue\u001b[39;49;00m\u001b[43m,\u001b[49m\u001b[43m \u001b[49m\u001b[43muse_local_tz\u001b[49m\u001b[38;5;241;43m=\u001b[39;49m\u001b[38;5;28;43;01mFalse\u001b[39;49;00m\u001b[43m)\u001b[49m\n",
      "File \u001b[0;32m/projects/HSC/LSST/stack_20220527/conda/envs/lsst-scipipe-4.0.0/lib/python3.10/site-packages/astroplan/plots/time_dependent.py:220\u001b[0m, in \u001b[0;36mplot_airmass\u001b[0;34m(targets, observer, time, ax, style_kwargs, style_sheet, brightness_shading, altitude_yaxis, min_airmass, min_region, max_airmass, max_region, use_local_tz)\u001b[0m\n\u001b[1;32m    208\u001b[0m twilights \u001b[38;5;241m=\u001b[39m [\n\u001b[1;32m    209\u001b[0m     (observer\u001b[38;5;241m.\u001b[39msun_set_time(start, which\u001b[38;5;241m=\u001b[39m\u001b[38;5;124m'\u001b[39m\u001b[38;5;124mnext\u001b[39m\u001b[38;5;124m'\u001b[39m), \u001b[38;5;241m0.0\u001b[39m),\n\u001b[1;32m    210\u001b[0m     (observer\u001b[38;5;241m.\u001b[39mtwilight_evening_civil(start, which\u001b[38;5;241m=\u001b[39m\u001b[38;5;124m'\u001b[39m\u001b[38;5;124mnext\u001b[39m\u001b[38;5;124m'\u001b[39m), \u001b[38;5;241m0.1\u001b[39m),\n\u001b[0;32m   (...)\u001b[0m\n\u001b[1;32m    216\u001b[0m     (observer\u001b[38;5;241m.\u001b[39msun_rise_time(start, which\u001b[38;5;241m=\u001b[39m\u001b[38;5;124m'\u001b[39m\u001b[38;5;124mnext\u001b[39m\u001b[38;5;124m'\u001b[39m), \u001b[38;5;241m0.1\u001b[39m),\n\u001b[1;32m    217\u001b[0m ]\n\u001b[1;32m    219\u001b[0m \u001b[38;5;66;03m# add 'UTC' to each datetime object created above\u001b[39;00m\n\u001b[0;32m--> 220\u001b[0m twilights \u001b[38;5;241m=\u001b[39m [(t[\u001b[38;5;241m0\u001b[39m]\u001b[38;5;241m.\u001b[39mdatetime\u001b[38;5;241m.\u001b[39mreplace(tzinfo\u001b[38;5;241m=\u001b[39mpytz\u001b[38;5;241m.\u001b[39mutc), t[\u001b[38;5;241m1\u001b[39m])\n\u001b[1;32m    221\u001b[0m              \u001b[38;5;28;01mfor\u001b[39;00m t \u001b[38;5;129;01min\u001b[39;00m twilights]\n\u001b[1;32m    223\u001b[0m twilights\u001b[38;5;241m.\u001b[39msort(key\u001b[38;5;241m=\u001b[39moperator\u001b[38;5;241m.\u001b[39mitemgetter(\u001b[38;5;241m0\u001b[39m))\n\u001b[1;32m    225\u001b[0m \u001b[38;5;66;03m# add in left & right edges, so that if the airmass plot is requested\u001b[39;00m\n\u001b[1;32m    226\u001b[0m \u001b[38;5;66;03m# during the day, night is properly shaded\u001b[39;00m\n",
      "File \u001b[0;32m/projects/HSC/LSST/stack_20220527/conda/envs/lsst-scipipe-4.0.0/lib/python3.10/site-packages/astroplan/plots/time_dependent.py:220\u001b[0m, in \u001b[0;36m<listcomp>\u001b[0;34m(.0)\u001b[0m\n\u001b[1;32m    208\u001b[0m twilights \u001b[38;5;241m=\u001b[39m [\n\u001b[1;32m    209\u001b[0m     (observer\u001b[38;5;241m.\u001b[39msun_set_time(start, which\u001b[38;5;241m=\u001b[39m\u001b[38;5;124m'\u001b[39m\u001b[38;5;124mnext\u001b[39m\u001b[38;5;124m'\u001b[39m), \u001b[38;5;241m0.0\u001b[39m),\n\u001b[1;32m    210\u001b[0m     (observer\u001b[38;5;241m.\u001b[39mtwilight_evening_civil(start, which\u001b[38;5;241m=\u001b[39m\u001b[38;5;124m'\u001b[39m\u001b[38;5;124mnext\u001b[39m\u001b[38;5;124m'\u001b[39m), \u001b[38;5;241m0.1\u001b[39m),\n\u001b[0;32m   (...)\u001b[0m\n\u001b[1;32m    216\u001b[0m     (observer\u001b[38;5;241m.\u001b[39msun_rise_time(start, which\u001b[38;5;241m=\u001b[39m\u001b[38;5;124m'\u001b[39m\u001b[38;5;124mnext\u001b[39m\u001b[38;5;124m'\u001b[39m), \u001b[38;5;241m0.1\u001b[39m),\n\u001b[1;32m    217\u001b[0m ]\n\u001b[1;32m    219\u001b[0m \u001b[38;5;66;03m# add 'UTC' to each datetime object created above\u001b[39;00m\n\u001b[0;32m--> 220\u001b[0m twilights \u001b[38;5;241m=\u001b[39m [(\u001b[43mt\u001b[49m\u001b[43m[\u001b[49m\u001b[38;5;241;43m0\u001b[39;49m\u001b[43m]\u001b[49m\u001b[38;5;241;43m.\u001b[39;49m\u001b[43mdatetime\u001b[49m\u001b[38;5;241m.\u001b[39mreplace(tzinfo\u001b[38;5;241m=\u001b[39mpytz\u001b[38;5;241m.\u001b[39mutc), t[\u001b[38;5;241m1\u001b[39m])\n\u001b[1;32m    221\u001b[0m              \u001b[38;5;28;01mfor\u001b[39;00m t \u001b[38;5;129;01min\u001b[39;00m twilights]\n\u001b[1;32m    223\u001b[0m twilights\u001b[38;5;241m.\u001b[39msort(key\u001b[38;5;241m=\u001b[39moperator\u001b[38;5;241m.\u001b[39mitemgetter(\u001b[38;5;241m0\u001b[39m))\n\u001b[1;32m    225\u001b[0m \u001b[38;5;66;03m# add in left & right edges, so that if the airmass plot is requested\u001b[39;00m\n\u001b[1;32m    226\u001b[0m \u001b[38;5;66;03m# during the day, night is properly shaded\u001b[39;00m\n",
      "File \u001b[0;32m/projects/HSC/LSST/stack_20220527/conda/envs/lsst-scipipe-4.0.0/lib/python3.10/site-packages/astropy/time/core.py:1393\u001b[0m, in \u001b[0;36mTimeBase.__getattr__\u001b[0;34m(self, attr)\u001b[0m\n\u001b[1;32m   1390\u001b[0m     \u001b[38;5;28;01mreturn\u001b[39;00m cache[attr]\n\u001b[1;32m   1392\u001b[0m \u001b[38;5;28;01melif\u001b[39;00m attr \u001b[38;5;129;01min\u001b[39;00m \u001b[38;5;28mself\u001b[39m\u001b[38;5;241m.\u001b[39mFORMATS:\n\u001b[0;32m-> 1393\u001b[0m     \u001b[38;5;28;01mreturn\u001b[39;00m \u001b[38;5;28;43mself\u001b[39;49m\u001b[38;5;241;43m.\u001b[39;49m\u001b[43mto_value\u001b[49m\u001b[43m(\u001b[49m\u001b[43mattr\u001b[49m\u001b[43m,\u001b[49m\u001b[43m \u001b[49m\u001b[43msubfmt\u001b[49m\u001b[38;5;241;43m=\u001b[39;49m\u001b[38;5;28;43;01mNone\u001b[39;49;00m\u001b[43m)\u001b[49m\n\u001b[1;32m   1395\u001b[0m \u001b[38;5;28;01melif\u001b[39;00m attr \u001b[38;5;129;01min\u001b[39;00m TIME_SCALES:  \u001b[38;5;66;03m# allowed ones done above (self.SCALES)\u001b[39;00m\n\u001b[1;32m   1396\u001b[0m     \u001b[38;5;28;01mif\u001b[39;00m \u001b[38;5;28mself\u001b[39m\u001b[38;5;241m.\u001b[39mscale \u001b[38;5;129;01mis\u001b[39;00m \u001b[38;5;28;01mNone\u001b[39;00m:\n",
      "File \u001b[0;32m/projects/HSC/LSST/stack_20220527/conda/envs/lsst-scipipe-4.0.0/lib/python3.10/site-packages/astropy/time/core.py:840\u001b[0m, in \u001b[0;36mTimeBase.to_value\u001b[0;34m(self, format, subfmt)\u001b[0m\n\u001b[1;32m    838\u001b[0m     kwargs[\u001b[38;5;124m'\u001b[39m\u001b[38;5;124mout_subfmt\u001b[39m\u001b[38;5;124m'\u001b[39m] \u001b[38;5;241m=\u001b[39m subfmt\n\u001b[1;32m    839\u001b[0m \u001b[38;5;28;01mtry\u001b[39;00m:\n\u001b[0;32m--> 840\u001b[0m     value \u001b[38;5;241m=\u001b[39m \u001b[43mtm\u001b[49m\u001b[38;5;241;43m.\u001b[39;49m\u001b[43m_time\u001b[49m\u001b[38;5;241;43m.\u001b[39;49m\u001b[43mto_value\u001b[49m\u001b[43m(\u001b[49m\u001b[43mparent\u001b[49m\u001b[38;5;241;43m=\u001b[39;49m\u001b[43mtm\u001b[49m\u001b[43m,\u001b[49m\u001b[43m \u001b[49m\u001b[38;5;241;43m*\u001b[39;49m\u001b[38;5;241;43m*\u001b[39;49m\u001b[43mkwargs\u001b[49m\u001b[43m)\u001b[49m\n\u001b[1;32m    841\u001b[0m \u001b[38;5;28;01mexcept\u001b[39;00m \u001b[38;5;167;01mTypeError\u001b[39;00m \u001b[38;5;28;01mas\u001b[39;00m exc:\n\u001b[1;32m    842\u001b[0m     \u001b[38;5;66;03m# Try validating subfmt, e.g. for formats like 'jyear_str' that\u001b[39;00m\n\u001b[1;32m    843\u001b[0m     \u001b[38;5;66;03m# do not implement out_subfmt in to_value() (because there are\u001b[39;00m\n\u001b[1;32m    844\u001b[0m     \u001b[38;5;66;03m# no allowed subformats).  If subfmt is not valid this gives the\u001b[39;00m\n\u001b[1;32m    845\u001b[0m     \u001b[38;5;66;03m# same exception as would have occurred if the call to\u001b[39;00m\n\u001b[1;32m    846\u001b[0m     \u001b[38;5;66;03m# `to_value()` had succeeded.\u001b[39;00m\n\u001b[1;32m    847\u001b[0m     tm\u001b[38;5;241m.\u001b[39m_time\u001b[38;5;241m.\u001b[39m_select_subfmts(subfmt)\n",
      "File \u001b[0;32m/projects/HSC/LSST/stack_20220527/conda/envs/lsst-scipipe-4.0.0/lib/python3.10/site-packages/astropy/time/formats.py:1018\u001b[0m, in \u001b[0;36mTimeDatetime.to_value\u001b[0;34m(self, timezone, parent, out_subfmt)\u001b[0m\n\u001b[1;32m   1015\u001b[0m         out[\u001b[38;5;241m.\u001b[39m\u001b[38;5;241m.\u001b[39m\u001b[38;5;241m.\u001b[39m] \u001b[38;5;241m=\u001b[39m datetime\u001b[38;5;241m.\u001b[39mdatetime(iy, im, \u001b[38;5;28mid\u001b[39m, ihr, imin, isec, ifracsec,\n\u001b[1;32m   1016\u001b[0m                                      tzinfo\u001b[38;5;241m=\u001b[39mTimezoneInfo())\u001b[38;5;241m.\u001b[39mastimezone(timezone)\n\u001b[1;32m   1017\u001b[0m     \u001b[38;5;28;01melse\u001b[39;00m:\n\u001b[0;32m-> 1018\u001b[0m         out[\u001b[38;5;241m.\u001b[39m\u001b[38;5;241m.\u001b[39m\u001b[38;5;241m.\u001b[39m] \u001b[38;5;241m=\u001b[39m \u001b[43mdatetime\u001b[49m\u001b[38;5;241;43m.\u001b[39;49m\u001b[43mdatetime\u001b[49m\u001b[43m(\u001b[49m\u001b[43miy\u001b[49m\u001b[43m,\u001b[49m\u001b[43m \u001b[49m\u001b[43mim\u001b[49m\u001b[43m,\u001b[49m\u001b[43m \u001b[49m\u001b[38;5;28;43mid\u001b[39;49m\u001b[43m,\u001b[49m\u001b[43m \u001b[49m\u001b[43mihr\u001b[49m\u001b[43m,\u001b[49m\u001b[43m \u001b[49m\u001b[43mimin\u001b[49m\u001b[43m,\u001b[49m\u001b[43m \u001b[49m\u001b[43misec\u001b[49m\u001b[43m,\u001b[49m\u001b[43m \u001b[49m\u001b[43mifracsec\u001b[49m\u001b[43m)\u001b[49m\n\u001b[1;32m   1020\u001b[0m \u001b[38;5;28;01mreturn\u001b[39;00m \u001b[38;5;28mself\u001b[39m\u001b[38;5;241m.\u001b[39mmask_if_needed(iterator\u001b[38;5;241m.\u001b[39moperands[\u001b[38;5;241m-\u001b[39m\u001b[38;5;241m1\u001b[39m])\n",
      "\u001b[0;31mValueError\u001b[0m: year -4713 is out of range"
     ]
    },
    {
     "data": {
      "image/png": "[encoded data removed]",
      "text/plain": [
       "<Figure size 432x288 with 1 Axes>"
      ]
     },
     "metadata": {
      "needs_background": "light"
     },
     "output_type": "display_data"
    }
   ],
   "source": [
    "fig, ax = plt.subplots(figsize=(6, 4))\n",
    "time = Time('2023-11-21 19:00', location=observer.location)\n",
    "sunset_time = observer.sun_set_time(time, which='nearest')\n",
    "sunrise_time = observer.sun_rise_time(time, which='nearest')\n",
    "\n",
    "observe_time = sunset_time + np.linspace(0, 12, 50) * u.hour\n",
    "\n",
    "plot_airmass(objs[1], observer, observe_time,  \n",
    "             brightness_shading=True, use_local_tz=False)"
   ]
  },
  {
   "cell_type": "code",
   "execution_count": 83,
   "id": "4260222b",
   "metadata": {},
   "outputs": [],
   "source": [
    "colors = ['#9e0142','#d53e4f','#f46d43','#fdae61','#fee08b',\n",
    "          '#ffffbf','#e6f598','#abdda4','#66c2a5','#3288bd','#5e4fa2',] * 5"
   ]
  },
  {
   "cell_type": "code",
   "execution_count": 100,
   "id": "23319f8b",
   "metadata": {},
   "outputs": [
    {
     "data": {
      "text/plain": [
       "Text(0.5, 1.0, 'UPG observation (SALT)')"
      ]
     },
     "execution_count": 100,
     "metadata": {},
     "output_type": "execute_result"
    },
    {
     "data": {
      "image/png": "[encoded data removed]",
      "text/plain": [
       "<Figure size 432x288 with 1 Axes>"
      ]
     },
     "metadata": {
      "needs_background": "light"
     },
     "output_type": "display_data"
    }
   ],
   "source": [
    "fig, ax = plt.subplots(figsize=(6, 4))\n",
    "time = Time('2023-09-01 19:00', location=observer.location)\n",
    "sunset_time = observer.sun_set_time(time, which='nearest')\n",
    "sunrise_time = observer.sun_rise_time(time, which='nearest')\n",
    "\n",
    "observe_time = sunset_time + np.linspace(0, 12, 50) * u.hour\n",
    "\n",
    "for i in range(len(obscat)):\n",
    "    try:\n",
    "        plot_airmass(objs[i], observer, observe_time, style_kwargs={'color': colors[i]}, \n",
    "                 brightness_shading=True, use_local_tz=False)\n",
    "    except Exception as e:\n",
    "        pass\n",
    "# plot_airmass(objs[1], observer, observe_time)\n",
    "# plot_airmass(objs[2], observer, observe_time)\n",
    "\n",
    "plt.axvline(23)\n",
    "plt.legend(shadow=True, loc=2, ncol=2, bbox_to_anchor=(1.1, 0.7))\n",
    "plt.title('UPG observation (SALT)')"
   ]
  },
  {
   "cell_type": "code",
   "execution_count": null,
   "id": "445ca1e4",
   "metadata": {},
   "outputs": [],
   "source": []
  },
  {
   "cell_type": "code",
   "execution_count": null,
   "id": "fb347def",
   "metadata": {},
   "outputs": [],
   "source": []
  },
  {
   "cell_type": "code",
   "execution_count": null,
   "id": "cb5dfa46",
   "metadata": {},
   "outputs": [],
   "source": []
  },
  {
   "cell_type": "code",
   "execution_count": 408,
   "id": "6d6f8c2b",
   "metadata": {},
   "outputs": [
    {
     "data": {
      "image/png": "[encoded data removed]",
      "text/plain": [
       "<Figure size 600x400 with 1 Axes>"
      ]
     },
     "metadata": {
      "needs_background": "light"
     },
     "output_type": "display_data"
    }
   ],
   "source": [
    "fig, ax = plt.subplots(figsize=(6, 4))\n",
    "time = Time('2022-08-28 02:00', location=observer.location)\n",
    "sunset_time = observer.sun_set_time(time, which='nearest')\n",
    "sunrise_time = observer.sun_rise_time(time, which='nearest')\n",
    "\n",
    "observe_time = sunset_time + np.linspace(0, (sunrise_time - sunset_time).to(u.hour).value, 50) * u.hour\n",
    "\n",
    "for i in range(len(obscat)):\n",
    "    plot_airmass(objs[i], observer, observe_time, style_kwargs={'color': colors[i]}, \n",
    "                 brightness_shading=True, use_local_tz=False)\n",
    "# plot_airmass(objs[1], observer, observe_time)\n",
    "# plot_airmass(objs[2], observer, observe_time)\n",
    "\n",
    "plt.axvline(23)\n",
    "plt.legend(shadow=True, loc=2, ncol=2, bbox_to_anchor=(1.1, 0.7))\n",
    "plt.title('UDG observation')\n",
    "\n",
    "plt.savefig('/tigress/jiaxuanl/public_html/galary/catalogs/magellan_proposal/airmass.png', bbox_inches='tight')"
   ]
  },
  {
   "cell_type": "code",
   "execution_count": null,
   "id": "d0e58881",
   "metadata": {},
   "outputs": [],
   "source": []
  },
  {
   "cell_type": "code",
   "execution_count": null,
   "id": "162898cd",
   "metadata": {},
   "outputs": [],
   "source": []
  },
  {
   "cell_type": "code",
   "execution_count": null,
   "id": "38ff0dbb",
   "metadata": {},
   "outputs": [],
   "source": []
  },
  {
   "cell_type": "code",
   "execution_count": 283,
   "id": "85ea2c8f",
   "metadata": {},
   "outputs": [],
   "source": [
    "from mpl_toolkits.axes_grid1.inset_locator import inset_axes\n",
    "kz.set_matplotlib(style='JL', usetex=True, dpi=100, fontsize=15)"
   ]
  },
  {
   "cell_type": "code",
   "execution_count": 284,
   "id": "4fdcffd1",
   "metadata": {},
   "outputs": [
    {
     "data": {
      "image/png": "[encoded data removed]",
      "text/plain": [
       "<Figure size 700x700 with 5 Axes>"
      ]
     },
     "metadata": {
      "needs_background": "light"
     },
     "output_type": "display_data"
    }
   ],
   "source": [
    "# start with a square Figure\n",
    "fig = plt.figure(figsize=(7, 7))\n",
    "\n",
    "gs = fig.add_gridspec(2, 2,  width_ratios=(7, 2), height_ratios=(2, 7),\n",
    "                      left=0.1, right=0.9, bottom=0.1, top=0.9,\n",
    "                      wspace=0.05, hspace=0.05)\n",
    "\n",
    "ax = fig.add_subplot(gs[1, 0])\n",
    "ax_histx = fig.add_subplot(gs[0, 0], sharex=ax)\n",
    "ax_histy = fig.add_subplot(gs[1, 1], sharey=ax)\n",
    "ax_histx.tick_params(axis=\"x\", labelbottom=False)\n",
    "ax_histx.set_yticklabels([])\n",
    "# ax_histx.set_xticklabels([])\n",
    "ax_histy.tick_params(axis=\"y\", labelleft=False)\n",
    "ax_histy.set_xticklabels([])\n",
    "\n",
    "flag = (cat['host_spiral'] == 1)\n",
    "sct = ax.scatter(\n",
    "    cat['SB_eff_avg_g'][flag],\n",
    "    cat['rhalf_spergel'][flag],\n",
    "    c=(cat['mag'][:, 0] - cat['mag'][:, 2])[flag],\n",
    "    vmin=0.4, vmax=0.9,\n",
    "    cmap='coolwarm',\n",
    "    marker='*',\n",
    "    edgecolor='k',\n",
    "    s=140,\n",
    "    alpha=1,\n",
    "    label='Spiral host'\n",
    "    )\n",
    "\n",
    "sct = ax.scatter(\n",
    "    cat['SB_eff_avg_g'][~flag],\n",
    "    cat['rhalf_spergel'][~flag],\n",
    "    c=(cat['mag'][:, 0] - cat['mag'][:, 2])[~flag],\n",
    "    vmin=0.4, vmax=0.9,\n",
    "    cmap='coolwarm',\n",
    "    edgecolor='k',\n",
    "    s=45,\n",
    "    alpha=1,\n",
    "    label='Elliptical host'\n",
    "    )\n",
    "\n",
    "ax.legend(loc='upper right', bbox_to_anchor=(1.55, 1.25))\n",
    "\n",
    "cax = inset_axes(ax, width=\"45%\", height=\"4%\", \n",
    "                 loc='upper left', bbox_to_anchor=(0.02, -0.02, 1, 1),\n",
    "                 bbox_transform=ax.transAxes) \n",
    "plt.colorbar(sct, cax=cax, label='$g-i$',\n",
    "             orientation='horizontal')\n",
    "cax.tick_params(labelsize=11.5)\n",
    "\n",
    "# ax.set_xlim(29, 24)\n",
    "# ax.set_ylim(1.6, 14)\n",
    "ax.invert_xaxis()\n",
    "ax.set_xlabel(r'$\\overline{\\mu}_{\\rm eff}(g)\\ [\\rm mag\\ arcsec^{-2}]$')\n",
    "ax.set_ylabel(r'$R_e\\ [\\rm arcsec]$')\n",
    "\n",
    "ax_histx.hist(cat['SB_eff_avg_g'], lw=2,\n",
    "              histtype='step', density=True, color='gray', \n",
    "              alpha=0.7, label='$g-i > 0.7$')\n",
    "ax_histy.hist(cat['rhalf_spergel'], lw=2,\n",
    "              histtype='step', density=True, orientation='horizontal', color='gray', alpha=0.7)\n",
    "# ax_histy.set_xscale('log')\n",
    "\n",
    "# show redshift\n",
    "cax2 = inset_axes(ax, width='37%', height='18%', \n",
    "                  loc='upper left', \n",
    "                  bbox_to_anchor=(0.06, -0.23, 1, 1),\n",
    "                  bbox_transform=ax.transAxes)\n",
    "cax2.hist(cat['host_z'], histtype='step', density=True, color='k', alpha=0.7)\n",
    "cax2.set_title('Host redshift', fontsize=12, pad=3)\n",
    "cax2.set_yticklabels([])\n",
    "cax2.set_xticks([0.01, 0.02, 0.03, 0.04])\n",
    "cax2.tick_params(axis='both', which='both', length=3, labelsize=10, pad=4)\n",
    "\n",
    "# plt.savefig('/tigress/jiaxuanl/public_html/galary/catalogs/magellan_proposal/sample_summary.png')"
   ]
  },
  {
   "cell_type": "code",
   "execution_count": 250,
   "id": "be3c0803",
   "metadata": {},
   "outputs": [],
   "source": []
  },
  {
   "cell_type": "code",
   "execution_count": 251,
   "id": "47de0f44",
   "metadata": {},
   "outputs": [],
   "source": []
  },
  {
   "cell_type": "markdown",
   "id": "ffb82e43",
   "metadata": {},
   "source": [
    "##### Write to Tex"
   ]
  },
  {
   "cell_type": "code",
   "execution_count": 99,
   "id": "8b9938b8",
   "metadata": {},
   "outputs": [],
   "source": [
    "tex_table = hstack([selected_cat[['viz-id', 'ra', 'dec']], \n",
    "        Column(data=selected_cat['rhalf_spergel'] * 0.168, name=r'$R_e$'),\n",
    "        Column(data=selected_cat['SB_eff_avg'][:, 0], name=r'$\\overline{\\mu}_e(g)$'), \n",
    "        Column(data=selected_cat['mag'][:, 0], name=r'$g$'),\n",
    "        Column(data=selected_cat['mag'][:, 0] - selected_cat['mag'][:, 2], name=r'$g-i$'),\n",
    "        Column(data=selected_cat['host_z'], name=r'$z_{\\mathrm{host}}$'),\n",
    "        Column(data=selected_cat['dist_to_host_rvir'], name=r'$D_{\\rm host}$'),\n",
    "        Column(data=['S' if t == 1 else 'E' for t in selected_cat['host_spiral']], name='Host type')],\n",
    "      )\n",
    "tex_table.rename_column('viz-id', 'ID')\n",
    "coords = SkyCoord(selected_cat['ra'], selected_cat['dec'], unit='deg')\n",
    "tex_table['ra'] = (coords.ra / 15).to_string(sep=':', precision=0, fields=3)\n",
    "tex_table['ra'] = ['0' + t if len(t) == 7 else t for t in tex_table['ra']]\n",
    "tex_table['dec'] = np.array([f'+{t:.4f}' if t > 0 else f'{t:.4f}' for t in tex_table['dec']])\n",
    "tex_table.rename_column('ra', 'R.A.')\n",
    "tex_table.rename_column('dec', 'Dec.')\n",
    "\n",
    "tex_table[r'$R_e$'] = [f'{t:.2f}' for t in tex_table[r'$R_e$']]\n",
    "tex_table[r'$g$'] = [f'{t:.2f}' for t in tex_table[r'$g$']]\n",
    "tex_table[r'$g-i$'] = [f'{t:.2f}' for t in tex_table[r'$g-i$']]\n",
    "tex_table[r'$\\overline{\\mu}_e(g)$'] = [f'{t:.2f}' for t in tex_table[r'$\\overline{\\mu}_e(g)$']]\n",
    "tex_table[r'$z_{\\mathrm{host}}$'] = [f'{t:.4f}' for t in tex_table[r'$z_{\\mathrm{host}}$']]\n",
    "tex_table[r'$D_{\\rm host}$'] = [f'{t:.2f}' for t in tex_table[r'$D_{\\rm host}$']]"
   ]
  },
  {
   "cell_type": "code",
   "execution_count": 100,
   "id": "0a575767",
   "metadata": {},
   "outputs": [],
   "source": [
    "from astropy.io import ascii"
   ]
  },
  {
   "cell_type": "code",
   "execution_count": 101,
   "id": "de070e9e",
   "metadata": {},
   "outputs": [
    {
     "data": {
      "text/plain": [
       "array([75619, 27795, 86113, 67181, 69381, 65780, 29808, 79982, 30269,\n",
       "       14216, 81835, 21112, 85963, 73208, 75450])"
      ]
     },
     "execution_count": 101,
     "metadata": {},
     "output_type": "execute_result"
    }
   ],
   "source": [
    "selected_id"
   ]
  },
  {
   "cell_type": "code",
   "execution_count": 102,
   "id": "708913e3",
   "metadata": {},
   "outputs": [
    {
     "name": "stdout",
     "output_type": "stream",
     "text": [
      "\\begin{table*}\n",
      "\\begin{center}\n",
      "\\begin{tabular}{cccccccccc}\n",
      "ID & R.A. & Dec. & $R_e$ & $\\overline{\\mu}_e(g)$ & $g$ & $g-i$ & $z_{\\mathrm{host}}$ & $D_{\\rm host}$ & Host type \\\\\n",
      " &  &  & (arcsec) &  & (mag) & (mag) &  & ($R_{\\mathrm{vir}}$) &  \\\\\n",
      "75619 & 01:07:24 & -0.6802 & 4.56 & 24.57 & 19.27 & 0.83 & 0.0177 & 0.35 & E \\\\\n",
      "27795 & 22:56:25 & -1.2076 & 13.07 & 24.58 & 17.00 & 0.53 & 0.0103 & 0.87 & S \\\\\n",
      "86113 & 23:30:43 & +0.2328 & 6.17 & 24.65 & 18.70 & 0.56 & 0.0172 & 0.50 & E \\\\\n",
      "67181 & 23:21:26 & +1.8713 & 9.87 & 24.71 & 17.75 & 0.71 & 0.0296 & 0.87 & E \\\\\n",
      "69381 & 01:56:29 & -4.5307 & 4.72 & 25.05 & 19.68 & 0.87 & 0.0177 & 0.20 & S \\\\\n",
      "65780 & 02:23:01 & -1.8268 & 4.50 & 25.09 & 19.83 & 0.77 & 0.0194 & 0.52 & S \\\\\n",
      "29808 & 01:07:27 & -0.6829 & 8.17 & 25.10 & 18.54 & 0.93 & 0.0177 & 0.39 & E \\\\\n",
      "79982 & 23:05:00 & +1.8339 & 6.96 & 25.12 & 18.92 & 0.48 & 0.0171 & 0.86 & E \\\\\n",
      "30269 & 01:03:30 & -0.6638 & 5.20 & 25.17 & 19.59 & 0.93 & 0.0179 & 0.85 & E \\\\\n",
      "14216 & 01:55:50 & -2.5690 & 5.04 & 25.22 & 19.72 & 0.66 & 0.0296 & 0.80 & E \\\\\n",
      "81835 & 01:04:10 & -0.8357 & 5.80 & 25.23 & 19.42 & 0.86 & 0.0179 & 0.29 & E \\\\\n",
      "21112 & 01:09:01 & +2.5034 & 4.30 & 25.31 & 20.15 & 0.93 & 0.0398 & 0.31 & S \\\\\n",
      "85963 & 02:30:44 & -4.6020 & 5.26 & 25.39 & 19.79 & 0.95 & 0.0301 & 0.27 & E \\\\\n",
      "73208 & 01:12:47 & -0.4412 & 8.00 & 25.40 & 18.89 & 0.92 & 0.0188 & 0.48 & E \\\\\n",
      "75450 & 23:03:58 & +1.8429 & 6.31 & 25.43 & 19.44 & 1.17 & 0.0171 & 0.26 & E \\\\\n",
      "\\end{tabular}\n",
      "\\end{center}\n",
      "\\end{table*}\n"
     ]
    }
   ],
   "source": [
    "ascii.write(tex_table, \n",
    "            Writer=ascii.Latex, \n",
    "               latexdict={'preamble': r'\\begin{center}',\n",
    "                       'tablefoot': r'\\end{center}',\n",
    "                       'tabletype': 'table*',\n",
    "                          'units': {r'$R_e$': '(arcsec)', \n",
    "                                    r'$\\overline{\\mu_e}(g)$': r'(mag arcsec$^{-2}$)',\n",
    "                                    r'$g$': '(mag)',\n",
    "                                    r'$g-i$': '(mag)',\n",
    "                                    r'$D_{\\rm host}$': \"($R_{\\mathrm{vir}}$)\"}\n",
    "                         })"
   ]
  },
  {
   "cell_type": "code",
   "execution_count": null,
   "id": "dff516c2",
   "metadata": {},
   "outputs": [],
   "source": []
  },
  {
   "cell_type": "code",
   "execution_count": 103,
   "id": "926e4b3a",
   "metadata": {},
   "outputs": [],
   "source": [
    "gal1 = selected_cat[selected_cat['viz-id'] == 75619]"
   ]
  },
  {
   "cell_type": "code",
   "execution_count": 104,
   "id": "89e4a09f",
   "metadata": {},
   "outputs": [],
   "source": [
    "gal2 = selected_cat[selected_cat['viz-id'] == 29808]"
   ]
  },
  {
   "cell_type": "code",
   "execution_count": 105,
   "id": "74f2ddfd",
   "metadata": {},
   "outputs": [],
   "source": [
    "gal1_coord = SkyCoord(gal1['ra'], gal1['dec'], unit='deg')\n",
    "gal2_coord = SkyCoord(gal2['ra'], gal2['dec'], unit='deg')"
   ]
  },
  {
   "cell_type": "code",
   "execution_count": 106,
   "id": "2d06a539",
   "metadata": {},
   "outputs": [
    {
     "data": {
      "text/latex": [
       "[$0^\\circ00{}^\\prime41.3816{}^{\\prime\\prime}$]"
      ],
      "text/plain": [
       "<Angle [0.01149488] deg>"
      ]
     },
     "execution_count": 106,
     "metadata": {},
     "output_type": "execute_result"
    }
   ],
   "source": [
    "gal1_coord.separation(gal2_coord)"
   ]
  },
  {
   "cell_type": "code",
   "execution_count": null,
   "id": "4129bdd7",
   "metadata": {},
   "outputs": [],
   "source": [
    "41.4"
   ]
  },
  {
   "cell_type": "code",
   "execution_count": 110,
   "id": "6db73880",
   "metadata": {},
   "outputs": [
    {
     "data": {
      "text/plain": [
       "array([15.38789361])"
      ]
     },
     "execution_count": 110,
     "metadata": {},
     "output_type": "execute_result"
    }
   ],
   "source": [
    "gal1['host_ang_diam_dist'].data * 41.4 / 206265 * 1000"
   ]
  },
  {
   "cell_type": "code",
   "execution_count": 114,
   "id": "ce0d2e3d",
   "metadata": {},
   "outputs": [
    {
     "data": {
      "text/latex": [
       "$195.03778 \\; \\mathrm{{}^{\\circ}}$"
      ],
      "text/plain": [
       "<Quantity 195.03777778 deg>"
      ]
     },
     "execution_count": 114,
     "metadata": {},
     "output_type": "execute_result"
    }
   ],
   "source": [
    "(13*u.hourangle + 2 * u.arcmin + 16 * u.arcsec).to(u.hourangle).to(u.deg)"
   ]
  },
  {
   "cell_type": "code",
   "execution_count": 116,
   "id": "aae2f3d5",
   "metadata": {},
   "outputs": [
    {
     "data": {
      "text/plain": [
       "195.56666666666666"
      ]
     },
     "execution_count": 116,
     "metadata": {},
     "output_type": "execute_result"
    }
   ],
   "source": [
    "(13 + 2 / 60 + 16 / 3600) * 15"
   ]
  },
  {
   "cell_type": "code",
   "execution_count": 115,
   "id": "cf9f93c0",
   "metadata": {},
   "outputs": [
    {
     "data": {
      "text/latex": [
       "$28.954722 \\; \\mathrm{{}^{\\circ}}$"
      ],
      "text/plain": [
       "<Quantity 28.95472222 deg>"
      ]
     },
     "execution_count": 115,
     "metadata": {},
     "output_type": "execute_result"
    }
   ],
   "source": [
    "(28 * u.deg + 57 * u.arcmin + 17 * u.arcsec).to(u.deg)"
   ]
  },
  {
   "cell_type": "code",
   "execution_count": null,
   "id": "33bd4e23",
   "metadata": {},
   "outputs": [],
   "source": []
  },
  {
   "cell_type": "code",
   "execution_count": null,
   "id": "06f31fe3",
   "metadata": {},
   "outputs": [],
   "source": []
  },
  {
   "cell_type": "code",
   "execution_count": null,
   "id": "08254a6e",
   "metadata": {},
   "outputs": [],
   "source": []
  },
  {
   "cell_type": "markdown",
   "id": "777bdae9",
   "metadata": {},
   "source": [
    "##### Exp time"
   ]
  },
  {
   "cell_type": "code",
   "execution_count": 122,
   "id": "d7d8a917",
   "metadata": {},
   "outputs": [],
   "source": [
    "def calc_exp(SB):\n",
    "    return 10**(0.4 * (SB - 24.5)) * (10 / 6.5)**2 * (0.3/0.2) * 20 * u.min"
   ]
  },
  {
   "cell_type": "markdown",
   "id": "bc84ea75",
   "metadata": {},
   "source": [
    "$$t_{LDSS3} / t_{LRIS} = (D_{m} / D_{k})^{-2} \\cdot (\\epsilon_{m} / \\epsilon_{k})^{-1} \\cdot 10^{0.4 (\\mu - 24.5)}$$\n",
    "\n",
    "$$t_{LDSS3} / t_{LRIS} = (6.5 / 10)^{-2} \\cdot (0.1 / 0.3)^{-1} \\cdot 10^{0.4 (\\mu - 24.5)}$$"
   ]
  },
  {
   "cell_type": "code",
   "execution_count": 123,
   "id": "41c4d688",
   "metadata": {},
   "outputs": [
    {
     "data": {
      "text/latex": [
       "$1.183432 \\; \\mathrm{h}$"
      ],
      "text/plain": [
       "<Quantity 1.18343195 h>"
      ]
     },
     "execution_count": 123,
     "metadata": {},
     "output_type": "execute_result"
    }
   ],
   "source": [
    "calc_exp(24.5).to(u.hour)"
   ]
  },
  {
   "cell_type": "code",
   "execution_count": 151,
   "id": "552c8ae3",
   "metadata": {},
   "outputs": [
    {
     "data": {
      "text/latex": [
       "$2.9726467 \\; \\mathrm{h}$"
      ],
      "text/plain": [
       "<Quantity 2.97264666 h>"
      ]
     },
     "execution_count": 151,
     "metadata": {},
     "output_type": "execute_result"
    }
   ],
   "source": [
    "calc_exp(25.5).to(u.hour)"
   ]
  },
  {
   "cell_type": "code",
   "execution_count": 158,
   "id": "27859ac4",
   "metadata": {},
   "outputs": [
    {
     "data": {
      "text/plain": [
       "5"
      ]
     },
     "execution_count": 158,
     "metadata": {},
     "output_type": "execute_result"
    }
   ],
   "source": [
    "(selected_cat['g-i'] < 0.75).sum()"
   ]
  },
  {
   "cell_type": "code",
   "execution_count": 153,
   "id": "f736c38a",
   "metadata": {},
   "outputs": [],
   "source": [
    "exptime = calc_exp(selected_cat['SB_eff_avg_g']).to(u.hour)\n",
    "exptime[selected_cat['g-i'] < 0.75] = 0.5 * u.hour"
   ]
  },
  {
   "cell_type": "code",
   "execution_count": 154,
   "id": "afb884bd",
   "metadata": {},
   "outputs": [
    {
     "data": {
      "text/latex": [
       "$[1.2567818,~0.5,~0.5,~0.5,~1.960546,~2.0449274,~2.0514204,~0.5,~2.1864643,~0.5,~2.3198554,~2.5026911,~2.6973195,~2.7117635,~2.7942184] \\; \\mathrm{h}$"
      ],
      "text/plain": [
       "<Quantity [1.25678179, 0.5       , 0.5       , 0.5       , 1.96054604,\n",
       "           2.04492744, 2.05142035, 0.5       , 2.18646428, 0.5       ,\n",
       "           2.31985537, 2.50269111, 2.69731946, 2.71176347, 2.79421843] h>"
      ]
     },
     "execution_count": 154,
     "metadata": {},
     "output_type": "execute_result"
    }
   ],
   "source": [
    "exptime"
   ]
  },
  {
   "cell_type": "code",
   "execution_count": 155,
   "id": "afed7cb3",
   "metadata": {},
   "outputs": [
    {
     "data": {
      "text/latex": [
       "$25.025988 \\; \\mathrm{h}$"
      ],
      "text/plain": [
       "<Quantity 25.02598773 h>"
      ]
     },
     "execution_count": 155,
     "metadata": {},
     "output_type": "execute_result"
    }
   ],
   "source": [
    "exptime.sum()"
   ]
  },
  {
   "cell_type": "code",
   "execution_count": 149,
   "id": "a8837dc4",
   "metadata": {},
   "outputs": [
    {
     "data": {
      "text/plain": [
       "array([4126.72, 4090.32])"
      ]
     },
     "execution_count": 149,
     "metadata": {},
     "output_type": "execute_result"
    }
   ],
   "source": [
    "np.array([3968, 3933]) * (1 + 0.04)"
   ]
  },
  {
   "cell_type": "code",
   "execution_count": 150,
   "id": "0ee08b1f",
   "metadata": {},
   "outputs": [
    {
     "data": {
      "text/plain": [
       "3.0"
      ]
     },
     "execution_count": 150,
     "metadata": {},
     "output_type": "execute_result"
    }
   ],
   "source": [
    "10800 / 3600"
   ]
  },
  {
   "cell_type": "code",
   "execution_count": 125,
   "id": "c7ed7586",
   "metadata": {},
   "outputs": [
    {
     "data": {
      "text/plain": [
       "666.6666666666666"
      ]
     },
     "execution_count": 125,
     "metadata": {},
     "output_type": "execute_result"
    }
   ],
   "source": [
    "300000 / 450"
   ]
  },
  {
   "cell_type": "code",
   "execution_count": 128,
   "id": "25e8d671",
   "metadata": {},
   "outputs": [
    {
     "data": {
      "text/plain": [
       "250.27217098594718"
      ]
     },
     "execution_count": 128,
     "metadata": {},
     "output_type": "execute_result"
    }
   ],
   "source": [
    "1 / 509 * 300000 / 2.355"
   ]
  },
  {
   "cell_type": "code",
   "execution_count": 129,
   "id": "7f877956",
   "metadata": {},
   "outputs": [
    {
     "data": {
      "text/plain": [
       "380.0"
      ]
     },
     "execution_count": 129,
     "metadata": {},
     "output_type": "execute_result"
    }
   ],
   "source": [
    "1900 / 5"
   ]
  },
  {
   "cell_type": "code",
   "execution_count": 135,
   "id": "61eb1342",
   "metadata": {},
   "outputs": [
    {
     "data": {
      "text/plain": [
       "207.13582932007665"
      ]
     },
     "execution_count": 135,
     "metadata": {},
     "output_type": "execute_result"
    }
   ],
   "source": [
    "R = 4100 * 0.75 / 5\n",
    "300000 / R / 2.355"
   ]
  },
  {
   "cell_type": "code",
   "execution_count": null,
   "id": "ac35ca57",
   "metadata": {},
   "outputs": [],
   "source": []
  },
  {
   "cell_type": "code",
   "execution_count": null,
   "id": "f5c1a1ac",
   "metadata": {},
   "outputs": [],
   "source": []
  },
  {
   "cell_type": "code",
   "execution_count": null,
   "id": "1439e96c",
   "metadata": {},
   "outputs": [],
   "source": []
  },
  {
   "cell_type": "code",
   "execution_count": 273,
   "id": "8267775d",
   "metadata": {},
   "outputs": [
    {
     "data": {
      "text/plain": [
       "<matplotlib.colorbar.Colorbar at 0x2b386d7c10d0>"
      ]
     },
     "execution_count": 273,
     "metadata": {},
     "output_type": "execute_result"
    },
    {
     "data": {
      "image/png": "[encoded data removed]",
      "text/plain": [
       "<Figure size 600x500 with 2 Axes>"
      ]
     },
     "metadata": {
      "needs_background": "light"
     },
     "output_type": "display_data"
    }
   ],
   "source": [
    "plt.scatter(cat['mag'][:, 0] - cat['mag'][:, 2], \n",
    "            cat['host_z'], \n",
    "            c=cat['rhalf_circularized_phys'], vmin=1.5, vmax=4.5)\n",
    "plt.xlabel('$g-i$')\n",
    "plt.ylabel('Host redshift')\n",
    "plt.colorbar(label='$R_e$ [kpc]')"
   ]
  },
  {
   "cell_type": "code",
   "execution_count": 274,
   "id": "9fa912e9",
   "metadata": {},
   "outputs": [
    {
     "data": {
      "text/plain": [
       "<matplotlib.legend.Legend at 0x2b386ca44e50>"
      ]
     },
     "execution_count": 274,
     "metadata": {},
     "output_type": "execute_result"
    },
    {
     "data": {
      "image/png": "[encoded data removed]",
      "text/plain": [
       "<Figure size 600x500 with 1 Axes>"
      ]
     },
     "metadata": {
      "needs_background": "light"
     },
     "output_type": "display_data"
    }
   ],
   "source": [
    "johnny = Table.read('./Catalog/Greco_S18A_lsbg.fits')\n",
    "plt.hist(udg_cat['mag'][:, 0] - udg_cat['mag'][:, 2], histtype='step', density=True, label='UDG sample')\n",
    "plt.hist(johnny['g-i'], histtype='step', density=True, label='Johnny')\n",
    "plt.hist(cat['mag'][:, 0] - cat['mag'][:, 2], density=True, histtype='step', label='Magellan sample')\n",
    "plt.xlabel('g-i')\n",
    "plt.legend(loc='upper left')"
   ]
  },
  {
   "cell_type": "code",
   "execution_count": 245,
   "id": "e5ff6f33",
   "metadata": {},
   "outputs": [
    {
     "data": {
      "text/plain": [
       "<matplotlib.colorbar.Colorbar at 0x2b386c576510>"
      ]
     },
     "execution_count": 245,
     "metadata": {},
     "output_type": "execute_result"
    },
    {
     "data": {
      "image/png": "[encoded data removed]",
      "text/plain": [
       "<Figure size 600x500 with 2 Axes>"
      ]
     },
     "metadata": {
      "needs_background": "light"
     },
     "output_type": "display_data"
    }
   ],
   "source": [
    "plt.scatter(cat['mag'][:, 0] - cat['mag'][:, 2], \n",
    "            cat['host_z'], \n",
    "            c=cat['rhalf_spergel'] * 0.168)\n",
    "plt.xlabel('$g-i$')\n",
    "plt.ylabel('Host redshift')\n",
    "plt.colorbar(label='$R_e$ [arcsec]')"
   ]
  },
  {
   "cell_type": "code",
   "execution_count": 196,
   "id": "3bd21949",
   "metadata": {},
   "outputs": [],
   "source": [
    "hstack([cat[['viz-id', 'ra', 'dec']], \n",
    "        Column(data=np.round(cat['rhalf_spergel'] * 0.168, 2), name='rhalf_'),\n",
    "        Column(data=np.round(cat['SB_eff_avg'][:, 0], 2), name='SB_eff_avg_g'), \n",
    "        Column(data=np.round(cat['mag'][:, 0], 2), name='g_mag'),\n",
    "        Column(data=np.round(cat['mag'][:, 0] - cat['mag'][:, 2], 2), name='g-i'),\n",
    "       Column(data=np.round(cat['dist_to_host_rvir'], 2), name='dist2host_rvir')]\n",
    "      ).write(\n",
    "    '/tigress/jiaxuanl/public_html/galary/catalogs/magellan_proposal/udg_cat_latex.tex', \n",
    "    format='ascii.latex')"
   ]
  },
  {
   "cell_type": "code",
   "execution_count": null,
   "id": "526f9e6b",
   "metadata": {},
   "outputs": [],
   "source": []
  },
  {
   "cell_type": "code",
   "execution_count": null,
   "id": "4ab7f98f",
   "metadata": {},
   "outputs": [],
   "source": []
  }
 ],
 "metadata": {
  "kernelspec": {
   "display_name": "Python 3 (ipykernel)",
   "language": "python",
   "name": "python3"
  },
  "language_info": {
   "codemirror_mode": {
    "name": "ipython",
    "version": 3
   },
   "file_extension": ".py",
   "mimetype": "text/x-python",
   "name": "python",
   "nbconvert_exporter": "python",
   "pygments_lexer": "ipython3",
   "version": "3.10.9"
  }
 },
 "nbformat": 4,
 "nbformat_minor": 5
}
