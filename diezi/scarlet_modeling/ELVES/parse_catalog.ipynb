{
 "cells": [
  {
   "cell_type": "markdown",
   "id": "ef708e19",
   "metadata": {},
   "source": [
    "ELVES paper: https://iopscience.iop.org/article/10.3847/1538-4357/ac6fd7/meta#apjac6fd7t9"
   ]
  },
  {
   "cell_type": "code",
   "execution_count": 1,
   "id": "cead74f5",
   "metadata": {},
   "outputs": [],
   "source": [
    "# Import packages\n",
    "%load_ext autoreload\n",
    "%autoreload 2\n",
    "\n",
    "import warnings\n",
    "warnings.filterwarnings('ignore')"
   ]
  },
  {
   "cell_type": "code",
   "execution_count": 2,
   "id": "f63743b6",
   "metadata": {},
   "outputs": [],
   "source": [
    "import numpy as np\n",
    "import matplotlib.pyplot as plt\n",
    "from astropy.table import Table, hstack, vstack"
   ]
  },
  {
   "cell_type": "code",
   "execution_count": 3,
   "id": "a6889aa4",
   "metadata": {},
   "outputs": [],
   "source": [
    "import kuaizi as kz"
   ]
  },
  {
   "cell_type": "code",
   "execution_count": 4,
   "id": "f93be38a",
   "metadata": {},
   "outputs": [],
   "source": [
    "env_dict = {'project': 'HSC', 'name': 'LSBG', 'data_dir': '/scratch/gpfs/jiaxuanl/Data'}\n",
    "kz.utils.set_env(**env_dict)\n",
    "kz.set_matplotlib(style='JL', usetex=True, dpi=100, fontsize=16)"
   ]
  },
  {
   "cell_type": "markdown",
   "id": "e58ced12",
   "metadata": {},
   "source": [
    "Table 4: Basic Parameters"
   ]
  },
  {
   "cell_type": "raw",
   "id": "d9d53716",
   "metadata": {},
   "source": [
    "   1- 14 A14    ---           Name       Dwarf galaxy name\n",
    "  16- 22 A7     ---           Host       Host galaxy name\n",
    "  24- 31 F8.4   deg           RAdeg      Right Ascension, decimal degrees (J2000)\n",
    "  33- 40 F8.4   deg           DEdeg      Declination, decimal degrees (J2000)\n",
    "  42- 46 F5.1   kpc           Rproj      Projected, on-sky separation from host\n",
    "  48- 52 F5.2   mag           gmag       ?=\"\" g-band magnitude\n",
    "  54- 57 F4.2   mag         e_gmag       ?=\"\" Uncertainty in gmag\n",
    "  59- 63 F5.2   mag           rimag      ?=\"\" r/i-band magnitude\n",
    "  65- 68 F4.2   mag         e_rimag      ?=\"\" Uncertainty in rimag\n",
    "  70- 75 F6.2   mag           Mgmag      ?=\"\" Absolute g-band magnitude\n",
    "  77- 82 F6.2   mag           MVmag      Absolute V-band magnitude\n",
    "  84- 87 F4.2   mag         e_MVmag      ?=\"\" Uncertainty in MVmag\n",
    "  89- 93 F5.2   [Msun]        logMstar   log, stellar mass, solar units\n",
    "  95- 98 F4.2   [Msun]      e_logMstar   ?=\"\" Uncertainty in logMstar\n",
    " 100-104 F5.2   mag/arcsec2   mu0V       ?=\"\" central V-band surface brightness\n",
    " 106-109 F4.2   mag/arcsec2 e_mu0V       ?=\"\" Uncertainty in mu0V\n",
    " 111-117 F7.1   pc            re         ?=\"\" effective radius, pc\n",
    " 119-123 F5.1   pc          e_re         ?=\"\" Uncertainty in re\n",
    " 125-129 A5     ---           ETG        Morphological classification, early-type (True), late-type (False)\n",
    " 131-135 A5     ---           Confirmed  Flag indicating whether candidate has been confirmed with a distance measurement\n",
    " 137-140 F4.2   ---           Psat       Likelihood of unconfirmed satellite (1)\n",
    " 142-145 A4     ---           Filt       Filter list confirming bands for gmag, rimag\n",
    " 147-155 A9     ---           Tel        Telescope\n",
    " 157-159 A3     ---           Bad        Bad photometry flag"
   ]
  },
  {
   "cell_type": "code",
   "execution_count": 5,
   "id": "509c927d",
   "metadata": {},
   "outputs": [],
   "source": [
    "cat = Table.read('./Catalog/ELVES/elves_sat.txt', \n",
    "                  format='ascii.fixed_width_no_header',\n",
    "                 col_starts=(0, 15, 23, 32, 41, 47, 53, 58, 64, 69, 76,\n",
    "                             83, 88, 94, 99, 105, 110, 118, 124, 130, \n",
    "                             136, 141, 146, 156),\n",
    "                 )\n",
    "new_cols = ['name', 'host', 'RA', 'Dec', 'Rproj', 'gmag', 'e_gmag', \n",
    "            'rimag', 'e_rimag', 'Mgmag', 'MVmag', 'e_MVmag', 'log_m_star', \n",
    "            'e_log_m_star', 'mu0V', 'e_mu0V', 're', 'e_re', 'ETG', 'Confirmed', 'Psat', 'Filt', 'Tel', 'Bad']\n",
    "\n",
    "cat.rename_columns(cat.colnames, new_cols)\n",
    "\n",
    "secure = (cat['Psat'] > 0.8)\n",
    "cat = cat[secure]"
   ]
  },
  {
   "cell_type": "code",
   "execution_count": 6,
   "id": "2e31b153",
   "metadata": {},
   "outputs": [
    {
     "data": {
      "text/plain": [
       "351"
      ]
     },
     "execution_count": 6,
     "metadata": {},
     "output_type": "execute_result"
    }
   ],
   "source": [
    "len(cat)"
   ]
  },
  {
   "cell_type": "code",
   "execution_count": 7,
   "id": "ac78e8df",
   "metadata": {},
   "outputs": [
    {
     "data": {
      "text/plain": [
       "338"
      ]
     },
     "execution_count": 7,
     "metadata": {},
     "output_type": "execute_result"
    }
   ],
   "source": [
    "np.sum(cat['Confirmed'].data == 'True')"
   ]
  },
  {
   "cell_type": "code",
   "execution_count": 8,
   "id": "2bed3e14",
   "metadata": {},
   "outputs": [
    {
     "data": {
      "text/plain": [
       "351"
      ]
     },
     "execution_count": 8,
     "metadata": {},
     "output_type": "execute_result"
    }
   ],
   "source": [
    "len(cat)"
   ]
  },
  {
   "cell_type": "code",
   "execution_count": 9,
   "id": "e93cc88d",
   "metadata": {},
   "outputs": [
    {
     "data": {
      "text/plain": [
       "(30,)"
      ]
     },
     "execution_count": 9,
     "metadata": {},
     "output_type": "execute_result"
    }
   ],
   "source": [
    "np.unique(cat['host']).shape"
   ]
  },
  {
   "cell_type": "code",
   "execution_count": null,
   "id": "ad633ca0",
   "metadata": {},
   "outputs": [],
   "source": []
  },
  {
   "cell_type": "code",
   "execution_count": null,
   "id": "be850a80",
   "metadata": {},
   "outputs": [],
   "source": []
  },
  {
   "cell_type": "markdown",
   "id": "b458146e",
   "metadata": {},
   "source": [
    "### Split into Scott's photometry + McConnachie's photometry (only V-band). For the latter, we calculate g-band photometry based on an average g-V from the former part. "
   ]
  },
  {
   "cell_type": "code",
   "execution_count": 10,
   "id": "873486a3",
   "metadata": {},
   "outputs": [],
   "source": [
    "scott_cat = cat[cat['Tel'] != 'MCCONN']\n",
    "gV = scott_cat['Mgmag'] - scott_cat['MVmag']"
   ]
  },
  {
   "cell_type": "code",
   "execution_count": 11,
   "id": "f44fa376",
   "metadata": {},
   "outputs": [
    {
     "data": {
      "text/plain": [
       "(0.28999999999999915, 0.2771052631578947)"
      ]
     },
     "execution_count": 11,
     "metadata": {},
     "output_type": "execute_result"
    }
   ],
   "source": [
    "np.median(gV), np.mean(gV)"
   ]
  },
  {
   "cell_type": "code",
   "execution_count": 12,
   "id": "7428c525",
   "metadata": {},
   "outputs": [],
   "source": [
    "# cat = cat[cat['Tel'] != 'MCCONN']"
   ]
  },
  {
   "cell_type": "code",
   "execution_count": 13,
   "id": "e01e1e9f",
   "metadata": {},
   "outputs": [],
   "source": [
    "dist = 10**((cat['gmag'] - cat['Mgmag'] - 25) / 5)\n",
    "re_ang = 206265 * cat['re'] / dist * 1e-6"
   ]
  },
  {
   "cell_type": "code",
   "execution_count": 14,
   "id": "dbe3112f",
   "metadata": {},
   "outputs": [],
   "source": [
    "SB_eff_g = cat['gmag'] + 2.5 * np.log10(2 * np.pi * re_ang**2)"
   ]
  },
  {
   "cell_type": "code",
   "execution_count": 15,
   "id": "a64af41c",
   "metadata": {},
   "outputs": [],
   "source": [
    "cat['SB_eff_g'] = SB_eff_g\n",
    "cat['dist'] = dist"
   ]
  },
  {
   "cell_type": "markdown",
   "id": "1fca8d61",
   "metadata": {},
   "source": [
    "### How many UDGs in how many hosts?"
   ]
  },
  {
   "cell_type": "code",
   "execution_count": 50,
   "id": "c2430dcc",
   "metadata": {},
   "outputs": [
    {
     "data": {
      "text/plain": [
       "13"
      ]
     },
     "execution_count": 50,
     "metadata": {},
     "output_type": "execute_result"
    }
   ],
   "source": [
    "udg_flag = (cat['SB_eff_g'].data.data > 25) | ((cat['Tel'] == 'MCCONN').data & (cat['mu0V'].data.data > 24.3)) # 0.28 for gV\n",
    "udg_flag &= ((cat['re'].data.data) / 1000 > 1.5) #  + cat['e_re'].data.data\n",
    "# udg_flag &= cat['log_m_star'] > 6.5\n",
    "np.sum(udg_flag)"
   ]
  },
  {
   "cell_type": "code",
   "execution_count": 51,
   "id": "cf399d43",
   "metadata": {},
   "outputs": [
    {
     "data": {
      "text/plain": [
       "(0.36666666666666664, 0.11055415967851333)"
      ]
     },
     "execution_count": 51,
     "metadata": {},
     "output_type": "execute_result"
    }
   ],
   "source": [
    "11 / 30, np.sqrt(11) / 30"
   ]
  },
  {
   "cell_type": "code",
   "execution_count": 64,
   "id": "8d906305",
   "metadata": {},
   "outputs": [
    {
     "data": {
      "text/plain": [
       "(0.046218487394957986, 0.037037037037037035)"
      ]
     },
     "execution_count": 64,
     "metadata": {},
     "output_type": "execute_result"
    }
   ],
   "source": [
    "11 / np.sum(cat['log_m_star'] > 6.5), 13 / len(cat['log_m_star'])"
   ]
  },
  {
   "cell_type": "code",
   "execution_count": null,
   "id": "1024ce89",
   "metadata": {},
   "outputs": [],
   "source": []
  },
  {
   "cell_type": "code",
   "execution_count": null,
   "id": "66569273",
   "metadata": {},
   "outputs": [],
   "source": []
  },
  {
   "cell_type": "code",
   "execution_count": 17,
   "id": "a129a183",
   "metadata": {},
   "outputs": [],
   "source": [
    "temp = cat[cat['host'] == 'M81']\n",
    "temp.sort('mu0V')"
   ]
  },
  {
   "cell_type": "code",
   "execution_count": 23,
   "id": "9a470b05",
   "metadata": {},
   "outputs": [],
   "source": [
    "cat[udg_flag].write('/tigress/jiaxuanl/public_html/galary/catalogs/magellan_proposal/ELVES_UDG_for_Meng.fits')"
   ]
  },
  {
   "cell_type": "code",
   "execution_count": null,
   "id": "9e533c16",
   "metadata": {},
   "outputs": [],
   "source": []
  },
  {
   "cell_type": "code",
   "execution_count": 47,
   "id": "81189341",
   "metadata": {},
   "outputs": [
    {
     "data": {
      "text/plain": [
       "13"
      ]
     },
     "execution_count": 47,
     "metadata": {},
     "output_type": "execute_result"
    }
   ],
   "source": [
    "len(cat[udg_flag])"
   ]
  },
  {
   "cell_type": "code",
   "execution_count": 48,
   "id": "b10310e4",
   "metadata": {},
   "outputs": [
    {
     "data": {
      "text/plain": [
       "10"
      ]
     },
     "execution_count": 48,
     "metadata": {},
     "output_type": "execute_result"
    }
   ],
   "source": [
    "len(np.unique(cat[udg_flag]['host']))"
   ]
  },
  {
   "cell_type": "code",
   "execution_count": 49,
   "id": "eb50c172",
   "metadata": {},
   "outputs": [
    {
     "data": {
      "text/plain": [
       "0.046218487394957986"
      ]
     },
     "execution_count": 49,
     "metadata": {},
     "output_type": "execute_result"
    }
   ],
   "source": [
    "11 / 238"
   ]
  },
  {
   "cell_type": "code",
   "execution_count": null,
   "id": "199a313d",
   "metadata": {},
   "outputs": [],
   "source": []
  },
  {
   "cell_type": "code",
   "execution_count": 21,
   "id": "48ebda01",
   "metadata": {},
   "outputs": [
    {
     "data": {
      "text/plain": [
       "0.1201850425154663"
      ]
     },
     "execution_count": 21,
     "metadata": {},
     "output_type": "execute_result"
    }
   ],
   "source": [
    "np.sqrt(13) / 30"
   ]
  },
  {
   "cell_type": "code",
   "execution_count": 56,
   "id": "0aa36ed0",
   "metadata": {},
   "outputs": [
    {
     "data": {
      "text/plain": [
       "(0.037037037037037035, 0.01027222585602276)"
      ]
     },
     "execution_count": 56,
     "metadata": {},
     "output_type": "execute_result"
    }
   ],
   "source": [
    "13 / 351, np.sqrt(13) / 351"
   ]
  },
  {
   "cell_type": "code",
   "execution_count": null,
   "id": "5c123209",
   "metadata": {},
   "outputs": [],
   "source": []
  },
  {
   "cell_type": "code",
   "execution_count": null,
   "id": "11df75dc",
   "metadata": {},
   "outputs": [],
   "source": []
  },
  {
   "cell_type": "code",
   "execution_count": null,
   "id": "667f31fc",
   "metadata": {},
   "outputs": [],
   "source": []
  },
  {
   "cell_type": "markdown",
   "id": "708bd037",
   "metadata": {},
   "source": [
    "----\n",
    "### UPGs"
   ]
  },
  {
   "cell_type": "code",
   "execution_count": 17,
   "id": "87b6690e",
   "metadata": {},
   "outputs": [],
   "source": [
    "def mass_size_carlsten(log_m):\n",
    "    return 1.071 + 0.247 * log_m"
   ]
  },
  {
   "cell_type": "code",
   "execution_count": 53,
   "id": "ec86489c",
   "metadata": {},
   "outputs": [],
   "source": [
    "upg_flag = cat['re'] > 10**(mass_size_carlsten(cat['log_m_star']).data + 1.5 * 0.181)"
   ]
  },
  {
   "cell_type": "code",
   "execution_count": 54,
   "id": "ee9e2e45",
   "metadata": {},
   "outputs": [],
   "source": [
    "flag = (np.log10(cat['re']) - mass_size_carlsten(cat['log_m_star'])) > 0.181 * 1.5\n",
    "flag &= cat['log_m_star'] > 6.5"
   ]
  },
  {
   "cell_type": "code",
   "execution_count": 55,
   "id": "979c3be4",
   "metadata": {},
   "outputs": [],
   "source": [
    "upg_flag = (flag.data & ~flag.mask)"
   ]
  },
  {
   "cell_type": "code",
   "execution_count": null,
   "id": "2bc14016",
   "metadata": {},
   "outputs": [],
   "source": []
  },
  {
   "cell_type": "code",
   "execution_count": 56,
   "id": "68afbbce",
   "metadata": {},
   "outputs": [
    {
     "data": {
      "text/plain": [
       "23"
      ]
     },
     "execution_count": 56,
     "metadata": {},
     "output_type": "execute_result"
    }
   ],
   "source": [
    "np.sum(upg_flag)"
   ]
  },
  {
   "cell_type": "code",
   "execution_count": 63,
   "id": "20e57a77",
   "metadata": {},
   "outputs": [
    {
     "data": {
      "text/plain": [
       "(0.09663865546218488, 0.10256410256410256)"
      ]
     },
     "execution_count": 63,
     "metadata": {},
     "output_type": "execute_result"
    }
   ],
   "source": [
    "23 / np.sum(cat['log_m_star'] > 6.5), 36 / len(cat['log_m_star'])"
   ]
  },
  {
   "cell_type": "code",
   "execution_count": 43,
   "id": "183c3ca8",
   "metadata": {},
   "outputs": [
    {
     "data": {
      "text/plain": [
       "0.06552706552706553"
      ]
     },
     "execution_count": 43,
     "metadata": {},
     "output_type": "execute_result"
    }
   ],
   "source": [
    "23 / 351"
   ]
  },
  {
   "cell_type": "code",
   "execution_count": null,
   "id": "3713e6cb",
   "metadata": {},
   "outputs": [],
   "source": []
  },
  {
   "cell_type": "code",
   "execution_count": 36,
   "id": "fd989b6c",
   "metadata": {},
   "outputs": [
    {
     "data": {
      "text/plain": [
       "(0.7666666666666667, 0.15986105077709065)"
      ]
     },
     "execution_count": 36,
     "metadata": {},
     "output_type": "execute_result"
    }
   ],
   "source": [
    "23 / 30, np.sqrt(23) / 30"
   ]
  },
  {
   "cell_type": "code",
   "execution_count": 30,
   "id": "363cfbdd",
   "metadata": {},
   "outputs": [
    {
     "data": {
      "text/plain": [
       "<matplotlib.lines.Line2D at 0x2ae776bb65f0>"
      ]
     },
     "execution_count": 30,
     "metadata": {},
     "output_type": "execute_result"
    },
    {
     "data": {
      "image/png": "[encoded data removed]",
      "text/plain": [
       "<Figure size 432x288 with 2 Axes>"
      ]
     },
     "metadata": {
      "needs_background": "light"
     },
     "output_type": "display_data"
    }
   ],
   "source": [
    "# Carlsten mass-size relation\n",
    "def mass_size_carlsten(log_m):\n",
    "    return 1.071 + 0.247 * log_m\n",
    "x = np.linspace(6, 8.5)\n",
    "plt.fill_between(x, mass_size_carlsten(x) - 0.181, \n",
    "                 mass_size_carlsten(x) + 0.181, \n",
    "                 color='steelblue', alpha=0.3, zorder=10)\n",
    "plt.plot(x, mass_size_carlsten(x), ls='--', \n",
    "         color='steelblue', lw=3, label='Carlsten+21', zorder=10)\n",
    "\n",
    "plt.scatter(cat['log_m_star'], \n",
    "            np.log10(cat['re']), \n",
    "            alpha=0.5, zorder=1)\n",
    "\n",
    "plt.scatter(cat['log_m_star'][upg_flag], \n",
    "            np.log10(cat['re'][upg_flag]), \n",
    "            alpha=0.5, zorder=1)\n",
    "\n",
    "plt.colorbar()\n",
    "\n",
    "plt.xlabel(r'$\\log\\ M_\\star\\ [M_\\odot]$')\n",
    "plt.ylabel(r'$\\log\\ R_{e}\\ [\\rm pc]$')\n",
    "plt.legend(loc='lower right')\n",
    "\n",
    "plt.xlim(6., 9.2)\n",
    "\n",
    "plt.axhline(np.log10(1500), ls='--', color='gray')"
   ]
  },
  {
   "cell_type": "code",
   "execution_count": 68,
   "id": "6842b4b0",
   "metadata": {},
   "outputs": [
    {
     "data": {
      "text/plain": [
       "0.7666666666666667"
      ]
     },
     "execution_count": 68,
     "metadata": {},
     "output_type": "execute_result"
    }
   ],
   "source": [
    "23 / 30"
   ]
  },
  {
   "cell_type": "code",
   "execution_count": 55,
   "id": "e9d2b328",
   "metadata": {},
   "outputs": [
    {
     "data": {
      "text/plain": [
       "20"
      ]
     },
     "execution_count": 55,
     "metadata": {},
     "output_type": "execute_result"
    }
   ],
   "source": [
    "len(np.unique(cat[upg_flag]['host']))"
   ]
  },
  {
   "cell_type": "code",
   "execution_count": 57,
   "id": "e8efa1fc",
   "metadata": {},
   "outputs": [
    {
     "data": {
      "text/plain": [
       "(0.10256410256410256, 0.016854928156978963)"
      ]
     },
     "execution_count": 57,
     "metadata": {},
     "output_type": "execute_result"
    }
   ],
   "source": [
    "36 / 351, np.sqrt(35) / 351"
   ]
  },
  {
   "cell_type": "code",
   "execution_count": 180,
   "id": "1952a518",
   "metadata": {},
   "outputs": [
    {
     "data": {
      "text/plain": [
       "1.2"
      ]
     },
     "execution_count": 180,
     "metadata": {},
     "output_type": "execute_result"
    }
   ],
   "source": [
    "36 / 30"
   ]
  },
  {
   "cell_type": "code",
   "execution_count": 33,
   "id": "40a13b14",
   "metadata": {},
   "outputs": [
    {
     "data": {
      "text/plain": [
       "238"
      ]
     },
     "execution_count": 33,
     "metadata": {},
     "output_type": "execute_result"
    }
   ],
   "source": [
    "(cat['log_m_star'] > 6.5).sum()"
   ]
  },
  {
   "cell_type": "code",
   "execution_count": 34,
   "id": "cae39449",
   "metadata": {},
   "outputs": [
    {
     "data": {
      "text/plain": [
       "0.09663865546218488"
      ]
     },
     "execution_count": 34,
     "metadata": {},
     "output_type": "execute_result"
    }
   ],
   "source": [
    "23 / 238"
   ]
  },
  {
   "cell_type": "code",
   "execution_count": 35,
   "id": "973000a6",
   "metadata": {},
   "outputs": [
    {
     "data": {
      "text/plain": [
       "1.2777777777777777"
      ]
     },
     "execution_count": 35,
     "metadata": {},
     "output_type": "execute_result"
    }
   ],
   "source": [
    "23 / 18"
   ]
  },
  {
   "cell_type": "code",
   "execution_count": 38,
   "id": "9070de0d",
   "metadata": {},
   "outputs": [
    {
     "data": {
      "text/plain": [
       "30"
      ]
     },
     "execution_count": 38,
     "metadata": {},
     "output_type": "execute_result"
    }
   ],
   "source": [
    "len(np.unique(cat[(cat['log_m_star'] > 6.5)]['host']))"
   ]
  },
  {
   "cell_type": "code",
   "execution_count": null,
   "id": "87ac3a67",
   "metadata": {},
   "outputs": [],
   "source": []
  },
  {
   "cell_type": "code",
   "execution_count": null,
   "id": "c704746f",
   "metadata": {},
   "outputs": [],
   "source": []
  },
  {
   "cell_type": "code",
   "execution_count": null,
   "id": "f6abe829",
   "metadata": {},
   "outputs": [],
   "source": []
  },
  {
   "cell_type": "markdown",
   "id": "89bbd3ac",
   "metadata": {},
   "source": [
    "Therefore, there are 15-20 UDGs in Scott's sample (444 sats in total)\n",
    "\n",
    "4 bad photometry\n",
    "\n",
    "Therefore should be 11 - 16 UDGs out of 429 healthy sates"
   ]
  },
  {
   "cell_type": "code",
   "execution_count": null,
   "id": "c65145c9",
   "metadata": {},
   "outputs": [],
   "source": []
  },
  {
   "cell_type": "code",
   "execution_count": null,
   "id": "f40683ff",
   "metadata": {},
   "outputs": [],
   "source": []
  },
  {
   "cell_type": "code",
   "execution_count": null,
   "id": "48021f5e",
   "metadata": {},
   "outputs": [],
   "source": []
  },
  {
   "cell_type": "code",
   "execution_count": null,
   "id": "c589c01d",
   "metadata": {},
   "outputs": [],
   "source": []
  },
  {
   "cell_type": "code",
   "execution_count": null,
   "id": "d6feff68",
   "metadata": {},
   "outputs": [],
   "source": []
  },
  {
   "cell_type": "code",
   "execution_count": null,
   "id": "f13d470d",
   "metadata": {},
   "outputs": [],
   "source": []
  },
  {
   "cell_type": "code",
   "execution_count": 50,
   "id": "14b32b17",
   "metadata": {},
   "outputs": [
    {
     "data": {
      "text/plain": [
       "429"
      ]
     },
     "execution_count": 50,
     "metadata": {},
     "output_type": "execute_result"
    }
   ],
   "source": [
    "np.sum(cat['Bad'].data.data != 'yes')"
   ]
  },
  {
   "cell_type": "code",
   "execution_count": 35,
   "id": "8ba0582c",
   "metadata": {},
   "outputs": [
    {
     "data": {
      "text/plain": [
       "<matplotlib.collections.PathCollection at 0x2acb47a407c0>"
      ]
     },
     "execution_count": 35,
     "metadata": {},
     "output_type": "execute_result"
    },
    {
     "data": {
      "image/png": "[encoded data removed]",
      "text/plain": [
       "<Figure size 432x288 with 1 Axes>"
      ]
     },
     "metadata": {
      "needs_background": "light"
     },
     "output_type": "display_data"
    }
   ],
   "source": [
    "plt.scatter(cat['log_m_star'], np.log10(cat['re']))\n",
    "plt.scatter(cat[udg_flag]['log_m_star'], np.log10(cat[udg_flag]['re']), s=5)"
   ]
  },
  {
   "cell_type": "code",
   "execution_count": 46,
   "id": "00536c6f",
   "metadata": {
    "scrolled": false
   },
   "outputs": [
    {
     "data": {
      "text/plain": [
       "0.96"
      ]
     },
     "execution_count": 46,
     "metadata": {},
     "output_type": "execute_result"
    }
   ],
   "source": [
    "cat[udg_flag]['Psat'].mean()"
   ]
  },
  {
   "cell_type": "code",
   "execution_count": null,
   "id": "e9f71cf2",
   "metadata": {},
   "outputs": [],
   "source": []
  },
  {
   "cell_type": "markdown",
   "id": "be349700",
   "metadata": {},
   "source": [
    "---"
   ]
  },
  {
   "cell_type": "markdown",
   "id": "e17aa90a",
   "metadata": {},
   "source": [
    "### Host"
   ]
  },
  {
   "cell_type": "code",
   "execution_count": 97,
   "id": "43d90551",
   "metadata": {},
   "outputs": [
    {
     "data": {
      "text/html": [
       "<div><i>Table length=31</i>\n",
       "<table id=\"table47688883714800\" class=\"table-striped table-bordered table-condensed\">\n",
       "<thead><tr><th>Name</th><th>Dist</th><th>v _rec</th><th>${M}_{{K}_{s}}$</th><th>${M}_{{K}_{s}}^{\\mathrm{group}}$</th><th>M _V</th><th>B - V</th><th>$\\mathrm{log}({M}_{\\star }/{M}_{\\odot })$</th><th>r _cover</th><th>Data Source</th><th>References</th><th>col11</th></tr></thead>\n",
       "<thead><tr><th>str8</th><th>float64</th><th>int64</th><th>float64</th><th>float64</th><th>float64</th><th>float64</th><th>float64</th><th>int64</th><th>str18</th><th>str27</th><th>int64</th></tr></thead>\n",
       "<tr><td>M31</td><td>0.78</td><td>-300</td><td>-24.81</td><td>-24.89</td><td>-21.19</td><td>0.87</td><td>11.01</td><td>300</td><td>M12</td><td>CF, RC3, Sick15</td><td>--</td></tr>\n",
       "<tr><td>NGC 253</td><td>3.56</td><td>259</td><td>-23.95</td><td>-23.96</td><td>-20.7</td><td>0.94</td><td>10.77</td><td>300</td><td>D- -D</td><td>CF, Cook14a, Cook14b</td><td>--</td></tr>\n",
       "<tr><td>NGC 628</td><td>9.77</td><td>656</td><td>-22.79</td><td>-22.81</td><td>-20.68</td><td>0.48</td><td>10.45</td><td>300</td><td>D-G-D</td><td>CF, Cook14a, Cook14b</td><td>--</td></tr>\n",
       "<tr><td>NGC 891</td><td>9.12</td><td>528</td><td>-23.83</td><td>-23.83</td><td>-20.05</td><td>0.82</td><td>10.84</td><td>200</td><td>C-C-C</td><td>CF, GALEX, ${M}_{{K}_{s}}$</td><td>--</td></tr>\n",
       "<tr><td>NGC 1023</td><td>10.4</td><td>638</td><td>-23.78</td><td>-23.98</td><td>-20.91</td><td>0.95</td><td>10.6</td><td>200</td><td>C-C-C</td><td>NED, GALEX, ${M}_{{K}_{s}}$</td><td>--</td></tr>\n",
       "<tr><td>NGC 1291</td><td>9.08</td><td>838</td><td>-23.94</td><td>-23.97</td><td>-21.01</td><td>1.0</td><td>10.78</td><td>300</td><td>D-D,M-D</td><td>CF, Cook14a, Ler19</td><td>--</td></tr>\n",
       "<tr><td>NGC 1808</td><td>9.29</td><td>1002</td><td>-23.12</td><td>-23.78</td><td>-19.98</td><td>0.79</td><td>10.01</td><td>300</td><td>D-D,G,H,M-D</td><td>CF, RC3, Ler19</td><td>--</td></tr>\n",
       "<tr><td>NGC 2683</td><td>9.4</td><td>409</td><td>-23.49</td><td>-23.5</td><td>-20.17</td><td>0.86</td><td>10.5</td><td>300</td><td>D-H-D</td><td>K15, Cook14a, Ler19</td><td>--</td></tr>\n",
       "<tr><td>NGC 2903</td><td>9.0</td><td>556</td><td>-23.68</td><td>-23.69</td><td>-20.78</td><td>0.65</td><td>10.67</td><td>300</td><td>D-G,C-D</td><td>K13&amp;T19, Cook14a, Cook14b</td><td>--</td></tr>\n",
       "<tr><td>M81</td><td>3.61</td><td>-42</td><td>-23.89</td><td>-25.27</td><td>-21.07</td><td>0.88</td><td>10.66</td><td>300</td><td>C13-C13-C13,D</td><td>CF, GALEX, Ler19</td><td>--</td></tr>\n",
       "<tr><td>NGC 3115</td><td>10.2</td><td>666</td><td>-24.12</td><td>-24.14</td><td>-21.27</td><td>0.93</td><td>10.76</td><td>300</td><td>D-G-D</td><td>Pea15, RC3, Ler19</td><td>--</td></tr>\n",
       "<tr><td>NGC 3344</td><td>9.82</td><td>585</td><td>-22.27</td><td>-22.27</td><td>-20.19</td><td>0.65</td><td>10.27</td><td>300</td><td>D-H-D</td><td>CF, Cook14a, Ler19</td><td>--</td></tr>\n",
       "<tr><td>...</td><td>...</td><td>...</td><td>...</td><td>...</td><td>...</td><td>...</td><td>...</td><td>...</td><td>...</td><td>...</td><td>...</td></tr>\n",
       "<tr><td>NGC 4517</td><td>8.34</td><td>1136</td><td>-22.13</td><td>-22.16</td><td>-19.27</td><td>0.67</td><td>9.93</td><td>300</td><td>D-H-D</td><td>K14, RC3, ${M}_{{K}_{s}}$</td><td>--</td></tr>\n",
       "<tr><td>NGC 4565</td><td>11.9</td><td>1261</td><td>-24.26</td><td>-24.27</td><td>-20.84</td><td>0.82</td><td>10.88</td><td>150</td><td>C-C-C</td><td>RS11, RC3, Ler19</td><td>--</td></tr>\n",
       "<tr><td>M104</td><td>9.55</td><td>1092</td><td>-24.91</td><td>-25.01</td><td>-22.04</td><td>0.94</td><td>11.09</td><td>150</td><td>C-C-C</td><td>McQ16a, RC3, Ler19</td><td>--</td></tr>\n",
       "<tr><td>NGC 4631</td><td>7.4</td><td>606</td><td>-22.73</td><td>-22.9</td><td>-20.21</td><td>0.55</td><td>10.05</td><td>200</td><td>C,D-C,G-C,D</td><td>RS11, RC3, Ler19</td><td>--</td></tr>\n",
       "<tr><td>NGC 4736</td><td>4.2</td><td>287</td><td>-22.96</td><td>-23.1</td><td>-19.93</td><td>0.74</td><td>10.29</td><td>300</td><td>D-S18-D</td><td>RS11, RC3, Ler19</td><td>--</td></tr>\n",
       "<tr><td>NGC 4826</td><td>5.3</td><td>402</td><td>-23.24</td><td>-23.24</td><td>-20.21</td><td>0.8</td><td>10.36</td><td>300</td><td>D-H,C-D</td><td>CF, RC3, Ler19</td><td>--</td></tr>\n",
       "<tr><td>NGC 5055</td><td>8.87</td><td>503</td><td>-24.02</td><td>-24.04</td><td>-21.2</td><td>0.71</td><td>10.72</td><td>300</td><td>D-H-D</td><td>McQ17, RC3, Ler19</td><td>--</td></tr>\n",
       "<tr><td>CENA</td><td>3.66</td><td>548</td><td>-23.87</td><td>-24.41</td><td>-21.29</td><td>0.89</td><td>10.92</td><td>200</td><td>M/C19-M/C19-Dc,M17</td><td>CF, RC3, Ler19</td><td>--</td></tr>\n",
       "<tr><td>NGC 5194</td><td>8.58</td><td>465</td><td>-24.08</td><td>-24.51</td><td>-21.4</td><td>0.56</td><td>10.73</td><td>150</td><td>C-C-C</td><td>McQ16b, GALEX, Ler19</td><td>--</td></tr>\n",
       "<tr><td>NGC 5236</td><td>4.7</td><td>520</td><td>-23.64</td><td>-23.67</td><td>-21.02</td><td>0.53</td><td>10.37</td><td>300</td><td>M15-M18,D-D</td><td>CF, Cook14a, Ler19</td><td>--</td></tr>\n",
       "<tr><td>NGC 5457</td><td>6.5</td><td>243</td><td>-23.12</td><td>-23.16</td><td>-21.22</td><td>0.44</td><td>10.33</td><td>300</td><td>D-B19,C,H-C,D</td><td>Beat19, RC3, Ler19</td><td>--</td></tr>\n",
       "<tr><td>NGC 6744</td><td>8.95</td><td>839</td><td>-23.58</td><td>-24.0</td><td>-21.64</td><td>0.86</td><td>10.64</td><td>200</td><td>Dc-Dc-Dc</td><td>CF, RC3/HyperLeda, Ler19</td><td>--</td></tr>\n",
       "<tr><td>MW</td><td>0.0</td><td>0</td><td>-24.0</td><td>-24.13</td><td>-20.74</td><td>0.67</td><td>10.78</td><td>300</td><td>M12</td><td>Lic15, BG16</td><td>--</td></tr>\n",
       "</table></div>"
      ],
      "text/plain": [
       "<Table length=31>\n",
       "  Name     Dist  v _rec ${M}_{{K}_{s}}$ ...    Data Source              References         col11\n",
       "  str8   float64 int64      float64     ...       str18                   str27            int64\n",
       "-------- ------- ------ --------------- ... ------------------ --------------------------- -----\n",
       "     M31    0.78   -300          -24.81 ...                M12             CF, RC3, Sick15    --\n",
       " NGC 253    3.56    259          -23.95 ...              D- -D        CF, Cook14a, Cook14b    --\n",
       " NGC 628    9.77    656          -22.79 ...              D-G-D        CF, Cook14a, Cook14b    --\n",
       " NGC 891    9.12    528          -23.83 ...              C-C-C  CF, GALEX, ${M}_{{K}_{s}}$    --\n",
       "NGC 1023    10.4    638          -23.78 ...              C-C-C NED, GALEX, ${M}_{{K}_{s}}$    --\n",
       "NGC 1291    9.08    838          -23.94 ...            D-D,M-D          CF, Cook14a, Ler19    --\n",
       "NGC 1808    9.29   1002          -23.12 ...        D-D,G,H,M-D              CF, RC3, Ler19    --\n",
       "NGC 2683     9.4    409          -23.49 ...              D-H-D         K15, Cook14a, Ler19    --\n",
       "NGC 2903     9.0    556          -23.68 ...            D-G,C-D   K13&T19, Cook14a, Cook14b    --\n",
       "     M81    3.61    -42          -23.89 ...      C13-C13-C13,D            CF, GALEX, Ler19    --\n",
       "NGC 3115    10.2    666          -24.12 ...              D-G-D           Pea15, RC3, Ler19    --\n",
       "NGC 3344    9.82    585          -22.27 ...              D-H-D          CF, Cook14a, Ler19    --\n",
       "     ...     ...    ...             ... ...                ...                         ...   ...\n",
       "NGC 4517    8.34   1136          -22.13 ...              D-H-D   K14, RC3, ${M}_{{K}_{s}}$    --\n",
       "NGC 4565    11.9   1261          -24.26 ...              C-C-C            RS11, RC3, Ler19    --\n",
       "    M104    9.55   1092          -24.91 ...              C-C-C          McQ16a, RC3, Ler19    --\n",
       "NGC 4631     7.4    606          -22.73 ...        C,D-C,G-C,D            RS11, RC3, Ler19    --\n",
       "NGC 4736     4.2    287          -22.96 ...            D-S18-D            RS11, RC3, Ler19    --\n",
       "NGC 4826     5.3    402          -23.24 ...            D-H,C-D              CF, RC3, Ler19    --\n",
       "NGC 5055    8.87    503          -24.02 ...              D-H-D           McQ17, RC3, Ler19    --\n",
       "    CENA    3.66    548          -23.87 ... M/C19-M/C19-Dc,M17              CF, RC3, Ler19    --\n",
       "NGC 5194    8.58    465          -24.08 ...              C-C-C        McQ16b, GALEX, Ler19    --\n",
       "NGC 5236     4.7    520          -23.64 ...        M15-M18,D-D          CF, Cook14a, Ler19    --\n",
       "NGC 5457     6.5    243          -23.12 ...      D-B19,C,H-C,D          Beat19, RC3, Ler19    --\n",
       "NGC 6744    8.95    839          -23.58 ...           Dc-Dc-Dc    CF, RC3/HyperLeda, Ler19    --\n",
       "      MW     0.0      0           -24.0 ...                M12                 Lic15, BG16    --"
      ]
     },
     "execution_count": 97,
     "metadata": {},
     "output_type": "execute_result"
    }
   ],
   "source": [
    "host_cat = Table.read('./Catalog/ELVES/elves_host.txt', \n",
    "                      format='ascii.tab'\n",
    "                 )\n",
    "host_cat"
   ]
  },
  {
   "cell_type": "code",
   "execution_count": 100,
   "id": "561aa91e",
   "metadata": {},
   "outputs": [
    {
     "data": {
      "text/plain": [
       "-23.593870967741935"
      ]
     },
     "execution_count": 100,
     "metadata": {},
     "output_type": "execute_result"
    }
   ],
   "source": [
    "host_cat['${M}_{{K}_{s}}$'].data.mean()"
   ]
  },
  {
   "cell_type": "code",
   "execution_count": null,
   "id": "048e3840",
   "metadata": {},
   "outputs": [],
   "source": []
  },
  {
   "cell_type": "code",
   "execution_count": 101,
   "id": "a19a0a64",
   "metadata": {},
   "outputs": [
    {
     "data": {
      "text/plain": [
       "0.6845986694329649"
      ]
     },
     "execution_count": 101,
     "metadata": {},
     "output_type": "execute_result"
    }
   ],
   "source": [
    "host_cat['${M}_{{K}_{s}}$'].data.std()"
   ]
  },
  {
   "cell_type": "code",
   "execution_count": 99,
   "id": "0abcfa22",
   "metadata": {},
   "outputs": [
    {
     "data": {
      "text/plain": [
       "(array([2., 1., 4., 8., 5., 1., 3., 4., 0., 3.]),\n",
       " array([-24.91 , -24.632, -24.354, -24.076, -23.798, -23.52 , -23.242,\n",
       "        -22.964, -22.686, -22.408, -22.13 ]),\n",
       " <BarContainer object of 10 artists>)"
      ]
     },
     "execution_count": 99,
     "metadata": {},
     "output_type": "execute_result"
    },
    {
     "data": {
      "image/png": "[encoded data removed]",
      "text/plain": [
       "<Figure size 432x288 with 1 Axes>"
      ]
     },
     "metadata": {
      "needs_background": "light"
     },
     "output_type": "display_data"
    }
   ],
   "source": [
    "plt.hist(host_cat['${M}_{{K}_{s}}$'].data)"
   ]
  },
  {
   "cell_type": "markdown",
   "id": "8c2b9644",
   "metadata": {},
   "source": [
    "---"
   ]
  },
  {
   "cell_type": "markdown",
   "id": "8c69900c",
   "metadata": {},
   "source": [
    "### Magellan"
   ]
  },
  {
   "cell_type": "code",
   "execution_count": 29,
   "id": "c3a55077",
   "metadata": {},
   "outputs": [
    {
     "data": {
      "text/html": [
       "<div><i>Table length=10</i>\n",
       "<table id=\"table47806290749776\" class=\"table-striped table-bordered table-condensed\">\n",
       "<thead><tr><th>name</th><th>host</th><th>RA</th><th>Dec</th><th>Rproj</th><th>gmag</th><th>e_gmag</th><th>rimag</th><th>e_rimag</th><th>Mgmag</th><th>MVmag</th><th>e_MVmag</th><th>log_m_star</th><th>e_log_m_star</th><th>mu0V</th><th>e_mu0V</th><th>re</th><th>e_re</th><th>ETG</th><th>Confirmed</th><th>Psat</th><th>Filt</th><th>Tel</th><th>Bad</th></tr></thead>\n",
       "<thead><tr><th>str14</th><th>str7</th><th>float64</th><th>float64</th><th>float64</th><th>float64</th><th>float64</th><th>float64</th><th>float64</th><th>float64</th><th>float64</th><th>float64</th><th>float64</th><th>float64</th><th>float64</th><th>float64</th><th>float64</th><th>float64</th><th>str5</th><th>str5</th><th>float64</th><th>str2</th><th>str9</th><th>str3</th></tr></thead>\n",
       "<tr><td>dw0036m2828</td><td>NGC253</td><td>9.1273</td><td>-28.4701</td><td>250.4</td><td>18.67</td><td>0.11</td><td>18.47</td><td>0.11</td><td>-9.08</td><td>-9.21</td><td>0.11</td><td>5.23</td><td>0.13</td><td>24.39</td><td>0.14</td><td>311.7</td><td>25.8</td><td>False</td><td>False</td><td>0.05</td><td>gr</td><td>DECALS</td><td>--</td></tr>\n",
       "<tr><td>dw0047m2623</td><td>NGC253</td><td>11.8939</td><td>-26.3898</td><td>68.5</td><td>18.89</td><td>0.11</td><td>18.33</td><td>0.11</td><td>-8.86</td><td>-9.19</td><td>0.11</td><td>5.77</td><td>0.14</td><td>26.59</td><td>0.15</td><td>453.9</td><td>39.8</td><td>True</td><td>True</td><td>1.0</td><td>gr</td><td>DECALS</td><td>--</td></tr>\n",
       "<tr><td>dw0050m2444</td><td>NGC253</td><td>12.5749</td><td>-24.7367</td><td>51.7</td><td>18.22</td><td>0.1</td><td>17.95</td><td>0.1</td><td>-9.53</td><td>-9.7</td><td>0.1</td><td>5.53</td><td>0.13</td><td>27.91</td><td>0.13</td><td>1539.2</td><td>115.0</td><td>True</td><td>True</td><td>1.0</td><td>gr</td><td>DECALS</td><td>--</td></tr>\n",
       "<tr><td>dw0137p1607</td><td>NGC628</td><td>24.4156</td><td>16.132</td><td>71.5</td><td>20.2</td><td>0.14</td><td>19.57</td><td>0.13</td><td>-9.75</td><td>-10.12</td><td>0.15</td><td>6.24</td><td>0.16</td><td>25.96</td><td>0.21</td><td>489.2</td><td>64.2</td><td>True</td><td>True</td><td>1.0</td><td>gr</td><td>DECALS</td><td>--</td></tr>\n",
       "<tr><td>dw0143p1541</td><td>NGC628</td><td>25.9012</td><td>15.6937</td><td>284.0</td><td>15.75</td><td>0.09</td><td>15.35</td><td>0.09</td><td>-14.2</td><td>-14.44</td><td>0.09</td><td>7.62</td><td>0.13</td><td>24.46</td><td>0.11</td><td>1437.6</td><td>76.0</td><td>False</td><td>True</td><td>1.0</td><td>gr</td><td>DECALS</td><td>--</td></tr>\n",
       "<tr><td>SGR</td><td>MW</td><td>283.8292</td><td>-30.5453</td><td>18.7</td><td>--</td><td>--</td><td>--</td><td>--</td><td>--</td><td>-13.5</td><td>0.3</td><td>7.52</td><td>0.22</td><td>25.2</td><td>0.3</td><td>2616.7</td><td>91.8</td><td>True</td><td>True</td><td>1.0</td><td>--</td><td>MCCONN</td><td>--</td></tr>\n",
       "<tr><td>dw1859m6402</td><td>NGC6744</td><td>284.8605</td><td>-64.0396</td><td>179.4</td><td>19.67</td><td>0.13</td><td>19.01</td><td>0.12</td><td>-10.09</td><td>-10.34</td><td>0.13</td><td>6.05</td><td>0.13</td><td>24.67</td><td>0.18</td><td>285.4</td><td>31.3</td><td>True</td><td>False</td><td>0.45</td><td>gi</td><td>DECAM</td><td>--</td></tr>\n",
       "<tr><td>dw1901m6315</td><td>NGC6744</td><td>285.3732</td><td>-63.2594</td><td>171.6</td><td>17.96</td><td>0.1</td><td>17.46</td><td>0.1</td><td>-11.8</td><td>-11.99</td><td>0.1</td><td>6.53</td><td>0.12</td><td>25.37</td><td>0.13</td><td>778.2</td><td>55.0</td><td>True</td><td>False</td><td>0.95</td><td>gi</td><td>DECAM</td><td>--</td></tr>\n",
       "<tr><td>dw1903m6405</td><td>NGC6744</td><td>285.9146</td><td>-64.0985</td><td>111.2</td><td>20.39</td><td>0.15</td><td>19.86</td><td>0.15</td><td>-9.37</td><td>-9.57</td><td>0.16</td><td>5.59</td><td>0.15</td><td>25.29</td><td>0.23</td><td>240.1</td><td>33.4</td><td>True</td><td>False</td><td>0.65</td><td>gi</td><td>DECAM</td><td>--</td></tr>\n",
       "<tr><td>dw1912m6432</td><td>NGC6744</td><td>288.0953</td><td>-64.5419</td><td>115.8</td><td>19.68</td><td>0.13</td><td>19.06</td><td>0.12</td><td>-10.08</td><td>-10.32</td><td>0.13</td><td>5.99</td><td>0.13</td><td>24.34</td><td>0.18</td><td>255.0</td><td>28.0</td><td>True</td><td>False</td><td>0.4</td><td>gi</td><td>DECAM</td><td>--</td></tr>\n",
       "</table></div>"
      ],
      "text/plain": [
       "<Table length=10>\n",
       "    name      host     RA      Dec     Rproj    gmag   e_gmag ...  ETG  Confirmed   Psat  Filt  Tel   Bad \n",
       "   str14      str7  float64  float64  float64 float64 float64 ...  str5    str5   float64 str2  str9  str3\n",
       "----------- ------- -------- -------- ------- ------- ------- ... ----- --------- ------- ---- ------ ----\n",
       "dw0036m2828  NGC253   9.1273 -28.4701   250.4   18.67    0.11 ... False     False    0.05   gr DECALS   --\n",
       "dw0047m2623  NGC253  11.8939 -26.3898    68.5   18.89    0.11 ...  True      True     1.0   gr DECALS   --\n",
       "dw0050m2444  NGC253  12.5749 -24.7367    51.7   18.22     0.1 ...  True      True     1.0   gr DECALS   --\n",
       "dw0137p1607  NGC628  24.4156   16.132    71.5    20.2    0.14 ...  True      True     1.0   gr DECALS   --\n",
       "dw0143p1541  NGC628  25.9012  15.6937   284.0   15.75    0.09 ... False      True     1.0   gr DECALS   --\n",
       "        SGR      MW 283.8292 -30.5453    18.7      --      -- ...  True      True     1.0   -- MCCONN   --\n",
       "dw1859m6402 NGC6744 284.8605 -64.0396   179.4   19.67    0.13 ...  True     False    0.45   gi  DECAM   --\n",
       "dw1901m6315 NGC6744 285.3732 -63.2594   171.6   17.96     0.1 ...  True     False    0.95   gi  DECAM   --\n",
       "dw1903m6405 NGC6744 285.9146 -64.0985   111.2   20.39    0.15 ...  True     False    0.65   gi  DECAM   --\n",
       "dw1912m6432 NGC6744 288.0953 -64.5419   115.8   19.68    0.13 ...  True     False     0.4   gi  DECAM   --"
      ]
     },
     "execution_count": 29,
     "metadata": {},
     "output_type": "execute_result"
    }
   ],
   "source": [
    "flag = ((cat['RA'] / 15 > 15) | (cat['RA'] / 15 < 3)) & (cat['Dec'] < 20)\n",
    "cat = cat[flag]\n",
    "flag = (cat['mu0V'].data.data > 24.3) & (cat['re'].data.data > 1.5)\n",
    "cat = cat[flag]\n",
    "cat.sort('RA')\n",
    "cat"
   ]
  },
  {
   "cell_type": "code",
   "execution_count": 30,
   "id": "a2963b6f",
   "metadata": {},
   "outputs": [
    {
     "data": {
      "text/html": [
       "<div><i>Table length=10</i>\n",
       "<table id=\"table47806295552832\" class=\"table-striped table-bordered table-condensed\">\n",
       "<thead><tr><th>RA</th><th>Dec</th></tr></thead>\n",
       "<thead><tr><th>float64</th><th>float64</th></tr></thead>\n",
       "<tr><td>9.1273</td><td>-28.4701</td></tr>\n",
       "<tr><td>11.8939</td><td>-26.3898</td></tr>\n",
       "<tr><td>12.5749</td><td>-24.7367</td></tr>\n",
       "<tr><td>24.4156</td><td>16.132</td></tr>\n",
       "<tr><td>25.9012</td><td>15.6937</td></tr>\n",
       "<tr><td>283.8292</td><td>-30.5453</td></tr>\n",
       "<tr><td>284.8605</td><td>-64.0396</td></tr>\n",
       "<tr><td>285.3732</td><td>-63.2594</td></tr>\n",
       "<tr><td>285.9146</td><td>-64.0985</td></tr>\n",
       "<tr><td>288.0953</td><td>-64.5419</td></tr>\n",
       "</table></div>"
      ],
      "text/plain": [
       "<Table length=10>\n",
       "   RA      Dec   \n",
       "float64  float64 \n",
       "-------- --------\n",
       "  9.1273 -28.4701\n",
       " 11.8939 -26.3898\n",
       " 12.5749 -24.7367\n",
       " 24.4156   16.132\n",
       " 25.9012  15.6937\n",
       "283.8292 -30.5453\n",
       "284.8605 -64.0396\n",
       "285.3732 -63.2594\n",
       "285.9146 -64.0985\n",
       "288.0953 -64.5419"
      ]
     },
     "execution_count": 30,
     "metadata": {},
     "output_type": "execute_result"
    }
   ],
   "source": [
    "cat[['RA', 'Dec']]"
   ]
  },
  {
   "cell_type": "code",
   "execution_count": 8,
   "id": "ffb3a53d",
   "metadata": {},
   "outputs": [],
   "source": [
    "import astropy.units as u\n",
    "from astropy.time import Time\n",
    "from astropy.coordinates import SkyCoord, EarthLocation, AltAz\n",
    "\n",
    "from astropy.coordinates import SkyCoord\n",
    "from astroplan import FixedTarget\n",
    "from astroplan import Observer\n",
    "from astroplan.plots import plot_airmass \n",
    "observer = Observer.at_site('Las Campanas Observatory', timezone=\"US/Eastern\")"
   ]
  },
  {
   "cell_type": "code",
   "execution_count": 31,
   "id": "7a2e011e",
   "metadata": {},
   "outputs": [
    {
     "data": {
      "text/html": [
       "<div><i>Table length=10</i>\n",
       "<table id=\"table47806290749776\" class=\"table-striped table-bordered table-condensed\">\n",
       "<thead><tr><th>name</th><th>host</th><th>RA</th><th>Dec</th><th>Rproj</th><th>gmag</th><th>e_gmag</th><th>rimag</th><th>e_rimag</th><th>Mgmag</th><th>MVmag</th><th>e_MVmag</th><th>log_m_star</th><th>e_log_m_star</th><th>mu0V</th><th>e_mu0V</th><th>re</th><th>e_re</th><th>ETG</th><th>Confirmed</th><th>Psat</th><th>Filt</th><th>Tel</th><th>Bad</th></tr></thead>\n",
       "<thead><tr><th>str14</th><th>str7</th><th>float64</th><th>float64</th><th>float64</th><th>float64</th><th>float64</th><th>float64</th><th>float64</th><th>float64</th><th>float64</th><th>float64</th><th>float64</th><th>float64</th><th>float64</th><th>float64</th><th>float64</th><th>float64</th><th>str5</th><th>str5</th><th>float64</th><th>str2</th><th>str9</th><th>str3</th></tr></thead>\n",
       "<tr><td>dw0036m2828</td><td>NGC253</td><td>9.1273</td><td>-28.4701</td><td>250.4</td><td>18.67</td><td>0.11</td><td>18.47</td><td>0.11</td><td>-9.08</td><td>-9.21</td><td>0.11</td><td>5.23</td><td>0.13</td><td>24.39</td><td>0.14</td><td>311.7</td><td>25.8</td><td>False</td><td>False</td><td>0.05</td><td>gr</td><td>DECALS</td><td>--</td></tr>\n",
       "<tr><td>dw0047m2623</td><td>NGC253</td><td>11.8939</td><td>-26.3898</td><td>68.5</td><td>18.89</td><td>0.11</td><td>18.33</td><td>0.11</td><td>-8.86</td><td>-9.19</td><td>0.11</td><td>5.77</td><td>0.14</td><td>26.59</td><td>0.15</td><td>453.9</td><td>39.8</td><td>True</td><td>True</td><td>1.0</td><td>gr</td><td>DECALS</td><td>--</td></tr>\n",
       "<tr><td>dw0050m2444</td><td>NGC253</td><td>12.5749</td><td>-24.7367</td><td>51.7</td><td>18.22</td><td>0.1</td><td>17.95</td><td>0.1</td><td>-9.53</td><td>-9.7</td><td>0.1</td><td>5.53</td><td>0.13</td><td>27.91</td><td>0.13</td><td>1539.2</td><td>115.0</td><td>True</td><td>True</td><td>1.0</td><td>gr</td><td>DECALS</td><td>--</td></tr>\n",
       "<tr><td>dw0137p1607</td><td>NGC628</td><td>24.4156</td><td>16.132</td><td>71.5</td><td>20.2</td><td>0.14</td><td>19.57</td><td>0.13</td><td>-9.75</td><td>-10.12</td><td>0.15</td><td>6.24</td><td>0.16</td><td>25.96</td><td>0.21</td><td>489.2</td><td>64.2</td><td>True</td><td>True</td><td>1.0</td><td>gr</td><td>DECALS</td><td>--</td></tr>\n",
       "<tr><td>dw0143p1541</td><td>NGC628</td><td>25.9012</td><td>15.6937</td><td>284.0</td><td>15.75</td><td>0.09</td><td>15.35</td><td>0.09</td><td>-14.2</td><td>-14.44</td><td>0.09</td><td>7.62</td><td>0.13</td><td>24.46</td><td>0.11</td><td>1437.6</td><td>76.0</td><td>False</td><td>True</td><td>1.0</td><td>gr</td><td>DECALS</td><td>--</td></tr>\n",
       "<tr><td>SGR</td><td>MW</td><td>283.8292</td><td>-30.5453</td><td>18.7</td><td>--</td><td>--</td><td>--</td><td>--</td><td>--</td><td>-13.5</td><td>0.3</td><td>7.52</td><td>0.22</td><td>25.2</td><td>0.3</td><td>2616.7</td><td>91.8</td><td>True</td><td>True</td><td>1.0</td><td>--</td><td>MCCONN</td><td>--</td></tr>\n",
       "<tr><td>dw1859m6402</td><td>NGC6744</td><td>284.8605</td><td>-64.0396</td><td>179.4</td><td>19.67</td><td>0.13</td><td>19.01</td><td>0.12</td><td>-10.09</td><td>-10.34</td><td>0.13</td><td>6.05</td><td>0.13</td><td>24.67</td><td>0.18</td><td>285.4</td><td>31.3</td><td>True</td><td>False</td><td>0.45</td><td>gi</td><td>DECAM</td><td>--</td></tr>\n",
       "<tr><td>dw1901m6315</td><td>NGC6744</td><td>285.3732</td><td>-63.2594</td><td>171.6</td><td>17.96</td><td>0.1</td><td>17.46</td><td>0.1</td><td>-11.8</td><td>-11.99</td><td>0.1</td><td>6.53</td><td>0.12</td><td>25.37</td><td>0.13</td><td>778.2</td><td>55.0</td><td>True</td><td>False</td><td>0.95</td><td>gi</td><td>DECAM</td><td>--</td></tr>\n",
       "<tr><td>dw1903m6405</td><td>NGC6744</td><td>285.9146</td><td>-64.0985</td><td>111.2</td><td>20.39</td><td>0.15</td><td>19.86</td><td>0.15</td><td>-9.37</td><td>-9.57</td><td>0.16</td><td>5.59</td><td>0.15</td><td>25.29</td><td>0.23</td><td>240.1</td><td>33.4</td><td>True</td><td>False</td><td>0.65</td><td>gi</td><td>DECAM</td><td>--</td></tr>\n",
       "<tr><td>dw1912m6432</td><td>NGC6744</td><td>288.0953</td><td>-64.5419</td><td>115.8</td><td>19.68</td><td>0.13</td><td>19.06</td><td>0.12</td><td>-10.08</td><td>-10.32</td><td>0.13</td><td>5.99</td><td>0.13</td><td>24.34</td><td>0.18</td><td>255.0</td><td>28.0</td><td>True</td><td>False</td><td>0.4</td><td>gi</td><td>DECAM</td><td>--</td></tr>\n",
       "</table></div>"
      ],
      "text/plain": [
       "<Table length=10>\n",
       "    name      host     RA      Dec     Rproj    gmag   e_gmag ...  ETG  Confirmed   Psat  Filt  Tel   Bad \n",
       "   str14      str7  float64  float64  float64 float64 float64 ...  str5    str5   float64 str2  str9  str3\n",
       "----------- ------- -------- -------- ------- ------- ------- ... ----- --------- ------- ---- ------ ----\n",
       "dw0036m2828  NGC253   9.1273 -28.4701   250.4   18.67    0.11 ... False     False    0.05   gr DECALS   --\n",
       "dw0047m2623  NGC253  11.8939 -26.3898    68.5   18.89    0.11 ...  True      True     1.0   gr DECALS   --\n",
       "dw0050m2444  NGC253  12.5749 -24.7367    51.7   18.22     0.1 ...  True      True     1.0   gr DECALS   --\n",
       "dw0137p1607  NGC628  24.4156   16.132    71.5    20.2    0.14 ...  True      True     1.0   gr DECALS   --\n",
       "dw0143p1541  NGC628  25.9012  15.6937   284.0   15.75    0.09 ... False      True     1.0   gr DECALS   --\n",
       "        SGR      MW 283.8292 -30.5453    18.7      --      -- ...  True      True     1.0   -- MCCONN   --\n",
       "dw1859m6402 NGC6744 284.8605 -64.0396   179.4   19.67    0.13 ...  True     False    0.45   gi  DECAM   --\n",
       "dw1901m6315 NGC6744 285.3732 -63.2594   171.6   17.96     0.1 ...  True     False    0.95   gi  DECAM   --\n",
       "dw1903m6405 NGC6744 285.9146 -64.0985   111.2   20.39    0.15 ...  True     False    0.65   gi  DECAM   --\n",
       "dw1912m6432 NGC6744 288.0953 -64.5419   115.8   19.68    0.13 ...  True     False     0.4   gi  DECAM   --"
      ]
     },
     "execution_count": 31,
     "metadata": {},
     "output_type": "execute_result"
    }
   ],
   "source": [
    "cat"
   ]
  },
  {
   "cell_type": "code",
   "execution_count": 32,
   "id": "15fd2dbb",
   "metadata": {},
   "outputs": [],
   "source": [
    "cat = cat[-4:]\n",
    "objs = []\n",
    "for i in range(len(cat)):\n",
    "    coord = SkyCoord(cat['RA'][i], cat['Dec'][i], unit='deg')\n",
    "#     obj = FixedTarget(name=str(cat['viz-id'][i]), coord=coord)\n",
    "    obj = FixedTarget(name=None, coord=coord)\n",
    "    objs.append(obj)"
   ]
  },
  {
   "cell_type": "code",
   "execution_count": 33,
   "id": "8bde6b36",
   "metadata": {},
   "outputs": [],
   "source": [
    "cat.sort('mu0V')"
   ]
  },
  {
   "cell_type": "code",
   "execution_count": 34,
   "id": "ec51533b",
   "metadata": {},
   "outputs": [
    {
     "data": {
      "text/html": [
       "<div><i>Table length=4</i>\n",
       "<table id=\"table47806290749536\" class=\"table-striped table-bordered table-condensed\">\n",
       "<thead><tr><th>name</th><th>host</th><th>RA</th><th>Dec</th><th>Rproj</th><th>gmag</th><th>e_gmag</th><th>rimag</th><th>e_rimag</th><th>Mgmag</th><th>MVmag</th><th>e_MVmag</th><th>log_m_star</th><th>e_log_m_star</th><th>mu0V</th><th>e_mu0V</th><th>re</th><th>e_re</th><th>ETG</th><th>Confirmed</th><th>Psat</th><th>Filt</th><th>Tel</th><th>Bad</th></tr></thead>\n",
       "<thead><tr><th>str14</th><th>str7</th><th>float64</th><th>float64</th><th>float64</th><th>float64</th><th>float64</th><th>float64</th><th>float64</th><th>float64</th><th>float64</th><th>float64</th><th>float64</th><th>float64</th><th>float64</th><th>float64</th><th>float64</th><th>float64</th><th>str5</th><th>str5</th><th>float64</th><th>str2</th><th>str9</th><th>str3</th></tr></thead>\n",
       "<tr><td>dw1912m6432</td><td>NGC6744</td><td>288.0953</td><td>-64.5419</td><td>115.8</td><td>19.68</td><td>0.13</td><td>19.06</td><td>0.12</td><td>-10.08</td><td>-10.32</td><td>0.13</td><td>5.99</td><td>0.13</td><td>24.34</td><td>0.18</td><td>255.0</td><td>28.0</td><td>True</td><td>False</td><td>0.4</td><td>gi</td><td>DECAM</td><td>--</td></tr>\n",
       "<tr><td>dw1859m6402</td><td>NGC6744</td><td>284.8605</td><td>-64.0396</td><td>179.4</td><td>19.67</td><td>0.13</td><td>19.01</td><td>0.12</td><td>-10.09</td><td>-10.34</td><td>0.13</td><td>6.05</td><td>0.13</td><td>24.67</td><td>0.18</td><td>285.4</td><td>31.3</td><td>True</td><td>False</td><td>0.45</td><td>gi</td><td>DECAM</td><td>--</td></tr>\n",
       "<tr><td>dw1903m6405</td><td>NGC6744</td><td>285.9146</td><td>-64.0985</td><td>111.2</td><td>20.39</td><td>0.15</td><td>19.86</td><td>0.15</td><td>-9.37</td><td>-9.57</td><td>0.16</td><td>5.59</td><td>0.15</td><td>25.29</td><td>0.23</td><td>240.1</td><td>33.4</td><td>True</td><td>False</td><td>0.65</td><td>gi</td><td>DECAM</td><td>--</td></tr>\n",
       "<tr><td>dw1901m6315</td><td>NGC6744</td><td>285.3732</td><td>-63.2594</td><td>171.6</td><td>17.96</td><td>0.1</td><td>17.46</td><td>0.1</td><td>-11.8</td><td>-11.99</td><td>0.1</td><td>6.53</td><td>0.12</td><td>25.37</td><td>0.13</td><td>778.2</td><td>55.0</td><td>True</td><td>False</td><td>0.95</td><td>gi</td><td>DECAM</td><td>--</td></tr>\n",
       "</table></div>"
      ],
      "text/plain": [
       "<Table length=4>\n",
       "    name      host     RA      Dec     Rproj    gmag   e_gmag ... ETG  Confirmed   Psat  Filt  Tel  Bad \n",
       "   str14      str7  float64  float64  float64 float64 float64 ... str5    str5   float64 str2  str9 str3\n",
       "----------- ------- -------- -------- ------- ------- ------- ... ---- --------- ------- ---- ----- ----\n",
       "dw1912m6432 NGC6744 288.0953 -64.5419   115.8   19.68    0.13 ... True     False     0.4   gi DECAM   --\n",
       "dw1859m6402 NGC6744 284.8605 -64.0396   179.4   19.67    0.13 ... True     False    0.45   gi DECAM   --\n",
       "dw1903m6405 NGC6744 285.9146 -64.0985   111.2   20.39    0.15 ... True     False    0.65   gi DECAM   --\n",
       "dw1901m6315 NGC6744 285.3732 -63.2594   171.6   17.96     0.1 ... True     False    0.95   gi DECAM   --"
      ]
     },
     "execution_count": 34,
     "metadata": {},
     "output_type": "execute_result"
    }
   ],
   "source": [
    "cat"
   ]
  },
  {
   "cell_type": "code",
   "execution_count": null,
   "id": "3cbdb712",
   "metadata": {},
   "outputs": [],
   "source": [
    "19.68 - 19.06 # dw1912m6432"
   ]
  },
  {
   "cell_type": "code",
   "execution_count": null,
   "id": "8d9a7b4b",
   "metadata": {},
   "outputs": [],
   "source": [
    "19.67 - 19.01 # dw1859m6402"
   ]
  },
  {
   "cell_type": "code",
   "execution_count": null,
   "id": "e8c6c337",
   "metadata": {},
   "outputs": [],
   "source": [
    "20.39 - 19.86 # dw1903m6405"
   ]
  },
  {
   "cell_type": "code",
   "execution_count": null,
   "id": "f30a991f",
   "metadata": {},
   "outputs": [],
   "source": []
  },
  {
   "cell_type": "code",
   "execution_count": 35,
   "id": "528a8350",
   "metadata": {},
   "outputs": [],
   "source": [
    "cat = cat[:-1]"
   ]
  },
  {
   "cell_type": "code",
   "execution_count": 36,
   "id": "93bb22ce",
   "metadata": {},
   "outputs": [
    {
     "name": "stderr",
     "output_type": "stream",
     "text": [
      "No artists with labels found to put in legend.  Note that artists whose label start with an underscore are ignored when legend() is called with no argument.\n"
     ]
    },
    {
     "data": {
      "text/plain": [
       "Text(0.5, 1.0, 'UDG observation')"
      ]
     },
     "execution_count": 36,
     "metadata": {},
     "output_type": "execute_result"
    },
    {
     "data": {
      "image/png": "[encoded data removed]",
      "text/plain": [
       "<Figure size 600x500 with 1 Axes>"
      ]
     },
     "metadata": {
      "needs_background": "light"
     },
     "output_type": "display_data"
    }
   ],
   "source": [
    "time = Time('2022-08-29 02:00')\n",
    "sunset_time = observer.sun_set_time(time, which='nearest')\n",
    "sunrise_time = observer.sun_rise_time(time, which='nearest')\n",
    "\n",
    "observe_time = sunset_time + np.linspace(0, (sunrise_time - sunset_time).to(u.hour).value, 50) * u.hour\n",
    "\n",
    "for i in range(len(cat)):\n",
    "    plot_airmass(objs[i], observer, observe_time,\n",
    "#                  style_kwargs={'color': colors[i]}, \n",
    "                 use_local_tz=True)\n",
    "# plot_airmass(objs[1], observer, observe_time)\n",
    "# plot_airmass(objs[2], observer, observe_time)\n",
    "\n",
    "plt.axvline(23)\n",
    "plt.legend(shadow=True, loc=2)\n",
    "plt.title('UDG observation')"
   ]
  },
  {
   "cell_type": "code",
   "execution_count": 38,
   "id": "3e10cd3a",
   "metadata": {},
   "outputs": [],
   "source": [
    "cat.write('/tigress/jiaxuanl/public_html/galary/catalogs/magellan_proposal/elves_objs.fits', overwrite=True)"
   ]
  },
  {
   "cell_type": "code",
   "execution_count": null,
   "id": "5a969739",
   "metadata": {},
   "outputs": [],
   "source": []
  }
 ],
 "metadata": {
  "kernelspec": {
   "display_name": "Python 3 (ipykernel)",
   "language": "python",
   "name": "python3"
  },
  "language_info": {
   "codemirror_mode": {
    "name": "ipython",
    "version": 3
   },
   "file_extension": ".py",
   "mimetype": "text/x-python",
   "name": "python",
   "nbconvert_exporter": "python",
   "pygments_lexer": "ipython3",
   "version": "3.10.4"
  }
 },
 "nbformat": 4,
 "nbformat_minor": 5
}
