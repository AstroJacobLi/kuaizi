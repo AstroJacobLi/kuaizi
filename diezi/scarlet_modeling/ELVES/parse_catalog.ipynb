{
 "cells": [
  {
   "cell_type": "markdown",
   "id": "ef708e19",
   "metadata": {},
   "source": [
    "ELVES paper: https://iopscience.iop.org/article/10.3847/1538-4357/ac6fd7/meta#apjac6fd7t9"
   ]
  },
  {
   "cell_type": "code",
   "execution_count": 1,
   "id": "cead74f5",
   "metadata": {},
   "outputs": [],
   "source": [
    "# Import packages\n",
    "%load_ext autoreload\n",
    "%autoreload 2\n",
    "\n",
    "import warnings\n",
    "warnings.filterwarnings('ignore')"
   ]
  },
  {
   "cell_type": "code",
   "execution_count": 2,
   "id": "f63743b6",
   "metadata": {},
   "outputs": [],
   "source": [
    "import numpy as np\n",
    "import matplotlib.pyplot as plt\n",
    "from astropy.table import Table, hstack, vstack"
   ]
  },
  {
   "cell_type": "code",
   "execution_count": 3,
   "id": "a6889aa4",
   "metadata": {},
   "outputs": [],
   "source": [
    "import kuaizi as kz"
   ]
  },
  {
   "cell_type": "code",
   "execution_count": 4,
   "id": "f93be38a",
   "metadata": {},
   "outputs": [],
   "source": [
    "env_dict = {'project': 'HSC', 'name': 'LSBG', 'data_dir': '/scratch/gpfs/jiaxuanl/Data'}\n",
    "kz.utils.set_env(**env_dict)\n",
    "kz.set_matplotlib(style='JL', usetex=True, dpi=100, fontsize=16)"
   ]
  },
  {
   "cell_type": "markdown",
   "id": "e58ced12",
   "metadata": {},
   "source": [
    "Table 4: Basic Parameters"
   ]
  },
  {
   "cell_type": "raw",
   "id": "d9d53716",
   "metadata": {},
   "source": [
    "   1- 14 A14    ---           Name       Dwarf galaxy name\n",
    "  16- 22 A7     ---           Host       Host galaxy name\n",
    "  24- 31 F8.4   deg           RAdeg      Right Ascension, decimal degrees (J2000)\n",
    "  33- 40 F8.4   deg           DEdeg      Declination, decimal degrees (J2000)\n",
    "  42- 46 F5.1   kpc           Rproj      Projected, on-sky separation from host\n",
    "  48- 52 F5.2   mag           gmag       ?=\"\" g-band magnitude\n",
    "  54- 57 F4.2   mag         e_gmag       ?=\"\" Uncertainty in gmag\n",
    "  59- 63 F5.2   mag           rimag      ?=\"\" r/i-band magnitude\n",
    "  65- 68 F4.2   mag         e_rimag      ?=\"\" Uncertainty in rimag\n",
    "  70- 75 F6.2   mag           Mgmag      ?=\"\" Absolute g-band magnitude\n",
    "  77- 82 F6.2   mag           MVmag      Absolute V-band magnitude\n",
    "  84- 87 F4.2   mag         e_MVmag      ?=\"\" Uncertainty in MVmag\n",
    "  89- 93 F5.2   [Msun]        logMstar   log, stellar mass, solar units\n",
    "  95- 98 F4.2   [Msun]      e_logMstar   ?=\"\" Uncertainty in logMstar\n",
    " 100-104 F5.2   mag/arcsec2   mu0V       ?=\"\" central V-band surface brightness\n",
    " 106-109 F4.2   mag/arcsec2 e_mu0V       ?=\"\" Uncertainty in mu0V\n",
    " 111-117 F7.1   pc            re         ?=\"\" effective radius, pc\n",
    " 119-123 F5.1   pc          e_re         ?=\"\" Uncertainty in re\n",
    " 125-129 A5     ---           ETG        Morphological classification, early-type (True), late-type (False)\n",
    " 131-135 A5     ---           Confirmed  Flag indicating whether candidate has been confirmed with a distance measurement\n",
    " 137-140 F4.2   ---           Psat       Likelihood of unconfirmed satellite (1)\n",
    " 142-145 A4     ---           Filt       Filter list confirming bands for gmag, rimag\n",
    " 147-155 A9     ---           Tel        Telescope\n",
    " 157-159 A3     ---           Bad        Bad photometry flag"
   ]
  },
  {
   "cell_type": "code",
   "execution_count": 5,
   "id": "509c927d",
   "metadata": {},
   "outputs": [],
   "source": [
    "cat = Table.read('./Catalog/ELVES/elves_sat.txt', \n",
    "                  format='ascii.fixed_width_no_header',\n",
    "                 col_starts=(0, 15, 23, 32, 41, 47, 53, 58, 64, 69, 76,\n",
    "                             83, 88, 94, 99, 105, 110, 118, 124, 130, \n",
    "                             136, 141, 146, 156),\n",
    "                 )\n",
    "new_cols = ['name', 'host', 'RA', 'Dec', 'Rproj', 'gmag', 'e_gmag', \n",
    "            'rimag', 'e_rimag', 'Mgmag', 'MVmag', 'e_MVmag', 'log_m_star', \n",
    "            'e_log_m_star', 'mu0V', 'e_mu0V', 're', 'e_re', 'ETG', 'Confirmed', 'Psat', 'Filt', 'Tel', 'Bad']\n",
    "\n",
    "cat.rename_columns(cat.colnames, new_cols)"
   ]
  },
  {
   "cell_type": "markdown",
   "id": "b458146e",
   "metadata": {},
   "source": [
    "### Split into Scott's photometry + McConnachie's photometry (only V-band). For the latter, we calculate g-band photometry based on an average g-V from the former part. "
   ]
  },
  {
   "cell_type": "code",
   "execution_count": 8,
   "id": "873486a3",
   "metadata": {},
   "outputs": [],
   "source": [
    "scott_cat = cat[cat['Tel'] != 'MCCONN']\n",
    "gV = scott_cat['Mgmag'] - scott_cat['MVmag']"
   ]
  },
  {
   "cell_type": "code",
   "execution_count": 16,
   "id": "f44fa376",
   "metadata": {},
   "outputs": [
    {
     "data": {
      "text/plain": [
       "(0.28999999999999915, 0.27654911838790924)"
      ]
     },
     "execution_count": 16,
     "metadata": {},
     "output_type": "execute_result"
    }
   ],
   "source": [
    "np.median(gV), np.mean(gV)"
   ]
  },
  {
   "cell_type": "code",
   "execution_count": 33,
   "id": "7428c525",
   "metadata": {},
   "outputs": [],
   "source": [
    "# cat = cat[cat['Tel'] != 'MCCONN']"
   ]
  },
  {
   "cell_type": "code",
   "execution_count": 18,
   "id": "e01e1e9f",
   "metadata": {},
   "outputs": [],
   "source": [
    "dist = 10**((cat['gmag'] - cat['Mgmag'] - 25) / 5)\n",
    "re_ang = 206265 * cat['re'] / dist * 1e-6"
   ]
  },
  {
   "cell_type": "code",
   "execution_count": 19,
   "id": "dbe3112f",
   "metadata": {},
   "outputs": [],
   "source": [
    "SB_eff_g = cat['gmag'] + 2.5 * np.log10(2 * np.pi * re_ang**2)"
   ]
  },
  {
   "cell_type": "code",
   "execution_count": 20,
   "id": "a64af41c",
   "metadata": {},
   "outputs": [],
   "source": [
    "cat['SB_eff_g'] = SB_eff_g\n",
    "cat['dist'] = dist"
   ]
  },
  {
   "cell_type": "code",
   "execution_count": 22,
   "id": "0666cb17",
   "metadata": {},
   "outputs": [
    {
     "data": {
      "text/html": [
       "<div><i>Table length=15</i>\n",
       "<table id=\"table47052580893312\" class=\"table-striped table-bordered table-condensed\">\n",
       "<thead><tr><th>name</th><th>host</th><th>RA</th><th>Dec</th><th>Rproj</th><th>gmag</th><th>e_gmag</th><th>rimag</th><th>e_rimag</th><th>Mgmag</th><th>MVmag</th><th>e_MVmag</th><th>log_m_star</th><th>e_log_m_star</th><th>mu0V</th><th>e_mu0V</th><th>re</th><th>e_re</th><th>ETG</th><th>Confirmed</th><th>Psat</th><th>Filt</th><th>Tel</th><th>Bad</th><th>SB_eff_g</th><th>dist</th></tr></thead>\n",
       "<thead><tr><th>str14</th><th>str7</th><th>float64</th><th>float64</th><th>float64</th><th>float64</th><th>float64</th><th>float64</th><th>float64</th><th>float64</th><th>float64</th><th>float64</th><th>float64</th><th>float64</th><th>float64</th><th>float64</th><th>float64</th><th>float64</th><th>str5</th><th>str5</th><th>float64</th><th>str2</th><th>str9</th><th>str3</th><th>float64</th><th>float64</th></tr></thead>\n",
       "<tr><td>M33</td><td>M31</td><td>23.4583</td><td>30.6603</td><td>205.8</td><td>--</td><td>--</td><td>--</td><td>--</td><td>--</td><td>-18.84</td><td>0.1</td><td>9.51</td><td>0.22</td><td>25.46</td><td>0.6</td><td>--</td><td>--</td><td>False</td><td>True</td><td>1.0</td><td>--</td><td>MCCONN</td><td>--</td><td>--</td><td>--</td></tr>\n",
       "<tr><td>NGC205</td><td>M31</td><td>10.0917</td><td>41.6853</td><td>8.3</td><td>--</td><td>--</td><td>--</td><td>--</td><td>--</td><td>-16.48</td><td>0.1</td><td>8.78</td><td>0.22</td><td>19.2</td><td>--</td><td>589.7</td><td>24.0</td><td>True</td><td>True</td><td>1.0</td><td>--</td><td>MCCONN</td><td>--</td><td>--</td><td>--</td></tr>\n",
       "<tr><td>M32</td><td>M31</td><td>10.6708</td><td>40.8653</td><td>5.5</td><td>--</td><td>--</td><td>--</td><td>--</td><td>--</td><td>-16.43</td><td>0.1</td><td>8.76</td><td>0.22</td><td>11.1</td><td>--</td><td>110.1</td><td>11.7</td><td>True</td><td>True</td><td>1.0</td><td>--</td><td>MCCONN</td><td>--</td><td>--</td><td>--</td></tr>\n",
       "<tr><td>NGC147</td><td>M31</td><td>8.3</td><td>48.5089</td><td>101.8</td><td>--</td><td>--</td><td>--</td><td>--</td><td>--</td><td>-14.65</td><td>0.1</td><td>8.01</td><td>0.22</td><td>21.2</td><td>--</td><td>623.4</td><td>--</td><td>True</td><td>True</td><td>1.0</td><td>--</td><td>MCCONN</td><td>--</td><td>--</td><td>--</td></tr>\n",
       "<tr><td>IC10</td><td>M31</td><td>5.0708</td><td>59.3039</td><td>259.0</td><td>--</td><td>--</td><td>--</td><td>--</td><td>--</td><td>-15.0</td><td>0.2</td><td>7.83</td><td>0.22</td><td>24.6</td><td>0.2</td><td>612.3</td><td>--</td><td>False</td><td>True</td><td>1.0</td><td>--</td><td>MCCONN</td><td>--</td><td>--</td><td>--</td></tr>\n",
       "<tr><td>NGC185</td><td>M31</td><td>9.7417</td><td>48.3375</td><td>97.1</td><td>--</td><td>--</td><td>--</td><td>--</td><td>--</td><td>-14.75</td><td>0.1</td><td>8.05</td><td>0.22</td><td>20.8</td><td>--</td><td>457.4</td><td>--</td><td>True</td><td>True</td><td>1.0</td><td>--</td><td>MCCONN</td><td>--</td><td>--</td><td>--</td></tr>\n",
       "<tr><td>andVII</td><td>M31</td><td>351.6292</td><td>50.6758</td><td>226.1</td><td>--</td><td>--</td><td>--</td><td>--</td><td>--</td><td>-13.21</td><td>0.3</td><td>7.39</td><td>0.22</td><td>23.2</td><td>0.2</td><td>775.9</td><td>22.2</td><td>True</td><td>True</td><td>1.0</td><td>--</td><td>MCCONN</td><td>--</td><td>--</td><td>--</td></tr>\n",
       "<tr><td>andXXXII</td><td>M31</td><td>8.9975</td><td>51.5597</td><td>142.5</td><td>--</td><td>--</td><td>--</td><td>--</td><td>--</td><td>-12.25</td><td>0.7</td><td>6.98</td><td>0.22</td><td>26.4</td><td>0.8</td><td>1467.7</td><td>271.0</td><td>True</td><td>True</td><td>1.0</td><td>--</td><td>MCCONN</td><td>--</td><td>--</td><td>--</td></tr>\n",
       "<tr><td>andII</td><td>M31</td><td>19.1242</td><td>33.4192</td><td>142.0</td><td>--</td><td>--</td><td>--</td><td>--</td><td>--</td><td>-12.57</td><td>0.2</td><td>7.12</td><td>0.22</td><td>24.5</td><td>0.2</td><td>1175.2</td><td>37.9</td><td>True</td><td>True</td><td>1.0</td><td>--</td><td>MCCONN</td><td>--</td><td>--</td><td>--</td></tr>\n",
       "<tr><td>andI</td><td>M31</td><td>11.4158</td><td>38.0411</td><td>44.7</td><td>--</td><td>--</td><td>--</td><td>--</td><td>--</td><td>-11.86</td><td>0.1</td><td>6.81</td><td>0.22</td><td>24.7</td><td>0.2</td><td>671.6</td><td>65.0</td><td>True</td><td>True</td><td>1.0</td><td>--</td><td>MCCONN</td><td>--</td><td>--</td><td>--</td></tr>\n",
       "<tr><td>andXXXI</td><td>M31</td><td>344.5679</td><td>41.2911</td><td>277.0</td><td>--</td><td>--</td><td>--</td><td>--</td><td>--</td><td>-11.7</td><td>0.7</td><td>6.74</td><td>0.22</td><td>25.8</td><td>0.8</td><td>926.8</td><td>88.3</td><td>True</td><td>True</td><td>1.0</td><td>--</td><td>MCCONN</td><td>--</td><td>--</td><td>--</td></tr>\n",
       "<tr><td>andIII</td><td>M31</td><td>8.8908</td><td>36.4978</td><td>67.8</td><td>--</td><td>--</td><td>--</td><td>--</td><td>--</td><td>-10.17</td><td>0.3</td><td>6.08</td><td>0.22</td><td>24.8</td><td>0.2</td><td>478.8</td><td>43.5</td><td>True</td><td>True</td><td>1.0</td><td>--</td><td>MCCONN</td><td>--</td><td>--</td><td>--</td></tr>\n",
       "<tr><td>andXXIII</td><td>M31</td><td>22.3408</td><td>38.7189</td><td>127.4</td><td>--</td><td>--</td><td>--</td><td>--</td><td>--</td><td>-10.23</td><td>0.5</td><td>6.11</td><td>0.22</td><td>28.0</td><td>0.5</td><td>1029.2</td><td>44.7</td><td>True</td><td>True</td><td>1.0</td><td>--</td><td>MCCONN</td><td>--</td><td>--</td><td>--</td></tr>\n",
       "<tr><td>andVI</td><td>M31</td><td>357.9429</td><td>24.5825</td><td>280.3</td><td>--</td><td>--</td><td>--</td><td>--</td><td>--</td><td>-11.47</td><td>0.2</td><td>6.64</td><td>0.22</td><td>24.1</td><td>0.2</td><td>524.1</td><td>45.6</td><td>True</td><td>True</td><td>1.0</td><td>--</td><td>MCCONN</td><td>--</td><td>--</td><td>--</td></tr>\n",
       "<tr><td>andXXI</td><td>M31</td><td>358.6987</td><td>42.4708</td><td>123.5</td><td>--</td><td>--</td><td>--</td><td>--</td><td>--</td><td>-9.79</td><td>0.6</td><td>5.92</td><td>0.22</td><td>27.0</td><td>0.4</td><td>842.9</td><td>72.3</td><td>True</td><td>True</td><td>1.0</td><td>--</td><td>MCCONN</td><td>--</td><td>--</td><td>--</td></tr>\n",
       "</table></div>"
      ],
      "text/plain": [
       "<Table length=15>\n",
       "  name   host    RA      Dec    Rproj    gmag   e_gmag ...   Psat  Filt  Tel   Bad  SB_eff_g   dist \n",
       " str14   str7 float64  float64 float64 float64 float64 ... float64 str2  str9  str3 float64  float64\n",
       "-------- ---- -------- ------- ------- ------- ------- ... ------- ---- ------ ---- -------- -------\n",
       "     M33  M31  23.4583 30.6603   205.8      --      -- ...     1.0   -- MCCONN   --       --      --\n",
       "  NGC205  M31  10.0917 41.6853     8.3      --      -- ...     1.0   -- MCCONN   --       --      --\n",
       "     M32  M31  10.6708 40.8653     5.5      --      -- ...     1.0   -- MCCONN   --       --      --\n",
       "  NGC147  M31      8.3 48.5089   101.8      --      -- ...     1.0   -- MCCONN   --       --      --\n",
       "    IC10  M31   5.0708 59.3039   259.0      --      -- ...     1.0   -- MCCONN   --       --      --\n",
       "  NGC185  M31   9.7417 48.3375    97.1      --      -- ...     1.0   -- MCCONN   --       --      --\n",
       "  andVII  M31 351.6292 50.6758   226.1      --      -- ...     1.0   -- MCCONN   --       --      --\n",
       "andXXXII  M31   8.9975 51.5597   142.5      --      -- ...     1.0   -- MCCONN   --       --      --\n",
       "   andII  M31  19.1242 33.4192   142.0      --      -- ...     1.0   -- MCCONN   --       --      --\n",
       "    andI  M31  11.4158 38.0411    44.7      --      -- ...     1.0   -- MCCONN   --       --      --\n",
       " andXXXI  M31 344.5679 41.2911   277.0      --      -- ...     1.0   -- MCCONN   --       --      --\n",
       "  andIII  M31   8.8908 36.4978    67.8      --      -- ...     1.0   -- MCCONN   --       --      --\n",
       "andXXIII  M31  22.3408 38.7189   127.4      --      -- ...     1.0   -- MCCONN   --       --      --\n",
       "   andVI  M31 357.9429 24.5825   280.3      --      -- ...     1.0   -- MCCONN   --       --      --\n",
       "  andXXI  M31 358.6987 42.4708   123.5      --      -- ...     1.0   -- MCCONN   --       --      --"
      ]
     },
     "execution_count": 22,
     "metadata": {},
     "output_type": "execute_result"
    }
   ],
   "source": [
    "cat[:15]"
   ]
  },
  {
   "cell_type": "code",
   "execution_count": 72,
   "id": "cd42d2d1",
   "metadata": {},
   "outputs": [
    {
     "data": {
      "text/plain": [
       "18"
      ]
     },
     "execution_count": 72,
     "metadata": {},
     "output_type": "execute_result"
    }
   ],
   "source": [
    "np.sum((cat['mu0V'].data.data > 24.3) & ((cat['re'].data.data + cat['e_re'].data.data) / 1000 > 1.5))"
   ]
  },
  {
   "cell_type": "code",
   "execution_count": 64,
   "id": "c2430dcc",
   "metadata": {},
   "outputs": [
    {
     "data": {
      "text/plain": [
       "2"
      ]
     },
     "execution_count": 64,
     "metadata": {},
     "output_type": "execute_result"
    }
   ],
   "source": [
    "udg_flag = (cat['SB_eff_g'].data.data > 25) | ((cat['Tel'] == 'MCCONN').data & (cat['mu0V'].data.data > 24.3)) # 0.28 for gV\n",
    "udg_flag &= ((cat['re'].data.data + cat['e_re'].data.data) / 1000 > 1.5)\n",
    "np.sum(udg_flag)"
   ]
  },
  {
   "cell_type": "code",
   "execution_count": 37,
   "id": "cd67111e",
   "metadata": {},
   "outputs": [
    {
     "data": {
      "text/plain": [
       "15"
      ]
     },
     "execution_count": 37,
     "metadata": {},
     "output_type": "execute_result"
    }
   ],
   "source": [
    "# don't consider re error\n",
    "udg_flag = (cat['SB_eff_g'].data.data > 25) | ((cat['Tel'] == 'MCCONN') & (cat['mu0V'].data.data > 24.28)) # 0.28 for gV\n",
    "udg_flag &= ((cat['re'].data.data) / 1000 > 1.5)\n",
    "np.sum(udg_flag)"
   ]
  },
  {
   "cell_type": "markdown",
   "id": "89bbd3ac",
   "metadata": {},
   "source": [
    "Therefore, there are 15-20 UDGs in Scott's sample (444 sats in total)\n",
    "\n",
    "4 bad photometry\n",
    "\n",
    "Therefore should be 11 - 16 UDGs out of 429 healthy sates"
   ]
  },
  {
   "cell_type": "code",
   "execution_count": 50,
   "id": "14b32b17",
   "metadata": {},
   "outputs": [
    {
     "data": {
      "text/plain": [
       "429"
      ]
     },
     "execution_count": 50,
     "metadata": {},
     "output_type": "execute_result"
    }
   ],
   "source": [
    "np.sum(cat['Bad'].data.data != 'yes')"
   ]
  },
  {
   "cell_type": "code",
   "execution_count": 35,
   "id": "8ba0582c",
   "metadata": {},
   "outputs": [
    {
     "data": {
      "text/plain": [
       "<matplotlib.collections.PathCollection at 0x2acb47a407c0>"
      ]
     },
     "execution_count": 35,
     "metadata": {},
     "output_type": "execute_result"
    },
    {
     "data": {
      "image/png": "[encoded data removed]",
      "text/plain": [
       "<Figure size 432x288 with 1 Axes>"
      ]
     },
     "metadata": {
      "needs_background": "light"
     },
     "output_type": "display_data"
    }
   ],
   "source": [
    "plt.scatter(cat['log_m_star'], np.log10(cat['re']))\n",
    "plt.scatter(cat[udg_flag]['log_m_star'], np.log10(cat[udg_flag]['re']), s=5)"
   ]
  },
  {
   "cell_type": "code",
   "execution_count": 46,
   "id": "00536c6f",
   "metadata": {
    "scrolled": false
   },
   "outputs": [
    {
     "data": {
      "text/plain": [
       "0.96"
      ]
     },
     "execution_count": 46,
     "metadata": {},
     "output_type": "execute_result"
    }
   ],
   "source": [
    "cat[udg_flag]['Psat'].mean()"
   ]
  },
  {
   "cell_type": "code",
   "execution_count": null,
   "id": "e9f71cf2",
   "metadata": {},
   "outputs": [],
   "source": []
  },
  {
   "cell_type": "markdown",
   "id": "be349700",
   "metadata": {},
   "source": [
    "---"
   ]
  },
  {
   "cell_type": "markdown",
   "id": "e17aa90a",
   "metadata": {},
   "source": [
    "### Host"
   ]
  },
  {
   "cell_type": "code",
   "execution_count": 97,
   "id": "43d90551",
   "metadata": {},
   "outputs": [
    {
     "data": {
      "text/html": [
       "<div><i>Table length=31</i>\n",
       "<table id=\"table47688883714800\" class=\"table-striped table-bordered table-condensed\">\n",
       "<thead><tr><th>Name</th><th>Dist</th><th>v _rec</th><th>${M}_{{K}_{s}}$</th><th>${M}_{{K}_{s}}^{\\mathrm{group}}$</th><th>M _V</th><th>B - V</th><th>$\\mathrm{log}({M}_{\\star }/{M}_{\\odot })$</th><th>r _cover</th><th>Data Source</th><th>References</th><th>col11</th></tr></thead>\n",
       "<thead><tr><th>str8</th><th>float64</th><th>int64</th><th>float64</th><th>float64</th><th>float64</th><th>float64</th><th>float64</th><th>int64</th><th>str18</th><th>str27</th><th>int64</th></tr></thead>\n",
       "<tr><td>M31</td><td>0.78</td><td>-300</td><td>-24.81</td><td>-24.89</td><td>-21.19</td><td>0.87</td><td>11.01</td><td>300</td><td>M12</td><td>CF, RC3, Sick15</td><td>--</td></tr>\n",
       "<tr><td>NGC 253</td><td>3.56</td><td>259</td><td>-23.95</td><td>-23.96</td><td>-20.7</td><td>0.94</td><td>10.77</td><td>300</td><td>D- -D</td><td>CF, Cook14a, Cook14b</td><td>--</td></tr>\n",
       "<tr><td>NGC 628</td><td>9.77</td><td>656</td><td>-22.79</td><td>-22.81</td><td>-20.68</td><td>0.48</td><td>10.45</td><td>300</td><td>D-G-D</td><td>CF, Cook14a, Cook14b</td><td>--</td></tr>\n",
       "<tr><td>NGC 891</td><td>9.12</td><td>528</td><td>-23.83</td><td>-23.83</td><td>-20.05</td><td>0.82</td><td>10.84</td><td>200</td><td>C-C-C</td><td>CF, GALEX, ${M}_{{K}_{s}}$</td><td>--</td></tr>\n",
       "<tr><td>NGC 1023</td><td>10.4</td><td>638</td><td>-23.78</td><td>-23.98</td><td>-20.91</td><td>0.95</td><td>10.6</td><td>200</td><td>C-C-C</td><td>NED, GALEX, ${M}_{{K}_{s}}$</td><td>--</td></tr>\n",
       "<tr><td>NGC 1291</td><td>9.08</td><td>838</td><td>-23.94</td><td>-23.97</td><td>-21.01</td><td>1.0</td><td>10.78</td><td>300</td><td>D-D,M-D</td><td>CF, Cook14a, Ler19</td><td>--</td></tr>\n",
       "<tr><td>NGC 1808</td><td>9.29</td><td>1002</td><td>-23.12</td><td>-23.78</td><td>-19.98</td><td>0.79</td><td>10.01</td><td>300</td><td>D-D,G,H,M-D</td><td>CF, RC3, Ler19</td><td>--</td></tr>\n",
       "<tr><td>NGC 2683</td><td>9.4</td><td>409</td><td>-23.49</td><td>-23.5</td><td>-20.17</td><td>0.86</td><td>10.5</td><td>300</td><td>D-H-D</td><td>K15, Cook14a, Ler19</td><td>--</td></tr>\n",
       "<tr><td>NGC 2903</td><td>9.0</td><td>556</td><td>-23.68</td><td>-23.69</td><td>-20.78</td><td>0.65</td><td>10.67</td><td>300</td><td>D-G,C-D</td><td>K13&amp;T19, Cook14a, Cook14b</td><td>--</td></tr>\n",
       "<tr><td>M81</td><td>3.61</td><td>-42</td><td>-23.89</td><td>-25.27</td><td>-21.07</td><td>0.88</td><td>10.66</td><td>300</td><td>C13-C13-C13,D</td><td>CF, GALEX, Ler19</td><td>--</td></tr>\n",
       "<tr><td>NGC 3115</td><td>10.2</td><td>666</td><td>-24.12</td><td>-24.14</td><td>-21.27</td><td>0.93</td><td>10.76</td><td>300</td><td>D-G-D</td><td>Pea15, RC3, Ler19</td><td>--</td></tr>\n",
       "<tr><td>NGC 3344</td><td>9.82</td><td>585</td><td>-22.27</td><td>-22.27</td><td>-20.19</td><td>0.65</td><td>10.27</td><td>300</td><td>D-H-D</td><td>CF, Cook14a, Ler19</td><td>--</td></tr>\n",
       "<tr><td>...</td><td>...</td><td>...</td><td>...</td><td>...</td><td>...</td><td>...</td><td>...</td><td>...</td><td>...</td><td>...</td><td>...</td></tr>\n",
       "<tr><td>NGC 4517</td><td>8.34</td><td>1136</td><td>-22.13</td><td>-22.16</td><td>-19.27</td><td>0.67</td><td>9.93</td><td>300</td><td>D-H-D</td><td>K14, RC3, ${M}_{{K}_{s}}$</td><td>--</td></tr>\n",
       "<tr><td>NGC 4565</td><td>11.9</td><td>1261</td><td>-24.26</td><td>-24.27</td><td>-20.84</td><td>0.82</td><td>10.88</td><td>150</td><td>C-C-C</td><td>RS11, RC3, Ler19</td><td>--</td></tr>\n",
       "<tr><td>M104</td><td>9.55</td><td>1092</td><td>-24.91</td><td>-25.01</td><td>-22.04</td><td>0.94</td><td>11.09</td><td>150</td><td>C-C-C</td><td>McQ16a, RC3, Ler19</td><td>--</td></tr>\n",
       "<tr><td>NGC 4631</td><td>7.4</td><td>606</td><td>-22.73</td><td>-22.9</td><td>-20.21</td><td>0.55</td><td>10.05</td><td>200</td><td>C,D-C,G-C,D</td><td>RS11, RC3, Ler19</td><td>--</td></tr>\n",
       "<tr><td>NGC 4736</td><td>4.2</td><td>287</td><td>-22.96</td><td>-23.1</td><td>-19.93</td><td>0.74</td><td>10.29</td><td>300</td><td>D-S18-D</td><td>RS11, RC3, Ler19</td><td>--</td></tr>\n",
       "<tr><td>NGC 4826</td><td>5.3</td><td>402</td><td>-23.24</td><td>-23.24</td><td>-20.21</td><td>0.8</td><td>10.36</td><td>300</td><td>D-H,C-D</td><td>CF, RC3, Ler19</td><td>--</td></tr>\n",
       "<tr><td>NGC 5055</td><td>8.87</td><td>503</td><td>-24.02</td><td>-24.04</td><td>-21.2</td><td>0.71</td><td>10.72</td><td>300</td><td>D-H-D</td><td>McQ17, RC3, Ler19</td><td>--</td></tr>\n",
       "<tr><td>CENA</td><td>3.66</td><td>548</td><td>-23.87</td><td>-24.41</td><td>-21.29</td><td>0.89</td><td>10.92</td><td>200</td><td>M/C19-M/C19-Dc,M17</td><td>CF, RC3, Ler19</td><td>--</td></tr>\n",
       "<tr><td>NGC 5194</td><td>8.58</td><td>465</td><td>-24.08</td><td>-24.51</td><td>-21.4</td><td>0.56</td><td>10.73</td><td>150</td><td>C-C-C</td><td>McQ16b, GALEX, Ler19</td><td>--</td></tr>\n",
       "<tr><td>NGC 5236</td><td>4.7</td><td>520</td><td>-23.64</td><td>-23.67</td><td>-21.02</td><td>0.53</td><td>10.37</td><td>300</td><td>M15-M18,D-D</td><td>CF, Cook14a, Ler19</td><td>--</td></tr>\n",
       "<tr><td>NGC 5457</td><td>6.5</td><td>243</td><td>-23.12</td><td>-23.16</td><td>-21.22</td><td>0.44</td><td>10.33</td><td>300</td><td>D-B19,C,H-C,D</td><td>Beat19, RC3, Ler19</td><td>--</td></tr>\n",
       "<tr><td>NGC 6744</td><td>8.95</td><td>839</td><td>-23.58</td><td>-24.0</td><td>-21.64</td><td>0.86</td><td>10.64</td><td>200</td><td>Dc-Dc-Dc</td><td>CF, RC3/HyperLeda, Ler19</td><td>--</td></tr>\n",
       "<tr><td>MW</td><td>0.0</td><td>0</td><td>-24.0</td><td>-24.13</td><td>-20.74</td><td>0.67</td><td>10.78</td><td>300</td><td>M12</td><td>Lic15, BG16</td><td>--</td></tr>\n",
       "</table></div>"
      ],
      "text/plain": [
       "<Table length=31>\n",
       "  Name     Dist  v _rec ${M}_{{K}_{s}}$ ...    Data Source              References         col11\n",
       "  str8   float64 int64      float64     ...       str18                   str27            int64\n",
       "-------- ------- ------ --------------- ... ------------------ --------------------------- -----\n",
       "     M31    0.78   -300          -24.81 ...                M12             CF, RC3, Sick15    --\n",
       " NGC 253    3.56    259          -23.95 ...              D- -D        CF, Cook14a, Cook14b    --\n",
       " NGC 628    9.77    656          -22.79 ...              D-G-D        CF, Cook14a, Cook14b    --\n",
       " NGC 891    9.12    528          -23.83 ...              C-C-C  CF, GALEX, ${M}_{{K}_{s}}$    --\n",
       "NGC 1023    10.4    638          -23.78 ...              C-C-C NED, GALEX, ${M}_{{K}_{s}}$    --\n",
       "NGC 1291    9.08    838          -23.94 ...            D-D,M-D          CF, Cook14a, Ler19    --\n",
       "NGC 1808    9.29   1002          -23.12 ...        D-D,G,H,M-D              CF, RC3, Ler19    --\n",
       "NGC 2683     9.4    409          -23.49 ...              D-H-D         K15, Cook14a, Ler19    --\n",
       "NGC 2903     9.0    556          -23.68 ...            D-G,C-D   K13&T19, Cook14a, Cook14b    --\n",
       "     M81    3.61    -42          -23.89 ...      C13-C13-C13,D            CF, GALEX, Ler19    --\n",
       "NGC 3115    10.2    666          -24.12 ...              D-G-D           Pea15, RC3, Ler19    --\n",
       "NGC 3344    9.82    585          -22.27 ...              D-H-D          CF, Cook14a, Ler19    --\n",
       "     ...     ...    ...             ... ...                ...                         ...   ...\n",
       "NGC 4517    8.34   1136          -22.13 ...              D-H-D   K14, RC3, ${M}_{{K}_{s}}$    --\n",
       "NGC 4565    11.9   1261          -24.26 ...              C-C-C            RS11, RC3, Ler19    --\n",
       "    M104    9.55   1092          -24.91 ...              C-C-C          McQ16a, RC3, Ler19    --\n",
       "NGC 4631     7.4    606          -22.73 ...        C,D-C,G-C,D            RS11, RC3, Ler19    --\n",
       "NGC 4736     4.2    287          -22.96 ...            D-S18-D            RS11, RC3, Ler19    --\n",
       "NGC 4826     5.3    402          -23.24 ...            D-H,C-D              CF, RC3, Ler19    --\n",
       "NGC 5055    8.87    503          -24.02 ...              D-H-D           McQ17, RC3, Ler19    --\n",
       "    CENA    3.66    548          -23.87 ... M/C19-M/C19-Dc,M17              CF, RC3, Ler19    --\n",
       "NGC 5194    8.58    465          -24.08 ...              C-C-C        McQ16b, GALEX, Ler19    --\n",
       "NGC 5236     4.7    520          -23.64 ...        M15-M18,D-D          CF, Cook14a, Ler19    --\n",
       "NGC 5457     6.5    243          -23.12 ...      D-B19,C,H-C,D          Beat19, RC3, Ler19    --\n",
       "NGC 6744    8.95    839          -23.58 ...           Dc-Dc-Dc    CF, RC3/HyperLeda, Ler19    --\n",
       "      MW     0.0      0           -24.0 ...                M12                 Lic15, BG16    --"
      ]
     },
     "execution_count": 97,
     "metadata": {},
     "output_type": "execute_result"
    }
   ],
   "source": [
    "host_cat = Table.read('./Catalog/ELVES/elves_host.txt', \n",
    "                      format='ascii.tab'\n",
    "                 )\n",
    "host_cat"
   ]
  },
  {
   "cell_type": "code",
   "execution_count": 100,
   "id": "561aa91e",
   "metadata": {},
   "outputs": [
    {
     "data": {
      "text/plain": [
       "-23.593870967741935"
      ]
     },
     "execution_count": 100,
     "metadata": {},
     "output_type": "execute_result"
    }
   ],
   "source": [
    "host_cat['${M}_{{K}_{s}}$'].data.mean()"
   ]
  },
  {
   "cell_type": "code",
   "execution_count": null,
   "id": "048e3840",
   "metadata": {},
   "outputs": [],
   "source": []
  },
  {
   "cell_type": "code",
   "execution_count": 101,
   "id": "a19a0a64",
   "metadata": {},
   "outputs": [
    {
     "data": {
      "text/plain": [
       "0.6845986694329649"
      ]
     },
     "execution_count": 101,
     "metadata": {},
     "output_type": "execute_result"
    }
   ],
   "source": [
    "host_cat['${M}_{{K}_{s}}$'].data.std()"
   ]
  },
  {
   "cell_type": "code",
   "execution_count": 99,
   "id": "0abcfa22",
   "metadata": {},
   "outputs": [
    {
     "data": {
      "text/plain": [
       "(array([2., 1., 4., 8., 5., 1., 3., 4., 0., 3.]),\n",
       " array([-24.91 , -24.632, -24.354, -24.076, -23.798, -23.52 , -23.242,\n",
       "        -22.964, -22.686, -22.408, -22.13 ]),\n",
       " <BarContainer object of 10 artists>)"
      ]
     },
     "execution_count": 99,
     "metadata": {},
     "output_type": "execute_result"
    },
    {
     "data": {
      "image/png": "[encoded data removed]",
      "text/plain": [
       "<Figure size 432x288 with 1 Axes>"
      ]
     },
     "metadata": {
      "needs_background": "light"
     },
     "output_type": "display_data"
    }
   ],
   "source": [
    "plt.hist(host_cat['${M}_{{K}_{s}}$'].data)"
   ]
  },
  {
   "cell_type": "code",
   "execution_count": null,
   "id": "970800b9",
   "metadata": {},
   "outputs": [],
   "source": []
  }
 ],
 "metadata": {
  "kernelspec": {
   "display_name": "Python 3 (ipykernel)",
   "language": "python",
   "name": "python3"
  },
  "language_info": {
   "codemirror_mode": {
    "name": "ipython",
    "version": 3
   },
   "file_extension": ".py",
   "mimetype": "text/x-python",
   "name": "python",
   "nbconvert_exporter": "python",
   "pygments_lexer": "ipython3",
   "version": "3.10.4"
  }
 },
 "nbformat": 4,
 "nbformat_minor": 5
}
