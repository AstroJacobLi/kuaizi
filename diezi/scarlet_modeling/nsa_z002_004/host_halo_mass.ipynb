{
 "cells": [
  {
   "cell_type": "code",
   "execution_count": 1,
   "id": "b07d2f9b",
   "metadata": {},
   "outputs": [],
   "source": [
    "# Import packages\n",
    "%load_ext autoreload\n",
    "%autoreload 2"
   ]
  },
  {
   "cell_type": "code",
   "execution_count": 2,
   "id": "a5081390",
   "metadata": {},
   "outputs": [],
   "source": [
    "import os\n",
    "import dill, sys\n",
    "import copy\n",
    "import numpy as np\n",
    "import matplotlib.pyplot as plt\n",
    "import scarlet\n",
    "\n",
    "import kuaizi as kz\n",
    "from kuaizi.display import display_single, SEG_CMAP, display_scarlet_results_tigress\n",
    "\n",
    "import astropy.units as u\n",
    "from astropy import wcs\n",
    "from astropy.io import fits\n",
    "from astropy.table import Table, Column, Row, vstack, hstack\n",
    "from astropy.coordinates import SkyCoord\n",
    "\n",
    "sys.path.append('/home/jiaxuanl/Research/Packages/kuaizi/diezi/scarlet_modeling/script/')"
   ]
  },
  {
   "cell_type": "code",
   "execution_count": 3,
   "id": "78803935",
   "metadata": {},
   "outputs": [],
   "source": [
    "env_dict = {'project': 'HSC', 'name': 'LSBG', 'data_dir': '/scratch/gpfs/jiaxuanl/Data'}\n",
    "kz.utils.set_env(**env_dict)\n",
    "kz.set_matplotlib(style='JL', usetex=True, dpi=100, fontsize=16)\n",
    "GALARY = '/tigress/jiaxuanl/public_html/galary/'"
   ]
  },
  {
   "cell_type": "code",
   "execution_count": 5,
   "id": "40c72394",
   "metadata": {},
   "outputs": [],
   "source": [
    "udg_cat = Table.read(f'{GALARY}/catalogs/nsa_z001_004/udg_cat_with_Yang.fits')"
   ]
  },
  {
   "cell_type": "code",
   "execution_count": 6,
   "id": "3478fdaf",
   "metadata": {},
   "outputs": [],
   "source": [
    "flag = udg_cat['host_gi'] < 1.2"
   ]
  },
  {
   "cell_type": "code",
   "execution_count": 17,
   "id": "0e3ca321",
   "metadata": {},
   "outputs": [
    {
     "data": {
      "text/plain": [
       "Text(0.5, 0, 'Yang halo mass')"
      ]
     },
     "execution_count": 17,
     "metadata": {},
     "output_type": "execute_result"
    },
    {
     "data": {
      "image/png": "[encoded data removed]",
      "text/plain": [
       "<Figure size 432x288 with 1 Axes>"
      ]
     },
     "metadata": {
      "needs_background": "light"
     },
     "output_type": "display_data"
    }
   ],
   "source": [
    "plt.hist(udg_cat['log_m_halo_1'][flag], density=True,\n",
    "         range=(11, 13),\n",
    "         histtype='step', color='b', label='$g-i<1.2$')\n",
    "plt.hist(udg_cat['log_m_halo_1'][~flag], density=True,\n",
    "         range=(11, 13),\n",
    "         histtype='step', color='r', label='$g-i>1.2$')\n",
    "\n",
    "plt.legend()\n",
    "plt.xlabel('Yang halo mass')"
   ]
  },
  {
   "cell_type": "code",
   "execution_count": 18,
   "id": "8cf486c9",
   "metadata": {},
   "outputs": [
    {
     "data": {
      "text/plain": [
       "Text(0.5, 0, 'Behroozi halo mass')"
      ]
     },
     "execution_count": 18,
     "metadata": {},
     "output_type": "execute_result"
    },
    {
     "data": {
      "image/png": "[encoded data removed]",
      "text/plain": [
       "<Figure size 432x288 with 1 Axes>"
      ]
     },
     "metadata": {
      "needs_background": "light"
     },
     "output_type": "display_data"
    }
   ],
   "source": [
    "plt.hist(udg_cat['host_halo_mass'][flag], density=True,\n",
    "         range=(11, 13),\n",
    "         histtype='step', color='b', label='$g-i<1.2$')\n",
    "plt.hist(udg_cat['host_halo_mass'][~flag], density=True,\n",
    "         range=(11, 13),\n",
    "         histtype='step', color='r', label='$g-i>1.2$')\n",
    "\n",
    "plt.legend()\n",
    "plt.xlabel('Behroozi halo mass')"
   ]
  },
  {
   "cell_type": "code",
   "execution_count": null,
   "id": "69a31cbf",
   "metadata": {},
   "outputs": [],
   "source": []
  }
 ],
 "metadata": {
  "kernelspec": {
   "display_name": "Python 3 (ipykernel)",
   "language": "python",
   "name": "python3"
  },
  "language_info": {
   "codemirror_mode": {
    "name": "ipython",
    "version": 3
   },
   "file_extension": ".py",
   "mimetype": "text/x-python",
   "name": "python",
   "nbconvert_exporter": "python",
   "pygments_lexer": "ipython3",
   "version": "3.10.4"
  }
 },
 "nbformat": 4,
 "nbformat_minor": 5
}
