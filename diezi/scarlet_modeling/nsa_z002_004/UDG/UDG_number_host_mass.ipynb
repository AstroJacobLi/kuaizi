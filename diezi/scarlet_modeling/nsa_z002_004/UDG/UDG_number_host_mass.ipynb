{
 "cells": [
  {
   "cell_type": "code",
   "execution_count": 1,
   "id": "60f2bccc",
   "metadata": {},
   "outputs": [],
   "source": [
    "# Import packages\n",
    "%load_ext autoreload\n",
    "%autoreload 2\n",
    "\n",
    "import warnings\n",
    "warnings.filterwarnings('ignore')"
   ]
  },
  {
   "cell_type": "code",
   "execution_count": 2,
   "id": "5c767016",
   "metadata": {},
   "outputs": [],
   "source": [
    "import os\n",
    "import dill, sys\n",
    "import copy\n",
    "import numpy as np\n",
    "import matplotlib.pyplot as plt\n",
    "import scarlet\n",
    "\n",
    "import kuaizi as kz\n",
    "from kuaizi.display import display_single, SEG_CMAP, display_scarlet_results_tigress\n",
    "from kuaizi.detection import Data\n",
    "\n",
    "import astropy.units as u\n",
    "from astropy import wcs\n",
    "from astropy.io import fits\n",
    "from astropy.table import Table, Column, Row, vstack, hstack\n",
    "from astropy.coordinates import SkyCoord\n",
    "\n",
    "from PIL import Image\n",
    "\n",
    "sys.path.append('/home/jiaxuanl/Research/Packages/kuaizi/diezi/scarlet_modeling/script/')"
   ]
  },
  {
   "cell_type": "code",
   "execution_count": 3,
   "id": "bca6ee3b",
   "metadata": {},
   "outputs": [],
   "source": [
    "env_dict = {'project': 'HSC', 'name': 'LSBG', 'data_dir': '/scratch/gpfs/jiaxuanl/Data'}\n",
    "kz.utils.set_env(**env_dict)\n",
    "kz.set_matplotlib(style='JL', usetex=True, dpi=100, fontsize=16)"
   ]
  },
  {
   "cell_type": "code",
   "execution_count": 4,
   "id": "5b53ac84",
   "metadata": {},
   "outputs": [],
   "source": [
    "# we need to bootstrap to know the error of N_UDG"
   ]
  },
  {
   "cell_type": "code",
   "execution_count": 5,
   "id": "41516f76",
   "metadata": {},
   "outputs": [],
   "source": [
    "# input_cuts_cat = Table.read('./Catalog/nsa_z001_004/lsbg_after_cuts_spergel_w_missed.fits')\n",
    "# from sample_cuts import post_process_cat_new_rbf\n",
    "# cuts_cat = post_process_cat_new_rbf(input_cuts_cat)"
   ]
  },
  {
   "cell_type": "code",
   "execution_count": 6,
   "id": "b6dc5c55",
   "metadata": {},
   "outputs": [],
   "source": [
    "cuts_cat = Table.read('./Catalog/nsa_z001_004/lsbg_before_cuts.fits')"
   ]
  },
  {
   "cell_type": "code",
   "execution_count": 7,
   "id": "d5522d56",
   "metadata": {},
   "outputs": [],
   "source": [
    "udg_cat = Table.read(\n",
    "    '/tigress/jiaxuanl/public_html/galary/catalogs/nsa_z001_004/udg_z001_004_spergel_after_viz_w_missed.fits')\n",
    "flag = (udg_cat['rhalf_phys'] + udg_cat['rhalf_phys_err'] >= 1.5\n",
    "       ) & (udg_cat['SB_eff_avg'][:, 0] + udg_cat['SB_eff_avg_err'][:, 0] >= 25)\n",
    "udg_cat = udg_cat[flag]\n",
    "udg_cat = udg_cat[udg_cat['completeness'] > 0.1]"
   ]
  },
  {
   "cell_type": "code",
   "execution_count": 10,
   "id": "f30cf66e",
   "metadata": {},
   "outputs": [
    {
     "data": {
      "text/plain": [
       "0.07524271844660194"
      ]
     },
     "execution_count": 10,
     "metadata": {},
     "output_type": "execute_result"
    }
   ],
   "source": [
    "np.sum(udg_cat['spergel_nu'] < 0) / len(udg_cat)"
   ]
  },
  {
   "cell_type": "code",
   "execution_count": null,
   "id": "f69e68a0",
   "metadata": {},
   "outputs": [],
   "source": []
  },
  {
   "cell_type": "code",
   "execution_count": null,
   "id": "2859c3c7",
   "metadata": {},
   "outputs": [],
   "source": []
  },
  {
   "cell_type": "code",
   "execution_count": 8,
   "id": "41b2440d",
   "metadata": {},
   "outputs": [
    {
     "name": "stdout",
     "output_type": "stream",
     "text": [
      "1.5885416666666667 0.2519347875002136\n"
     ]
    }
   ],
   "source": [
    "date = '221025'\n",
    "name = 'udg'\n",
    "UDG_num = np.load(f'./Catalog/random_field/fake_{name}_cat_{date}_{name}_num.npy')\n",
    "density_bkg = np.mean(UDG_num) / 24\n",
    "density_std = np.std(UDG_num) / 24\n",
    "print(density_bkg, density_std)"
   ]
  },
  {
   "cell_type": "code",
   "execution_count": 9,
   "id": "6731c2f2",
   "metadata": {},
   "outputs": [
    {
     "data": {
      "text/plain": [
       "10579"
      ]
     },
     "execution_count": 9,
     "metadata": {},
     "output_type": "execute_result"
    }
   ],
   "source": [
    "len(cuts_cat)"
   ]
  },
  {
   "cell_type": "raw",
   "id": "4eb94fee",
   "metadata": {},
   "source": [
    "n_udg_list = []\n",
    "m_vir_list = []\n",
    "m_vir_std_list = []\n",
    "\n",
    "for i in range(10):\n",
    "    np.random.seed(i)\n",
    "    _cuts_cat = cuts_cat[np.random.choice(np.arange(len(cuts_cat)), 2000, replace=False)]\n",
    "    _udg_cat = _cuts_cat[np.in1d(_cuts_cat['viz-id'], udg_cat['viz-id'])]\n",
    "\n",
    "    _, ind = np.unique(_udg_cat['host_name'].data, return_index=True)\n",
    "    total_area = (np.pi * (_udg_cat['host_r_vir_ang'].data[ind]**2 - (3/60)**2)).sum() # deg^2\n",
    "    print('Total angular area [deg2]:', total_area)\n",
    "\n",
    "    n_udg = (len(_udg_cat) - density_bkg * total_area) / len(np.unique(_cuts_cat['host_name']))\n",
    "    m_vir = np.unique(_cuts_cat['host_halo_mass']).mean()\n",
    "    m_vir_std = np.unique(_cuts_cat['host_halo_mass']).std()\n",
    "    \n",
    "    n_udg_list.append(n_udg)\n",
    "    m_vir_list.append(m_vir)\n",
    "    m_vir_std_list.append(m_vir_std)"
   ]
  },
  {
   "cell_type": "markdown",
   "id": "295c8d35",
   "metadata": {},
   "source": [
    "---"
   ]
  },
  {
   "cell_type": "code",
   "execution_count": 10,
   "id": "faa4b910",
   "metadata": {},
   "outputs": [],
   "source": [
    "# Roman17b: no completeness, they quote the contamination must be small, but no estimation\n",
    "roman17b = [[11.858108108108109, 0.006651884700664468], \n",
    "            [12.015202702702704, 0.4789356984478932], \n",
    "            [12.85641891891892, 0.30598669623059793]]\n",
    "roman17b_xerr = [[-0.43, 0.23], \n",
    "                 [0, 0], \n",
    "                 [-1.14, 0.284]]\n",
    "roman17b_yerr = [[-0.399, 0.29], \n",
    "                 [-0.359, 0.206], \n",
    "                 [-0.55, 0.239]]\n",
    "\n",
    "# Roman17a: no completeness, also no estimatino for contamination\n",
    "roman17a = [[13.16554054054054, 1.0177383592017737],\n",
    "            [14.244932432432432, 1.5432372505543237]]\n",
    "roman17a_xerr = [[-0.294, 0.183], \n",
    "                 [-0.28, 0.15]]\n",
    "roman17a_yerr = [[-0.14, 0.14], \n",
    "                 [-0.20, 0.206]]\n",
    "\n",
    "# Koda: no completeness, but their contams might be small\n",
    "koda = [14.91891891891892, 2.3082039911308208]\n",
    "koda_xerr = 0.08\n",
    "koda_yerr = 0.1\n",
    "\n",
    "# No completeness and contams\n",
    "Janssens = [[15.679054054054053, 3.33259423503326]]\n",
    "Janssens_xerr = [[-0.375, 0.2]]\n",
    "Janssens_yerr = [[-0.13, 0.12]]\n",
    "\n",
    "Munoz = [14.047297297297298, 1.4501108647450112]\n",
    "Munoz_xerr = 0.10\n",
    "Munoz_yerr = 0.13\n",
    "\n",
    "Hydra = [np.log10(2.1 * 1e14 * (0.7**(-1))), np.log10(48)]\n",
    "Hydra_xerr = 0.1\n",
    "Hydra_yerr = 1.3 * 10 / 48 / np.log(10)\n",
    "\n",
    "SAGA_mao = [np.log10(1.6e12), np.log10(6 / 36)]\n",
    "SAGA_mao_xerr = 0.4\n",
    "SAGA_mao_yerr = [[np.log10((6 - np.sqrt(6)) / 36) - np.log10(6 / 36), \n",
    "                  np.log10((6 + np.sqrt(6)) / 36) - np.log10(6 / 36)]]\n",
    "\n",
    "\n",
    "ELVES = [12.1, np.log10(15 / 30)]\n",
    "ELVES_xerr = 0.5\n",
    "ELVES_yerr = [[np.log10((15 - np.sqrt(15)) / 30) - np.log10(15 / 30), \n",
    "                  np.log10((15 + np.sqrt(15)) / 30) - np.log10(15 / 30)]]"
   ]
  },
  {
   "cell_type": "markdown",
   "id": "db36abff",
   "metadata": {},
   "source": [
    "---\n",
    "### Divide hosts into early and late type"
   ]
  },
  {
   "cell_type": "code",
   "execution_count": 11,
   "id": "c2f03afd",
   "metadata": {},
   "outputs": [
    {
     "name": "stdout",
     "output_type": "stream",
     "text": [
      "Total angular area [deg2]: 89.19904707251214\n"
     ]
    }
   ],
   "source": [
    "_cuts_cat = cuts_cat#[cuts_cat['host_halo_mass'] < 12.2]\n",
    "_udg_cat = udg_cat[np.in1d(udg_cat['viz-id'], _cuts_cat['viz-id'])]\n",
    "_, ind = np.unique(_cuts_cat['host_name'].data, return_index=True)\n",
    "total_area = (np.pi * (_cuts_cat['host_r_vir_ang'].data[ind]**2)).sum() # deg^2 #  - (3/60)**2\n",
    "print('Total angular area [deg2]:', total_area)\n",
    "n_udg = (len(_udg_cat) - density_bkg * total_area) / len(np.unique(_cuts_cat['host_name']))\n",
    "n_udg_std = np.sqrt(len(_udg_cat) - density_bkg * total_area) / len(np.unique(_cuts_cat['host_name']))\n",
    "n_udg *= (1 / _udg_cat['completeness']).mean()\n",
    "n_udg_std *= (1 / _udg_cat['completeness']).mean()"
   ]
  },
  {
   "cell_type": "code",
   "execution_count": 12,
   "id": "e16fb90b",
   "metadata": {},
   "outputs": [
    {
     "data": {
      "text/plain": [
       "(0.4427068850184662, 0.026927148388706076)"
      ]
     },
     "execution_count": 12,
     "metadata": {},
     "output_type": "execute_result"
    }
   ],
   "source": [
    "n_udg, n_udg_std"
   ]
  },
  {
   "cell_type": "markdown",
   "id": "181fbbf1",
   "metadata": {},
   "source": [
    "### Orthoganle distance regression"
   ]
  },
  {
   "cell_type": "code",
   "execution_count": 20,
   "id": "e3ad1696",
   "metadata": {},
   "outputs": [],
   "source": [
    "vdb17_x = np.array([12.23, 12.62, 13.03, 13.36, 13.77, 14.04, 14.52])[1:]\n",
    "vdb17_y = np.array([-0.21, 0.32, 1.38, 3.31, 7.54, 44.93, 64.29])[1:]\n",
    "vdb17_yerr = np.array([[-0.61, -0.93, -1.04, -1.62, -3.97, -38.98, -15.92], \n",
    "                       [0.52, 1.08, 1.26, 1.51, 5.22, 21.54, 18.16]])[:, 1:]\n",
    "\n",
    "vdb17_yerr_stat = np.array([[-0.45, -0.55, -0.49, -0.78, -2.21, -12.23, -15.92], \n",
    "                             [0.51, 0.62, 0.56, 0.89, 2.52, 13.95, 18.16]])[:, 1:];"
   ]
  },
  {
   "cell_type": "code",
   "execution_count": 21,
   "id": "a23ab0c4",
   "metadata": {},
   "outputs": [],
   "source": [
    "temp1 = np.log10(vdb17_y + np.max(np.abs(vdb17_yerr.T), axis=1)) - np.log10(vdb17_y)\n",
    "temp2 = np.log10(vdb17_y) - np.log10(vdb17_y - np.max(np.abs(vdb17_yerr.T), axis=1))"
   ]
  },
  {
   "cell_type": "code",
   "execution_count": 22,
   "id": "25f66752",
   "metadata": {},
   "outputs": [],
   "source": [
    "vdb17_yerr = np.log10(vdb17_y + np.max(np.abs(vdb17_yerr.T), axis=1)) - np.log10(vdb17_y)\n",
    "# vdb17_yerr = np.nanmax(np.vstack([temp1, temp2]), axis=0)\n",
    "vdb17_y = np.log10(vdb17_y)"
   ]
  },
  {
   "cell_type": "code",
   "execution_count": 23,
   "id": "16fb6d0e",
   "metadata": {
    "scrolled": true
   },
   "outputs": [],
   "source": [
    "data = np.vstack([\n",
    "    koda, Munoz, Janssens, roman17a, roman17b, \n",
    "                  np.vstack([vdb17_x, vdb17_y]).T, \n",
    "                  SAGA_mao, ELVES, Li\n",
    "])"
   ]
  },
  {
   "cell_type": "code",
   "execution_count": 24,
   "id": "3b6bee23",
   "metadata": {},
   "outputs": [],
   "source": [
    "xerr = np.asarray([\n",
    "    koda_xerr, Munoz_xerr, \n",
    "                np.min(np.abs(Janssens_xerr)), \n",
    "                *np.min(np.abs(roman17a_xerr), axis=1),\n",
    "                *np.min(np.abs(roman17b_xerr), axis=1),\n",
    "                *np.zeros(len(vdb17_yerr)),\n",
    "                SAGA_mao_xerr, ELVES_xerr, Li_xerr\n",
    "])\n",
    "yerr = np.asarray([\n",
    "    koda_yerr, Munoz_yerr, \n",
    "                np.max(np.abs(Janssens_yerr)), \n",
    "                *np.max(np.abs(roman17a_yerr), axis=1),\n",
    "                *np.max(np.abs(roman17b_yerr), axis=1),\n",
    "                *vdb17_yerr,\n",
    "                *np.max(np.abs(SAGA_mao_yerr), axis=1), \n",
    "                *np.max(np.abs(ELVES_yerr), axis=1), \n",
    "                 Li_yerr\n",
    "])\n",
    "\n",
    "xerr[xerr<0.1] = 0.1"
   ]
  },
  {
   "cell_type": "code",
   "execution_count": 25,
   "id": "46d7ebbf",
   "metadata": {},
   "outputs": [
    {
     "name": "stdout",
     "output_type": "stream",
     "text": [
      "Beta: [  0.96556528 -12.10348842]\n",
      "Beta Std Error: [0.07473036 1.05049682]\n",
      "Beta Covariance: [[ 0.00381674 -0.05352903]\n",
      " [-0.05352903  0.75420202]]\n",
      "Residual Variance: 1.4631936017550855\n",
      "Inverse Condition #: 0.030656673943414942\n",
      "Reason(s) for Halting:\n",
      "  Sum of squares convergence\n"
     ]
    }
   ],
   "source": [
    "from scipy import odr\n",
    "def f(B, x):\n",
    "    '''Linear function y = m*x + b'''\n",
    "    return B[0]*x + B[1]\n",
    "linear = odr.Model(f)\n",
    "mydata = odr.RealData(data[:, 0], data[:, 1], sx=xerr, sy=yerr)\n",
    "myodr = odr.ODR(mydata, linear, beta0=[1, -11])\n",
    "myoutput = myodr.run()\n",
    "myoutput.pprint()\n",
    "beta = myoutput.beta\n",
    "beta_std = np.sqrt(np.diag(myoutput.cov_beta)) / 2"
   ]
  },
  {
   "cell_type": "code",
   "execution_count": 26,
   "id": "0ef249b2",
   "metadata": {},
   "outputs": [
    {
     "data": {
      "text/plain": [
       "(0.24221639635223932, 0.19242714140495704)"
      ]
     },
     "execution_count": 26,
     "metadata": {},
     "output_type": "execute_result"
    }
   ],
   "source": [
    "np.mean(yerr), np.mean(xerr)"
   ]
  },
  {
   "cell_type": "code",
   "execution_count": 27,
   "id": "aa7f81ef",
   "metadata": {},
   "outputs": [
    {
     "data": {
      "text/plain": [
       "<ErrorbarContainer object of 3 artists>"
      ]
     },
     "execution_count": 27,
     "metadata": {},
     "output_type": "execute_result"
    },
    {
     "data": {
      "image/png": "[encoded data removed]",
      "text/plain": [
       "<Figure size 432x288 with 1 Axes>"
      ]
     },
     "metadata": {
      "needs_background": "light"
     },
     "output_type": "display_data"
    }
   ],
   "source": [
    "plt.errorbar(data[:, 0], data[:, 1], xerr=xerr, yerr=yerr, fmt='.')"
   ]
  },
  {
   "cell_type": "markdown",
   "id": "e4169451",
   "metadata": {},
   "source": [
    "### Execute the following first"
   ]
  },
  {
   "cell_type": "code",
   "execution_count": 46,
   "id": "d562c465",
   "metadata": {},
   "outputs": [
    {
     "name": "stdout",
     "output_type": "stream",
     "text": [
      "Total angular area [deg2]: 89.19904707251214\n",
      "Total angular area [deg2]: 89.19904707251214\n",
      "0.4427068850184662 0.04560391070186532\n",
      "Total angular area [deg2]: 59.638394752286196\n",
      "0.6639640706043687 0.05620409002622877\n",
      "Total angular area [deg2]: 29.56065232022594\n",
      "0.3021366846132106 0.03278140659884337\n",
      "Total angular area [deg2]: 40.926458483679085\n",
      "0.23027701563865474 0.03043044446537666\n",
      "Total angular area [deg2]: 48.05629925688567\n",
      "0.7385205498597346 0.05734763827641678\n"
     ]
    },
    {
     "data": {
      "image/png": "[encoded data removed]",
      "text/plain": [
       "<Figure size 1150x530 with 2 Axes>"
      ]
     },
     "metadata": {
      "needs_background": "light"
     },
     "output_type": "display_data"
    }
   ],
   "source": [
    "fig, [ax1, ax2] = plt.subplots(1, 2, figsize=(11.5, 5.3))\n",
    "\n",
    "colors = ['#a6cee3','#1f78b4','#ec7014','#33a02c','#fdbf6f', 'violet', 'turquoise']\n",
    "#['#66c2a5','#fc8d62','#8da0cb','#e78ac3','#a6d854']\n",
    "\n",
    "plt.sca(ax1)\n",
    "plt.errorbar(*koda,\n",
    "             xerr=koda_xerr,\n",
    "             yerr=koda_yerr,\n",
    "             fmt='o', label='Koda+15', color=colors[2])\n",
    "\n",
    "plt.errorbar(*Munoz,\n",
    "             xerr=np.array(Munoz_xerr),\n",
    "             yerr=Munoz_yerr,\n",
    "             fmt='o', label='Munoz+15', color=colors[3])\n",
    "\n",
    "plt.errorbar(*Hydra,\n",
    "             xerr=np.array(Hydra_xerr),\n",
    "             yerr=Hydra_yerr,\n",
    "             fmt='s', label='La\\,Marca+22', color='#c51b7d')\n",
    "\n",
    "plt.errorbar(np.array(Janssens)[:, 0], np.array(Janssens)[:, 1], \n",
    "             xerr=np.abs(np.array(Janssens_xerr)).T,\n",
    "             yerr=np.abs(np.array(Janssens_xerr)).T,\n",
    "             fmt='o', label='Janssens+15', color=colors[4])\n",
    "\n",
    "\n",
    "plt.errorbar(np.array(roman17a)[:, 0], np.array(roman17a)[:, 1], \n",
    "             xerr=np.abs(np.array(roman17a_xerr)).T,\n",
    "             yerr=np.abs(np.array(roman17a_yerr)).T,\n",
    "             fmt='o', label='Roman+17a', color=colors[1])\n",
    "\n",
    "plt.errorbar(np.array(roman17b)[:, 0], np.array(roman17b)[:, 1], \n",
    "             xerr=np.abs(np.array(roman17b_xerr)).T,\n",
    "             yerr=np.abs(np.array(roman17b_yerr)).T,\n",
    "             fmt='o', label='Roman+17b', color=colors[0])\n",
    "\n",
    "plt.errorbar(*SAGA_mao,\n",
    "             xerr=np.array(SAGA_mao_xerr),\n",
    "             yerr=np.abs(np.array(SAGA_mao_yerr)).T,\n",
    "             lolims=True,\n",
    "             fmt='o', label='Mao+21', color=colors[5])\n",
    "\n",
    "plt.errorbar(*ELVES,\n",
    "             xerr=np.array(ELVES_xerr),\n",
    "             yerr=np.abs(np.array(ELVES_yerr)).T,\n",
    "             lolims=True,\n",
    "             fmt='o', label='Carlsten+22', color=colors[6])\n",
    "\n",
    "##### Total sample #####\n",
    "_cuts_cat = cuts_cat\n",
    "_udg_cat = udg_cat[np.in1d(udg_cat['viz-id'], _cuts_cat['viz-id'])]\n",
    "_, ind = np.unique(_cuts_cat['host_name'].data, return_index=True)\n",
    "total_area = (np.pi * (_cuts_cat['host_r_vir_ang'].data[ind]**2)).sum() # deg^2 #  - (3/60)**2\n",
    "print('Total angular area [deg2]:', total_area)\n",
    "n_udg = (len(_udg_cat) - density_bkg * total_area) / len(np.unique(_cuts_cat['host_name']))\n",
    "n_udg_std = np.sqrt(len(_udg_cat) - density_bkg * total_area) / len(np.unique(_cuts_cat['host_name']))\n",
    "n_udg_std = np.sqrt(n_udg_std**2 + (density_std * total_area / len(np.unique(cuts_cat['host_name'])))**2)\n",
    "n_udg *= (1 / _udg_cat['completeness']).mean()\n",
    "n_udg_std *= (1 / _udg_cat['completeness']).mean()\n",
    "\n",
    "m_vir = np.unique(_cuts_cat['host_halo_mass']).mean()\n",
    "m_vir_std = np.unique(_cuts_cat['host_halo_mass']).std()\n",
    "plt.errorbar(m_vir, \n",
    "             np.log10([n_udg]), \n",
    "             xerr=m_vir_std, \n",
    "             yerr=[np.log10([n_udg]) - np.log10([n_udg - n_udg_std]),\n",
    "                   np.log10([n_udg + n_udg_std]) - np.log10([n_udg])],\n",
    "             fmt='s', ms=13, color='#f03b20', markeredgecolor='k', markeredgewidth=1.3, label='This work')\n",
    "Li = [m_vir, np.log10(n_udg)]\n",
    "Li_xerr = m_vir_std\n",
    "Li_yerr = np.log10(n_udg + n_udg_std) - np.log10(n_udg)\n",
    "\n",
    "# leg = plt.legend(loc=(0.02, 0.55), fontsize=15, markerscale=0.7)\n",
    "# ax1.add_artist(leg)\n",
    "h1, l1 = ax1.get_legend_handles_labels()\n",
    "ax1.add_artist(ax1.legend(h1[0:-1], l1[0:-1], loc=(0.01, 0.7), ncol=2, fontsize=14, columnspacing=0.5))\n",
    "ax1.add_artist(ax1.legend(h1[-1:], l1[-1:], loc=(0.01, 0.63), fontsize=14, markerscale=0.7))\n",
    "# ax1.add_artist(ax1.legend(h1[0:-1], l1[0:-1], loc=(0.02, 0.53), fontsize=14))\n",
    "# ax1.add_artist(ax1.legend(h1[-1:], l1[-1:], loc=(0.61, 0.11), fontsize=14, markerscale=0.7))\n",
    "\n",
    "# vdb17\n",
    "x = np.linspace(11.5, 16, 10)\n",
    "line1 = plt.plot(x, 1.11 * x + np.log10(19) - 1.11 * 14, label='vdB+17', ls='-.', color='gray')\n",
    "plt.fill_between(x, (1.11 + 0.04) * x + np.log10(19) - 1.11 * 14, \n",
    "                 (1.11 - 0.04) * x + np.log10(19) - 1.11 * 14, \n",
    "                 alpha=0.2, color='gray', interpolate=True, ls='-.', )\n",
    "plt.legend(handles=[line1[0]], loc='lower right')\n",
    "\n",
    "# Pina18 0.84 ± 0.07\n",
    "x = np.linspace(11.5, 16, 10)\n",
    "line_MP = plt.plot(x, 0.84 * x - 10.16, label='MP+18', ls='--', color='blue', alpha=0.5)\n",
    "# plt.fill_between(x, (1.11 + 0.04) * x + np.log10(19) - 1.11 * 14, \n",
    "#                  (1.11 - 0.04) * x + np.log10(19) - 1.11 * 14, \n",
    "#                  alpha=0.2, color='gray', interpolate=True, ls='-.', )\n",
    "# plt.legend(handles=[line1[0]], loc='lower right')\n",
    "\n",
    "\n",
    "# my own fits\n",
    "line2 = plt.plot(x, f(myoutput.beta, x), color='salmon', ls='-', lw=2,\n",
    "                 label=r'$N_{\\rm UDG}\\propto M_h^{0.96\\pm 0.04}$')\n",
    "plt.fill_between(x, f(beta + beta_std, x), \n",
    "                 f(beta - beta_std, x), alpha=0.15, color='salmon', \n",
    "                 ls='-', interpolate=True, zorder=0)\n",
    "\n",
    "plt.legend(handles=[line1[0], line_MP[0], line2[0]], loc='lower right')\n",
    "\n",
    "\n",
    "plt.xlabel(r'$\\log\\, M_{h}\\ [M_\\odot]$', fontsize=20)\n",
    "plt.ylabel(r'$\\log\\, N_{\\rm UDG}$', fontsize=20)\n",
    "plt.xticks([12, 13, 14, 15, 16])\n",
    "plt.tick_params(axis='both', which='major', labelsize=18)\n",
    "\n",
    "\n",
    "##############################################################################\n",
    "plt.sca(ax2)\n",
    "x = np.linspace(11.8, 13, 10)\n",
    "plt.plot(x, 1.11 * x + np.log10(19) - 1.11 * 14, ls='-.', color='gray')\n",
    "plt.fill_between(x, (1.11 + 0.04) * x + np.log10(19) - 1.11 * 14, \n",
    "                 (1.11 - 0.04) * x + np.log10(19) - 1.11 * 14, \n",
    "                 alpha=0.2, color='gray', interpolate=True)\n",
    "\n",
    "##### Total sample #####\n",
    "_cuts_cat = cuts_cat\n",
    "_udg_cat = udg_cat[np.in1d(udg_cat['viz-id'], _cuts_cat['viz-id'])]\n",
    "_, ind = np.unique(_cuts_cat['host_name'].data, return_index=True)\n",
    "total_area = (np.pi * (_cuts_cat['host_r_vir_ang'].data[ind]**2)).sum() # deg^2 #  - (3/60)**2\n",
    "print('Total angular area [deg2]:', total_area)\n",
    "n_udg = (len(_udg_cat) - density_bkg * total_area) / len(np.unique(_cuts_cat['host_name']))\n",
    "n_udg_std = np.sqrt(len(_udg_cat) - density_bkg * total_area) / len(np.unique(_cuts_cat['host_name']))\n",
    "n_udg_std = np.sqrt(n_udg_std**2 + (density_std * total_area / len(np.unique(cuts_cat['host_name'])))**2)\n",
    "n_udg *= (1 / _udg_cat['completeness']).mean()\n",
    "n_udg_std *= (1 / _udg_cat['completeness']).mean()\n",
    "print(n_udg, n_udg_std)\n",
    "\n",
    "m_vir = np.unique(_cuts_cat['host_halo_mass']).mean()\n",
    "m_vir_std = np.unique(_cuts_cat['host_halo_mass']).std()\n",
    "plt.errorbar(m_vir, \n",
    "             np.log10([n_udg]), \n",
    "             xerr=m_vir_std, \n",
    "             yerr=[np.log10([n_udg]) - np.log10([n_udg - n_udg_std]),\n",
    "                   np.log10([n_udg + n_udg_std]) - np.log10([n_udg])],\n",
    "             fmt='s', ms=13, color='#f03b20', markeredgecolor='k', markeredgewidth=1.3, \n",
    "             label='Whole UDG sample')\n",
    "Li = [m_vir, np.log10(n_udg)]\n",
    "Li_xerr = m_vir_std\n",
    "Li_yerr = np.log10(n_udg + n_udg_std) - np.log10(n_udg)\n",
    "\n",
    "##### Mass bin 1 #####\n",
    "_cuts_cat = cuts_cat[cuts_cat['host_halo_mass'] > 12.2]\n",
    "# _cuts_cat = cuts_cat[cuts_cat['host_stellar_mass'] <= 10.9]\n",
    "# print('experiment 10.9 cut')\n",
    "_udg_cat = udg_cat[np.in1d(udg_cat['viz-id'], _cuts_cat['viz-id'])]\n",
    "_, ind = np.unique(_cuts_cat['host_name'].data, return_index=True)\n",
    "total_area = (np.pi * (_cuts_cat['host_r_vir_ang'].data[ind]**2)).sum() # deg^2 #  - (3/60)**2\n",
    "print('Total angular area [deg2]:', total_area)\n",
    "n_udg = (len(_udg_cat) - density_bkg * total_area) / len(np.unique(_cuts_cat['host_name']))\n",
    "n_udg_std = np.sqrt(len(_udg_cat) - density_bkg * total_area) / len(np.unique(_cuts_cat['host_name']))\n",
    "n_udg_std = np.sqrt(n_udg_std**2 + (density_std * total_area / len(np.unique(cuts_cat['host_name'])))**2)\n",
    "n_udg *= (1 / _udg_cat['completeness']).mean()\n",
    "n_udg_std *= (1 / _udg_cat['completeness']).mean()\n",
    "print(n_udg, n_udg_std)\n",
    "\n",
    "\n",
    "m_vir = np.unique(_cuts_cat['host_halo_mass']).mean()\n",
    "m_vir_std = np.unique(_cuts_cat['host_halo_mass']).std()\n",
    "plt.errorbar(m_vir, \n",
    "             np.log10(n_udg), \n",
    "             xerr=m_vir_std, \n",
    "             yerr=[np.log10([n_udg]) - np.log10([n_udg - n_udg_std]),\n",
    "                   np.log10([n_udg + n_udg_std]) - np.log10([n_udg])],\n",
    "             fmt='o', ms=11.5, color='#c51b7d', alpha=0.8, label=r'Host $\\log M_h/M_\\odot > 12.2$')\n",
    "\n",
    "##### Mass bin 2 #####\n",
    "_cuts_cat = cuts_cat[cuts_cat['host_halo_mass'] <= 12.2]\n",
    "_udg_cat = udg_cat[np.in1d(udg_cat['viz-id'], _cuts_cat['viz-id'])]\n",
    "_, ind = np.unique(_cuts_cat['host_name'].data, return_index=True)\n",
    "total_area = (np.pi * (_cuts_cat['host_r_vir_ang'].data[ind]**2)).sum() # deg^2 #  - (3/60)**2\n",
    "print('Total angular area [deg2]:', total_area)\n",
    "n_udg = (len(_udg_cat) - density_bkg * total_area) / len(np.unique(_cuts_cat['host_name']))\n",
    "n_udg_std = np.sqrt(len(_udg_cat) - density_bkg * total_area) / len(np.unique(_cuts_cat['host_name']))\n",
    "n_udg_std = np.sqrt(n_udg_std**2 + (density_std * total_area / len(np.unique(cuts_cat['host_name'])))**2)\n",
    "n_udg *= (1 / _udg_cat['completeness']).mean()\n",
    "n_udg_std *= (1 / _udg_cat['completeness']).mean()\n",
    "print(n_udg, n_udg_std)\n",
    "\n",
    "m_vir = np.unique(_cuts_cat['host_halo_mass']).mean()\n",
    "m_vir_std = np.unique(_cuts_cat['host_halo_mass']).std()\n",
    "plt.errorbar(m_vir, \n",
    "             np.log10(n_udg), \n",
    "             xerr=m_vir_std, \n",
    "             yerr=[np.log10([n_udg]) - np.log10([n_udg - n_udg_std]),\n",
    "                   np.log10([n_udg + n_udg_std]) - np.log10([n_udg])],\n",
    "             fmt='o', ms=11.5, alpha=0.8, color='#4d9221', label=r'Host $\\log M_h/M_\\odot < 12.2$')\n",
    "\n",
    "##### blue host #####\n",
    "_cuts_cat = cuts_cat[cuts_cat['host_gi'] < 1.2]\n",
    "_udg_cat = udg_cat[np.in1d(udg_cat['viz-id'], _cuts_cat['viz-id'])]\n",
    "_, ind = np.unique(_cuts_cat['host_name'].data, return_index=True)\n",
    "total_area = (np.pi * (_cuts_cat['host_r_vir_ang'].data[ind]**2)).sum() # deg^2 #  - (3/60)**2\n",
    "print('Total angular area [deg2]:', total_area)\n",
    "n_udg = (len(_udg_cat) - density_bkg * total_area) / len(np.unique(_cuts_cat['host_name']))\n",
    "n_udg_std = np.sqrt(len(_udg_cat) - density_bkg * total_area) / len(np.unique(_cuts_cat['host_name']))\n",
    "n_udg_std = np.sqrt(n_udg_std**2 + (density_std * total_area / len(np.unique(cuts_cat['host_name'])))**2)\n",
    "n_udg *= (1 / _udg_cat['completeness']).mean()\n",
    "n_udg_std *= (1 / _udg_cat['completeness']).mean()\n",
    "print(n_udg, n_udg_std)\n",
    "\n",
    "\n",
    "m_vir = np.unique(_cuts_cat['host_halo_mass']).mean()\n",
    "m_vir_std = np.unique(_cuts_cat['host_halo_mass']).std()\n",
    "plt.errorbar(m_vir, \n",
    "             np.log10(n_udg), \n",
    "             xerr=m_vir_std, \n",
    "             yerr=[np.log10([n_udg]) - np.log10([n_udg - n_udg_std]),\n",
    "                   np.log10([n_udg + n_udg_std]) - np.log10([n_udg])],\n",
    "             fmt='D', ms=11, alpha=0.8, color='#018571', label=r'Host $g-i<1.2$')\n",
    "\n",
    "\n",
    "# red host\n",
    "_cuts_cat = cuts_cat[cuts_cat['host_gi'] >= 1.2]\n",
    "_udg_cat = udg_cat[np.in1d(udg_cat['viz-id'], _cuts_cat['viz-id'])]\n",
    "_, ind = np.unique(_cuts_cat['host_name'].data, return_index=True)\n",
    "total_area = (np.pi * (_cuts_cat['host_r_vir_ang'].data[ind]**2)).sum() # deg^2 #  - (3/60)**2\n",
    "print('Total angular area [deg2]:', total_area)\n",
    "n_udg = (len(_udg_cat) - density_bkg * total_area) / len(np.unique(_cuts_cat['host_name']))\n",
    "n_udg_std = np.sqrt(len(_udg_cat) - density_bkg * total_area) / len(np.unique(_cuts_cat['host_name']))\n",
    "n_udg_std = np.sqrt(n_udg_std**2 + (density_std * total_area / len(np.unique(cuts_cat['host_name'])))**2)\n",
    "n_udg *= (1 / _udg_cat['completeness']).mean()\n",
    "n_udg_std *= (1 / _udg_cat['completeness']).mean()\n",
    "print(n_udg, n_udg_std)\n",
    "\n",
    "m_vir = np.unique(_cuts_cat['host_halo_mass']).mean()\n",
    "m_vir_std = np.unique(_cuts_cat['host_halo_mass']).std()\n",
    "plt.errorbar(m_vir, \n",
    "             np.log10(n_udg), \n",
    "             xerr=m_vir_std, \n",
    "             yerr=[np.log10([n_udg]) - np.log10([n_udg - n_udg_std]),\n",
    "                   np.log10([n_udg + n_udg_std]) - np.log10([n_udg])],\n",
    "             fmt='D', ms=11, alpha=0.8, color='#a6611a', label=r'Host $g-i>1.2$')\n",
    "\n",
    "\n",
    "h1, l1 = ax2.get_legend_handles_labels()\n",
    "ax2.add_artist(ax2.legend(h1[1:], l1[1:], loc=(0.36, 0.01), fontsize=15, markerscale=0.8))\n",
    "ax2.add_artist(ax2.legend(h1[0:1], l1[0:1], loc=2, fontsize=15, markerscale=0.7))\n",
    "\n",
    "# plt.xlabel(r'$\\log\\, M_{h}\\ [M_\\odot]$')\n",
    "# plt.ylabel(r'$\\log\\, N_{\\rm UDG}$')\n",
    "\n",
    "plt.xlabel(r'$\\log\\, M_{h}\\ [M_\\odot]$', fontsize=20)\n",
    "plt.ylabel(r'$\\log\\, N_{\\rm UDG}$', fontsize=20)\n",
    "# plt.xticks([12, 13, 14, 15, 16])\n",
    "plt.tick_params(axis='both', which='major', labelsize=18)\n",
    "\n",
    "plt.tight_layout()\n",
    "plt.savefig('/tigress/jiaxuanl/public_html/figure/udg_paper/N_UDG_host_mass.pdf', \n",
    "            bbox_inches='tight', dpi=100)"
   ]
  },
  {
   "cell_type": "markdown",
   "id": "d4a2ec59",
   "metadata": {},
   "source": [
    "---"
   ]
  },
  {
   "cell_type": "markdown",
   "id": "4a10fa2c",
   "metadata": {},
   "source": [
    "### Fit my own relation"
   ]
  },
  {
   "cell_type": "code",
   "execution_count": 220,
   "id": "eef93177",
   "metadata": {},
   "outputs": [],
   "source": [
    "import numpy as np\n",
    "import jax.numpy as jnp\n",
    "from jax import random\n",
    "\n",
    "import numpyro\n",
    "import numpyro.distributions as dist\n",
    "from numpyro.infer import MCMC, NUTS\n",
    "\n",
    "def model(x, y=None, yerr=0.1, xerr=0.1):\n",
    "    a = numpyro.sample('a', dist.Uniform(-10, 10))\n",
    "    b = numpyro.sample('b', dist.Uniform(-50, 50))\n",
    "    x_obs = numpyro.sample('x_obs', dist.Normal(x, xerr), obs=x)\n",
    "    y_ = (b + a * x_obs)\n",
    "#     y_ = (b + a * x)\n",
    "    # notice that we clamp the outcome of this sampling to the observation y \n",
    "    numpyro.sample('obs', dist.Normal(y_, yerr), obs=y)\n",
    "    \n",
    "# need to split the key for jax's random implementation\n",
    "rng_key = random.PRNGKey(0)\n",
    "rng_key, rng_key_ = random.split(rng_key)"
   ]
  },
  {
   "cell_type": "code",
   "execution_count": null,
   "id": "c8d55a59",
   "metadata": {},
   "outputs": [],
   "source": [
    "# run HMC with NUTS\n",
    "kernel = NUTS(model, target_accept_prob=0.9)\n",
    "mcmc = MCMC(kernel, num_warmup=1000, num_samples=8000)\n",
    "mcmc.run(rng_key_, x=data[:, 0].astype(float), y=data[:, 1].astype(float), \n",
    "         yerr=yerr.astype(float), xerr=xerr)\n",
    "mcmc.print_summary()"
   ]
  },
  {
   "cell_type": "code",
   "execution_count": 201,
   "id": "c709e70b",
   "metadata": {},
   "outputs": [],
   "source": [
    "from numpyro.infer import Predictive\n",
    "from numpyro.diagnostics import hpdi"
   ]
  },
  {
   "cell_type": "code",
   "execution_count": 202,
   "id": "ef87cea7",
   "metadata": {},
   "outputs": [],
   "source": [
    "x0 = np.linspace(11, 16, 300)"
   ]
  },
  {
   "cell_type": "code",
   "execution_count": 181,
   "id": "a27b10e9",
   "metadata": {},
   "outputs": [],
   "source": [
    "samples = mcmc.get_samples()\n",
    "predictive = Predictive(model, samples)\n",
    "predictions = predictive(rng_key_, x=x0, xerr=0.2, yerr=0.2)['obs']\n",
    "predictions = predictions[-3000:]\n",
    "pred_mean = predictions.mean(axis=0)\n",
    "pred_hpdi = hpdi(predictions, 0.68)"
   ]
  },
  {
   "cell_type": "code",
   "execution_count": 182,
   "id": "c88465ac",
   "metadata": {},
   "outputs": [
    {
     "data": {
      "text/plain": [
       "<matplotlib.legend.Legend at 0x2ac0ab7fcf10>"
      ]
     },
     "execution_count": 182,
     "metadata": {},
     "output_type": "execute_result"
    },
    {
     "data": {
      "image/png": "[encoded data removed]",
      "text/plain": [
       "<Figure size 600x500 with 1 Axes>"
      ]
     },
     "metadata": {
      "needs_background": "light"
     },
     "output_type": "display_data"
    }
   ],
   "source": [
    "plt.errorbar(data[:, 0], data[:, 1], xerr=xerr, yerr=yerr, fmt='.')\n",
    "\n",
    "line2 = plt.plot(x0, pred_mean, color='salmon',\n",
    "                 lw=2, label='This work')\n",
    "plt.fill_between(\n",
    "    x0, pred_hpdi[0], pred_hpdi[1], alpha=0.3, color='salmon', interpolate=True)\n",
    "plt.legend(handles=[line1[0], line2[0]])"
   ]
  },
  {
   "cell_type": "code",
   "execution_count": null,
   "id": "2d2afc4a",
   "metadata": {},
   "outputs": [],
   "source": []
  },
  {
   "cell_type": "code",
   "execution_count": 31,
   "id": "de3b2da1",
   "metadata": {},
   "outputs": [
    {
     "ename": "NameError",
     "evalue": "name 'x0' is not defined",
     "output_type": "error",
     "traceback": [
      "\u001b[0;31m---------------------------------------------------------------------------\u001b[0m",
      "\u001b[0;31mNameError\u001b[0m                                 Traceback (most recent call last)",
      "Input \u001b[0;32mIn [31]\u001b[0m, in \u001b[0;36m<cell line: 8>\u001b[0;34m()\u001b[0m\n\u001b[1;32m      1\u001b[0m plt\u001b[38;5;241m.\u001b[39merrorbar(data[:, \u001b[38;5;241m0\u001b[39m], data[:, \u001b[38;5;241m1\u001b[39m], xerr\u001b[38;5;241m=\u001b[39mxerr, yerr\u001b[38;5;241m=\u001b[39myerr, fmt\u001b[38;5;241m=\u001b[39m\u001b[38;5;124m'\u001b[39m\u001b[38;5;124m.\u001b[39m\u001b[38;5;124m'\u001b[39m)\n\u001b[1;32m      3\u001b[0m \u001b[38;5;66;03m# line2 = plt.plot(x0, pred_mean, color='salmon',\u001b[39;00m\n\u001b[1;32m      4\u001b[0m \u001b[38;5;66;03m#                  lw=2, label='This work')\u001b[39;00m\n\u001b[1;32m      5\u001b[0m \u001b[38;5;66;03m# plt.fill_between(\u001b[39;00m\n\u001b[1;32m      6\u001b[0m \u001b[38;5;66;03m#     x0, pred_hpdi[0], pred_hpdi[1], alpha=0.3, color='salmon', interpolate=True)\u001b[39;00m\n\u001b[0;32m----> 8\u001b[0m plt\u001b[38;5;241m.\u001b[39mplot(\u001b[43mx0\u001b[49m, f(myoutput\u001b[38;5;241m.\u001b[39mbeta, x0))\n\u001b[1;32m     10\u001b[0m plt\u001b[38;5;241m.\u001b[39mfill_between(x0, f(beta \u001b[38;5;241m+\u001b[39m beta_std, x0), \n\u001b[1;32m     11\u001b[0m                  f(beta \u001b[38;5;241m-\u001b[39m beta_std, x0), alpha\u001b[38;5;241m=\u001b[39m\u001b[38;5;241m0.3\u001b[39m, color\u001b[38;5;241m=\u001b[39m\u001b[38;5;124m'\u001b[39m\u001b[38;5;124msteelblue\u001b[39m\u001b[38;5;124m'\u001b[39m, interpolate\u001b[38;5;241m=\u001b[39m\u001b[38;5;28;01mTrue\u001b[39;00m)\n\u001b[1;32m     13\u001b[0m x \u001b[38;5;241m=\u001b[39m np\u001b[38;5;241m.\u001b[39mlinspace(\u001b[38;5;241m11.5\u001b[39m, \u001b[38;5;241m16\u001b[39m, \u001b[38;5;241m10\u001b[39m)\n",
      "\u001b[0;31mNameError\u001b[0m: name 'x0' is not defined"
     ]
    },
    {
     "data": {
      "image/png": "[encoded data removed]",
      "text/plain": [
       "<Figure size 600x500 with 1 Axes>"
      ]
     },
     "metadata": {
      "needs_background": "light"
     },
     "output_type": "display_data"
    }
   ],
   "source": [
    "plt.errorbar(data[:, 0], data[:, 1], xerr=xerr, yerr=yerr, fmt='.')\n",
    "\n",
    "# line2 = plt.plot(x0, pred_mean, color='salmon',\n",
    "#                  lw=2, label='This work')\n",
    "# plt.fill_between(\n",
    "#     x0, pred_hpdi[0], pred_hpdi[1], alpha=0.3, color='salmon', interpolate=True)\n",
    "\n",
    "plt.plot(x0, f(myoutput.beta, x0))\n",
    "\n",
    "plt.fill_between(x0, f(beta + beta_std, x0), \n",
    "                 f(beta - beta_std, x0), alpha=0.3, color='steelblue', interpolate=True)\n",
    "\n",
    "x = np.linspace(11.5, 16, 10)\n",
    "line1 = plt.plot(x, 1.11 * x + np.log10(19) - 1.11 * 14, label='vdB+17', ls='-.', color='gray')\n",
    "plt.fill_between(x, (1.11 + 0.04) * x + np.log10(19) - 1.11 * 14, \n",
    "                 (1.11 - 0.04) * x + np.log10(19) - 1.11 * 14, \n",
    "                 alpha=0.2, color='gray', interpolate=True)\n",
    "plt.legend(handles=[line1[0]], loc='lower right')"
   ]
  },
  {
   "cell_type": "code",
   "execution_count": null,
   "id": "c2dbc2d7",
   "metadata": {},
   "outputs": [],
   "source": []
  },
  {
   "cell_type": "code",
   "execution_count": null,
   "id": "44ca1b6f",
   "metadata": {},
   "outputs": [],
   "source": []
  },
  {
   "cell_type": "markdown",
   "id": "012e5d99",
   "metadata": {},
   "source": [
    "---"
   ]
  },
  {
   "cell_type": "code",
   "execution_count": 26,
   "id": "9068f47b",
   "metadata": {},
   "outputs": [],
   "source": [
    "udg_cat = Table.read(\n",
    "    '/tigress/jiaxuanl/public_html/galary/catalogs/nsa_z001_004/udg_z001_004_spergel_after_viz_w_missed.fits')\n",
    "flag = (udg_cat['rhalf_phys'] + udg_cat['rhalf_phys_err'] >= 1.5\n",
    "       ) & (udg_cat['SB_eff_avg'][:, 0] + udg_cat['SB_eff_avg_err'][:, 0] >= 25)\n",
    "udg_cat = udg_cat[flag]\n",
    "udg_cat = udg_cat[udg_cat['completeness'] > 0.1]"
   ]
  },
  {
   "cell_type": "code",
   "execution_count": 88,
   "id": "7e765a2f",
   "metadata": {},
   "outputs": [],
   "source": [
    "gr_color = udg_cat['g-r'].data\n",
    "gi_color = udg_cat['g-i'].data\n",
    "abs_mag_g = udg_cat['abs_mag'][:, 0].data\n",
    "abs_mag_r = udg_cat['abs_mag'][:, 1].data"
   ]
  },
  {
   "cell_type": "code",
   "execution_count": 150,
   "id": "80aecc75",
   "metadata": {},
   "outputs": [],
   "source": [
    "log_ML_g = np.array([1.297 * gi_color - 0.855,\n",
    "                     1.774 * gr_color - 0.783]).mean(axis=0)\n",
    "mass_li = -0.4 * (abs_mag_g - 5.03) + log_ML_g"
   ]
  },
  {
   "cell_type": "code",
   "execution_count": 151,
   "id": "f3fd52ab",
   "metadata": {},
   "outputs": [],
   "source": [
    "log_ML_new = 1.294 * gr_color - 0.601\n",
    "# log_ML_new = 1.930 * gr_color - 0.794\n",
    "mass_Herman = -0.4 * (abs_mag_g - 5.03) + log_ML_new"
   ]
  },
  {
   "cell_type": "code",
   "execution_count": 152,
   "id": "a16ae5b7",
   "metadata": {},
   "outputs": [],
   "source": [
    "log_ML_r = -0.663 + 1.530 * gr_color\n",
    "mass_du = -0.4 * (abs_mag_r - 4.64) + log_ML_r\n",
    "\n",
    "log_ML_r = -0.596 + 1.373 * gr_color\n",
    "mass_into = -0.4 * (abs_mag_r - 4.64) + log_ML_r\n",
    "\n",
    "# log_ML_r = -0.313 + 0.894 * gr_color\n",
    "# mass_Herman = -0.4 * (abs_mag_r - 4.64) + log_ML_r"
   ]
  },
  {
   "cell_type": "code",
   "execution_count": 153,
   "id": "1f072226",
   "metadata": {},
   "outputs": [],
   "source": [
    "# mass_li = udg_cat['log_m_star']"
   ]
  },
  {
   "cell_type": "code",
   "execution_count": 154,
   "id": "40d1820c",
   "metadata": {},
   "outputs": [
    {
     "data": {
      "text/plain": [
       "(array([  3.,   9.,  26.,  45.,  71., 143.,  80.,  29.,   4.,   2.]),\n",
       " array([-0.00526068,  0.04043765,  0.08613599,  0.13183432,  0.17753266,\n",
       "         0.22323099,  0.26892933,  0.31462767,  0.360326  ,  0.40602434,\n",
       "         0.45172267]),\n",
       " [<matplotlib.patches.Polygon at 0x2b7481684c70>])"
      ]
     },
     "execution_count": 154,
     "metadata": {},
     "output_type": "execute_result"
    },
    {
     "data": {
      "image/png": "[encoded data removed]",
      "text/plain": [
       "<Figure size 432x288 with 1 Axes>"
      ]
     },
     "metadata": {
      "needs_background": "light"
     },
     "output_type": "display_data"
    }
   ],
   "source": [
    "plt.hist(mass_li - mass_Herman, histtype='step', lw=2)\n",
    "plt.hist(mass_li - mass_du, histtype='step', lw=2)\n",
    "plt.hist(mass_li - mass_into, histtype='step', lw=2)"
   ]
  },
  {
   "cell_type": "code",
   "execution_count": 157,
   "id": "2d057b5d",
   "metadata": {},
   "outputs": [
    {
     "data": {
      "text/plain": [
       "0.06794854282581939"
      ]
     },
     "execution_count": 157,
     "metadata": {},
     "output_type": "execute_result"
    }
   ],
   "source": [
    "np.std(mass_li - mass_into)"
   ]
  },
  {
   "cell_type": "code",
   "execution_count": null,
   "id": "7e5f5a84",
   "metadata": {},
   "outputs": [],
   "source": []
  },
  {
   "cell_type": "code",
   "execution_count": 123,
   "id": "1c8ccdf1",
   "metadata": {},
   "outputs": [
    {
     "data": {
      "text/plain": [
       "<matplotlib.collections.PathCollection at 0x2b74811de500>"
      ]
     },
     "execution_count": 123,
     "metadata": {},
     "output_type": "execute_result"
    },
    {
     "data": {
      "image/png": "[encoded data removed]",
      "text/plain": [
       "<Figure size 432x288 with 1 Axes>"
      ]
     },
     "metadata": {
      "needs_background": "light"
     },
     "output_type": "display_data"
    }
   ],
   "source": [
    "plt.scatter(gi_color, mass_li - mass_Herman)\n",
    "plt.scatter(gi_color, mass_li - mass_du)"
   ]
  },
  {
   "cell_type": "code",
   "execution_count": null,
   "id": "946e4ab8",
   "metadata": {},
   "outputs": [],
   "source": []
  },
  {
   "cell_type": "code",
   "execution_count": null,
   "id": "101a850b",
   "metadata": {},
   "outputs": [],
   "source": []
  },
  {
   "cell_type": "code",
   "execution_count": null,
   "id": "e52fc782",
   "metadata": {},
   "outputs": [],
   "source": []
  },
  {
   "cell_type": "code",
   "execution_count": null,
   "id": "b52946dd",
   "metadata": {},
   "outputs": [],
   "source": [
    "1.294 * gr_color - 0.601"
   ]
  },
  {
   "cell_type": "code",
   "execution_count": 51,
   "id": "c2e5bac1",
   "metadata": {},
   "outputs": [],
   "source": []
  },
  {
   "cell_type": "code",
   "execution_count": 53,
   "id": "f44524ee",
   "metadata": {},
   "outputs": [
    {
     "data": {
      "text/plain": [
       "(array([  4.,  12.,  76., 154.,  78.,  39.,  21.,  18.,   7.,   3.]),\n",
       " array([-0.40131297, -0.34846131, -0.29560965, -0.242758  , -0.18990634,\n",
       "        -0.13705468, -0.08420303, -0.03135137,  0.02150029,  0.07435194,\n",
       "         0.1272036 ]),\n",
       " <BarContainer object of 10 artists>)"
      ]
     },
     "execution_count": 53,
     "metadata": {},
     "output_type": "execute_result"
    },
    {
     "data": {
      "image/png": "[encoded data removed]",
      "text/plain": [
       "<Figure size 432x288 with 1 Axes>"
      ]
     },
     "metadata": {
      "needs_background": "light"
     },
     "output_type": "display_data"
    }
   ],
   "source": [
    "plt.hist(log_ML_new - log_ML_g)"
   ]
  },
  {
   "cell_type": "code",
   "execution_count": 55,
   "id": "5e59068a",
   "metadata": {},
   "outputs": [
    {
     "data": {
      "text/plain": [
       "0.13022333006661954"
      ]
     },
     "execution_count": 55,
     "metadata": {},
     "output_type": "execute_result"
    }
   ],
   "source": [
    "udg_cat['log_m_star_err'].mean()"
   ]
  },
  {
   "cell_type": "code",
   "execution_count": null,
   "id": "bddde6e7",
   "metadata": {},
   "outputs": [],
   "source": []
  },
  {
   "cell_type": "code",
   "execution_count": 54,
   "id": "d8937b6c",
   "metadata": {},
   "outputs": [
    {
     "data": {
      "text/plain": [
       "(array([124.,  67.,  49.,  47.,  43.,  37.,  17.,  16.,   7.,   5.]),\n",
       " array([0.06898831, 0.0905287 , 0.11206909, 0.13360948, 0.15514987,\n",
       "        0.17669027, 0.19823066, 0.21977105, 0.24131144, 0.26285183,\n",
       "        0.28439222]),\n",
       " <BarContainer object of 10 artists>)"
      ]
     },
     "execution_count": 54,
     "metadata": {},
     "output_type": "execute_result"
    },
    {
     "data": {
      "image/png": "[encoded data removed]",
      "text/plain": [
       "<Figure size 432x288 with 1 Axes>"
      ]
     },
     "metadata": {
      "needs_background": "light"
     },
     "output_type": "display_data"
    }
   ],
   "source": [
    "plt.hist(udg_cat['log_m_star_err'])"
   ]
  },
  {
   "cell_type": "code",
   "execution_count": null,
   "id": "2372fa4d",
   "metadata": {},
   "outputs": [],
   "source": []
  },
  {
   "cell_type": "code",
   "execution_count": 52,
   "id": "5c0d7e07",
   "metadata": {},
   "outputs": [
    {
     "data": {
      "text/plain": [
       "<matplotlib.collections.PathCollection at 0x2b747923d900>"
      ]
     },
     "execution_count": 52,
     "metadata": {},
     "output_type": "execute_result"
    },
    {
     "data": {
      "image/png": "[encoded data removed]",
      "text/plain": [
       "<Figure size 432x288 with 1 Axes>"
      ]
     },
     "metadata": {
      "needs_background": "light"
     },
     "output_type": "display_data"
    }
   ],
   "source": [
    "plt.scatter(log_ML_g, log_ML_new - log_ML_g)"
   ]
  },
  {
   "cell_type": "code",
   "execution_count": null,
   "id": "4f2c11dd",
   "metadata": {},
   "outputs": [],
   "source": []
  },
  {
   "cell_type": "code",
   "execution_count": null,
   "id": "71e7ff28",
   "metadata": {},
   "outputs": [],
   "source": []
  }
 ],
 "metadata": {
  "kernelspec": {
   "display_name": "Python 3 (ipykernel)",
   "language": "python",
   "name": "python3"
  },
  "language_info": {
   "codemirror_mode": {
    "name": "ipython",
    "version": 3
   },
   "file_extension": ".py",
   "mimetype": "text/x-python",
   "name": "python",
   "nbconvert_exporter": "python",
   "pygments_lexer": "ipython3",
   "version": "3.10.9"
  }
 },
 "nbformat": 4,
 "nbformat_minor": 5
}
