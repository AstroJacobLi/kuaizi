{
 "cells": [
  {
   "cell_type": "markdown",
   "id": "ef708e19",
   "metadata": {},
   "source": [
    "NGVS paper: https://iopscience.iop.org/article/10.3847/1538-4357/ab339f#apjab339ft4\n",
    "\n",
    "Virgo (1 R_vir) covers 104 deg2 sky. This paper only searched 3.71 deg2 (0.3 Mpc2) around M87. They use CFHT/MegaCam."
   ]
  },
  {
   "cell_type": "code",
   "execution_count": 2,
   "id": "cead74f5",
   "metadata": {},
   "outputs": [
    {
     "name": "stdout",
     "output_type": "stream",
     "text": [
      "The autoreload extension is already loaded. To reload it, use:\n",
      "  %reload_ext autoreload\n"
     ]
    }
   ],
   "source": [
    "# Import packages\n",
    "%load_ext autoreload\n",
    "%autoreload 2\n",
    "\n",
    "import warnings\n",
    "warnings.filterwarnings('ignore')"
   ]
  },
  {
   "cell_type": "code",
   "execution_count": 3,
   "id": "f63743b6",
   "metadata": {},
   "outputs": [],
   "source": [
    "import numpy as np\n",
    "import matplotlib.pyplot as plt\n",
    "from astropy.table import Table, hstack, vstack"
   ]
  },
  {
   "cell_type": "code",
   "execution_count": 5,
   "id": "a6889aa4",
   "metadata": {},
   "outputs": [],
   "source": [
    "import kuaizi as kz"
   ]
  },
  {
   "cell_type": "code",
   "execution_count": 6,
   "id": "f93be38a",
   "metadata": {},
   "outputs": [],
   "source": [
    "env_dict = {'project': 'HSC', 'name': 'LSBG', 'data_dir': '/scratch/gpfs/jiaxuanl/Data'}\n",
    "kz.utils.set_env(**env_dict)\n",
    "kz.set_matplotlib(style='JL', usetex=True, dpi=100, fontsize=16)"
   ]
  },
  {
   "cell_type": "markdown",
   "id": "e58ced12",
   "metadata": {},
   "source": [
    "Table 4: Basic Parameters"
   ]
  },
  {
   "cell_type": "code",
   "execution_count": 144,
   "id": "509c927d",
   "metadata": {},
   "outputs": [],
   "source": [
    "cat1 = Table.read('./Catalog/NGVS/XIV/table4_data.txt', \n",
    "                  format='ascii.fixed_width_no_header',\n",
    "                 col_starts=(0, 28, 40, 51, 54, 57, 63, 64, 67, 70, 75, 77, 82, 89, 95, 100, 106, 111),\n",
    "                 )\n",
    "new_cols = ['name', 'ra', 'dec', 'RAh', 'RAm', 'RAs', \n",
    "            'DE-', 'DEd', 'DEm', 'DEs', 'Class', 'VCC', \n",
    "            'Vel', 'e_Vel', 'r_Vel', 'E(B-V)', 'FWHM', 'Det']\n",
    "\n",
    "cat1.rename_columns(cat1.colnames, new_cols)"
   ]
  },
  {
   "cell_type": "code",
   "execution_count": 145,
   "id": "30add62d",
   "metadata": {},
   "outputs": [],
   "source": [
    "cat2 = Table.read('./Catalog/NGVS/XIV/table5_data.txt', \n",
    "                  format='ascii.fixed_width_no_header', \n",
    "                  col_starts=(0, 28, 30, 36, 41, 47, 53, 59, 65, 71, 75, 82, 88, 94, 95, 97),\n",
    "                  )\n",
    "new_cols = ['name', 'Class', 'gmagCG', 'C80/20', 'reCG', 'mue', \n",
    "            '<mue>', 'mu0', 'gmagS', 'n', 'reS', \n",
    "            'mueS', '<mueS>', 'NucID', 'u_NucID', 'gmagNuc']\n",
    "cat2.rename_columns(cat2.colnames, new_cols)"
   ]
  },
  {
   "cell_type": "code",
   "execution_count": 146,
   "id": "d181171c",
   "metadata": {},
   "outputs": [],
   "source": [
    "cat3 = Table.read('./Catalog/NGVS/XIV/table6_data.txt', \n",
    "                  format='ascii.fixed_width_no_header', \n",
    "                  col_starts=(0, 29, 31, 36, 41, 47, 53, 59, 65, 70, 75, 81),\n",
    "                 )\n",
    "new_cols = ['name', 'Class', '<eps>T', 'e_<eps>T', 'thetaT', 'e_thetaT', \n",
    "            '<B4>T', 'e_<B4>T', '<eps>GF', 'e_<eps>GF', 'thetaGF', \n",
    "            'e_thetaGF']\n",
    "cat3.rename_columns(cat3.colnames, new_cols)"
   ]
  },
  {
   "cell_type": "code",
   "execution_count": 147,
   "id": "6e92d13f",
   "metadata": {},
   "outputs": [],
   "source": [
    "cat4 = Table.read('./Catalog/NGVS/XIV/table7_data.txt', \n",
    "                  format='ascii.fixed_width_no_header', \n",
    "                  col_starts=(0, 28, 30, 36, 41, 47, 53),\n",
    "                 )\n",
    "new_cols = ['name', 'Class', 'gmag', 'u-g', 'g-r', 'g-i', \n",
    "            'g-z']\n",
    "cat4.rename_columns(cat4.colnames, new_cols)"
   ]
  },
  {
   "cell_type": "code",
   "execution_count": 148,
   "id": "d87d0548",
   "metadata": {},
   "outputs": [],
   "source": [
    "cat1.sort('name')\n",
    "cat2.sort('name')\n",
    "cat3.sort('name')\n",
    "cat4.sort('name')"
   ]
  },
  {
   "cell_type": "code",
   "execution_count": 149,
   "id": "dfb59fd7",
   "metadata": {},
   "outputs": [],
   "source": [
    "cat2.remove_columns(['name', 'Class'])\n",
    "cat3.remove_columns(['name', 'Class'])\n",
    "cat4.remove_columns(['name', 'Class'])"
   ]
  },
  {
   "cell_type": "code",
   "execution_count": 150,
   "id": "9559326b",
   "metadata": {},
   "outputs": [],
   "source": [
    "cat = hstack([cat1, cat2, cat3, cat4])"
   ]
  },
  {
   "cell_type": "code",
   "execution_count": 153,
   "id": "7ea4458e",
   "metadata": {},
   "outputs": [],
   "source": [
    "def post_process_cat_NGVS(input_cuts_cat):\n",
    "    \"\"\"\n",
    "    Calculate physical properties assuming a distance of 16.5 Mpc\n",
    "    \"\"\"\n",
    "    import joblib\n",
    "    import astropy.units as u\n",
    "    import pickle\n",
    "\n",
    "    cuts_cat = input_cuts_cat.copy()\n",
    "    \n",
    "    # Write to catalog\n",
    "    cuts_cat['host_ang_diam_dist'] = 16.5 * u.Mpc\n",
    "    # Physical sizes\n",
    "    # not consider peculiar motion\n",
    "    ang_diam_dist = cuts_cat['host_ang_diam_dist'].data\n",
    "    R_e_phys = cuts_cat['reS'].data / \\\n",
    "        206265 * ang_diam_dist * 1000  # in kpc\n",
    "    cuts_cat['rhalf_phys'] = R_e_phys * u.kpc\n",
    "\n",
    "    # Absolute magnitudes\n",
    "    cuts_cat['abs_mag_g'] = cuts_cat['gmagS'] - 25 - 5 * \\\n",
    "        np.log10(ang_diam_dist)  # griz\n",
    "\n",
    "    # average over g-i and g-r results\n",
    "    log_ML_g = np.array([1.297 * cuts_cat['g-i'].data - 0.855,\n",
    "                         1.774 * cuts_cat['g-r'].data - 0.783]).mean(axis=0)\n",
    "    cuts_cat['log_ML_g'] = log_ML_g\n",
    "\n",
    "    cuts_cat['log_m_star'] = -0.4 * \\\n",
    "        (cuts_cat['abs_mag_g'].data - 5.03) + log_ML_g\n",
    "    \n",
    "    return cuts_cat"
   ]
  },
  {
   "cell_type": "code",
   "execution_count": 154,
   "id": "ac8092f2",
   "metadata": {},
   "outputs": [],
   "source": [
    "cat = post_process_cat_NGVS(cat)"
   ]
  },
  {
   "cell_type": "code",
   "execution_count": 157,
   "id": "2c6bf08c",
   "metadata": {},
   "outputs": [],
   "source": [
    "cat.write('./Catalog/NGVS/XIV/NGVS_core_satellite_cat.fits', format='fits', overwrite=True)"
   ]
  },
  {
   "cell_type": "code",
   "execution_count": null,
   "id": "7748032a",
   "metadata": {},
   "outputs": [],
   "source": []
  }
 ],
 "metadata": {
  "kernelspec": {
   "display_name": "Python 3 (ipykernel)",
   "language": "python",
   "name": "python3"
  },
  "language_info": {
   "codemirror_mode": {
    "name": "ipython",
    "version": 3
   },
   "file_extension": ".py",
   "mimetype": "text/x-python",
   "name": "python",
   "nbconvert_exporter": "python",
   "pygments_lexer": "ipython3",
   "version": "3.10.4"
  }
 },
 "nbformat": 4,
 "nbformat_minor": 5
}
