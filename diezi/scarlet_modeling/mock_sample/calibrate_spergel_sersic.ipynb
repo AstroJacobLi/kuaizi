{
 "cells": [
  {
   "cell_type": "code",
   "execution_count": 56,
   "id": "aa1359fa",
   "metadata": {},
   "outputs": [],
   "source": [
    "# Import packages\n",
    "%reload_ext autoreload\n",
    "%autoreload 2"
   ]
  },
  {
   "cell_type": "code",
   "execution_count": 57,
   "id": "e3ec22ca",
   "metadata": {},
   "outputs": [],
   "source": [
    "import numpy as np\n",
    "import matplotlib.pyplot as plt\n",
    "from astropy.modeling.models import Sersic1D\n",
    "from astropy.modeling import Fittable1DModel"
   ]
  },
  {
   "cell_type": "code",
   "execution_count": 111,
   "id": "28701dfb",
   "metadata": {},
   "outputs": [],
   "source": [
    "class Spergel1D(Fittable1DModel):\n",
    "    from astropy.modeling import Parameter\n",
    "\n",
    "    amplitude = Parameter(default=1, description=\"Surface brightness at r_eff\")\n",
    "    r_eff = Parameter(default=1, description=\"Effective (half-light) radius\")\n",
    "    nu = Parameter(default=0.5, description=\"Spergel Index\")\n",
    "    _kv = None\n",
    "    \n",
    "    _z = np.array(\n",
    "            [-0.00788962, 0.0735303, -0.27770785, 0.99483285, 1.25227402]\n",
    "        )\n",
    "    \n",
    "#     @classmethod\n",
    "    def evaluate(cls, r, amplitude, r_eff, nu):\n",
    "        \"\"\"One dimensional Sersic profile function.\"\"\"\n",
    "\n",
    "        if cls._kv is None:\n",
    "            from scipy.special import kv, gamma\n",
    "            cls._kv = kv\n",
    "            cls._gamma = gamma\n",
    "        \n",
    "        cnu = cls._z[0] * nu ** 4 + cls._z[1] * nu ** 3 + cls._z[2] * nu ** 2 + cls._z[3] * nu + cls._z[4]\n",
    "        x = np.sqrt((r / r_eff)**2 + 1e-6) * cnu\n",
    "        return amplitude * cnu**2 / (2 * np.pi * r_eff**2) * (x / 2) ** nu * cls._kv(nu, x) / cls._gamma(nu + 1)\n",
    "    \n",
    "    @property\n",
    "    def input_units(self):\n",
    "        if self.r_eff.unit is None:\n",
    "            return None\n",
    "        return {self.inputs[0]: self.r_eff.unit}\n",
    "\n",
    "    def _parameter_units_for_data_units(self, inputs_unit, outputs_unit):\n",
    "        return {'r_eff': inputs_unit[self.inputs[0]],\n",
    "                'amplitude': outputs_unit[self.outputs[0]]}"
   ]
  },
  {
   "cell_type": "code",
   "execution_count": 156,
   "id": "1b985024",
   "metadata": {},
   "outputs": [],
   "source": [
    "from kuaizi.measure import bn\n",
    "from scipy.special import gamma\n",
    "def sersic_L0(amplitude, r_eff, n):\n",
    "    b = bn(n)\n",
    "    h = r_eff / b**n\n",
    "    I0 = amplitude * np.e**b\n",
    "    return np.pi * I0 * h**2 * gamma(2 * n + 1)"
   ]
  },
  {
   "cell_type": "code",
   "execution_count": 279,
   "id": "b73e8ff0",
   "metadata": {},
   "outputs": [],
   "source": [
    "david_nus = []\n",
    "david_res = []\n",
    "david_amp = []\n",
    "\n",
    "r_eff = 10\n",
    "ns = np.linspace(0.5, 4., 50)\n",
    "for n in ns:\n",
    "    ser = Sersic1D(amplitude=1, r_eff=r_eff, n=n)\n",
    "    x = np.linspace(0, 200, 800)\n",
    "    y = ser(x)\n",
    "    david = Spergel1D(amplitude=2 * sersic_L0(1, r_eff, n), \n",
    "                      r_eff=r_eff, \n",
    "                      nu=0.5 - 0.36 * (n - 1))\n",
    "    david.r_eff.fixed = True\n",
    "    fit_t = fitting.LevMarLSQFitter()\n",
    "    david = fit_t(david, x, y)\n",
    "    david_nus.append(david.nu.value)\n",
    "    david_res.append(david.r_eff.value)\n",
    "    david_amp.append(david.amplitude.value)\n",
    "#     plt.plot(x, y)\n",
    "#     plt.plot(x, david(x))\n",
    "#     plt.yscale('log')\n",
    "    # plt.plot(r, ser(r))\n",
    "    # plt.plot(r, np.log10(ser(r)))"
   ]
  },
  {
   "cell_type": "code",
   "execution_count": 284,
   "id": "45463c4c",
   "metadata": {},
   "outputs": [
    {
     "name": "stdout",
     "output_type": "stream",
     "text": [
      "[ 0.04913607 -0.71617268  3.91080029 -9.75982742 10.05678307  0.56215767\n",
      " -7.91817952  2.24241979  4.0896339  -3.6047578   1.8876589 ]\n"
     ]
    },
    {
     "data": {
      "image/png": "[encoded data removed]",
      "text/plain": [
       "<Figure size 432x288 with 1 Axes>"
      ]
     },
     "metadata": {
      "needs_background": "light"
     },
     "output_type": "display_data"
    }
   ],
   "source": [
    "plt.plot(david_nus, ns)\n",
    "poly = np.poly1d(np.polyfit(david_nus, ns, deg=10))\n",
    "plt.plot(david_nus, poly(david_nus))\n",
    "print(np.polyfit(david_nus, ns, deg=10))"
   ]
  },
  {
   "cell_type": "code",
   "execution_count": 285,
   "id": "d280e222",
   "metadata": {},
   "outputs": [
    {
     "data": {
      "text/plain": [
       "array([ 0.04913607, -0.71617268,  3.91080029, -9.75982742, 10.05678307,\n",
       "        0.56215767, -7.91817952,  2.24241979,  4.0896339 , -3.6047578 ,\n",
       "        1.8876589 ])"
      ]
     },
     "execution_count": 285,
     "metadata": {},
     "output_type": "execute_result"
    }
   ],
   "source": [
    "np.polyfit(david_nus, ns, deg=10)"
   ]
  },
  {
   "cell_type": "code",
   "execution_count": 253,
   "id": "9dece7e0",
   "metadata": {},
   "outputs": [
    {
     "data": {
      "text/plain": [
       "[<matplotlib.lines.Line2D at 0x2b8ff0912610>]"
      ]
     },
     "execution_count": 253,
     "metadata": {},
     "output_type": "execute_result"
    },
    {
     "data": {
      "image/png": "[encoded data removed]",
      "text/plain": [
       "<Figure size 432x288 with 1 Axes>"
      ]
     },
     "metadata": {
      "needs_background": "light"
     },
     "output_type": "display_data"
    }
   ],
   "source": [
    "plt.plot(david_amp, [sersic_L0(1, 20, n) for n in np.linspace(0.8, 4., 30)])"
   ]
  },
  {
   "cell_type": "code",
   "execution_count": null,
   "id": "cda11faf",
   "metadata": {},
   "outputs": [],
   "source": []
  },
  {
   "cell_type": "code",
   "execution_count": 142,
   "id": "e20518bd",
   "metadata": {},
   "outputs": [],
   "source": []
  },
  {
   "cell_type": "code",
   "execution_count": 239,
   "id": "81875e5b",
   "metadata": {},
   "outputs": [
    {
     "data": {
      "text/plain": [
       "<Spergel1D(amplitude=5935.29757137, r_eff=15., nu=-0.26115553)>"
      ]
     },
     "execution_count": 239,
     "metadata": {},
     "output_type": "execute_result"
    }
   ],
   "source": [
    "n = 3\n",
    "r_eff = 15\n",
    "\n",
    "ser = Sersic1D(amplitude=1, r_eff=r_eff, n=n)\n",
    "x = np.linspace(0, 200, 200)\n",
    "y = ser(x)\n",
    "david = Spergel1D(amplitude=sersic_L0(1, r_eff, n), r_eff=r_eff, nu=0.5 - 0.36 * (n - 1))\n",
    "david.r_eff.fixed = True\n",
    "fit_t = fitting.LevMarLSQFitter()\n",
    "david = fit_t(david, x, y)\n",
    "david"
   ]
  },
  {
   "cell_type": "code",
   "execution_count": 240,
   "id": "84cb0153",
   "metadata": {},
   "outputs": [
    {
     "data": {
      "image/png": "[encoded data removed]",
      "text/plain": [
       "<Figure size 432x288 with 1 Axes>"
      ]
     },
     "metadata": {
      "needs_background": "light"
     },
     "output_type": "display_data"
    }
   ],
   "source": [
    "plt.plot(x, y)\n",
    "plt.plot(x, david(x))\n",
    "plt.yscale('log')\n",
    "plt.xscale('log')"
   ]
  },
  {
   "cell_type": "code",
   "execution_count": null,
   "id": "761c7e63",
   "metadata": {},
   "outputs": [],
   "source": []
  },
  {
   "cell_type": "code",
   "execution_count": null,
   "id": "31849584",
   "metadata": {},
   "outputs": [],
   "source": []
  },
  {
   "cell_type": "code",
   "execution_count": 286,
   "id": "2f41ed1c",
   "metadata": {},
   "outputs": [],
   "source": [
    "from kuaizi.measure import nu_to_n"
   ]
  },
  {
   "cell_type": "code",
   "execution_count": 287,
   "id": "d3cf5148",
   "metadata": {},
   "outputs": [
    {
     "data": {
      "text/plain": [
       "[<matplotlib.lines.Line2D at 0x2b8ff05aee90>]"
      ]
     },
     "execution_count": 287,
     "metadata": {},
     "output_type": "execute_result"
    },
    {
     "data": {
      "image/png": "[encoded data removed]",
      "text/plain": [
       "<Figure size 432x288 with 1 Axes>"
      ]
     },
     "metadata": {
      "needs_background": "light"
     },
     "output_type": "display_data"
    }
   ],
   "source": [
    "x = np.linspace(-0.5, 1.0, 100)\n",
    "plt.plot(x, nu_to_n(x))"
   ]
  },
  {
   "cell_type": "code",
   "execution_count": null,
   "id": "df886fc7",
   "metadata": {},
   "outputs": [],
   "source": []
  }
 ],
 "metadata": {
  "kernelspec": {
   "display_name": "Python 3",
   "language": "python",
   "name": "python3"
  },
  "language_info": {
   "codemirror_mode": {
    "name": "ipython",
    "version": 3
   },
   "file_extension": ".py",
   "mimetype": "text/x-python",
   "name": "python",
   "nbconvert_exporter": "python",
   "pygments_lexer": "ipython3",
   "version": "3.7.8"
  }
 },
 "nbformat": 4,
 "nbformat_minor": 5
}
