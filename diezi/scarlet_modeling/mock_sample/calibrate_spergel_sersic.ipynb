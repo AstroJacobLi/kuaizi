{
 "cells": [
  {
   "cell_type": "code",
   "execution_count": 1,
   "id": "aa1359fa",
   "metadata": {},
   "outputs": [],
   "source": [
    "# Import packages\n",
    "%reload_ext autoreload\n",
    "%autoreload 2"
   ]
  },
  {
   "cell_type": "code",
   "execution_count": 2,
   "id": "e3ec22ca",
   "metadata": {},
   "outputs": [],
   "source": [
    "import numpy as np\n",
    "import matplotlib.pyplot as plt\n",
    "from astropy.modeling.models import Sersic1D\n",
    "from astropy.modeling import fitting, Fittable1DModel\n",
    "\n",
    "import kuaizi as kz"
   ]
  },
  {
   "cell_type": "code",
   "execution_count": 3,
   "id": "2357a98e",
   "metadata": {},
   "outputs": [],
   "source": [
    "env_dict = {'project': 'HSC', 'name': 'LSBG', 'data_dir': '/scratch/gpfs/jiaxuanl/Data'}\n",
    "kz.utils.set_env(**env_dict)\n",
    "kz.set_matplotlib(style='JL', usetex=True, dpi=100, fontsize=15)"
   ]
  },
  {
   "cell_type": "markdown",
   "id": "c24d8333",
   "metadata": {},
   "source": [
    "---\n",
    "in log space"
   ]
  },
  {
   "cell_type": "code",
   "execution_count": 200,
   "id": "6279a74d",
   "metadata": {},
   "outputs": [],
   "source": [
    "class Spergel1D(Fittable1DModel):\n",
    "    from astropy.modeling import Parameter\n",
    "\n",
    "    amplitude = Parameter(default=1, description=\"Surface brightness at r_eff\")\n",
    "    r_eff = Parameter(default=1, description=\"Effective (half-light) radius\")\n",
    "    nu = Parameter(default=0.5, description=\"Spergel Index\")\n",
    "    _kv = None\n",
    "    \n",
    "    _z = np.array(\n",
    "            [-0.00788962, 0.0735303, -0.27770785, 0.99483285, 1.25227402]\n",
    "        )\n",
    "    \n",
    "#     @classmethod\n",
    "    def evaluate(cls, log_r, amplitude, r_eff, nu):\n",
    "        \"\"\"\n",
    "        One dimensional Sersic profile function.\n",
    "        \n",
    "        Here the amplitude is L0, which is just the total luminosity\n",
    "        \"\"\"\n",
    "\n",
    "        if cls._kv is None:\n",
    "            from scipy.special import kv, gamma\n",
    "            cls._kv = kv\n",
    "            cls._gamma = gamma\n",
    "        \n",
    "        r = 10**log_r\n",
    "        cnu = cls._z[0] * nu ** 4 + cls._z[1] * nu ** 3 + cls._z[2] * nu ** 2 + cls._z[3] * nu + cls._z[4]\n",
    "        x = np.sqrt((r / r_eff)**2 + 1e-6) * cnu\n",
    "        y = amplitude * cnu**2 / (2 * np.pi * r_eff**2) * (x / 2) ** nu * cls._kv(nu, x) / cls._gamma(nu + 1)\n",
    "        return np.log10(y)\n",
    "    \n",
    "    @property\n",
    "    def input_units(self):\n",
    "        if self.r_eff.unit is None:\n",
    "            return None\n",
    "        return {self.inputs[0]: self.r_eff.unit}\n",
    "\n",
    "    def _parameter_units_for_data_units(self, inputs_unit, outputs_unit):\n",
    "        return {'r_eff': inputs_unit[self.inputs[0]],\n",
    "                'amplitude': outputs_unit[self.outputs[0]]}"
   ]
  },
  {
   "cell_type": "code",
   "execution_count": 386,
   "id": "94d72e71",
   "metadata": {},
   "outputs": [],
   "source": [
    "# from kuaizi.measure import bn\n",
    "from scipy.special import gamma, gammainc, gammaincinv\n",
    "\n",
    "def bn(n):\n",
    "    return gammaincinv(2. * n, 0.5)\n",
    "\n",
    "# def sersic_L0(amplitude, r_eff, n):\n",
    "#     b = bn(n)\n",
    "#     h = r_eff / b**n\n",
    "#     I0 = amplitude * np.e**b\n",
    "#     return np.pi * I0 * h**2 * gamma(2 * n + 1)\n",
    "\n",
    "def sersic_LR(R, amplitude, r_eff, n):\n",
    "    b = bn(n)\n",
    "    x = b * (R / r_eff)**(1 / n)\n",
    "    return amplitude * r_eff**2 * 2 * np.pi * n * np.exp(b) / (b)**(2 * n) * (gamma(2 * n) * gammainc(2. * n, x))\n",
    "\n",
    "def sersic_L0(amplitude, r_eff, n):\n",
    "    b = bn(n)\n",
    "    return amplitude * r_eff**2 * 2 * np.pi * n * np.exp(b) / (b)**(2 * n) * gamma(2. * n)"
   ]
  },
  {
   "cell_type": "code",
   "execution_count": 387,
   "id": "78d6b6b8",
   "metadata": {},
   "outputs": [
    {
     "data": {
      "text/plain": [
       "9.640863076348264"
      ]
     },
     "execution_count": 387,
     "metadata": {},
     "output_type": "execute_result"
    }
   ],
   "source": [
    "sersic_LR(3, 1, 1, 0.6)"
   ]
  },
  {
   "cell_type": "code",
   "execution_count": 388,
   "id": "3dd89908",
   "metadata": {},
   "outputs": [
    {
     "data": {
      "text/plain": [
       "9.701107074667371"
      ]
     },
     "execution_count": 388,
     "metadata": {},
     "output_type": "execute_result"
    }
   ],
   "source": [
    "sersic_L0(1, 1, 0.6)"
   ]
  },
  {
   "cell_type": "code",
   "execution_count": 408,
   "id": "a50cb996",
   "metadata": {},
   "outputs": [
    {
     "data": {
      "text/plain": [
       "[0.9999957524264151,\n",
       " 0.9999387621532467,\n",
       " 0.999682958796218,\n",
       " 0.9990394636421112,\n",
       " 0.997870578448509,\n",
       " 0.9961232491035696,\n",
       " 0.9938137566504627,\n",
       " 0.9909997611736306,\n",
       " 0.9877571752648637,\n",
       " 0.9841653446482068,\n",
       " 0.9802989734009064,\n",
       " 0.976224449880228,\n",
       " 0.9719987244303286,\n",
       " 0.9676695310842406,\n",
       " 0.9632762355876562,\n",
       " 0.9588509104352287,\n",
       " 0.954419428647916,\n",
       " 0.9500024770500681,\n",
       " 0.9456164494798734,\n",
       " 0.941274211515426,\n",
       " 0.9369857434495261,\n",
       " 0.9327586746850054,\n",
       " 0.9285987245888793,\n",
       " 0.9245100644441628,\n",
       " 0.9204956137292447,\n",
       " 0.9165572822006974,\n",
       " 0.9126961674911499,\n",
       " 0.9089127163141845,\n",
       " 0.9052068559518877,\n",
       " 0.9015781014973495,\n",
       " 0.8980256433202892,\n",
       " 0.8945484183958087,\n",
       " 0.8911451684582323,\n",
       " 0.8878144873895855,\n",
       " 0.8845548598034377,\n",
       " 0.8813646924207744,\n",
       " 0.8782423395393903,\n",
       " 0.8751861236590136,\n",
       " 0.8721943521301943,\n",
       " 0.8692653305373514,\n",
       " 0.8663973733981745,\n",
       " 0.8635888126572034,\n",
       " 0.8608380043663045,\n",
       " 0.8581433338752277,\n",
       " 0.8555032197985688,\n",
       " 0.8529161169788353,\n",
       " 0.85038051862705,\n",
       " 0.8478949577908833,\n",
       " 0.8454580082743545,\n",
       " 0.8430682851118343]"
      ]
     },
     "execution_count": 408,
     "metadata": {},
     "output_type": "execute_result"
    }
   ],
   "source": [
    "ns = np.linspace(0.6, 5.5, 50)\n",
    "[sersic_LR(5, 1, 1, n) / sersic_L0(1, 1, n) for n in ns]"
   ]
  },
  {
   "cell_type": "code",
   "execution_count": 512,
   "id": "d206bc86",
   "metadata": {},
   "outputs": [],
   "source": [
    "from scipy.optimize import root\n",
    "n = 4.5\n",
    "f = lambda x: sersic_LR(x, 1, 1, n) / sersic_L0(1, 1, n) - 0.98\n",
    "R_max = np.log10(fsolve(f, 2))"
   ]
  },
  {
   "cell_type": "code",
   "execution_count": 516,
   "id": "57d8ab86",
   "metadata": {},
   "outputs": [
    {
     "data": {
      "text/plain": [
       "<Spergel1D(amplitude=24.94834946, r_eff=1.18058123, nu=-0.74378911)>"
      ]
     },
     "execution_count": 516,
     "metadata": {},
     "output_type": "execute_result"
    }
   ],
   "source": [
    "ser = Sersic1D(amplitude=1, r_eff=1, n=n)\n",
    "\n",
    "log_x = np.linspace(-1.5, R_max, 400)\n",
    "log_y = np.log10(ser(10**log_x))\n",
    "\n",
    "mask = np.isfinite(log_y)\n",
    "\n",
    "david = Spergel1D(amplitude=sersic_L0(1, 1, n), \n",
    "                  r_eff=1, \n",
    "                  nu=0.5 - 0.36 * (n - 1)\n",
    "                 )\n",
    "# david.r_eff.fixed = True\n",
    "# david.amplitude.fixed = True\n",
    "\n",
    "fit_t = fitting.LevMarLSQFitter()\n",
    "david = fit_t(david, log_x[mask], log_y[mask])\n",
    "david"
   ]
  },
  {
   "cell_type": "code",
   "execution_count": 517,
   "id": "44b959aa",
   "metadata": {},
   "outputs": [
    {
     "data": {
      "text/plain": [
       "(24.948349455243672, 23.993386622393615)"
      ]
     },
     "execution_count": 517,
     "metadata": {},
     "output_type": "execute_result"
    }
   ],
   "source": [
    "david.amplitude.value, sersic_L0(1, 1, n)"
   ]
  },
  {
   "cell_type": "code",
   "execution_count": 518,
   "id": "f2194327",
   "metadata": {},
   "outputs": [
    {
     "data": {
      "text/plain": [
       "<matplotlib.legend.Legend at 0x2b8602683f40>"
      ]
     },
     "execution_count": 518,
     "metadata": {},
     "output_type": "execute_result"
    },
    {
     "data": {
      "image/png": "[encoded data removed]",
      "text/plain": [
       "<Figure size 432x288 with 1 Axes>"
      ]
     },
     "metadata": {
      "needs_background": "light"
     },
     "output_type": "display_data"
    }
   ],
   "source": [
    "plt.plot(log_x, log_y, label='Sersic')\n",
    "plt.plot(log_x, david(log_x), label='Spergel')\n",
    "# plt.yscale('log')\n",
    "# plt.ylim(1e-10, 1)\n",
    "# plt.xscale('log')\n",
    "\n",
    "plt.legend()"
   ]
  },
  {
   "cell_type": "code",
   "execution_count": 620,
   "id": "11a16c4d",
   "metadata": {},
   "outputs": [],
   "source": [
    "david_nus = []\n",
    "david_res = []\n",
    "david_amp = []\n",
    "sersic_amp = []\n",
    "\n",
    "r_eff = 1\n",
    "ns = np.linspace(0.5, 4.5, 100)\n",
    "for n in ns:\n",
    "    f = lambda x: sersic_LR(x, 1, 1, n) / sersic_L0(1, 1, n) - 0.98\n",
    "    R_max = np.log10(fsolve(f, 2))\n",
    "\n",
    "    ser = Sersic1D(amplitude=1, r_eff=r_eff, n=n)\n",
    "    log_x = np.linspace(-1.5, R_max, 400)\n",
    "    log_y = np.log10(ser(10**log_x))\n",
    "\n",
    "    david = Spergel1D(amplitude=1 * sersic_L0(1, r_eff, n), \n",
    "                      r_eff=r_eff, \n",
    "                      nu=0.5 - 0.36 * (n - 1))\n",
    "    david.r_eff.fixed = True\n",
    "    david.amplitude.fixed = True\n",
    "\n",
    "    fit_t = fitting.LevMarLSQFitter()\n",
    "    david = fit_t(david, log_x, log_y)\n",
    "\n",
    "    david_nus.append(david.nu.value)\n",
    "    david_res.append(david.r_eff.value)\n",
    "    sersic_amp.append(sersic_L0(1, r_eff, n))\n",
    "    david_amp.append(david.amplitude.value)\n",
    "    \n",
    "david_nus = np.array(david_nus)\n",
    "david_res = np.array(david_res)\n",
    "sersic_amp = np.array(sersic_amp)\n",
    "david_amp = np.array(david_amp)"
   ]
  },
  {
   "cell_type": "code",
   "execution_count": 621,
   "id": "e4d26052",
   "metadata": {},
   "outputs": [],
   "source": [
    "kz.set_matplotlib(style='JL', usetex=True, dpi=100, fontsize=18)"
   ]
  },
  {
   "cell_type": "code",
   "execution_count": 627,
   "id": "7a93b663",
   "metadata": {},
   "outputs": [
    {
     "name": "stdout",
     "output_type": "stream",
     "text": [
      "Parameter('nu', value=3.6610328077585423)\n",
      "Parameter('nu', value=-0.6608878642754077)\n"
     ]
    },
    {
     "data": {
      "image/png": "[encoded data removed]",
      "text/plain": [
       "<Figure size 1000x470 with 2 Axes>"
      ]
     },
     "metadata": {
      "needs_background": "light"
     },
     "output_type": "display_data"
    }
   ],
   "source": [
    "fig, axes = plt.subplots(1, 2, figsize=(10, 4.7))\n",
    "\n",
    "axes[0].plot(ns, david_nus, lw=2, c='k')\n",
    "axes[0].set_xticks([1, 2, 3, 4])\n",
    "axes[0].set_xlabel(r'S\\'ersic $n$')\n",
    "axes[0].set_ylabel(r'Spergel $\\nu$')\n",
    "\n",
    "axes[0].plot(1, 0.5, 'ro')\n",
    "axes[0].text(1.6, 0.7, r'$n=1$', ha='center')\n",
    "axes[0].text(1.7, 0.3, r'$\\nu=0.5$', ha='center')\n",
    "\n",
    "axes[0].plot(4, -0.7441118441297985, 'ro')\n",
    "axes[0].text(4, -0.1, r'$n=4$', ha='center')\n",
    "axes[0].text(4, -0.5, r'$\\nu=-0.74$', ha='center')\n",
    "\n",
    "\n",
    "r_eff = 1\n",
    "threshs = [0.98, 0.95]\n",
    "rmaxs = [0.6, 0.9]\n",
    "lss = ['-', '-.']\n",
    "cs = ['steelblue', 'salmon']\n",
    "\n",
    "for k, n in enumerate([0.6, 4]):\n",
    "    f = lambda x: sersic_LR(x, 1, 1, n) / sersic_L0(1, 1, n) - threshs[k]\n",
    "    R_max = np.log10(fsolve(f, 2))\n",
    "\n",
    "    ser = Sersic1D(amplitude=1, r_eff=r_eff, n=n)\n",
    "    log_x = np.linspace(-1.5, R_max, 400)\n",
    "    log_y = np.log10(ser(10**log_x))\n",
    "\n",
    "    david = Spergel1D(amplitude=1 * sersic_L0(1, r_eff, n), \n",
    "                      r_eff=r_eff, \n",
    "                      nu=0.5 - 0.36 * (n - 1))\n",
    "    david.r_eff.fixed = True\n",
    "    david.amplitude.fixed = True\n",
    "\n",
    "    fit_t = fitting.LevMarLSQFitter()\n",
    "    david = fit_t(david, log_x, log_y)\n",
    "    print(david.nu)\n",
    "    log_x = np.linspace(-1.5, rmaxs[k], 400)\n",
    "    log_y = np.log10(ser(10**log_x))\n",
    "    axes[1].plot(log_x, log_y, label='Sersic', lw=2, ls='-', c=cs[k])\n",
    "    axes[1].plot(log_x, david(log_x), label='Spergel', lw=2, ls='-.', c=cs[k])\n",
    "\n",
    "axes[1].set_xlabel(r'$r/r_e$')\n",
    "axes[1].set_ylabel(r'$I(r)/I_e$')\n",
    "\n",
    "import matplotlib.lines as mlines\n",
    "lines = [mlines.Line2D([], [], color='steelblue', label=r'$n=0.6$'), \n",
    "         mlines.Line2D([], [], color='salmon', label=r'$n=4$')]\n",
    "lgd1 = axes[1].legend(handles=lines, fontsize=18, loc='upper right')#, bbox_to_anchor=(0., 1.0, 1., .0))\n",
    "axes[1].add_artist(lgd1)\n",
    "\n",
    "\n",
    "import matplotlib.lines as mlines\n",
    "lines = [mlines.Line2D([], [], color='k', ls='-', label=r'S\\'ersic'), \n",
    "         mlines.Line2D([], [], color='k', ls='-.', label=r'Spergel')]\n",
    "lgd2 = axes[1].legend(handles=lines, fontsize=18, loc='lower left')#, bbox_to_anchor=(0., 1.0, 1., .0))\n",
    "axes[1].add_artist(lgd2)\n",
    "\n",
    "\n",
    "plt.subplots_adjust(wspace=0.2)\n",
    "\n",
    "plt.tight_layout()\n",
    "\n",
    "plt.savefig('/tigress/jiaxuanl/public_html/figure/udg_paper/spergel_sersic_calib.pdf',\n",
    "            bbox_inches='tight', dpi=50)"
   ]
  },
  {
   "cell_type": "code",
   "execution_count": null,
   "id": "faf7d55a",
   "metadata": {},
   "outputs": [],
   "source": []
  },
  {
   "cell_type": "code",
   "execution_count": null,
   "id": "65a288e9",
   "metadata": {},
   "outputs": [],
   "source": []
  },
  {
   "cell_type": "code",
   "execution_count": null,
   "id": "abb75c09",
   "metadata": {},
   "outputs": [],
   "source": []
  },
  {
   "cell_type": "code",
   "execution_count": null,
   "id": "761c7e63",
   "metadata": {},
   "outputs": [],
   "source": []
  },
  {
   "cell_type": "code",
   "execution_count": 286,
   "id": "2f41ed1c",
   "metadata": {},
   "outputs": [],
   "source": [
    "from kuaizi.measure import nu_to_n"
   ]
  },
  {
   "cell_type": "code",
   "execution_count": 287,
   "id": "d3cf5148",
   "metadata": {},
   "outputs": [
    {
     "data": {
      "text/plain": [
       "[<matplotlib.lines.Line2D at 0x2b8ff05aee90>]"
      ]
     },
     "execution_count": 287,
     "metadata": {},
     "output_type": "execute_result"
    },
    {
     "data": {
      "image/png": "[encoded data removed]",
      "text/plain": [
       "<Figure size 432x288 with 1 Axes>"
      ]
     },
     "metadata": {
      "needs_background": "light"
     },
     "output_type": "display_data"
    }
   ],
   "source": [
    "x = np.linspace(-0.5, 1.0, 100)\n",
    "plt.plot(x, nu_to_n(x))"
   ]
  },
  {
   "cell_type": "markdown",
   "id": "e0ca5296",
   "metadata": {},
   "source": [
    "---"
   ]
  },
  {
   "cell_type": "markdown",
   "id": "9dd35071",
   "metadata": {},
   "source": [
    "### Central SB to average SB"
   ]
  },
  {
   "cell_type": "code",
   "execution_count": 4,
   "id": "068e4fe0",
   "metadata": {},
   "outputs": [],
   "source": [
    "from kuaizi.measure import cal_mue, cal_mu0"
   ]
  },
  {
   "cell_type": "code",
   "execution_count": 5,
   "id": "5e9399c7",
   "metadata": {},
   "outputs": [],
   "source": [
    "ns = np.linspace(0.6, 2, 100)\n",
    "mag = 20\n",
    "re = 5\n",
    "\n",
    "diff = cal_mu0(ns, re, mag) - cal_mue(ns, re, mag) "
   ]
  },
  {
   "cell_type": "code",
   "execution_count": 6,
   "id": "4d264055",
   "metadata": {},
   "outputs": [
    {
     "data": {
      "text/plain": [
       "Text(0, 0.5, '$\\\\mu_{0} - \\\\mu_{\\\\rm eff}$')"
      ]
     },
     "execution_count": 6,
     "metadata": {},
     "output_type": "execute_result"
    },
    {
     "data": {
      "image/png": "[encoded data removed]",
      "text/plain": [
       "<Figure size 432x288 with 1 Axes>"
      ]
     },
     "metadata": {
      "needs_background": "light"
     },
     "output_type": "display_data"
    }
   ],
   "source": [
    "plt.plot(ns, diff)\n",
    "\n",
    "plt.xlabel(r'S\\'ersic $n$')\n",
    "plt.ylabel(r'$\\mu_{0} - \\mu_{\\rm eff}$')"
   ]
  },
  {
   "cell_type": "code",
   "execution_count": 7,
   "id": "61c59760",
   "metadata": {},
   "outputs": [],
   "source": [
    "SB_eff_avg = mag + 2.5 * np.log10(2 * np.pi * re**2)"
   ]
  },
  {
   "cell_type": "code",
   "execution_count": 8,
   "id": "62e14040",
   "metadata": {},
   "outputs": [],
   "source": [
    "diff = cal_mu0(ns, re, mag) - SB_eff_avg"
   ]
  },
  {
   "cell_type": "code",
   "execution_count": 9,
   "id": "14947e7c",
   "metadata": {},
   "outputs": [],
   "source": [
    "from scipy.interpolate import interp1d"
   ]
  },
  {
   "cell_type": "code",
   "execution_count": 10,
   "id": "a7cd1763",
   "metadata": {},
   "outputs": [],
   "source": [
    "f = interp1d(ns, diff)"
   ]
  },
  {
   "cell_type": "code",
   "execution_count": 11,
   "id": "0b054e5a",
   "metadata": {},
   "outputs": [
    {
     "data": {
      "text/plain": [
       "array(-1.47019319)"
      ]
     },
     "execution_count": 11,
     "metadata": {},
     "output_type": "execute_result"
    }
   ],
   "source": [
    "f(1.2)"
   ]
  },
  {
   "cell_type": "code",
   "execution_count": 21,
   "id": "740c9b4f",
   "metadata": {},
   "outputs": [
    {
     "data": {
      "text/plain": [
       "array(-0.79591372)"
      ]
     },
     "execution_count": 21,
     "metadata": {},
     "output_type": "execute_result"
    }
   ],
   "source": [
    "f(0.8)"
   ]
  },
  {
   "cell_type": "code",
   "execution_count": 23,
   "id": "61478350",
   "metadata": {},
   "outputs": [
    {
     "data": {
      "text/plain": [
       "array(-1.12447127)"
      ]
     },
     "execution_count": 23,
     "metadata": {},
     "output_type": "execute_result"
    }
   ],
   "source": [
    "f(1.0)"
   ]
  },
  {
   "cell_type": "code",
   "execution_count": 16,
   "id": "628b6d3a",
   "metadata": {},
   "outputs": [
    {
     "data": {
      "text/plain": [
       "Text(0, 0.5, '$\\\\mu_{0} - \\\\overline{\\\\mu}_{\\\\rm eff}$')"
      ]
     },
     "execution_count": 16,
     "metadata": {},
     "output_type": "execute_result"
    },
    {
     "data": {
      "image/png": "[encoded data removed]",
      "text/plain": [
       "<Figure size 600x500 with 1 Axes>"
      ]
     },
     "metadata": {
      "needs_background": "light"
     },
     "output_type": "display_data"
    }
   ],
   "source": [
    "plt.plot(ns, diff)\n",
    "\n",
    "plt.xlabel(r'S\\'ersic $n$')\n",
    "plt.ylabel(r'$\\mu_{0} - \\overline{\\mu}_{\\rm eff}$')"
   ]
  },
  {
   "cell_type": "code",
   "execution_count": null,
   "id": "b90c6164",
   "metadata": {},
   "outputs": [],
   "source": []
  }
 ],
 "metadata": {
  "kernelspec": {
   "display_name": "Python 3 (ipykernel)",
   "language": "python",
   "name": "python3"
  },
  "language_info": {
   "codemirror_mode": {
    "name": "ipython",
    "version": 3
   },
   "file_extension": ".py",
   "mimetype": "text/x-python",
   "name": "python",
   "nbconvert_exporter": "python",
   "pygments_lexer": "ipython3",
   "version": "3.10.4"
  }
 },
 "nbformat": 4,
 "nbformat_minor": 5
}
