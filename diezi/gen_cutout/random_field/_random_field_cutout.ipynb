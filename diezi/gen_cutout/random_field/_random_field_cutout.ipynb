{
 "cells": [
  {
   "cell_type": "code",
   "execution_count": 1,
   "id": "accomplished-reaction",
   "metadata": {},
   "outputs": [],
   "source": [
    "%load_ext autoreload\n",
    "%autoreload 2"
   ]
  },
  {
   "cell_type": "code",
   "execution_count": 2,
   "id": "proud-benchmark",
   "metadata": {},
   "outputs": [
    {
     "name": "stderr",
     "output_type": "stream",
     "text": [
      "\n",
      "Bad key savefig.frameon in file /projects/HSC/LSST/stack_20200903/conda/miniconda3-py37_4.8.2/envs/lsst-scipipe-cb4e2dc/lib/python3.7/site-packages/matplotlib/mpl-data/stylelib/_classic_test.mplstyle, line 421 ('savefig.frameon : True')\n",
      "You probably need to get an updated matplotlibrc file from\n",
      "https://github.com/matplotlib/matplotlib/blob/v3.3.4/matplotlibrc.template\n",
      "or from the matplotlib source distribution\n",
      "\n",
      "Bad key verbose.level in file /projects/HSC/LSST/stack_20200903/conda/miniconda3-py37_4.8.2/envs/lsst-scipipe-cb4e2dc/lib/python3.7/site-packages/matplotlib/mpl-data/stylelib/_classic_test.mplstyle, line 472 ('verbose.level  : silent      # one of silent, helpful, debug, debug-annoying')\n",
      "You probably need to get an updated matplotlibrc file from\n",
      "https://github.com/matplotlib/matplotlib/blob/v3.3.4/matplotlibrc.template\n",
      "or from the matplotlib source distribution\n",
      "\n",
      "Bad key verbose.fileo in file /projects/HSC/LSST/stack_20200903/conda/miniconda3-py37_4.8.2/envs/lsst-scipipe-cb4e2dc/lib/python3.7/site-packages/matplotlib/mpl-data/stylelib/_classic_test.mplstyle, line 473 ('verbose.fileo  : sys.stdout  # a log filename, sys.stdout or sys.stderr')\n",
      "You probably need to get an updated matplotlibrc file from\n",
      "https://github.com/matplotlib/matplotlib/blob/v3.3.4/matplotlibrc.template\n",
      "or from the matplotlib source distribution\n",
      "In /projects/HSC/LSST/stack_20200903/conda/miniconda3-py37_4.8.2/envs/lsst-scipipe-cb4e2dc/lib/python3.7/site-packages/matplotlib/mpl-data/stylelib/_classic_test.mplstyle: \n",
      "The text.latex.preview rcparam was deprecated in Matplotlib 3.3 and will be removed two minor releases later.\n",
      "In /projects/HSC/LSST/stack_20200903/conda/miniconda3-py37_4.8.2/envs/lsst-scipipe-cb4e2dc/lib/python3.7/site-packages/matplotlib/mpl-data/stylelib/_classic_test.mplstyle: \n",
      "The mathtext.fallback_to_cm rcparam was deprecated in Matplotlib 3.3 and will be removed two minor releases later.\n",
      "In /projects/HSC/LSST/stack_20200903/conda/miniconda3-py37_4.8.2/envs/lsst-scipipe-cb4e2dc/lib/python3.7/site-packages/matplotlib/mpl-data/stylelib/_classic_test.mplstyle: Support for setting the 'mathtext.fallback_to_cm' rcParam is deprecated since 3.3 and will be removed two minor releases later; use 'mathtext.fallback : 'cm' instead.\n",
      "In /projects/HSC/LSST/stack_20200903/conda/miniconda3-py37_4.8.2/envs/lsst-scipipe-cb4e2dc/lib/python3.7/site-packages/matplotlib/mpl-data/stylelib/_classic_test.mplstyle: \n",
      "The validate_bool_maybe_none function was deprecated in Matplotlib 3.3 and will be removed two minor releases later.\n",
      "In /projects/HSC/LSST/stack_20200903/conda/miniconda3-py37_4.8.2/envs/lsst-scipipe-cb4e2dc/lib/python3.7/site-packages/matplotlib/mpl-data/stylelib/_classic_test.mplstyle: \n",
      "The savefig.jpeg_quality rcparam was deprecated in Matplotlib 3.3 and will be removed two minor releases later.\n",
      "In /projects/HSC/LSST/stack_20200903/conda/miniconda3-py37_4.8.2/envs/lsst-scipipe-cb4e2dc/lib/python3.7/site-packages/matplotlib/mpl-data/stylelib/_classic_test.mplstyle: \n",
      "The keymap.all_axes rcparam was deprecated in Matplotlib 3.3 and will be removed two minor releases later.\n",
      "In /projects/HSC/LSST/stack_20200903/conda/miniconda3-py37_4.8.2/envs/lsst-scipipe-cb4e2dc/lib/python3.7/site-packages/matplotlib/mpl-data/stylelib/_classic_test.mplstyle: \n",
      "The animation.avconv_path rcparam was deprecated in Matplotlib 3.3 and will be removed two minor releases later.\n",
      "In /projects/HSC/LSST/stack_20200903/conda/miniconda3-py37_4.8.2/envs/lsst-scipipe-cb4e2dc/lib/python3.7/site-packages/matplotlib/mpl-data/stylelib/_classic_test.mplstyle: \n",
      "The animation.avconv_args rcparam was deprecated in Matplotlib 3.3 and will be removed two minor releases later.\n"
     ]
    }
   ],
   "source": [
    "import numpy as np\n",
    "import matplotlib.pyplot as plt\n",
    "import kuaizi as kz\n",
    "from astropy.table import Table, vstack\n",
    "import astropy.units as u\n",
    "\n",
    "from kuaizi.display import display_single\n",
    "from astropy.io import fits"
   ]
  },
  {
   "cell_type": "code",
   "execution_count": 3,
   "id": "allied-treat",
   "metadata": {},
   "outputs": [
    {
     "data": {
      "text/plain": [
       "'/scratch/gpfs/jiaxuanl/Data/HSC/LSBG'"
      ]
     },
     "execution_count": 3,
     "metadata": {},
     "output_type": "execute_result"
    }
   ],
   "source": [
    "kz.utils.set_env(project='HSC', name='LSBG', data_dir='/scratch/gpfs/jiaxuanl/Data/')"
   ]
  },
  {
   "cell_type": "code",
   "execution_count": 4,
   "id": "c25cc2a1",
   "metadata": {},
   "outputs": [
    {
     "name": "stdout",
     "output_type": "stream",
     "text": [
      "Total LSBGs: 86002\n"
     ]
    }
   ],
   "source": [
    "lsbg_cat = Table.read('./Catalog/Greco_S18A_lsbg.fits')\n",
    "print('Total LSBGs:', len(lsbg_cat))"
   ]
  },
  {
   "cell_type": "code",
   "execution_count": 5,
   "id": "36cb148f",
   "metadata": {},
   "outputs": [],
   "source": [
    "# COSMOS footprint\n",
    "ra_cen = 354.#350\n",
    "dec_cen = 0.5\n",
    "half_size_y = np.sqrt(4) / 2\n",
    "half_size_x = half_size_y * np.cos(np.deg2rad(dec_cen))"
   ]
  },
  {
   "cell_type": "code",
   "execution_count": 16,
   "id": "3436ae2c",
   "metadata": {},
   "outputs": [
    {
     "name": "stdout",
     "output_type": "stream",
     "text": [
      "Total LSBGs: 547\n",
      "# of LSBGs in random field: 547\n"
     ]
    }
   ],
   "source": [
    "print('Total LSBGs:', len(lsbg_cat))\n",
    "flag = (lsbg_cat['ra'] < ra_cen + half_size_x) & (\n",
    "    lsbg_cat['ra'] > ra_cen - half_size_x) & (\n",
    "    lsbg_cat['dec'] < dec_cen + half_size_y) & (\n",
    "    lsbg_cat['dec'] > dec_cen - half_size_y)\n",
    "lsbg_cat_cuts = lsbg_cat[flag]\n",
    "print('# of LSBGs in random field:', len(lsbg_cat_cuts))\n",
    "lsbg_cat_cuts.write('./Catalog/random_field/lsbg_random_field2.fits', overwrite=True)"
   ]
  },
  {
   "cell_type": "code",
   "execution_count": 17,
   "id": "2a8b5b81",
   "metadata": {},
   "outputs": [
    {
     "data": {
      "text/plain": [
       "(-5.0, 5.0)"
      ]
     },
     "execution_count": 17,
     "metadata": {},
     "output_type": "execute_result"
    },
    {
     "data": {
      "image/png": "[encoded data removed]",
      "text/plain": [
       "<Figure size 432x288 with 1 Axes>"
      ]
     },
     "metadata": {
      "needs_background": "light"
     },
     "output_type": "display_data"
    }
   ],
   "source": [
    "plt.scatter(lsbg_cat['ra'], lsbg_cat['dec'], s=1)\n",
    "plt.scatter(lsbg_cat_cuts['ra'], lsbg_cat_cuts['dec'], s=1)\n",
    "plt.xlabel('RA')\n",
    "plt.ylabel('Dec')\n",
    "plt.xlim(345, 360)\n",
    "plt.ylim(-5, 5)"
   ]
  },
  {
   "cell_type": "code",
   "execution_count": 18,
   "id": "9d5fe6d7",
   "metadata": {},
   "outputs": [],
   "source": [
    "lsbg_cat = Table.read('./Catalog/random_field/lsbg_random_field2.fits') # This contains both candy+galaxy and junks"
   ]
  },
  {
   "cell_type": "code",
   "execution_count": 19,
   "id": "a171d51b",
   "metadata": {},
   "outputs": [],
   "source": [
    "cat = lsbg_cat#[(lsbg_cat['good_votes'] + lsbg_cat['bad_votes']) > 2]"
   ]
  },
  {
   "cell_type": "code",
   "execution_count": 20,
   "id": "8d74ebaa",
   "metadata": {},
   "outputs": [
    {
     "data": {
      "text/plain": [
       "547"
      ]
     },
     "execution_count": 20,
     "metadata": {},
     "output_type": "execute_result"
    }
   ],
   "source": [
    "len(cat)"
   ]
  },
  {
   "cell_type": "code",
   "execution_count": 11,
   "id": "42a41e6a",
   "metadata": {},
   "outputs": [
    {
     "data": {
      "text/plain": [
       "<matplotlib.collections.PathCollection at 0x2ab1f6fb23d0>"
      ]
     },
     "execution_count": 11,
     "metadata": {},
     "output_type": "execute_result"
    },
    {
     "data": {
      "image/png": "[encoded data removed]",
      "text/plain": [
       "<Figure size 432x288 with 1 Axes>"
      ]
     },
     "metadata": {
      "needs_background": "light"
     },
     "output_type": "display_data"
    }
   ],
   "source": [
    "plt.scatter(lsbg_cat['ra'], lsbg_cat['dec'])"
   ]
  },
  {
   "cell_type": "code",
   "execution_count": 12,
   "id": "f305ce4b",
   "metadata": {},
   "outputs": [
    {
     "data": {
      "text/html": [
       "&lt;Column name=&apos;prefix&apos; dtype=&apos;bytes70&apos; length=385&gt;\n",
       "<table>\n",
       "<tr><td>/tigress/jiaxuanl/Data/HSC/LSBG/Cutout/random_field/random_field_11</td></tr>\n",
       "<tr><td>/tigress/jiaxuanl/Data/HSC/LSBG/Cutout/random_field/random_field_276</td></tr>\n",
       "<tr><td>/tigress/jiaxuanl/Data/HSC/LSBG/Cutout/random_field/random_field_683</td></tr>\n",
       "<tr><td>/tigress/jiaxuanl/Data/HSC/LSBG/Cutout/random_field/random_field_1324</td></tr>\n",
       "<tr><td>/tigress/jiaxuanl/Data/HSC/LSBG/Cutout/random_field/random_field_2111</td></tr>\n",
       "<tr><td>/tigress/jiaxuanl/Data/HSC/LSBG/Cutout/random_field/random_field_3232</td></tr>\n",
       "<tr><td>/tigress/jiaxuanl/Data/HSC/LSBG/Cutout/random_field/random_field_3635</td></tr>\n",
       "<tr><td>/tigress/jiaxuanl/Data/HSC/LSBG/Cutout/random_field/random_field_3726</td></tr>\n",
       "<tr><td>/tigress/jiaxuanl/Data/HSC/LSBG/Cutout/random_field/random_field_4032</td></tr>\n",
       "<tr><td>/tigress/jiaxuanl/Data/HSC/LSBG/Cutout/random_field/random_field_4057</td></tr>\n",
       "<tr><td>/tigress/jiaxuanl/Data/HSC/LSBG/Cutout/random_field/random_field_4114</td></tr>\n",
       "<tr><td>/tigress/jiaxuanl/Data/HSC/LSBG/Cutout/random_field/random_field_4365</td></tr>\n",
       "<tr><td>...</td></tr>\n",
       "<tr><td>/tigress/jiaxuanl/Data/HSC/LSBG/Cutout/random_field/random_field_88460</td></tr>\n",
       "<tr><td>/tigress/jiaxuanl/Data/HSC/LSBG/Cutout/random_field/random_field_88790</td></tr>\n",
       "<tr><td>/tigress/jiaxuanl/Data/HSC/LSBG/Cutout/random_field/random_field_88825</td></tr>\n",
       "<tr><td>/tigress/jiaxuanl/Data/HSC/LSBG/Cutout/random_field/random_field_89395</td></tr>\n",
       "<tr><td>/tigress/jiaxuanl/Data/HSC/LSBG/Cutout/random_field/random_field_89539</td></tr>\n",
       "<tr><td>/tigress/jiaxuanl/Data/HSC/LSBG/Cutout/random_field/random_field_89705</td></tr>\n",
       "<tr><td>/tigress/jiaxuanl/Data/HSC/LSBG/Cutout/random_field/random_field_89765</td></tr>\n",
       "<tr><td>/tigress/jiaxuanl/Data/HSC/LSBG/Cutout/random_field/random_field_90112</td></tr>\n",
       "<tr><td>/tigress/jiaxuanl/Data/HSC/LSBG/Cutout/random_field/random_field_90209</td></tr>\n",
       "<tr><td>/tigress/jiaxuanl/Data/HSC/LSBG/Cutout/random_field/random_field_90527</td></tr>\n",
       "<tr><td>/tigress/jiaxuanl/Data/HSC/LSBG/Cutout/random_field/random_field_90679</td></tr>\n",
       "<tr><td>/tigress/jiaxuanl/Data/HSC/LSBG/Cutout/random_field/random_field_90772</td></tr>\n",
       "</table>"
      ],
      "text/plain": [
       "<Column name='prefix' dtype='bytes70' length=385>\n",
       "   /tigress/jiaxuanl/Data/HSC/LSBG/Cutout/random_field/random_field_11\n",
       "  /tigress/jiaxuanl/Data/HSC/LSBG/Cutout/random_field/random_field_276\n",
       "  /tigress/jiaxuanl/Data/HSC/LSBG/Cutout/random_field/random_field_683\n",
       " /tigress/jiaxuanl/Data/HSC/LSBG/Cutout/random_field/random_field_1324\n",
       " /tigress/jiaxuanl/Data/HSC/LSBG/Cutout/random_field/random_field_2111\n",
       " /tigress/jiaxuanl/Data/HSC/LSBG/Cutout/random_field/random_field_3232\n",
       " /tigress/jiaxuanl/Data/HSC/LSBG/Cutout/random_field/random_field_3635\n",
       " /tigress/jiaxuanl/Data/HSC/LSBG/Cutout/random_field/random_field_3726\n",
       " /tigress/jiaxuanl/Data/HSC/LSBG/Cutout/random_field/random_field_4032\n",
       " /tigress/jiaxuanl/Data/HSC/LSBG/Cutout/random_field/random_field_4057\n",
       " /tigress/jiaxuanl/Data/HSC/LSBG/Cutout/random_field/random_field_4114\n",
       " /tigress/jiaxuanl/Data/HSC/LSBG/Cutout/random_field/random_field_4365\n",
       "                                                                   ...\n",
       "/tigress/jiaxuanl/Data/HSC/LSBG/Cutout/random_field/random_field_88460\n",
       "/tigress/jiaxuanl/Data/HSC/LSBG/Cutout/random_field/random_field_88790\n",
       "/tigress/jiaxuanl/Data/HSC/LSBG/Cutout/random_field/random_field_88825\n",
       "/tigress/jiaxuanl/Data/HSC/LSBG/Cutout/random_field/random_field_89395\n",
       "/tigress/jiaxuanl/Data/HSC/LSBG/Cutout/random_field/random_field_89539\n",
       "/tigress/jiaxuanl/Data/HSC/LSBG/Cutout/random_field/random_field_89705\n",
       "/tigress/jiaxuanl/Data/HSC/LSBG/Cutout/random_field/random_field_89765\n",
       "/tigress/jiaxuanl/Data/HSC/LSBG/Cutout/random_field/random_field_90112\n",
       "/tigress/jiaxuanl/Data/HSC/LSBG/Cutout/random_field/random_field_90209\n",
       "/tigress/jiaxuanl/Data/HSC/LSBG/Cutout/random_field/random_field_90527\n",
       "/tigress/jiaxuanl/Data/HSC/LSBG/Cutout/random_field/random_field_90679\n",
       "/tigress/jiaxuanl/Data/HSC/LSBG/Cutout/random_field/random_field_90772"
      ]
     },
     "execution_count": 12,
     "metadata": {},
     "output_type": "execute_result"
    }
   ],
   "source": [
    "Table.read('/tigress/jiaxuanl/Data/HSC/LSBG/Catalog/random_field/random_field_cutout_cat_random_field.fits')['prefix']"
   ]
  },
  {
   "cell_type": "code",
   "execution_count": 55,
   "id": "540b5075",
   "metadata": {},
   "outputs": [],
   "source": [
    "import PIL.Image as Image"
   ]
  },
  {
   "cell_type": "code",
   "execution_count": null,
   "id": "d6416610",
   "metadata": {},
   "outputs": [],
   "source": []
  },
  {
   "cell_type": "markdown",
   "id": "ahead-failing",
   "metadata": {},
   "source": [
    "### Generate cutout"
   ]
  },
  {
   "cell_type": "markdown",
   "id": "e8dee80d",
   "metadata": {},
   "source": [
    "Run `'/home/jiaxuanl/Research/Packages/kuaizi/diezi/gen_cutout/nsa_sample/lsbg_cutout_nsa.sh'`\n",
    "\n",
    "In the end, we get `$gpfs/Data/HSC/LSBG/Cutout/nsa_20hosts_cutout_cat.fits`"
   ]
  },
  {
   "cell_type": "code",
   "execution_count": null,
   "id": "cbe4376c",
   "metadata": {},
   "outputs": [],
   "source": []
  }
 ],
 "metadata": {
  "kernelspec": {
   "display_name": "Python 3",
   "language": "python",
   "name": "python3"
  },
  "language_info": {
   "codemirror_mode": {
    "name": "ipython",
    "version": 3
   },
   "file_extension": ".py",
   "mimetype": "text/x-python",
   "name": "python",
   "nbconvert_exporter": "python",
   "pygments_lexer": "ipython3",
   "version": "3.7.8"
  }
 },
 "nbformat": 4,
 "nbformat_minor": 5
}
