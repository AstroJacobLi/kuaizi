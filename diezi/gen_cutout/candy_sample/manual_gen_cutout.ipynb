{
 "cells": [
  {
   "cell_type": "code",
   "execution_count": 1,
   "id": "guilty-forestry",
   "metadata": {},
   "outputs": [],
   "source": [
    "# Import packages\n",
    "%load_ext autoreload\n",
    "%autoreload 2"
   ]
  },
  {
   "cell_type": "code",
   "execution_count": 2,
   "id": "velvet-valve",
   "metadata": {},
   "outputs": [
    {
     "ename": "RuntimeError",
     "evalue": "module compiled against API version 0xe but this version of numpy is 0xd",
     "output_type": "error",
     "traceback": [
      "\u001b[0;31m---------------------------------------------------------------------------\u001b[0m",
      "\u001b[0;31mRuntimeError\u001b[0m                              Traceback (most recent call last)",
      "\u001b[0;31mRuntimeError\u001b[0m: module compiled against API version 0xe but this version of numpy is 0xd"
     ]
    },
    {
     "ename": "RuntimeError",
     "evalue": "module compiled against API version 0xe but this version of numpy is 0xd",
     "output_type": "error",
     "traceback": [
      "\u001b[0;31m---------------------------------------------------------------------------\u001b[0m",
      "\u001b[0;31mRuntimeError\u001b[0m                              Traceback (most recent call last)",
      "\u001b[0;31mRuntimeError\u001b[0m: module compiled against API version 0xe but this version of numpy is 0xd"
     ]
    }
   ],
   "source": [
    "import fire\n",
    "import os\n",
    "import lsst.daf.persistence as dafPersist\n",
    "from time import perf_counter\n",
    "import numpy as np\n",
    "import matplotlib.pyplot as plt\n",
    "import kuaizi as kz\n",
    "from astropy.table import Table\n",
    "import astropy.units as u\n",
    "from joblib import Parallel, delayed\n",
    "\n",
    "from tiger_cutout_hsc import cutout_one, prepare_catalog  # generate_cutout, get_psf\n",
    "import lsst.log\n",
    "Log = lsst.log.Log()\n",
    "Log.setLevel(lsst.log.ERROR)\n",
    "\n",
    "# everything should be downloaded to /tigress/jiaxuanl/Data/HSC/LSBG/Cutout\n",
    "\n",
    "kz.utils.set_env(project='HSC', name='LSBG',\n",
    "                 data_dir='/tigress/jiaxuanl/Data/')\n",
    "\n",
    "DATA_ROOT = '/tigress/HSC/DR/s18a_wide'\n",
    "PIXEL_SCALE = 0.168  # arcsec / pixel\n"
   ]
  },
  {
   "cell_type": "code",
   "execution_count": 3,
   "id": "behind-wisconsin",
   "metadata": {},
   "outputs": [],
   "source": [
    "t0 = perf_counter()\n",
    "\n",
    "butler = dafPersist.Butler(DATA_ROOT)\n",
    "skymap = butler.get('deepCoadd_skyMap', immediate=True)\n",
    "# print('\\n Number of jobs:', njobs)"
   ]
  },
  {
   "cell_type": "code",
   "execution_count": 4,
   "id": "curious-wallpaper",
   "metadata": {},
   "outputs": [],
   "source": [
    "bands = 'grizy'\n",
    "cat = Table.read('./Cutout/Candy/candy_cutout_cat.fits')"
   ]
  },
  {
   "cell_type": "code",
   "execution_count": 5,
   "id": "legitimate-white",
   "metadata": {},
   "outputs": [],
   "source": [
    "cat['cutout_size'][[110, 114, 125, 142]] = 2.0"
   ]
  },
  {
   "cell_type": "code",
   "execution_count": 6,
   "id": "partial-convergence",
   "metadata": {},
   "outputs": [
    {
     "data": {
      "text/html": [
       "&lt;Column name=&apos;cutout_size&apos; dtype=&apos;float64&apos; unit=&apos;arcmin&apos; length=4&gt;\n",
       "<table>\n",
       "<tr><td>2.0</td></tr>\n",
       "<tr><td>2.0</td></tr>\n",
       "<tr><td>2.0</td></tr>\n",
       "<tr><td>2.0</td></tr>\n",
       "</table>"
      ],
      "text/plain": [
       "<Column name='cutout_size' dtype='float64' unit='arcmin' length=4>\n",
       "2.0\n",
       "2.0\n",
       "2.0\n",
       "2.0"
      ]
     },
     "execution_count": 6,
     "metadata": {},
     "output_type": "execute_result"
    }
   ],
   "source": [
    "cat[[110, 114, 125, 142]]['cutout_size']"
   ]
  },
  {
   "cell_type": "code",
   "execution_count": 7,
   "id": "daily-surge",
   "metadata": {},
   "outputs": [],
   "source": [
    "cat['radius'] = cat['cutout_size']"
   ]
  },
  {
   "cell_type": "code",
   "execution_count": 8,
   "id": "ready-relation",
   "metadata": {},
   "outputs": [
    {
     "data": {
      "text/html": [
       "&lt;Column name=&apos;radius&apos; dtype=&apos;float64&apos; unit=&apos;arcmin&apos; length=4&gt;\n",
       "<table>\n",
       "<tr><td>2.0</td></tr>\n",
       "<tr><td>2.0</td></tr>\n",
       "<tr><td>2.0</td></tr>\n",
       "<tr><td>2.0</td></tr>\n",
       "</table>"
      ],
      "text/plain": [
       "<Column name='radius' dtype='float64' unit='arcmin' length=4>\n",
       "2.0\n",
       "2.0\n",
       "2.0\n",
       "2.0"
      ]
     },
     "execution_count": 8,
     "metadata": {},
     "output_type": "execute_result"
    }
   ],
   "source": [
    "cat[[110, 114, 125, 142]]['radius']"
   ]
  },
  {
   "cell_type": "code",
   "execution_count": 15,
   "id": "serious-partnership",
   "metadata": {},
   "outputs": [
    {
     "name": "stdout",
     "output_type": "stream",
     "text": [
      "2.0 arcmin\n",
      "2.0 arcmin\n",
      "2.0 arcmin\n",
      "2.0 arcmin\n",
      "2.0 arcmin\n",
      "2.0 arcmin\n",
      "2.0 arcmin\n",
      "2.0 arcmin\n",
      "2.0 arcmin\n",
      "2.0 arcmin\n",
      "2.0 arcmin\n",
      "2.0 arcmin\n",
      "2.0 arcmin\n",
      "2.0 arcmin\n",
      "2.0 arcmin\n",
      "2.0 arcmin\n",
      "2.0 arcmin\n",
      "2.0 arcmin\n",
      "2.0 arcmin\n",
      "2.0 arcmin\n"
     ]
    }
   ],
   "source": [
    "for obj in cat[[110, 114, 125, 142]]:\n",
    "    for filt in bands:\n",
    "        cutout_one(butler, skymap, obj, filt, 'deepCoadd_calexp', True)"
   ]
  },
  {
   "cell_type": "code",
   "execution_count": 20,
   "id": "smooth-direction",
   "metadata": {},
   "outputs": [],
   "source": [
    "cat.write('./Cutout/Candy/candy_cutout_cat.fits', overwrite=True)"
   ]
  },
  {
   "cell_type": "code",
   "execution_count": 18,
   "id": "continued-shannon",
   "metadata": {},
   "outputs": [
    {
     "data": {
      "text/html": [
       "<i>Row index=110</i>\n",
       "<table id=\"table47416728857552\">\n",
       "<thead><tr><th>ra</th><th>dec</th><th>a_image</th><th>b_image</th><th>theta_image</th><th>ellipticity</th><th>mag_auto_g</th><th>mag_auto_r</th><th>mag_auto_i</th><th>flux_radius_ave_g</th><th>flux_radius_ave_i</th><th>mu_ave_g</th><th>mu_ave_i</th><th>acorr_ratio</th><th>g-i</th><th>g-r</th><th>A_g</th><th>A_r</th><th>A_i</th><th>tract</th><th>patch</th><th>synth_id</th><th>viz-id</th><th>objectid</th><th>Seq</th><th>cutout_size</th><th>prefix</th><th>radius</th><th>image_flag [5]</th><th>psf_flag [5]</th></tr></thead>\n",
       "<thead><tr><th></th><th></th><th></th><th></th><th></th><th></th><th></th><th></th><th></th><th></th><th></th><th></th><th></th><th></th><th></th><th></th><th></th><th></th><th></th><th></th><th></th><th></th><th></th><th></th><th></th><th>arcmin</th><th></th><th>arcmin</th><th></th><th></th></tr></thead>\n",
       "<thead><tr><th>float64</th><th>float64</th><th>float64</th><th>float64</th><th>float64</th><th>float64</th><th>float64</th><th>float64</th><th>float64</th><th>float64</th><th>float64</th><th>float64</th><th>float64</th><th>float64</th><th>float64</th><th>float64</th><th>float64</th><th>float64</th><th>float64</th><th>int64</th><th>bytes3</th><th>int64</th><th>int64</th><th>int64</th><th>int64</th><th>float64</th><th>bytes54</th><th>float64</th><th>bool</th><th>bool</th></tr></thead>\n",
       "<tr><td>354.3517366</td><td>0.3918412</td><td>111.927</td><td>68.761</td><td>-44.68</td><td>0.386</td><td>16.1509</td><td>15.6701</td><td>15.4657</td><td>16.71978</td><td>15.238356</td><td>23.538392974544852</td><td>22.7442853882625</td><td>1.0294483091791418</td><td>0.7801700104371089</td><td>0.5202574154141139</td><td>0.1068832016625919</td><td>0.07574061707670833</td><td>0.05405321209970237</td><td>9708</td><td>2,2</td><td>-1</td><td>63540</td><td>63540</td><td>110</td><td>2.0</td><td>/tigress/jiaxuanl/Data/HSC/LSBG/Cutout/Candy/candy_110</td><td>2.0</td><td>True .. True</td><td>True .. True</td></tr>\n",
       "</table>"
      ],
      "text/plain": [
       "<Row index=110>\n",
       "     ra        dec    a_image b_image theta_image ellipticity mag_auto_g mag_auto_r mag_auto_i flux_radius_ave_g flux_radius_ave_i      mu_ave_g          mu_ave_i        acorr_ratio            g-i                g-r                A_g                 A_r                 A_i         tract patch  synth_id viz-id objectid  Seq  cutout_size                         prefix                          radius image_flag [5] psf_flag [5]\n",
       "                                                                                                                                                                                                                                                                                                                                          arcmin                                                           arcmin                            \n",
       "  float64    float64  float64 float64   float64     float64    float64    float64    float64        float64           float64           float64           float64           float64            float64            float64            float64             float64             float64       int64 bytes3  int64   int64   int64   int64   float64                          bytes54                         float64      bool          bool    \n",
       "----------- --------- ------- ------- ----------- ----------- ---------- ---------- ---------- ----------------- ----------------- ------------------ ---------------- ------------------ ------------------ ------------------ ------------------ ------------------- ------------------- ----- ------ -------- ------ -------- ----- ----------- ------------------------------------------------------ ------- -------------- ------------\n",
       "354.3517366 0.3918412 111.927  68.761      -44.68       0.386    16.1509    15.6701    15.4657          16.71978         15.238356 23.538392974544852 22.7442853882625 1.0294483091791418 0.7801700104371089 0.5202574154141139 0.1068832016625919 0.07574061707670833 0.05405321209970237  9708    2,2       -1  63540    63540   110         2.0 /tigress/jiaxuanl/Data/HSC/LSBG/Cutout/Candy/candy_110     2.0   True .. True True .. True"
      ]
     },
     "execution_count": 18,
     "metadata": {},
     "output_type": "execute_result"
    }
   ],
   "source": [
    "cat[110]"
   ]
  },
  {
   "cell_type": "code",
   "execution_count": 19,
   "id": "better-needle",
   "metadata": {},
   "outputs": [
    {
     "data": {
      "text/plain": [
       "'/tigress/jiaxuanl/Data/HSC/LSBG/Cutout/Candy/candy_cutout_cat.fits'"
      ]
     },
     "execution_count": 19,
     "metadata": {},
     "output_type": "execute_result"
    }
   ],
   "source": [
    "os.path.abspath('./Cutout/Candy/candy_cutout_cat.fits')"
   ]
  },
  {
   "cell_type": "code",
   "execution_count": null,
   "id": "described-pointer",
   "metadata": {},
   "outputs": [],
   "source": []
  }
 ],
 "metadata": {
  "kernelspec": {
   "display_name": "Python 3",
   "language": "python",
   "name": "python3"
  },
  "language_info": {
   "codemirror_mode": {
    "name": "ipython",
    "version": 3
   },
   "file_extension": ".py",
   "mimetype": "text/x-python",
   "name": "python",
   "nbconvert_exporter": "python",
   "pygments_lexer": "ipython3",
   "version": "3.7.8"
  }
 },
 "nbformat": 4,
 "nbformat_minor": 5
}
