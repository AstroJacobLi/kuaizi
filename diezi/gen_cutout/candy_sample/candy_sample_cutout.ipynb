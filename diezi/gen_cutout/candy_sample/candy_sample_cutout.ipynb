{
 "cells": [
  {
   "cell_type": "markdown",
   "id": "7ee4c327",
   "metadata": {},
   "source": [
    "### Candy means Johnny's published catalog"
   ]
  },
  {
   "cell_type": "code",
   "execution_count": 5,
   "id": "accomplished-reaction",
   "metadata": {},
   "outputs": [
    {
     "name": "stdout",
     "output_type": "stream",
     "text": [
      "The autoreload extension is already loaded. To reload it, use:\n",
      "  %reload_ext autoreload\n"
     ]
    }
   ],
   "source": [
    "%load_ext autoreload\n",
    "%autoreload 2"
   ]
  },
  {
   "cell_type": "code",
   "execution_count": 37,
   "id": "proud-benchmark",
   "metadata": {},
   "outputs": [],
   "source": [
    "import numpy as np\n",
    "import matplotlib.pyplot as plt\n",
    "import kuaizi as kz\n",
    "from astropy.table import Table, QTable\n",
    "import astropy.units as u\n",
    "\n",
    "from kuaizi.display import display_single\n",
    "from astropy.io import fits\n",
    "\n",
    "#from tiger_cutout_hsc import cutout_one, prepare_catalog # generate_cutout, get_psf\n",
    "#import lsst.daf.persistence as dafPersist"
   ]
  },
  {
   "cell_type": "code",
   "execution_count": 8,
   "id": "allied-treat",
   "metadata": {},
   "outputs": [
    {
     "data": {
      "text/plain": [
       "'/scratch/gpfs/jiaxuanl/Data/HSC/LSBG'"
      ]
     },
     "execution_count": 8,
     "metadata": {},
     "output_type": "execute_result"
    }
   ],
   "source": [
    "kz.utils.set_env(project='HSC', name='LSBG', data_dir='/scratch/gpfs/jiaxuanl/Data/')"
   ]
  },
  {
   "cell_type": "markdown",
   "id": "gothic-poster",
   "metadata": {},
   "source": [
    "### Adaptive cutout size (Apr 27, 2022)"
   ]
  },
  {
   "cell_type": "code",
   "execution_count": 51,
   "id": "c1188c1d",
   "metadata": {},
   "outputs": [],
   "source": [
    "cat = QTable.read('./Catalog/LSB-Greco2018.fits')\n",
    "cat.rename_column('RAJ2000', 'ra')\n",
    "cat['ra'] = cat['ra'].value\n",
    "\n",
    "cat.rename_column('DEJ2000', 'dec')\n",
    "cat['dec'] = cat['dec'].value\n",
    "\n",
    "cat.rename_column('imag', 'mag_auto_i')\n",
    "cat['mag_auto_i'] = cat['mag_auto_i'].value\n",
    "\n",
    "cat.rename_column('Seq', 'viz-id')\n",
    "cat['flux_radius_ave_i'] = cat['Reff']\n",
    "cat.write('./Catalog/candy/Greco18_candy.fits', overwrite=True)"
   ]
  },
  {
   "cell_type": "code",
   "execution_count": null,
   "id": "7e2492c5",
   "metadata": {},
   "outputs": [],
   "source": []
  },
  {
   "cell_type": "raw",
   "id": "b24e7fc8",
   "metadata": {},
   "source": [
    "import sys\n",
    "sys.path.append('/home/jiaxuanl/Research/Packages/kuaizi/diezi/gen_cutout/')"
   ]
  },
  {
   "cell_type": "raw",
   "id": "dc56b11e",
   "metadata": {},
   "source": [
    "from s18a_batch_cutout import batch_cutout"
   ]
  },
  {
   "cell_type": "raw",
   "id": "c4b1cb52",
   "metadata": {},
   "source": [
    "batch_cutout(\"/scratch/gpfs/jiaxuanl/Data\",\n",
    "    './Catalog/candy/Greco18_candy.fits', \n",
    "             size=0.7,\n",
    "            unit='arcmin',\n",
    "            bands='g',\n",
    "            ra_name='ra',\n",
    "            dec_name='dec',\n",
    "            name='viz-id',\n",
    "            prefix='candy',\n",
    "            output='./Cutout/candy',\n",
    "            label='deepCoadd_calexp',\n",
    "            root='/tigress/HSC/DR/s18a_wide',\n",
    "            njobs=1,\n",
    "            psf=True,)"
   ]
  },
  {
   "cell_type": "code",
   "execution_count": null,
   "id": "d8fb8b8d",
   "metadata": {},
   "outputs": [],
   "source": []
  },
  {
   "cell_type": "code",
   "execution_count": null,
   "id": "a525e484",
   "metadata": {},
   "outputs": [],
   "source": []
  },
  {
   "cell_type": "code",
   "execution_count": null,
   "id": "61b45467",
   "metadata": {},
   "outputs": [],
   "source": []
  }
 ],
 "metadata": {
  "kernelspec": {
   "display_name": "Python 3",
   "language": "python",
   "name": "python3"
  },
  "language_info": {
   "codemirror_mode": {
    "name": "ipython",
    "version": 3
   },
   "file_extension": ".py",
   "mimetype": "text/x-python",
   "name": "python",
   "nbconvert_exporter": "python",
   "pygments_lexer": "ipython3",
   "version": "3.7.8"
  }
 },
 "nbformat": 4,
 "nbformat_minor": 5
}
