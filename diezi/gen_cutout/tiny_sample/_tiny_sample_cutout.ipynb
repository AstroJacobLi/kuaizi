{
 "cells": [
  {
   "cell_type": "code",
   "execution_count": 1,
   "id": "accomplished-reaction",
   "metadata": {},
   "outputs": [],
   "source": [
    "%load_ext autoreload\n",
    "%autoreload 2"
   ]
  },
  {
   "cell_type": "code",
   "execution_count": 3,
   "id": "proud-benchmark",
   "metadata": {},
   "outputs": [],
   "source": [
    "import numpy as np\n",
    "import matplotlib.pyplot as plt\n",
    "import kuaizi as kz\n",
    "from astropy.table import Table, vstack\n",
    "import astropy.units as u\n",
    "\n",
    "from kuaizi.display import display_single\n",
    "from astropy.io import fits"
   ]
  },
  {
   "cell_type": "code",
   "execution_count": 4,
   "id": "allied-treat",
   "metadata": {},
   "outputs": [
    {
     "data": {
      "text/plain": [
       "'/tigress/jiaxuanl/Data/HSC/LSBG'"
      ]
     },
     "execution_count": 4,
     "metadata": {},
     "output_type": "execute_result"
    }
   ],
   "source": [
    "kz.utils.set_env(project='HSC', name='LSBG', data_dir='/tigress/jiaxuanl/Data/')"
   ]
  },
  {
   "cell_type": "code",
   "execution_count": 11,
   "id": "8ed96928",
   "metadata": {},
   "outputs": [],
   "source": [
    "from kuaizi.measure import fn"
   ]
  },
  {
   "cell_type": "code",
   "execution_count": 7,
   "id": "c38a6fed",
   "metadata": {},
   "outputs": [],
   "source": [
    "np.random.seed(123)"
   ]
  },
  {
   "cell_type": "code",
   "execution_count": 26,
   "id": "3436ae2c",
   "metadata": {},
   "outputs": [],
   "source": [
    "ref_cat = Table.read('/scratch/gpfs/jiaxuanl/Data/HSC/LSBG/Catalog/LSB-Greco2018.fits')\n",
    "ref_cat = ref_cat[ref_cat['Reff'] < 3.0]\n",
    "ref_cat['viz-id'] = np.arange(len(ref_cat))\n",
    "ref_cat['mag_auto_i'] = ref_cat['imag']\n",
    "ref_cat['flux_radius_ave_i'] = ref_cat['Reff']\n",
    "ref_cat.rename_column('RAJ2000', 'ra')\n",
    "ref_cat['ra'] = ref_cat['ra'].data\n",
    "ref_cat.rename_column('DEJ2000', 'dec')\n",
    "ref_cat['dec'] = ref_cat['dec'].data\n",
    "\n",
    "ref_cat.write('./Catalog/tiny_sample/lsbg_tiny.fits', overwrite=True)"
   ]
  },
  {
   "cell_type": "code",
   "execution_count": 18,
   "id": "81dd8ac2",
   "metadata": {},
   "outputs": [],
   "source": [
    "ref_cat = Table.read('/scratch/gpfs/jiaxuanl/Data/HSC/LSBG/Catalog/LSB-Greco2018.fits')\n",
    "ref_cat = ref_cat[ref_cat['Reff'] > 3.0]\n",
    "ref_cat = ref_cat[np.random.randint(0, len(ref_cat), 100)]\n",
    "\n",
    "ref_cat['viz-id'] = np.arange(62, 62 + len(ref_cat))\n",
    "ref_cat['mag_auto_i'] = ref_cat['imag']\n",
    "ref_cat['flux_radius_ave_i'] = ref_cat['Reff']\n",
    "ref_cat.rename_column('RAJ2000', 'ra')\n",
    "ref_cat['ra'] = ref_cat['ra'].data\n",
    "ref_cat.rename_column('DEJ2000', 'dec')\n",
    "ref_cat['dec'] = ref_cat['dec'].data\n",
    "\n",
    "ref_cat.write('./Catalog/tiny_sample/lsbg_tiny_2.fits', overwrite=True)"
   ]
  },
  {
   "cell_type": "code",
   "execution_count": null,
   "id": "28eafe53",
   "metadata": {},
   "outputs": [],
   "source": []
  },
  {
   "cell_type": "code",
   "execution_count": 16,
   "id": "1e7ab9fc",
   "metadata": {},
   "outputs": [],
   "source": [
    "from kuaizi.measure import fn"
   ]
  },
  {
   "cell_type": "code",
   "execution_count": 21,
   "id": "ecea05d1",
   "metadata": {},
   "outputs": [],
   "source": [
    "ref_cat['SB_eff_avg_i'] = ref_cat['iSB'] + 2.5 * np.log10(fn(ref_cat['n']))\n",
    "ref_cat['SB_eff_avg_g'] = ref_cat['SB_eff_avg_i'] + ref_cat['g-i']"
   ]
  },
  {
   "cell_type": "code",
   "execution_count": 25,
   "id": "3caa244c",
   "metadata": {},
   "outputs": [
    {
     "data": {
      "text/plain": [
       "(28.0, 24.0)"
      ]
     },
     "execution_count": 25,
     "metadata": {},
     "output_type": "execute_result"
    },
    {
     "data": {
      "image/png": "[encoded data removed]",
      "text/plain": [
       "<Figure size 432x288 with 1 Axes>"
      ]
     },
     "metadata": {
      "needs_background": "light"
     },
     "output_type": "display_data"
    }
   ],
   "source": [
    "plt.scatter(ref_cat['SB_eff_avg_g'], ref_cat['Reff'])\n",
    "plt.xlim(28, 24)"
   ]
  },
  {
   "cell_type": "code",
   "execution_count": 23,
   "id": "80dc41c4",
   "metadata": {},
   "outputs": [
    {
     "data": {
      "text/html": [
       "<i>Table length=781</i>\n",
       "<table id=\"table47977776638160\" class=\"table-striped table-bordered table-condensed\">\n",
       "<thead><tr><th>UV</th><th>Seq</th><th>RAJ2000</th><th>DEJ2000</th><th>iSB</th><th>e_iSB</th><th>imag</th><th>e_imag</th><th>g-r</th><th>g-i</th><th>Reff</th><th>e_Reff</th><th>n</th><th>e_n</th><th>Ell</th><th>e_Ell</th><th>Ag</th><th>Ar</th><th>Ai</th><th>recno</th><th>SB_eff_avg_i</th><th>SB_eff_avg_g</th></tr></thead>\n",
       "<thead><tr><th></th><th></th><th>deg</th><th>deg</th><th>mag / arcsec2</th><th>mag / arcsec2</th><th>mag</th><th>mag</th><th>mag</th><th>mag</th><th>arcsec</th><th>arcsec</th><th></th><th></th><th></th><th></th><th>mag</th><th>mag</th><th>mag</th><th></th><th>mag / arcsec2</th><th>mag / arcsec2</th></tr></thead>\n",
       "<thead><tr><th>bytes1</th><th>int16</th><th>float64</th><th>float64</th><th>float64</th><th>float64</th><th>float64</th><th>float64</th><th>float64</th><th>float64</th><th>float64</th><th>float64</th><th>float64</th><th>float64</th><th>float64</th><th>float64</th><th>float64</th><th>float64</th><th>float64</th><th>int32</th><th>float64</th><th>float64</th></tr></thead>\n",
       "<tr><td></td><td>1</td><td>247.28273</td><td>43.67173</td><td>25.88</td><td>0.4</td><td>21.03</td><td>0.25</td><td>0.92</td><td>1.29</td><td>7.15</td><td>0.84</td><td>0.57</td><td>0.32</td><td>0.59</td><td>0.04</td><td>0.022</td><td>0.015</td><td>0.011</td><td>1</td><td>26.330358245717935</td><td>27.620358245717934</td></tr>\n",
       "<tr><td></td><td>2</td><td>245.71466</td><td>43.72621</td><td>25.38</td><td>0.4</td><td>20.56</td><td>0.24</td><td>0.66</td><td>0.88</td><td>5.92</td><td>0.79</td><td>0.45</td><td>0.31</td><td>0.49</td><td>0.03</td><td>0.042</td><td>0.029</td><td>0.021</td><td>2</td><td>25.737326459247054</td><td>26.617326459247053</td></tr>\n",
       "<tr><td></td><td>3</td><td>241.37654</td><td>44.3357</td><td>24.85</td><td>0.4</td><td>21.01</td><td>0.24</td><td>0.6</td><td>0.81</td><td>4.05</td><td>0.79</td><td>0.61</td><td>0.31</td><td>0.47</td><td>0.03</td><td>0.037</td><td>0.026</td><td>0.019</td><td>3</td><td>25.328430253725664</td><td>26.138430253725662</td></tr>\n",
       "<tr><td></td><td>4</td><td>240.9165</td><td>43.98957</td><td>24.67</td><td>0.4</td><td>21.04</td><td>0.24</td><td>0.46</td><td>0.71</td><td>3.37</td><td>0.79</td><td>0.85</td><td>0.32</td><td>0.11</td><td>0.04</td><td>0.035</td><td>0.025</td><td>0.018</td><td>4</td><td>25.293146584742797</td><td>26.003146584742797</td></tr>\n",
       "<tr><td>*</td><td>5</td><td>240.88005</td><td>44.10985</td><td>21.87</td><td>0.4</td><td>19.31</td><td>0.24</td><td>0.25</td><td>0.33</td><td>4.88</td><td>0.79</td><td>1.75</td><td>0.31</td><td>0.3</td><td>0.03</td><td>0.033</td><td>0.023</td><td>0.016</td><td>5</td><td>22.838723252623836</td><td>23.168723252623835</td></tr>\n",
       "<tr><td></td><td>6</td><td>244.48318</td><td>44.2905</td><td>22.71</td><td>0.4</td><td>19.31</td><td>0.24</td><td>0.25</td><td>0.43</td><td>4.12</td><td>0.79</td><td>1.11</td><td>0.31</td><td>0.27</td><td>0.03</td><td>0.037</td><td>0.026</td><td>0.019</td><td>6</td><td>23.456866013756215</td><td>23.886866013756215</td></tr>\n",
       "<tr><td></td><td>7</td><td>241.51961</td><td>44.69582</td><td>25.52</td><td>0.42</td><td>21.8</td><td>0.28</td><td>0.48</td><td>0.56</td><td>4.1</td><td>0.87</td><td>0.73</td><td>0.34</td><td>0.45</td><td>0.06</td><td>0.041</td><td>0.029</td><td>0.021</td><td>7</td><td>26.075347536596915</td><td>26.635347536596914</td></tr>\n",
       "<tr><td></td><td>8</td><td>242.29613</td><td>44.35883</td><td>23.81</td><td>0.4</td><td>20.03</td><td>0.24</td><td>0.27</td><td>0.43</td><td>4.83</td><td>0.79</td><td>0.95</td><td>0.31</td><td>0.42</td><td>0.03</td><td>0.037</td><td>0.026</td><td>0.019</td><td>8</td><td>24.484021345359515</td><td>24.914021345359515</td></tr>\n",
       "<tr><td>*</td><td>9</td><td>239.49328</td><td>43.96829</td><td>21.52</td><td>0.4</td><td>19.22</td><td>0.24</td><td>0.35</td><td>0.51</td><td>4.72</td><td>0.79</td><td>1.94</td><td>0.31</td><td>0.18</td><td>0.03</td><td>0.031</td><td>0.022</td><td>0.016</td><td>9</td><td>22.540391680090053</td><td>23.050391680090055</td></tr>\n",
       "<tr><td>...</td><td>...</td><td>...</td><td>...</td><td>...</td><td>...</td><td>...</td><td>...</td><td>...</td><td>...</td><td>...</td><td>...</td><td>...</td><td>...</td><td>...</td><td>...</td><td>...</td><td>...</td><td>...</td><td>...</td><td>...</td><td>...</td></tr>\n",
       "<tr><td></td><td>772</td><td>139.53382</td><td>-2.11821</td><td>23.71</td><td>0.4</td><td>20.69</td><td>0.24</td><td>0.32</td><td>0.42</td><td>3.41</td><td>0.8</td><td>0.87</td><td>0.32</td><td>0.49</td><td>0.03</td><td>0.118</td><td>0.084</td><td>0.06</td><td>772</td><td>24.343696725047018</td><td>24.76369672504702</td></tr>\n",
       "<tr><td></td><td>773</td><td>139.35276</td><td>-0.50643</td><td>25.99</td><td>0.4</td><td>20.38</td><td>0.24</td><td>0.59</td><td>0.98</td><td>7.04</td><td>0.8</td><td>0.41</td><td>0.31</td><td>0.3</td><td>0.03</td><td>0.1</td><td>0.071</td><td>0.051</td><td>773</td><td>26.31299175659552</td><td>27.29299175659552</td></tr>\n",
       "<tr><td></td><td>774</td><td>136.16162</td><td>-1.19166</td><td>25.58</td><td>0.41</td><td>21.6</td><td>0.26</td><td>0.84</td><td>1.19</td><td>3.95</td><td>0.86</td><td>0.73</td><td>0.33</td><td>0.26</td><td>0.08</td><td>0.055</td><td>0.039</td><td>0.028</td><td>774</td><td>26.135347536596914</td><td>27.325347536596915</td></tr>\n",
       "<tr><td>*</td><td>775</td><td>136.02962</td><td>-1.16544</td><td>22.35</td><td>0.4</td><td>18.65</td><td>0.24</td><td>0.39</td><td>0.53</td><td>5.71</td><td>0.79</td><td>1.27</td><td>0.31</td><td>0.36</td><td>0.03</td><td>0.053</td><td>0.038</td><td>0.027</td><td>775</td><td>23.16124941339538</td><td>23.691249413395383</td></tr>\n",
       "<tr><td></td><td>776</td><td>136.04015</td><td>-0.55187</td><td>25.24</td><td>0.4</td><td>21.21</td><td>0.25</td><td>0.46</td><td>0.83</td><td>4.03</td><td>0.81</td><td>0.68</td><td>0.32</td><td>0.3</td><td>0.04</td><td>0.085</td><td>0.06</td><td>0.043</td><td>776</td><td>25.76453262247371</td><td>26.594532622473707</td></tr>\n",
       "<tr><td>*</td><td>777</td><td>134.89921</td><td>-1.95773</td><td>22.91</td><td>0.4</td><td>18.71</td><td>0.24</td><td>0.42</td><td>0.61</td><td>5.42</td><td>0.79</td><td>1.03</td><td>0.31</td><td>0.23</td><td>0.03</td><td>0.058</td><td>0.041</td><td>0.03</td><td>777</td><td>23.62163394077627</td><td>24.23163394077627</td></tr>\n",
       "<tr><td>*</td><td>778</td><td>135.5476</td><td>-1.96414</td><td>23.7</td><td>0.4</td><td>20.77</td><td>0.24</td><td>0.29</td><td>0.43</td><td>3.46</td><td>0.79</td><td>0.89</td><td>0.32</td><td>0.53</td><td>0.03</td><td>0.053</td><td>0.037</td><td>0.027</td><td>778</td><td>24.344052721500645</td><td>24.774052721500645</td></tr>\n",
       "<tr><td>*</td><td>779</td><td>135.77224</td><td>-0.54173</td><td>21.94</td><td>0.4</td><td>19.17</td><td>0.24</td><td>0.41</td><td>0.56</td><td>5.02</td><td>0.79</td><td>1.43</td><td>0.31</td><td>0.54</td><td>0.03</td><td>0.082</td><td>0.058</td><td>0.042</td><td>779</td><td>22.8089015951556</td><td>23.3689015951556</td></tr>\n",
       "<tr><td>*</td><td>780</td><td>134.99801</td><td>-1.16317</td><td>23.17</td><td>0.4</td><td>19.46</td><td>0.24</td><td>0.42</td><td>0.55</td><td>3.54</td><td>0.79</td><td>0.82</td><td>0.31</td><td>0.16</td><td>0.03</td><td>0.075</td><td>0.053</td><td>0.038</td><td>780</td><td>23.776941837525552</td><td>24.326941837525553</td></tr>\n",
       "<tr><td></td><td>781</td><td>245.22077</td><td>43.30284</td><td>24.65</td><td>0.4</td><td>19.43</td><td>0.24</td><td>0.56</td><td>0.85</td><td>9.64</td><td>0.83</td><td>1.07</td><td>0.32</td><td>0.34</td><td>0.03</td><td>0.042</td><td>0.03</td><td>0.021</td><td>781</td><td>25.37952912656348</td><td>26.22952912656348</td></tr>\n",
       "</table>"
      ],
      "text/plain": [
       "<Table length=781>\n",
       "  UV    Seq   RAJ2000  DEJ2000  ... recno    SB_eff_avg_i       SB_eff_avg_g   \n",
       "                deg      deg    ...         mag / arcsec2      mag / arcsec2   \n",
       "bytes1 int16  float64  float64  ... int32      float64            float64      \n",
       "------ ----- --------- -------- ... ----- ------------------ ------------------\n",
       "           1 247.28273 43.67173 ...     1 26.330358245717935 27.620358245717934\n",
       "           2 245.71466 43.72621 ...     2 25.737326459247054 26.617326459247053\n",
       "           3 241.37654  44.3357 ...     3 25.328430253725664 26.138430253725662\n",
       "           4  240.9165 43.98957 ...     4 25.293146584742797 26.003146584742797\n",
       "     *     5 240.88005 44.10985 ...     5 22.838723252623836 23.168723252623835\n",
       "           6 244.48318  44.2905 ...     6 23.456866013756215 23.886866013756215\n",
       "           7 241.51961 44.69582 ...     7 26.075347536596915 26.635347536596914\n",
       "           8 242.29613 44.35883 ...     8 24.484021345359515 24.914021345359515\n",
       "     *     9 239.49328 43.96829 ...     9 22.540391680090053 23.050391680090055\n",
       "   ...   ...       ...      ... ...   ...                ...                ...\n",
       "         772 139.53382 -2.11821 ...   772 24.343696725047018  24.76369672504702\n",
       "         773 139.35276 -0.50643 ...   773  26.31299175659552  27.29299175659552\n",
       "         774 136.16162 -1.19166 ...   774 26.135347536596914 27.325347536596915\n",
       "     *   775 136.02962 -1.16544 ...   775  23.16124941339538 23.691249413395383\n",
       "         776 136.04015 -0.55187 ...   776  25.76453262247371 26.594532622473707\n",
       "     *   777 134.89921 -1.95773 ...   777  23.62163394077627  24.23163394077627\n",
       "     *   778  135.5476 -1.96414 ...   778 24.344052721500645 24.774052721500645\n",
       "     *   779 135.77224 -0.54173 ...   779   22.8089015951556   23.3689015951556\n",
       "     *   780 134.99801 -1.16317 ...   780 23.776941837525552 24.326941837525553\n",
       "         781 245.22077 43.30284 ...   781  25.37952912656348  26.22952912656348"
      ]
     },
     "execution_count": 23,
     "metadata": {},
     "output_type": "execute_result"
    }
   ],
   "source": [
    "ref_cat"
   ]
  },
  {
   "cell_type": "code",
   "execution_count": 12,
   "id": "51e27eea",
   "metadata": {},
   "outputs": [
    {
     "data": {
      "text/plain": [
       "(array([ 3.,  3., 12., 15.,  7.,  8.,  6.,  4.,  3.,  1.]),\n",
       " array([19.29 , 19.609, 19.928, 20.247, 20.566, 20.885, 21.204, 21.523,\n",
       "        21.842, 22.161, 22.48 ]),\n",
       " <BarContainer object of 10 artists>)"
      ]
     },
     "execution_count": 12,
     "metadata": {},
     "output_type": "execute_result"
    },
    {
     "data": {
      "image/png": "[encoded data removed]",
      "text/plain": [
       "<Figure size 432x288 with 1 Axes>"
      ]
     },
     "metadata": {
      "needs_background": "light"
     },
     "output_type": "display_data"
    }
   ],
   "source": [
    "plt.hist(ref_cat['imag'])"
   ]
  },
  {
   "cell_type": "code",
   "execution_count": null,
   "id": "0863002f",
   "metadata": {},
   "outputs": [],
   "source": []
  },
  {
   "cell_type": "code",
   "execution_count": 18,
   "id": "going-earthquake",
   "metadata": {},
   "outputs": [],
   "source": [
    "# ## Adaptive cutout size??  \n",
    "# # Normal objects, use 1.0 arcmin cutout.\n",
    "# # Radius > 20 arcsec, use 1.5 arcmin cutout.\n",
    "# # Radius > 30 arcsec, use 2.0 arcmin cutout.\n",
    "# size = np.ones(len(cat)) * 1.0 * u.arcmin\n",
    "\n",
    "# size[cat['flux_radius_ave_i'] > 20] = 1.5 * u.arcmin # shoud be larger\n",
    "# size[cat['flux_radius_ave_i'] > 30] = 2 * u.arcmin # should be larger \n",
    "\n",
    "# cat['cutout_size'] = size.value\n",
    "# #cat.write('./Catalog/NSA/nsa_20hosts_sample_211103.fits', overwrite=True)"
   ]
  },
  {
   "cell_type": "code",
   "execution_count": null,
   "id": "dde0d682",
   "metadata": {},
   "outputs": [],
   "source": []
  },
  {
   "cell_type": "markdown",
   "id": "ahead-failing",
   "metadata": {},
   "source": [
    "### Generate cutout"
   ]
  },
  {
   "cell_type": "markdown",
   "id": "e8dee80d",
   "metadata": {},
   "source": [
    "Run `'/home/jiaxuanl/Research/Packages/kuaizi/diezi/gen_cutout/nsa_sample/lsbg_cutout_nsa.sh'`\n",
    "\n",
    "In the end, we get `$gpfs/Data/HSC/LSBG/Cutout/nsa_20hosts_cutout_cat.fits`"
   ]
  },
  {
   "cell_type": "code",
   "execution_count": null,
   "id": "cbe4376c",
   "metadata": {},
   "outputs": [],
   "source": []
  }
 ],
 "metadata": {
  "kernelspec": {
   "display_name": "Python 3",
   "language": "python",
   "name": "python3"
  },
  "language_info": {
   "codemirror_mode": {
    "name": "ipython",
    "version": 3
   },
   "file_extension": ".py",
   "mimetype": "text/x-python",
   "name": "python",
   "nbconvert_exporter": "python",
   "pygments_lexer": "ipython3",
   "version": "3.7.8"
  }
 },
 "nbformat": 4,
 "nbformat_minor": 5
}
