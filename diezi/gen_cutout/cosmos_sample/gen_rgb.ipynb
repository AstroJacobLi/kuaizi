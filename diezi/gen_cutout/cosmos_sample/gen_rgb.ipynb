{
 "cells": [
  {
   "cell_type": "code",
   "execution_count": 1,
   "id": "5d603894",
   "metadata": {},
   "outputs": [],
   "source": [
    "%load_ext autoreload\n",
    "%autoreload 2"
   ]
  },
  {
   "cell_type": "code",
   "execution_count": 3,
   "id": "f8fa35e6",
   "metadata": {},
   "outputs": [],
   "source": [
    "import numpy as np\n",
    "import matplotlib.pyplot as plt\n",
    "import kuaizi as kz\n",
    "from astropy.table import Table\n",
    "import astropy.units as u\n",
    "\n",
    "from kuaizi.display import display_single\n",
    "from astropy.io import fits\n",
    "import os\n",
    "import sys\n",
    "from shutil import copyfile"
   ]
  },
  {
   "cell_type": "code",
   "execution_count": 4,
   "id": "61773d5c",
   "metadata": {},
   "outputs": [
    {
     "data": {
      "text/plain": [
       "'/scratch/gpfs/jiaxuanl/Data/HSC/LSBG'"
      ]
     },
     "execution_count": 4,
     "metadata": {},
     "output_type": "execute_result"
    }
   ],
   "source": [
    "kz.utils.set_env(project='HSC', name='LSBG', data_dir='/scratch/gpfs/jiaxuanl/Data/')"
   ]
  },
  {
   "cell_type": "code",
   "execution_count": 5,
   "id": "78d1f66b",
   "metadata": {},
   "outputs": [],
   "source": [
    "cat = Table.read('./Catalog/NSA/z002_004/nsa_cutout_cat_z002_004.fits')"
   ]
  },
  {
   "cell_type": "markdown",
   "id": "030d99ca",
   "metadata": {},
   "source": [
    "### Generate RGB images"
   ]
  },
  {
   "cell_type": "code",
   "execution_count": 6,
   "id": "6dec1f3f",
   "metadata": {},
   "outputs": [],
   "source": [
    "from kuaizi.display import display_HSC_cutout_rgb"
   ]
  },
  {
   "cell_type": "code",
   "execution_count": 7,
   "id": "cc00def1",
   "metadata": {},
   "outputs": [],
   "source": [
    "CUTOUT_DIR = '/scratch/gpfs/jiaxuanl/Data/HSC/LSBG/Cutout/NSA/'\n",
    "FIGURE_DIR = '/scratch/gpfs/jiaxuanl/Data/HSC/LSBG/Figure/NSA/Cutout_RGB/'\n",
    "WEBPAGE_FIG_DIR = '/tigress/jiaxuanl/public_html/NSA/cutout_RGB/z002_004/figure/'"
   ]
  },
  {
   "cell_type": "code",
   "execution_count": 8,
   "id": "ea364788",
   "metadata": {},
   "outputs": [],
   "source": [
    "problem_ids = []\n",
    "# Check file exsistence\n",
    "for filt in 'grizy':\n",
    "    for obj in cat:\n",
    "        if not os.path.isfile(CUTOUT_DIR + f\"nsa_{obj['viz-id']}_{filt}.fits\"):\n",
    "            #print(f\"NSA/nsa_{obj['viz-id']}_{filt}.fits not found!\")\n",
    "            problem_ids.append(obj['viz-id'])\n",
    "            \n",
    "if not os.path.isdir(FIGURE_DIR):\n",
    "    os.mkdir(FIGURE_DIR)"
   ]
  },
  {
   "cell_type": "code",
   "execution_count": 9,
   "id": "bc17ae34",
   "metadata": {},
   "outputs": [
    {
     "name": "stdout",
     "output_type": "stream",
     "text": [
      "# of no cutouts: (72,)\n"
     ]
    }
   ],
   "source": [
    "print('# of no cutouts:', np.unique(problem_ids).shape)"
   ]
  },
  {
   "cell_type": "code",
   "execution_count": 10,
   "id": "3fd28387",
   "metadata": {},
   "outputs": [
    {
     "name": "stdout",
     "output_type": "stream",
     "text": [
      "Progress: 0 / 5576\n",
      "Progress: 10 / 5576\n",
      "Progress: 20 / 5576\n",
      "Progress: 30 / 5576\n",
      "Progress: 40 / 5576\n",
      "Progress: 50 / 5576\n",
      "18082 [Errno 2] No such file or directory: '/scratch/gpfs/jiaxuanl/Data/HSC/LSBG/Cutout/NSA//nsa_18082_g.fits'\n",
      "Progress: 60 / 5576\n",
      "18268 [Errno 2] No such file or directory: '/scratch/gpfs/jiaxuanl/Data/HSC/LSBG/Cutout/NSA//nsa_18268_i.fits'\n",
      "Progress: 70 / 5576\n",
      "Progress: 80 / 5576\n",
      "Progress: 90 / 5576\n"
     ]
    }
   ],
   "source": [
    "# Display each cutout\n",
    "for i, obj in enumerate(cat[1100:1200]):\n",
    "    ind = obj['viz-id']\n",
    "    try:\n",
    "        images = np.asarray([fits.open(f'{CUTOUT_DIR}/nsa_{ind}_{filt}.fits')[1].data for filt in 'griz'])\n",
    "        fig, ax = plt.subplots(figsize=(5, 5))\n",
    "        #size = obj['rhalf_ellip'] * 5 if obj['rhalf_ellip'] * 5 > 100 else 100\n",
    "        ax = display_HSC_cutout_rgb(images, ax=ax, half_width=None)\n",
    "        plt.savefig(FIGURE_DIR + f'nsa_{ind}_cutout.png', dpi=70, bbox_inches='tight')\n",
    "        plt.close()\n",
    "    except Exception as e:\n",
    "        print(ind, e)\n",
    "        \n",
    "    if i % 10 == 0:\n",
    "        print(f'Progress: {i} / {len(cat)}')"
   ]
  },
  {
   "cell_type": "code",
   "execution_count": 11,
   "id": "4291358e",
   "metadata": {},
   "outputs": [
    {
     "name": "stdout",
     "output_type": "stream",
     "text": [
      "18082 [Errno 2] No such file or directory: '/scratch/gpfs/jiaxuanl/Data/HSC/LSBG/Figure/NSA/Cutout_RGB/nsa_18082_cutout.png'\n",
      "18268 [Errno 2] No such file or directory: '/scratch/gpfs/jiaxuanl/Data/HSC/LSBG/Figure/NSA/Cutout_RGB/nsa_18268_cutout.png'\n"
     ]
    }
   ],
   "source": [
    "# Copy figures in FIGURE_DIR to WEBPAGE_FIG_DIR\n",
    "if not os.path.isdir(WEBPAGE_FIG_DIR):\n",
    "    os.mkdir(WEBPAGE_FIG_DIR)\n",
    "else:\n",
    "    import glob\n",
    "    fileList = glob.glob(WEBPAGE_FIG_DIR + '*.png', recursive=True)\n",
    "    [os.remove(file) for file in fileList];\n",
    "            \n",
    "for i, obj in enumerate(cat[1100:1200]):\n",
    "    ind = obj['viz-id']\n",
    "    try: \n",
    "        copyfile(FIGURE_DIR + f'nsa_{ind}_cutout.png', WEBPAGE_FIG_DIR + f'nsa_{ind}_cutout.png')\n",
    "    except Exception as e:\n",
    "        print(ind, e)"
   ]
  },
  {
   "cell_type": "markdown",
   "id": "d79d43d4",
   "metadata": {},
   "source": [
    "### Generate webpage for cutouts. We use `diezi/webpage/gen_web_cutout.py`"
   ]
  },
  {
   "cell_type": "code",
   "execution_count": 12,
   "id": "5a660ae6",
   "metadata": {},
   "outputs": [],
   "source": [
    "sys.path.append('/home/jiaxuanl/Research/Packages/kuaizi/diezi/webpage/')\n",
    "from gen_web_cutout import webpage_cutout"
   ]
  },
  {
   "cell_type": "code",
   "execution_count": 13,
   "id": "2f2d5405",
   "metadata": {},
   "outputs": [],
   "source": [
    "#FOR NSA SAMPLE\n",
    "WEBPAGE_FIG_DIR = '/tigress/jiaxuanl/public_html/NSA/cutout_RGB/z002_004/figure/'\n",
    "WEBPAGE_DIR = '/tigress/jiaxuanl/public_html/NSA/cutout_RGB/z002_004/page/'\n",
    "SCARLET_DIR = None #'/tigress/jiaxuanl/public_html/NSA/scarlet_result/'\n",
    "sample_name = 'NSA'"
   ]
  },
  {
   "cell_type": "code",
   "execution_count": 14,
   "id": "4ce57ed0",
   "metadata": {},
   "outputs": [
    {
     "name": "stdout",
     "output_type": "stream",
     "text": [
      "You have 98 galaxies to be displayed\n",
      "Total pages: 5\n"
     ]
    }
   ],
   "source": [
    "webpage_cutout(WEBPAGE_FIG_DIR, WEBPAGE_DIR, sample_name, SCARLET_DIR=SCARLET_DIR, \n",
    "               col_num=6, row_num=4)"
   ]
  },
  {
   "cell_type": "code",
   "execution_count": 15,
   "id": "16dc3f5b",
   "metadata": {},
   "outputs": [
    {
     "name": "stdout",
     "output_type": "stream",
     "text": [
      "The webpages are in /tigress/jiaxuanl/public_html/NSA/cutout_RGB/z002_004/page/\n"
     ]
    }
   ],
   "source": [
    "print('The webpages are in', WEBPAGE_DIR)"
   ]
  },
  {
   "cell_type": "markdown",
   "id": "f1c1be02",
   "metadata": {},
   "source": [
    "### The search box on webpage still doesn't work. Need to work on the javascript file"
   ]
  }
 ],
 "metadata": {
  "kernelspec": {
   "display_name": "Python 3",
   "language": "python",
   "name": "python3"
  },
  "language_info": {
   "codemirror_mode": {
    "name": "ipython",
    "version": 3
   },
   "file_extension": ".py",
   "mimetype": "text/x-python",
   "name": "python",
   "nbconvert_exporter": "python",
   "pygments_lexer": "ipython3",
   "version": "3.7.8"
  }
 },
 "nbformat": 4,
 "nbformat_minor": 5
}
