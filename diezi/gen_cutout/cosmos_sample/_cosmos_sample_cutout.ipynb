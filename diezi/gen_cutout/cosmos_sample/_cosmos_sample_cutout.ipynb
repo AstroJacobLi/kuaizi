{
 "cells": [
  {
   "cell_type": "code",
   "execution_count": 1,
   "id": "accomplished-reaction",
   "metadata": {},
   "outputs": [],
   "source": [
    "%load_ext autoreload\n",
    "%autoreload 2"
   ]
  },
  {
   "cell_type": "code",
   "execution_count": 4,
   "id": "proud-benchmark",
   "metadata": {},
   "outputs": [],
   "source": [
    "import numpy as np\n",
    "import matplotlib.pyplot as plt\n",
    "import kuaizi as kz\n",
    "from astropy.table import Table, vstack\n",
    "import astropy.units as u\n",
    "\n",
    "from kuaizi.display import display_single\n",
    "from astropy.io import fits"
   ]
  },
  {
   "cell_type": "code",
   "execution_count": 3,
   "id": "allied-treat",
   "metadata": {},
   "outputs": [
    {
     "data": {
      "text/plain": [
       "'/scratch/gpfs/jiaxuanl/Data/HSC/LSBG'"
      ]
     },
     "execution_count": 3,
     "metadata": {},
     "output_type": "execute_result"
    }
   ],
   "source": [
    "kz.utils.set_env(project='HSC', name='LSBG', data_dir='/scratch/gpfs/jiaxuanl/Data/')"
   ]
  },
  {
   "cell_type": "code",
   "execution_count": 9,
   "id": "36cb148f",
   "metadata": {},
   "outputs": [],
   "source": [
    "# COSMOS footprint\n",
    "ra_cen = 150.11916667\n",
    "dec_cen = 2.20583333\n",
    "half_size_y = np.sqrt(2) / 2\n",
    "half_size_x = half_size_y * np.cos(np.deg2rad(dec_cen))"
   ]
  },
  {
   "cell_type": "code",
   "execution_count": 12,
   "id": "3436ae2c",
   "metadata": {},
   "outputs": [
    {
     "name": "stdout",
     "output_type": "stream",
     "text": [
      "Total LSBGs: 86002\n",
      "# of LSBGs in COSMOS: 373\n"
     ]
    }
   ],
   "source": [
    "lsbg_cat = Table.read('./Catalog/Greco_S18A_lsbg.fits')\n",
    "print('Total LSBGs:', len(lsbg_cat))\n",
    "flag = (lsbg_cat['ra'] < ra_cen + half_size_x) & (\n",
    "    lsbg_cat['ra'] > ra_cen - half_size_x) & (\n",
    "    lsbg_cat['dec'] < dec_cen + half_size_y) & (\n",
    "    lsbg_cat['dec'] > dec_cen - half_size_y)\n",
    "lsbg_cat = lsbg_cat[flag]\n",
    "print('# of LSBGs in COSMOS:', len(lsbg_cat))\n",
    "lsbg_cat.write('./Catalog/COSMOS/lsbg_COSMOS.fits', overwrite=True)"
   ]
  },
  {
   "cell_type": "code",
   "execution_count": 13,
   "id": "9d5fe6d7",
   "metadata": {},
   "outputs": [],
   "source": [
    "lsbg_cat = Table.read('./Catalog/COSMOS/lsbg_COSMOS.fits') # This contains both candy+galaxy and junks"
   ]
  },
  {
   "cell_type": "code",
   "execution_count": 14,
   "id": "a171d51b",
   "metadata": {},
   "outputs": [],
   "source": [
    "cat = lsbg_cat#[(lsbg_cat['good_votes'] + lsbg_cat['bad_votes']) > 2]"
   ]
  },
  {
   "cell_type": "code",
   "execution_count": 15,
   "id": "8d74ebaa",
   "metadata": {},
   "outputs": [
    {
     "data": {
      "text/plain": [
       "373"
      ]
     },
     "execution_count": 15,
     "metadata": {},
     "output_type": "execute_result"
    }
   ],
   "source": [
    "len(cat)"
   ]
  },
  {
   "cell_type": "code",
   "execution_count": 21,
   "id": "42a41e6a",
   "metadata": {},
   "outputs": [
    {
     "data": {
      "text/plain": [
       "<matplotlib.collections.PathCollection at 0x2abb3b40f250>"
      ]
     },
     "execution_count": 21,
     "metadata": {},
     "output_type": "execute_result"
    },
    {
     "data": {
      "image/png": "[encoded data removed]",
      "text/plain": [
       "<Figure size 432x288 with 1 Axes>"
      ]
     },
     "metadata": {
      "needs_background": "light"
     },
     "output_type": "display_data"
    }
   ],
   "source": [
    "plt.scatter(lsbg_cat['ra'], lsbg_cat['dec'])"
   ]
  },
  {
   "cell_type": "code",
   "execution_count": 18,
   "id": "going-earthquake",
   "metadata": {},
   "outputs": [],
   "source": [
    "# ## Adaptive cutout size??  \n",
    "# # Normal objects, use 1.0 arcmin cutout.\n",
    "# # Radius > 20 arcsec, use 1.5 arcmin cutout.\n",
    "# # Radius > 30 arcsec, use 2.0 arcmin cutout.\n",
    "# size = np.ones(len(cat)) * 1.0 * u.arcmin\n",
    "\n",
    "# size[cat['flux_radius_ave_i'] > 20] = 1.5 * u.arcmin # shoud be larger\n",
    "# size[cat['flux_radius_ave_i'] > 30] = 2 * u.arcmin # should be larger \n",
    "\n",
    "# cat['cutout_size'] = size.value\n",
    "# #cat.write('./Catalog/NSA/nsa_20hosts_sample_211103.fits', overwrite=True)"
   ]
  },
  {
   "cell_type": "code",
   "execution_count": null,
   "id": "dde0d682",
   "metadata": {},
   "outputs": [],
   "source": []
  },
  {
   "cell_type": "markdown",
   "id": "ahead-failing",
   "metadata": {},
   "source": [
    "### Generate cutout"
   ]
  },
  {
   "cell_type": "markdown",
   "id": "e8dee80d",
   "metadata": {},
   "source": [
    "Run `'/home/jiaxuanl/Research/Packages/kuaizi/diezi/gen_cutout/nsa_sample/lsbg_cutout_nsa.sh'`\n",
    "\n",
    "In the end, we get `$gpfs/Data/HSC/LSBG/Cutout/nsa_20hosts_cutout_cat.fits`"
   ]
  },
  {
   "cell_type": "code",
   "execution_count": null,
   "id": "cbe4376c",
   "metadata": {},
   "outputs": [],
   "source": []
  }
 ],
 "metadata": {
  "kernelspec": {
   "display_name": "Python 3",
   "language": "python",
   "name": "python3"
  },
  "language_info": {
   "codemirror_mode": {
    "name": "ipython",
    "version": 3
   },
   "file_extension": ".py",
   "mimetype": "text/x-python",
   "name": "python",
   "nbconvert_exporter": "python",
   "pygments_lexer": "ipython3",
   "version": "3.7.8"
  }
 },
 "nbformat": 4,
 "nbformat_minor": 5
}
