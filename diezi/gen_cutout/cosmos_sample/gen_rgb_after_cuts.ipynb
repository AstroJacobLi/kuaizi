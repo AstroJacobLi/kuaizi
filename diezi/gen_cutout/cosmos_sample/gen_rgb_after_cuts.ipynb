{
 "cells": [
  {
   "cell_type": "code",
   "execution_count": 1,
   "id": "5d603894",
   "metadata": {},
   "outputs": [],
   "source": [
    "%load_ext autoreload\n",
    "%autoreload 2"
   ]
  },
  {
   "cell_type": "code",
   "execution_count": 4,
   "id": "f8fa35e6",
   "metadata": {},
   "outputs": [],
   "source": [
    "import numpy as np\n",
    "import matplotlib.pyplot as plt\n",
    "import kuaizi as kz\n",
    "from astropy.table import Table\n",
    "import astropy.units as u\n",
    "\n",
    "from kuaizi.display import display_single\n",
    "from astropy.io import fits\n",
    "import os\n",
    "import sys\n",
    "from shutil import copyfile"
   ]
  },
  {
   "cell_type": "code",
   "execution_count": 3,
   "id": "61773d5c",
   "metadata": {},
   "outputs": [
    {
     "data": {
      "text/plain": [
       "'/scratch/gpfs/jiaxuanl/Data/HSC/LSBG'"
      ]
     },
     "execution_count": 3,
     "metadata": {},
     "output_type": "execute_result"
    }
   ],
   "source": [
    "kz.utils.set_env(project='HSC', name='LSBG', data_dir='/scratch/gpfs/jiaxuanl/Data/')"
   ]
  },
  {
   "cell_type": "code",
   "execution_count": 6,
   "id": "78d1f66b",
   "metadata": {},
   "outputs": [],
   "source": [
    "cat = Table.read('./Catalog/COSMOS/lsbg_COSMOS_after_cuts_JG.fits')"
   ]
  },
  {
   "cell_type": "code",
   "execution_count": 7,
   "id": "510dc891",
   "metadata": {},
   "outputs": [
    {
     "data": {
      "text/plain": [
       "77"
      ]
     },
     "execution_count": 7,
     "metadata": {},
     "output_type": "execute_result"
    }
   ],
   "source": [
    "len(cat)"
   ]
  },
  {
   "cell_type": "code",
   "execution_count": 10,
   "id": "69dd5d9c",
   "metadata": {},
   "outputs": [],
   "source": [
    "category = \"LSBG\""
   ]
  },
  {
   "cell_type": "markdown",
   "id": "030d99ca",
   "metadata": {},
   "source": [
    "### Generate RGB images"
   ]
  },
  {
   "cell_type": "code",
   "execution_count": 11,
   "id": "6dec1f3f",
   "metadata": {},
   "outputs": [],
   "source": [
    "from kuaizi.display import display_HSC_cutout_rgb"
   ]
  },
  {
   "cell_type": "code",
   "execution_count": 12,
   "id": "cc00def1",
   "metadata": {},
   "outputs": [],
   "source": [
    "CUTOUT_DIR = '/scratch/gpfs/jiaxuanl/Data/HSC/LSBG/Cutout/COSMOS/'\n",
    "FIGURE_DIR = '/scratch/gpfs/jiaxuanl/Data/HSC/LSBG/Figure/COSMOS/Cutout_RGB/'\n",
    "WEBPAGE_FIG_DIR = f'/tigress/jiaxuanl/public_html/COSMOS/cutout_RGB/z002_004/figure/{category}/'"
   ]
  },
  {
   "cell_type": "code",
   "execution_count": 14,
   "id": "ea364788",
   "metadata": {},
   "outputs": [],
   "source": [
    "problem_ids = []\n",
    "# Check file exsistence\n",
    "for filt in 'grizy':\n",
    "    for obj in cat:\n",
    "        if not os.path.isfile(CUTOUT_DIR + f\"cosmos_{obj['viz-id']}_{filt}.fits\"):\n",
    "            #print(f\"NSA/nsa_{obj['viz-id']}_{filt}.fits not found!\")\n",
    "            problem_ids.append(obj['viz-id'])\n",
    "            \n",
    "if not os.path.isdir(FIGURE_DIR):\n",
    "    os.makedirs(FIGURE_DIR)"
   ]
  },
  {
   "cell_type": "code",
   "execution_count": 15,
   "id": "bc17ae34",
   "metadata": {},
   "outputs": [
    {
     "name": "stdout",
     "output_type": "stream",
     "text": [
      "# of no cutouts: (0,)\n"
     ]
    }
   ],
   "source": [
    "print('# of no cutouts:', np.unique(problem_ids).shape)"
   ]
  },
  {
   "cell_type": "code",
   "execution_count": null,
   "id": "5761fb71",
   "metadata": {},
   "outputs": [],
   "source": []
  },
  {
   "cell_type": "code",
   "execution_count": 16,
   "id": "3fd28387",
   "metadata": {},
   "outputs": [
    {
     "name": "stdout",
     "output_type": "stream",
     "text": [
      "Progress: 0 / 77\n",
      "Progress: 10 / 77\n",
      "Progress: 20 / 77\n",
      "Progress: 30 / 77\n",
      "Progress: 40 / 77\n",
      "Progress: 50 / 77\n",
      "Progress: 60 / 77\n",
      "Progress: 70 / 77\n"
     ]
    }
   ],
   "source": [
    "# Display each cutout\n",
    "for i, obj in enumerate(cat):\n",
    "    ind = obj['viz-id']\n",
    "    try:\n",
    "        images = np.asarray([fits.open(f'{CUTOUT_DIR}/cosmos_{ind}_{filt}.fits')[1].data for filt in 'griz'])\n",
    "        fig, ax = plt.subplots(figsize=(5, 5))\n",
    "        size = int(obj['rhalf_ellip'] * 5) if obj['rhalf_ellip'] * 5 > 100 else 100\n",
    "        ax = display_HSC_cutout_rgb(images, ax=ax, half_width=size)\n",
    "        plt.savefig(FIGURE_DIR + f'cosmos_{ind}_cutout.png', dpi=70, bbox_inches='tight')\n",
    "        plt.close()\n",
    "    except Exception as e:\n",
    "        print(ind, e)\n",
    "        \n",
    "    if i % 10 == 0:\n",
    "        print(f'Progress: {i} / {len(cat)}')"
   ]
  },
  {
   "cell_type": "code",
   "execution_count": 18,
   "id": "4291358e",
   "metadata": {},
   "outputs": [],
   "source": [
    "# Copy figures in FIGURE_DIR to WEBPAGE_FIG_DIR\n",
    "if not os.path.isdir(WEBPAGE_FIG_DIR):\n",
    "    os.makedirs(WEBPAGE_FIG_DIR)\n",
    "else:\n",
    "    import glob\n",
    "    fileList = glob.glob(WEBPAGE_FIG_DIR + '*.png', recursive=True)\n",
    "    [os.remove(file) for file in fileList];\n",
    "            \n",
    "for i, obj in enumerate(cat):\n",
    "    ind = obj['viz-id']\n",
    "    try: \n",
    "        copyfile(FIGURE_DIR + f'cosmos_{ind}_cutout.png', WEBPAGE_FIG_DIR + f'cosmos_{ind}_cutout.png')\n",
    "    except Exception as e:\n",
    "        print(ind, e)"
   ]
  },
  {
   "cell_type": "markdown",
   "id": "d79d43d4",
   "metadata": {},
   "source": [
    "### Generate webpage for cutouts. We use `diezi/webpage/gen_web_cutout.py`"
   ]
  },
  {
   "cell_type": "code",
   "execution_count": 20,
   "id": "5a660ae6",
   "metadata": {},
   "outputs": [],
   "source": [
    "sys.path.append('/home/jiaxuanl/Research/Packages/kuaizi/diezi/webpage/')\n",
    "from gen_web_cutout import webpage_cutout"
   ]
  },
  {
   "cell_type": "code",
   "execution_count": 21,
   "id": "2f2d5405",
   "metadata": {},
   "outputs": [],
   "source": [
    "#FOR NSA SAMPLE\n",
    "WEBPAGE_FIG_DIR = f'/tigress/jiaxuanl/public_html/COSMOS/cutout_RGB/figure/{category}/'\n",
    "WEBPAGE_DIR = f'/tigress/jiaxuanl/public_html/COSMOS/cutout_RGB/page/{category}/'\n",
    "SCARLET_DIR = None #'/tigress/jiaxuanl/public_html/NSA/scarlet_result/'\n",
    "sample_name = 'COSMOS'"
   ]
  },
  {
   "cell_type": "code",
   "execution_count": 23,
   "id": "4d42273a",
   "metadata": {},
   "outputs": [
    {
     "name": "stdout",
     "output_type": "stream",
     "text": [
      "You have 77 galaxies to be displayed\n",
      "Total pages: 4\n"
     ]
    }
   ],
   "source": [
    "webpage_cutout(WEBPAGE_FIG_DIR, WEBPAGE_DIR, sample_name, sample_title=f'{category}', SCARLET_DIR=SCARLET_DIR, \n",
    "               col_num=6, row_num=4)"
   ]
  },
  {
   "cell_type": "code",
   "execution_count": 24,
   "id": "16dc3f5b",
   "metadata": {},
   "outputs": [
    {
     "name": "stdout",
     "output_type": "stream",
     "text": [
      "The webpages are in /tigress/jiaxuanl/public_html/COSMOS/cutout_RGB/page/LSBG/\n"
     ]
    }
   ],
   "source": [
    "print('The webpages are in', WEBPAGE_DIR)"
   ]
  },
  {
   "cell_type": "markdown",
   "id": "f1c1be02",
   "metadata": {},
   "source": [
    "### The search box on webpage still doesn't work. Need to work on the javascript file"
   ]
  }
 ],
 "metadata": {
  "kernelspec": {
   "display_name": "Python 3",
   "language": "python",
   "name": "python3"
  },
  "language_info": {
   "codemirror_mode": {
    "name": "ipython",
    "version": 3
   },
   "file_extension": ".py",
   "mimetype": "text/x-python",
   "name": "python",
   "nbconvert_exporter": "python",
   "pygments_lexer": "ipython3",
   "version": "3.7.8"
  }
 },
 "nbformat": 4,
 "nbformat_minor": 5
}
