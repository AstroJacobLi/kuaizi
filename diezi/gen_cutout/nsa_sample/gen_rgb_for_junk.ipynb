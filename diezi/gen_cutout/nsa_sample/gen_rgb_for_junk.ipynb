{
 "cells": [
  {
   "cell_type": "code",
   "execution_count": 1,
   "id": "5d603894",
   "metadata": {},
   "outputs": [],
   "source": [
    "%load_ext autoreload\n",
    "%autoreload 2"
   ]
  },
  {
   "cell_type": "code",
   "execution_count": 3,
   "id": "f8fa35e6",
   "metadata": {},
   "outputs": [],
   "source": [
    "import numpy as np\n",
    "import matplotlib.pyplot as plt\n",
    "import kuaizi as kz\n",
    "from astropy.table import Table\n",
    "import astropy.units as u\n",
    "\n",
    "from kuaizi.display import display_single\n",
    "from astropy.io import fits\n",
    "import os\n",
    "import sys\n",
    "from shutil import copyfile"
   ]
  },
  {
   "cell_type": "code",
   "execution_count": 4,
   "id": "61773d5c",
   "metadata": {},
   "outputs": [
    {
     "data": {
      "text/plain": [
       "'/scratch/gpfs/jiaxuanl/Data/HSC/LSBG'"
      ]
     },
     "execution_count": 4,
     "metadata": {},
     "output_type": "execute_result"
    }
   ],
   "source": [
    "kz.utils.set_env(project='HSC', name='LSBG', data_dir='/scratch/gpfs/jiaxuanl/Data/')"
   ]
  },
  {
   "cell_type": "code",
   "execution_count": 20,
   "id": "8167b95e",
   "metadata": {},
   "outputs": [],
   "source": [
    "cat = Table.read('./Cutout/NSA/nsa_cutout_cat_1013.fits')"
   ]
  },
  {
   "cell_type": "code",
   "execution_count": 21,
   "id": "93138990",
   "metadata": {},
   "outputs": [],
   "source": [
    "flag = (cat['bad_votes'] >= cat['good_votes'])"
   ]
  },
  {
   "cell_type": "code",
   "execution_count": 22,
   "id": "32524643",
   "metadata": {},
   "outputs": [
    {
     "data": {
      "text/plain": [
       "253"
      ]
     },
     "execution_count": 22,
     "metadata": {},
     "output_type": "execute_result"
    }
   ],
   "source": [
    "cat = cat[flag] # junks only\n",
    "len(cat)"
   ]
  },
  {
   "cell_type": "code",
   "execution_count": 52,
   "id": "0418bf62",
   "metadata": {},
   "outputs": [],
   "source": [
    "cat.sort('viz-id')"
   ]
  },
  {
   "cell_type": "code",
   "execution_count": 54,
   "id": "619ab00a",
   "metadata": {},
   "outputs": [
    {
     "data": {
      "text/html": [
       "<i>Table length=10</i>\n",
       "<table id=\"table47206197598864\" class=\"table-striped table-bordered table-condensed\">\n",
       "<thead><tr><th>ra</th><th>dec</th><th>a_image</th><th>b_image</th><th>theta_image</th><th>ellipticity</th><th>mag_auto_g</th><th>mag_auto_r</th><th>mag_auto_i</th><th>flux_radius_ave_g</th><th>flux_radius_ave_i</th><th>mu_ave_g</th><th>mu_ave_i</th><th>acorr_ratio</th><th>g-i</th><th>g-r</th><th>A_g</th><th>A_r</th><th>A_i</th><th>tract</th><th>patch</th><th>synth_id</th><th>viz-id</th><th>is_candy</th><th>is_galaxy</th><th>is_tidal</th><th>is_outskirts</th><th>is_cirrus</th><th>is_junk</th><th>num_votes</th><th>good_votes</th><th>bad_votes</th><th>cutout_size</th><th>prefix</th><th>radius</th><th>image_flag [5]</th><th>psf_flag [5]</th></tr></thead>\n",
       "<thead><tr><th></th><th></th><th></th><th></th><th></th><th></th><th></th><th></th><th></th><th></th><th></th><th></th><th></th><th></th><th></th><th></th><th></th><th></th><th></th><th></th><th></th><th></th><th></th><th></th><th></th><th></th><th></th><th></th><th></th><th></th><th></th><th></th><th></th><th></th><th>arcmin</th><th></th><th></th></tr></thead>\n",
       "<thead><tr><th>float64</th><th>float64</th><th>float64</th><th>float64</th><th>float64</th><th>float64</th><th>float64</th><th>float64</th><th>float64</th><th>float64</th><th>float64</th><th>float64</th><th>float64</th><th>float64</th><th>float64</th><th>float64</th><th>float64</th><th>float64</th><th>float64</th><th>int64</th><th>bytes3</th><th>int64</th><th>int64</th><th>int64</th><th>int64</th><th>int64</th><th>int64</th><th>int64</th><th>int64</th><th>int64</th><th>int64</th><th>int64</th><th>float64</th><th>bytes57</th><th>float64</th><th>bool</th><th>bool</th></tr></thead>\n",
       "<tr><td>179.9431534</td><td>-0.3075206</td><td>22.721</td><td>8.225</td><td>-45.89</td><td>0.638</td><td>20.8818</td><td>17.9939</td><td>17.8252</td><td>4.0971</td><td>6.253548</td><td>25.28073470360712</td><td>23.71273970899086</td><td>1.52997911132378</td><td>0.9311743153421118</td><td>0.6721127691190681</td><td>0.07855033698307193</td><td>0.055663106102139745</td><td>0.039724652325184844</td><td>9347</td><td>0,6</td><td>-1</td><td>5005</td><td>0</td><td>1</td><td>0</td><td>0</td><td>0</td><td>2</td><td>3</td><td>1</td><td>2</td><td>1.0</td><td>/scratch/gpfs/jiaxuanl/Data/HSC/LSBG/Cutout/NSA/nsa_5005</td><td>1.0</td><td>True .. True</td><td>True .. True</td></tr>\n",
       "<tr><td>29.9535664</td><td>-0.6277608</td><td>13.629</td><td>10.88</td><td>-2.55</td><td>0.202</td><td>21.7978</td><td>21.6723</td><td>21.8402</td><td>3.3796560000000007</td><td>2.952516</td><td>25.983881322827234</td><td>25.918388227663055</td><td>1.1779059776061858</td><td>0.15557461548759752</td><td>0.18663297108217528</td><td>0.07470573725194335</td><td>0.0529387083341176</td><td>0.037780352739538316</td><td>9246</td><td>2,5</td><td>-1</td><td>5593</td><td>1</td><td>0</td><td>0</td><td>0</td><td>0</td><td>2</td><td>3</td><td>1</td><td>2</td><td>1.0</td><td>/scratch/gpfs/jiaxuanl/Data/HSC/LSBG/Cutout/NSA/nsa_5593</td><td>1.0</td><td>True .. True</td><td>True .. True</td></tr>\n",
       "<tr><td>28.8982299</td><td>-3.2208263</td><td>5.809</td><td>4.055</td><td>-32.52</td><td>0.302</td><td>22.7782</td><td>22.4409</td><td>23.2093</td><td>3.5605920000000006</td><td>2.1408240000000003</td><td>27.091962905614455</td><td>26.350559205668986</td><td>1.6839071486977562</td><td>-0.060534529242720854</td><td>0.30612970804340306</td><td>0.07128487674701087</td><td>0.050514584790411966</td><td>0.03605034750428789</td><td>8761</td><td>1,7</td><td>-1</td><td>5764</td><td>1</td><td>0</td><td>0</td><td>0</td><td>0</td><td>2</td><td>3</td><td>1</td><td>2</td><td>1.0</td><td>/scratch/gpfs/jiaxuanl/Data/HSC/LSBG/Cutout/NSA/nsa_5764</td><td>1.0</td><td>True .. True</td><td>True .. True</td></tr>\n",
       "<tr><td>174.7703173</td><td>-0.0486206</td><td>10.139</td><td>9.439</td><td>36.08</td><td>0.069</td><td>20.9842</td><td>20.2156</td><td>19.9038</td><td>2.7557039999999997</td><td>2.7016080000000002</td><td>24.490320212289177</td><td>23.379576575150896</td><td>1.4290916367857363</td><td>1.0546012747406661</td><td>0.7416297877382415</td><td>0.06716613189200936</td><td>0.04759591963024851</td><td>0.03396740663267408</td><td>9587</td><td>4,0</td><td>-1</td><td>5798</td><td>0</td><td>1</td><td>1</td><td>0</td><td>0</td><td>1</td><td>3</td><td>1</td><td>2</td><td>1.0</td><td>/scratch/gpfs/jiaxuanl/Data/HSC/LSBG/Cutout/NSA/nsa_5798</td><td>1.0</td><td>True .. True</td><td>True .. True</td></tr>\n",
       "<tr><td>191.3209885</td><td>-0.4156015</td><td>52.857</td><td>26.794</td><td>83.77</td><td>0.493</td><td>19.2198</td><td>18.2435</td><td>18.0943</td><td>13.179264000000002</td><td>16.491636</td><td>26.175655660207717</td><td>25.83670232181116</td><td>1.0925591556692758</td><td>0.692914749285577</td><td>0.4828250900043876</td><td>0.06855507857304173</td><td>0.048580168577432296</td><td>0.03466982785862148</td><td>9355</td><td>3,6</td><td>-1</td><td>5800</td><td>1</td><td>0</td><td>0</td><td>2</td><td>0</td><td>0</td><td>3</td><td>1</td><td>2</td><td>1.0</td><td>/scratch/gpfs/jiaxuanl/Data/HSC/LSBG/Cutout/NSA/nsa_5800</td><td>1.0</td><td>True .. True</td><td>True .. True</td></tr>\n",
       "<tr><td>220.1851672</td><td>-0.2810931</td><td>25.787</td><td>11.213</td><td>1.96</td><td>0.565</td><td>20.7246</td><td>19.7064</td><td>19.3156</td><td>5.475456</td><td>5.348448</td><td>25.698655521128504</td><td>24.314719198307433</td><td>1.2234096823108611</td><td>1.3753813511102433</td><td>0.9976977676757519</td><td>0.10949035786019166</td><td>0.07758812553594156</td><td>0.05537170897043407</td><td>9375</td><td>7,7</td><td>-1</td><td>5839</td><td>0</td><td>1</td><td>0</td><td>2</td><td>0</td><td>0</td><td>3</td><td>1</td><td>2</td><td>1.0</td><td>/scratch/gpfs/jiaxuanl/Data/HSC/LSBG/Cutout/NSA/nsa_5839</td><td>1.0</td><td>True .. True</td><td>True .. True</td></tr>\n",
       "<tr><td>149.4235478</td><td>1.6963401</td><td>10.947</td><td>6.909</td><td>-46.94</td><td>0.369</td><td>21.808</td><td>20.9488</td><td>20.4106</td><td>2.6656560000000002</td><td>1.992396</td><td>25.371178872200815</td><td>23.295480630028162</td><td>1.3373185473733842</td><td>1.3745439012713108</td><td>0.7435791958683211</td><td>0.056357175963612546</td><td>0.039936371831932056</td><td>0.02850107723492314</td><td>9813</td><td>8,1</td><td>-1</td><td>6007</td><td>0</td><td>1</td><td>0</td><td>0</td><td>0</td><td>2</td><td>3</td><td>1</td><td>2</td><td>1.0</td><td>/scratch/gpfs/jiaxuanl/Data/HSC/LSBG/Cutout/NSA/nsa_6007</td><td>1.0</td><td>True .. True</td><td>True .. True</td></tr>\n",
       "<tr><td>34.7252375</td><td>-6.6224162</td><td>8.111</td><td>7.92</td><td>88.09</td><td>0.024</td><td>22.2129</td><td>20.9467</td><td>20.4588</td><td>2.740164</td><td>6.627348</td><td>25.896461866508307</td><td>26.26122780695144</td><td>1.3669271800731604</td><td>1.034185257653118</td><td>0.43987078392317647</td><td>0.08075366834009606</td><td>0.057224452263272524</td><td>0.04083892599321282</td><td>8282</td><td>2,4</td><td>-1</td><td>6321</td><td>0</td><td>1</td><td>0</td><td>0</td><td>0</td><td>2</td><td>3</td><td>1</td><td>2</td><td>1.0</td><td>/scratch/gpfs/jiaxuanl/Data/HSC/LSBG/Cutout/NSA/nsa_6321</td><td>1.0</td><td>True .. True</td><td>True .. True</td></tr>\n",
       "<tr><td>182.6261817</td><td>0.9428242</td><td>14.222</td><td>7.061</td><td>89.36</td><td>0.504</td><td>20.024</td><td>19.7121</td><td>19.4733</td><td>2.4155880000000005</td><td>2.388204</td><td>23.410186919313087</td><td>22.865918264833205</td><td>1.3419995861495797</td><td>0.510011299691056</td><td>0.29067036565016957</td><td>0.07766625037473018</td><td>0.05503661602490159</td><td>0.039277550065785295</td><td>9592</td><td>2,5</td><td>-1</td><td>6372</td><td>1</td><td>0</td><td>0</td><td>2</td><td>0</td><td>0</td><td>3</td><td>1</td><td>2</td><td>1.0</td><td>/scratch/gpfs/jiaxuanl/Data/HSC/LSBG/Cutout/NSA/nsa_6372</td><td>1.0</td><td>True .. True</td><td>True .. True</td></tr>\n",
       "<tr><td>358.9843319</td><td>-0.5213532</td><td>6.225</td><td>4.815</td><td>-29.87</td><td>0.227</td><td>22.1691</td><td>21.8083</td><td>22.4219</td><td>4.059048000000001</td><td>1.2806640000000002</td><td>26.25849756491901</td><td>24.25279113955345</td><td>1.7468422656584994</td><td>-0.0939507764092131</td><td>0.3016421580866821</td><td>0.08325435552627145</td><td>0.05899651361295635</td><td>0.04210357911705964</td><td>9468</td><td>2,5</td><td>-1</td><td>6435</td><td>0</td><td>1</td><td>0</td><td>0</td><td>0</td><td>2</td><td>3</td><td>1</td><td>2</td><td>1.0</td><td>/scratch/gpfs/jiaxuanl/Data/HSC/LSBG/Cutout/NSA/nsa_6435</td><td>1.0</td><td>True .. True</td><td>True .. True</td></tr>\n",
       "</table>"
      ],
      "text/plain": [
       "<Table length=10>\n",
       "     ra        dec     a_image b_image ...  radius image_flag [5] psf_flag [5]\n",
       "                                       ...  arcmin                            \n",
       "  float64    float64   float64 float64 ... float64      bool          bool    \n",
       "----------- ---------- ------- ------- ... ------- -------------- ------------\n",
       "179.9431534 -0.3075206  22.721   8.225 ...     1.0   True .. True True .. True\n",
       " 29.9535664 -0.6277608  13.629   10.88 ...     1.0   True .. True True .. True\n",
       " 28.8982299 -3.2208263   5.809   4.055 ...     1.0   True .. True True .. True\n",
       "174.7703173 -0.0486206  10.139   9.439 ...     1.0   True .. True True .. True\n",
       "191.3209885 -0.4156015  52.857  26.794 ...     1.0   True .. True True .. True\n",
       "220.1851672 -0.2810931  25.787  11.213 ...     1.0   True .. True True .. True\n",
       "149.4235478  1.6963401  10.947   6.909 ...     1.0   True .. True True .. True\n",
       " 34.7252375 -6.6224162   8.111    7.92 ...     1.0   True .. True True .. True\n",
       "182.6261817  0.9428242  14.222   7.061 ...     1.0   True .. True True .. True\n",
       "358.9843319 -0.5213532   6.225   4.815 ...     1.0   True .. True True .. True"
      ]
     },
     "execution_count": 54,
     "metadata": {},
     "output_type": "execute_result"
    }
   ],
   "source": [
    "cat[20:30]"
   ]
  },
  {
   "cell_type": "markdown",
   "id": "030d99ca",
   "metadata": {},
   "source": [
    "### Generate RGB images"
   ]
  },
  {
   "cell_type": "code",
   "execution_count": 23,
   "id": "6dec1f3f",
   "metadata": {},
   "outputs": [],
   "source": [
    "def _display_cutout_rgb(images, ax=None):\n",
    "    import scarlet\n",
    "    from scarlet.display import AsinhMapping\n",
    "\n",
    "    if ax is None:\n",
    "        fig, ax = plt.subplots(figsize=(5, 5))\n",
    "        \n",
    "    # Display\n",
    "    norm = AsinhMapping(minimum=-0.2, stretch=1, Q=1)\n",
    "    img_rgb = scarlet.display.img_to_rgb(images, norm=norm)\n",
    "    plt.imshow(img_rgb, origin='lower')\n",
    "    ax.axis('off')\n",
    "    \n",
    "    if ax is None:\n",
    "        return fig\n",
    "    return ax"
   ]
  },
  {
   "cell_type": "code",
   "execution_count": 31,
   "id": "cc00def1",
   "metadata": {},
   "outputs": [],
   "source": [
    "CUTOUT_DIR = '/scratch/gpfs/jiaxuanl/Data/HSC/LSBG/Cutout/NSA/'\n",
    "FIGURE_DIR = '/scratch/gpfs/jiaxuanl/Data/HSC/LSBG/Figure/NSA/Cutout_RGB/'\n",
    "WEBPAGE_DIR = '/tigress/jiaxuanl/public_html/NSA/cutout_RGB/figure/junk/'"
   ]
  },
  {
   "cell_type": "code",
   "execution_count": 25,
   "id": "ea364788",
   "metadata": {},
   "outputs": [
    {
     "name": "stdout",
     "output_type": "stream",
     "text": [
      "NSA/nsa_32934_g.fits not found!\n",
      "NSA/nsa_32934_r.fits not found!\n",
      "NSA/nsa_23610_i.fits not found!\n",
      "NSA/nsa_24979_i.fits not found!\n",
      "NSA/nsa_32934_i.fits not found!\n",
      "NSA/nsa_23610_y.fits not found!\n",
      "NSA/nsa_24979_y.fits not found!\n",
      "NSA/nsa_32934_y.fits not found!\n"
     ]
    }
   ],
   "source": [
    "# Check file exsistence\n",
    "for filt in 'grizy':\n",
    "    for obj in cat:\n",
    "        if not os.path.isfile(CUTOUT_DIR + f\"nsa_{obj['viz-id']}_{filt}.fits\"):\n",
    "            print(f\"NSA/nsa_{obj['viz-id']}_{filt}.fits not found!\")"
   ]
  },
  {
   "cell_type": "code",
   "execution_count": 26,
   "id": "283a33cc",
   "metadata": {},
   "outputs": [
    {
     "name": "stdout",
     "output_type": "stream",
     "text": [
      "Progress: 0 / 253\n",
      "Progress: 10 / 253\n",
      "Progress: 20 / 253\n",
      "Progress: 30 / 253\n",
      "Progress: 40 / 253\n",
      "Progress: 50 / 253\n",
      "Progress: 60 / 253\n",
      "Progress: 70 / 253\n",
      "Progress: 80 / 253\n",
      "Progress: 90 / 253\n",
      "23610 [Errno 2] No such file or directory: '/scratch/gpfs/jiaxuanl/Data/HSC/LSBG/Cutout/NSA//nsa_23610_i.fits'\n",
      "Progress: 100 / 253\n",
      "24979 [Errno 2] No such file or directory: '/scratch/gpfs/jiaxuanl/Data/HSC/LSBG/Cutout/NSA//nsa_24979_i.fits'\n",
      "Progress: 110 / 253\n",
      "Progress: 120 / 253\n",
      "Progress: 130 / 253\n",
      "32934 [Errno 2] No such file or directory: '/scratch/gpfs/jiaxuanl/Data/HSC/LSBG/Cutout/NSA//nsa_32934_g.fits'\n",
      "Progress: 140 / 253\n",
      "Progress: 150 / 253\n",
      "Progress: 160 / 253\n",
      "Progress: 170 / 253\n",
      "Progress: 180 / 253\n",
      "Progress: 190 / 253\n",
      "Progress: 200 / 253\n",
      "Progress: 210 / 253\n",
      "Progress: 220 / 253\n",
      "Progress: 230 / 253\n",
      "Progress: 240 / 253\n",
      "Progress: 250 / 253\n"
     ]
    }
   ],
   "source": [
    "# Display each cutout\n",
    "for i, obj in enumerate(cat):\n",
    "    ind = obj['viz-id']\n",
    "    try:\n",
    "        images = np.asarray([fits.open(f'{CUTOUT_DIR}/nsa_{ind}_{filt}.fits')[1].data for filt in 'grizy'])\n",
    "        fig, ax = plt.subplots(figsize=(5, 5))\n",
    "        ax = _display_cutout_rgb(images, ax=ax)\n",
    "        plt.savefig(FIGURE_DIR + f'nsa_{ind}_cutout.png', dpi=70, bbox_inches='tight')\n",
    "        plt.close()\n",
    "    except Exception as e:\n",
    "        print(ind, e)\n",
    "        \n",
    "    if i % 10 == 0:\n",
    "        print(f'Progress: {i} / {len(cat)}')"
   ]
  },
  {
   "cell_type": "code",
   "execution_count": 33,
   "id": "fc08666a",
   "metadata": {},
   "outputs": [
    {
     "name": "stdout",
     "output_type": "stream",
     "text": [
      "23610 [Errno 2] No such file or directory: '/scratch/gpfs/jiaxuanl/Data/HSC/LSBG/Figure/NSA/Cutout_RGB/nsa_23610_cutout.png'\n",
      "24979 [Errno 2] No such file or directory: '/scratch/gpfs/jiaxuanl/Data/HSC/LSBG/Figure/NSA/Cutout_RGB/nsa_24979_cutout.png'\n",
      "32934 [Errno 2] No such file or directory: '/scratch/gpfs/jiaxuanl/Data/HSC/LSBG/Figure/NSA/Cutout_RGB/nsa_32934_cutout.png'\n"
     ]
    }
   ],
   "source": [
    "# Copy figures in FIGURE_DIR to WEBPAGE_DIR\n",
    "for i, obj in enumerate(cat):\n",
    "    ind = obj['viz-id']\n",
    "    try:\n",
    "        if not os.path.isdir(WEBPAGE_DIR):\n",
    "            os.mkdir(WEBPAGE_DIR)\n",
    "            \n",
    "        copyfile(FIGURE_DIR + f'nsa_{ind}_cutout.png', WEBPAGE_DIR + f'nsa_{ind}_cutout.png')\n",
    "    except Exception as e:\n",
    "        print(ind, e)"
   ]
  },
  {
   "cell_type": "markdown",
   "id": "d79d43d4",
   "metadata": {},
   "source": [
    "### Generate webpage for cutouts. WE use `diezi/webpage/gen_web_cutout.py`"
   ]
  },
  {
   "cell_type": "code",
   "execution_count": 34,
   "id": "5a660ae6",
   "metadata": {},
   "outputs": [],
   "source": [
    "sys.path.append('/home/jiaxuanl/Research/Packages/kuaizi/diezi/webpage/')\n",
    "from gen_web_cutout import webpage_cutout"
   ]
  },
  {
   "cell_type": "code",
   "execution_count": 48,
   "id": "2f2d5405",
   "metadata": {},
   "outputs": [],
   "source": [
    "#FOR NSA SAMPLE\n",
    "FIGURE_DIR = '/tigress/jiaxuanl/public_html/NSA/cutout_RGB/figure/junk'\n",
    "WEBPAGE_DIR = '/tigress/jiaxuanl/public_html/NSA/cutout_RGB/junk'\n",
    "SCARLET_DIR = '/tigress/jiaxuanl/public_html/NSA/scarlet_result/'\n",
    "sample_name = 'NSA'"
   ]
  },
  {
   "cell_type": "code",
   "execution_count": 49,
   "id": "4ce57ed0",
   "metadata": {},
   "outputs": [
    {
     "name": "stdout",
     "output_type": "stream",
     "text": [
      "You have 250 galaxies to be displayed\n",
      "Total pages: 11\n"
     ]
    }
   ],
   "source": [
    "webpage_cutout(FIGURE_DIR, WEBPAGE_DIR, sample_name, sample_title='Junk', SCARLET_DIR=SCARLET_DIR, \n",
    "               col_num=6, row_num=4)"
   ]
  },
  {
   "cell_type": "code",
   "execution_count": 50,
   "id": "16dc3f5b",
   "metadata": {},
   "outputs": [
    {
     "name": "stdout",
     "output_type": "stream",
     "text": [
      "The webpages are in /tigress/jiaxuanl/public_html/NSA/cutout_RGB/junk\n"
     ]
    }
   ],
   "source": [
    "print('The webpages are in', WEBPAGE_DIR)"
   ]
  },
  {
   "cell_type": "markdown",
   "id": "f1c1be02",
   "metadata": {},
   "source": [
    "### The search box on webpage still doesn't work. Need to work on the javascript file"
   ]
  }
 ],
 "metadata": {
  "kernelspec": {
   "display_name": "Python 3",
   "language": "python",
   "name": "python3"
  },
  "language_info": {
   "codemirror_mode": {
    "name": "ipython",
    "version": 3
   },
   "file_extension": ".py",
   "mimetype": "text/x-python",
   "name": "python",
   "nbconvert_exporter": "python",
   "pygments_lexer": "ipython3",
   "version": "3.7.8"
  }
 },
 "nbformat": 4,
 "nbformat_minor": 5
}
