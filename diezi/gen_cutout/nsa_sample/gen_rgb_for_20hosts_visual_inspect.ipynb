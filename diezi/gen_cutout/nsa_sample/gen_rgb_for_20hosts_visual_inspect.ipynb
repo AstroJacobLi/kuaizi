{
 "cells": [
  {
   "cell_type": "code",
   "execution_count": 1,
   "id": "5d603894",
   "metadata": {},
   "outputs": [],
   "source": [
    "%load_ext autoreload\n",
    "%autoreload 2"
   ]
  },
  {
   "cell_type": "code",
   "execution_count": 2,
   "id": "f8fa35e6",
   "metadata": {},
   "outputs": [],
   "source": [
    "import numpy as np\n",
    "import matplotlib.pyplot as plt\n",
    "import kuaizi as kz\n",
    "from astropy.table import Table\n",
    "import astropy.units as u\n",
    "\n",
    "from kuaizi.display import display_single\n",
    "from astropy.io import fits\n",
    "import os\n",
    "import sys\n",
    "from shutil import copyfile"
   ]
  },
  {
   "cell_type": "code",
   "execution_count": 134,
   "id": "61773d5c",
   "metadata": {},
   "outputs": [
    {
     "data": {
      "text/plain": [
       "'/scratch/gpfs/jiaxuanl/Data/HSC/LSBG'"
      ]
     },
     "execution_count": 134,
     "metadata": {},
     "output_type": "execute_result"
    }
   ],
   "source": [
    "kz.utils.set_env(project='HSC', name='LSBG', data_dir='/scratch/gpfs/jiaxuanl/Data/')"
   ]
  },
  {
   "cell_type": "code",
   "execution_count": 135,
   "id": "8167b95e",
   "metadata": {},
   "outputs": [],
   "source": [
    "cat = Table.read('./Catalog/nsa_20hosts_sample_211103_visual_inspect.fits')"
   ]
  },
  {
   "cell_type": "code",
   "execution_count": 136,
   "id": "93138990",
   "metadata": {},
   "outputs": [],
   "source": [
    "junk = (cat['bad_votes'] > cat['good_votes'])\n",
    "candy = (cat['is_candy'] > cat['bad_votes'])\n",
    "gal = (~junk) & (~candy)"
   ]
  },
  {
   "cell_type": "code",
   "execution_count": 137,
   "id": "d3da7d12",
   "metadata": {},
   "outputs": [
    {
     "name": "stdout",
     "output_type": "stream",
     "text": [
      "Candy: 162\n",
      "Gal: 111\n",
      "Junk: 21\n"
     ]
    }
   ],
   "source": [
    "print('Candy:', np.sum(candy))\n",
    "print('Gal:', np.sum(gal))\n",
    "print('Junk:', np.sum(junk))"
   ]
  },
  {
   "cell_type": "code",
   "execution_count": 138,
   "id": "32524643",
   "metadata": {},
   "outputs": [
    {
     "data": {
      "text/plain": [
       "111"
      ]
     },
     "execution_count": 138,
     "metadata": {},
     "output_type": "execute_result"
    }
   ],
   "source": [
    "cat = cat[gal] # junks only\n",
    "len(cat)"
   ]
  },
  {
   "cell_type": "code",
   "execution_count": 139,
   "id": "0418bf62",
   "metadata": {},
   "outputs": [],
   "source": [
    "cat.sort('viz-id')"
   ]
  },
  {
   "cell_type": "code",
   "execution_count": null,
   "id": "c7e4f378",
   "metadata": {},
   "outputs": [],
   "source": []
  },
  {
   "cell_type": "markdown",
   "id": "030d99ca",
   "metadata": {},
   "source": [
    "### Generate RGB images"
   ]
  },
  {
   "cell_type": "code",
   "execution_count": 140,
   "id": "6dec1f3f",
   "metadata": {},
   "outputs": [],
   "source": [
    "def _display_cutout_rgb(images, ax=None, half_width=200):\n",
    "    import scarlet\n",
    "    from scarlet.display import AsinhMapping\n",
    "\n",
    "    if ax is None:\n",
    "        fig, ax = plt.subplots(figsize=(5, 5))\n",
    "    \n",
    "    # Crop\n",
    "    if half_width is not None:\n",
    "        cen = (images.shape[1] // 2, images.shape[2] // 2)\n",
    "        images = images[:, cen[0] - half_width:cen[0]+half_width, cen[1] - half_width:cen[1] + half_width]\n",
    "        \n",
    "    # Display\n",
    "    norm = AsinhMapping(minimum=-0.2, stretch=1, Q=1)\n",
    "    img_rgb = scarlet.display.img_to_rgb(images, norm=norm)\n",
    "    plt.imshow(img_rgb, origin='lower')\n",
    "    ax.axis('off')\n",
    "    \n",
    "    if ax is None:\n",
    "        return fig\n",
    "    return ax"
   ]
  },
  {
   "cell_type": "code",
   "execution_count": 141,
   "id": "cc00def1",
   "metadata": {},
   "outputs": [],
   "source": [
    "CUTOUT_DIR = '/scratch/gpfs/jiaxuanl/Data/HSC/LSBG/Cutout/NSA/'\n",
    "FIGURE_DIR = '/scratch/gpfs/jiaxuanl/Data/HSC/LSBG/Figure/NSA/Cutout_RGB/'\n",
    "WEBPAGE_DIR = '/tigress/jiaxuanl/public_html/NSA/cutout_RGB/figure/20hosts/gal/'"
   ]
  },
  {
   "cell_type": "code",
   "execution_count": 142,
   "id": "ea364788",
   "metadata": {},
   "outputs": [],
   "source": [
    "# Check file exsistence\n",
    "for filt in 'grizy':\n",
    "    for obj in cat:\n",
    "        if not os.path.isfile(CUTOUT_DIR + f\"nsa_{obj['viz-id']}_{filt}.fits\"):\n",
    "            print(f\"NSA/nsa_{obj['viz-id']}_{filt}.fits not found!\")"
   ]
  },
  {
   "cell_type": "code",
   "execution_count": 143,
   "id": "283a33cc",
   "metadata": {},
   "outputs": [
    {
     "name": "stdout",
     "output_type": "stream",
     "text": [
      "Progress: 0 / 111\n",
      "Progress: 10 / 111\n",
      "Progress: 20 / 111\n",
      "Progress: 30 / 111\n",
      "Progress: 40 / 111\n",
      "Progress: 50 / 111\n",
      "Progress: 60 / 111\n",
      "Progress: 70 / 111\n",
      "Progress: 80 / 111\n",
      "Progress: 90 / 111\n",
      "Progress: 100 / 111\n",
      "Progress: 110 / 111\n"
     ]
    }
   ],
   "source": [
    "# Display each cutout\n",
    "for i, obj in enumerate(cat):\n",
    "    ind = obj['viz-id']\n",
    "    try:\n",
    "        images = np.asarray([fits.open(f'{CUTOUT_DIR}/nsa_{ind}_{filt}.fits')[1].data for filt in 'grizy'])\n",
    "        fig, ax = plt.subplots(figsize=(5, 5))\n",
    "        ax = _display_cutout_rgb(images, ax=ax, half_width=200)\n",
    "        plt.savefig(FIGURE_DIR + f'nsa_{ind}_cutout.png', dpi=70, bbox_inches='tight')\n",
    "        plt.close()\n",
    "    except Exception as e:\n",
    "        print(ind, e)\n",
    "        \n",
    "    if i % 10 == 0:\n",
    "        print(f'Progress: {i} / {len(cat)}')"
   ]
  },
  {
   "cell_type": "code",
   "execution_count": 144,
   "id": "fc08666a",
   "metadata": {},
   "outputs": [],
   "source": [
    "# Copy figures in FIGURE_DIR to WEBPAGE_DIR\n",
    "for i, obj in enumerate(cat):\n",
    "    ind = obj['viz-id']\n",
    "    try:\n",
    "        if not os.path.isdir(WEBPAGE_DIR):\n",
    "            os.mkdir(WEBPAGE_DIR)\n",
    "            \n",
    "        copyfile(FIGURE_DIR + f'nsa_{ind}_cutout.png', WEBPAGE_DIR + f'nsa_{ind}_cutout.png')\n",
    "    except Exception as e:\n",
    "        print(ind, e)"
   ]
  },
  {
   "cell_type": "markdown",
   "id": "d79d43d4",
   "metadata": {},
   "source": [
    "### Generate webpage for cutouts. WE use `diezi/webpage/gen_web_cutout.py`"
   ]
  },
  {
   "cell_type": "code",
   "execution_count": 145,
   "id": "5a660ae6",
   "metadata": {},
   "outputs": [],
   "source": [
    "sys.path.append('/home/jiaxuanl/Research/Packages/kuaizi/diezi/webpage/')\n",
    "from gen_web_cutout import webpage_cutout"
   ]
  },
  {
   "cell_type": "code",
   "execution_count": 146,
   "id": "2f2d5405",
   "metadata": {},
   "outputs": [],
   "source": [
    "#FOR NSA SAMPLE\n",
    "FIGURE_DIR = '/tigress/jiaxuanl/public_html/NSA/cutout_RGB/figure/20hosts/gal/'\n",
    "WEBPAGE_DIR = '/tigress/jiaxuanl/public_html/NSA/cutout_RGB/20hosts/gal/'\n",
    "SCARLET_DIR = '/tigress/jiaxuanl/public_html/NSA/vanilla_result/'\n",
    "sample_name = 'NSA'"
   ]
  },
  {
   "cell_type": "code",
   "execution_count": 147,
   "id": "4ce57ed0",
   "metadata": {},
   "outputs": [
    {
     "name": "stdout",
     "output_type": "stream",
     "text": [
      "You have 111 galaxies to be displayed\n",
      "Total pages: 5\n"
     ]
    }
   ],
   "source": [
    "webpage_cutout(FIGURE_DIR, WEBPAGE_DIR, sample_name, sample_title='Galaxy', SCARLET_DIR=SCARLET_DIR, \n",
    "               col_num=6, row_num=4)"
   ]
  },
  {
   "cell_type": "code",
   "execution_count": 64,
   "id": "16dc3f5b",
   "metadata": {},
   "outputs": [
    {
     "name": "stdout",
     "output_type": "stream",
     "text": [
      "The webpages are in /tigress/jiaxuanl/public_html/NSA/cutout_RGB/20hosts/\n"
     ]
    }
   ],
   "source": [
    "print('The webpages are in', WEBPAGE_DIR)"
   ]
  },
  {
   "cell_type": "markdown",
   "id": "f1c1be02",
   "metadata": {},
   "source": [
    "### The search box on webpage still doesn't work. Need to work on the javascript file"
   ]
  }
 ],
 "metadata": {
  "kernelspec": {
   "display_name": "Python 3",
   "language": "python",
   "name": "python3"
  },
  "language_info": {
   "codemirror_mode": {
    "name": "ipython",
    "version": 3
   },
   "file_extension": ".py",
   "mimetype": "text/x-python",
   "name": "python",
   "nbconvert_exporter": "python",
   "pygments_lexer": "ipython3",
   "version": "3.7.8"
  }
 },
 "nbformat": 4,
 "nbformat_minor": 5
}
