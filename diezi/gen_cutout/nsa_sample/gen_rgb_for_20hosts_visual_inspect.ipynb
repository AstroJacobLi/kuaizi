{
 "cells": [
  {
   "cell_type": "code",
   "execution_count": 1,
   "id": "5d603894",
   "metadata": {},
   "outputs": [],
   "source": [
    "%load_ext autoreload\n",
    "%autoreload 2"
   ]
  },
  {
   "cell_type": "code",
   "execution_count": 4,
   "id": "f8fa35e6",
   "metadata": {},
   "outputs": [],
   "source": [
    "import numpy as np\n",
    "import matplotlib.pyplot as plt\n",
    "import kuaizi as kz\n",
    "from astropy.table import Table\n",
    "import astropy.units as u\n",
    "\n",
    "from kuaizi.display import display_single\n",
    "from astropy.io import fits\n",
    "import os\n",
    "import sys\n",
    "from shutil import copyfile"
   ]
  },
  {
   "cell_type": "code",
   "execution_count": 159,
   "id": "61773d5c",
   "metadata": {},
   "outputs": [
    {
     "data": {
      "text/plain": [
       "'/scratch/gpfs/jiaxuanl/Data/HSC/LSBG'"
      ]
     },
     "execution_count": 159,
     "metadata": {},
     "output_type": "execute_result"
    }
   ],
   "source": [
    "kz.utils.set_env(project='HSC', name='LSBG', data_dir='/scratch/gpfs/jiaxuanl/Data/')"
   ]
  },
  {
   "cell_type": "code",
   "execution_count": 160,
   "id": "8167b95e",
   "metadata": {},
   "outputs": [],
   "source": [
    "# cat = Table.read('./Cutout/NSA/nsa_cutout_cat_1103.fits')\n",
    "# cat = Table.read('./Catalog/nsa_20hosts_sample_211103_visual_inspect.fits')\n",
    "cat = Table.read('./Catalog/20hosts/after_size_color_sb_cas_cut_jg_large_A.fits')\n",
    "cat.rename_column('ID', 'viz-id')\n",
    "cat['viz-id'] = cat['viz-id'].astype(int)"
   ]
  },
  {
   "cell_type": "code",
   "execution_count": 161,
   "id": "ac79586b",
   "metadata": {},
   "outputs": [],
   "source": [
    "# cat = Table.read('./Catalog/nsa_20hosts_sample_211103_visual_inspect.fits')"
   ]
  },
  {
   "cell_type": "code",
   "execution_count": 162,
   "id": "7c11f633",
   "metadata": {},
   "outputs": [],
   "source": [
    "# cat[cat['viz-id'] == 14399]"
   ]
  },
  {
   "cell_type": "code",
   "execution_count": 163,
   "id": "f5e21ee6",
   "metadata": {},
   "outputs": [],
   "source": [
    "# ind = np.array([ 1346.,  2154.,  2676.,  4150.,  4414.,  5794.,  8700., 13702.,\n",
    "#        13964., 14260., 14299., 17929., 18167., 19532., 22478., 22486.,\n",
    "#        23059., 23522., 23781., 24028., 24816., 26176., 27243., 28405.,\n",
    "#        32582., 35399., 36300., 42145., 42524., 43465., 45091., 45917.,\n",
    "#        46387., 46552., 46635., 47487., 50161., 50626., 50763., 51205.,\n",
    "#        52184., 52277., 52718., 53316., 56488., 57472., 57562., 60266.,\n",
    "#        63010., 64518., 65190., 67699., 68632., 69320., 70027., 70553.,\n",
    "#        71082., 71842., 72424., 72687., 73208., 73274., 74301., 74345.,\n",
    "#        75236., 76316., 77062., 77194., 79520., 81401., 84178., 85340.,\n",
    "#        86601., 86770., 88255.]).astype(int)"
   ]
  },
  {
   "cell_type": "code",
   "execution_count": 164,
   "id": "93138990",
   "metadata": {},
   "outputs": [],
   "source": [
    "junk = cat['junk']\n",
    "candy = cat['candy']\n",
    "gal = cat['gal']"
   ]
  },
  {
   "cell_type": "code",
   "execution_count": 165,
   "id": "d3da7d12",
   "metadata": {},
   "outputs": [
    {
     "name": "stdout",
     "output_type": "stream",
     "text": [
      "Candy: 57\n",
      "Gal: 17\n",
      "Junk: 2\n"
     ]
    }
   ],
   "source": [
    "print('Candy:', np.sum(candy))\n",
    "print('Gal:', np.sum(gal))\n",
    "print('Junk:', np.sum(junk))"
   ]
  },
  {
   "cell_type": "code",
   "execution_count": null,
   "id": "2b08b8e9",
   "metadata": {},
   "outputs": [],
   "source": []
  },
  {
   "cell_type": "code",
   "execution_count": 127,
   "id": "32524643",
   "metadata": {},
   "outputs": [],
   "source": [
    "# cat = cat[np.in1d(cat['viz-id'], ind)] # junks only\n",
    "# len(cat)"
   ]
  },
  {
   "cell_type": "code",
   "execution_count": 166,
   "id": "0418bf62",
   "metadata": {},
   "outputs": [],
   "source": [
    "cat.sort('viz-id')"
   ]
  },
  {
   "cell_type": "code",
   "execution_count": 167,
   "id": "9f9c3172",
   "metadata": {},
   "outputs": [],
   "source": [
    "cat = cat#[candy]\n",
    "category = 'large_A'"
   ]
  },
  {
   "cell_type": "code",
   "execution_count": null,
   "id": "c0bd3ca3",
   "metadata": {},
   "outputs": [],
   "source": []
  },
  {
   "cell_type": "markdown",
   "id": "030d99ca",
   "metadata": {},
   "source": [
    "### Generate RGB images"
   ]
  },
  {
   "cell_type": "code",
   "execution_count": 168,
   "id": "6dec1f3f",
   "metadata": {},
   "outputs": [],
   "source": [
    "def _display_cutout_rgb(images, ax=None, half_width=200):\n",
    "    import scarlet\n",
    "    from scarlet.display import AsinhMapping\n",
    "\n",
    "    if ax is None:\n",
    "        fig, ax = plt.subplots(figsize=(5, 5))\n",
    "    \n",
    "    # Crop\n",
    "    if half_width is not None:\n",
    "        if half_width * 2 < min(images.shape[1], images.shape[2]):\n",
    "            cen = (images.shape[1] // 2, images.shape[2] // 2)\n",
    "            images = images[:, cen[0] - half_width:cen[0]+half_width, cen[1] - half_width:cen[1] + half_width]\n",
    "    \n",
    "    # Norm color\n",
    "    f_c = np.array([1.9, 1.2, 1., 0.85])\n",
    "    _images = images * f_c[:, np.newaxis, np.newaxis]\n",
    "    \n",
    "    # Display\n",
    "    norm = AsinhMapping(minimum=-0.15, stretch=1.2, Q=3)\n",
    "    \n",
    "    img_rgb = scarlet.display.img_to_rgb(_images, norm=norm)\n",
    "    plt.imshow(img_rgb, origin='lower')\n",
    "    ax.axis('off')\n",
    "    \n",
    "    if ax is None:\n",
    "        return fig\n",
    "    return ax"
   ]
  },
  {
   "cell_type": "code",
   "execution_count": 169,
   "id": "89c2d8f9",
   "metadata": {},
   "outputs": [],
   "source": [
    "# obj = cat[cat['viz-id'] == 68320][0]\n",
    "# ind = obj['viz-id']\n",
    "\n",
    "# images = np.asarray([fits.open(f'{CUTOUT_DIR}/nsa_{ind}_{filt}.fits')[1].data for filt in 'griz'])\n",
    "# fig, ax = plt.subplots(figsize=(5, 5))\n",
    "# size = obj['rhalf_ellip'] * 7 if obj['rhalf_ellip'] * 5 > 100 else 100\n",
    "# ax = _display_cutout_rgb(images, ax=ax, half_width=int(size))\n",
    "# #plt.savefig(FIGURE_DIR + f'nsa_{ind}_cutout.png', dpi=70, bbox_inches='tight')\n",
    "# #plt.close()"
   ]
  },
  {
   "cell_type": "code",
   "execution_count": 170,
   "id": "cc00def1",
   "metadata": {},
   "outputs": [],
   "source": [
    "CUTOUT_DIR = '/scratch/gpfs/jiaxuanl/Data/HSC/LSBG/Cutout/NSA/'\n",
    "FIGURE_DIR = '/scratch/gpfs/jiaxuanl/Data/HSC/LSBG/Figure/NSA/Cutout_RGB/viz_ins/'\n",
    "WEBPAGE_DIR = f'/tigress/jiaxuanl/public_html/NSA/cutout_RGB/figure/20hosts/{category}/'"
   ]
  },
  {
   "cell_type": "code",
   "execution_count": 171,
   "id": "ea364788",
   "metadata": {},
   "outputs": [],
   "source": [
    "# Check file exsistence\n",
    "for filt in 'grizy':\n",
    "    for obj in cat:\n",
    "        if not os.path.isfile(CUTOUT_DIR + f\"nsa_{obj['viz-id']}_{filt}.fits\"):\n",
    "            print(f\"NSA/nsa_{obj['viz-id']}_{filt}.fits not found!\")\n",
    "            \n",
    "if not os.path.isdir(FIGURE_DIR):\n",
    "    os.mkdir(FIGURE_DIR)"
   ]
  },
  {
   "cell_type": "code",
   "execution_count": 172,
   "id": "283a33cc",
   "metadata": {
    "scrolled": true
   },
   "outputs": [
    {
     "name": "stdout",
     "output_type": "stream",
     "text": [
      "Progress: 0 / 76\n",
      "Progress: 10 / 76\n",
      "Progress: 20 / 76\n",
      "Progress: 30 / 76\n",
      "Progress: 40 / 76\n",
      "Progress: 50 / 76\n",
      "Progress: 60 / 76\n",
      "Progress: 70 / 76\n"
     ]
    }
   ],
   "source": [
    "# Display each cutout\n",
    "for i, obj in enumerate(cat):\n",
    "    ind = obj['viz-id']\n",
    "    try:\n",
    "        images = np.asarray([fits.open(f'{CUTOUT_DIR}/nsa_{ind}_{filt}.fits')[1].data for filt in 'griz'])\n",
    "        fig, ax = plt.subplots(figsize=(5, 5))\n",
    "        size = obj['rhalf_ellip'] * 5 if obj['rhalf_ellip'] * 5 > 100 else 100\n",
    "        ax = _display_cutout_rgb(images, ax=ax, half_width=int(size))\n",
    "        plt.savefig(FIGURE_DIR + f'nsa_{ind}_cutout.png', dpi=70, bbox_inches='tight')\n",
    "        plt.close()\n",
    "    except Exception as e:\n",
    "        print(ind, e)\n",
    "        \n",
    "    if i % 10 == 0:\n",
    "        print(f'Progress: {i} / {len(cat)}')"
   ]
  },
  {
   "cell_type": "code",
   "execution_count": 173,
   "id": "fc08666a",
   "metadata": {},
   "outputs": [],
   "source": [
    "# Copy figures in FIGURE_DIR to WEBPAGE_DIR\n",
    "if not os.path.isdir(WEBPAGE_DIR):\n",
    "    os.mkdir(WEBPAGE_DIR)\n",
    "else:\n",
    "    import glob\n",
    "    fileList = glob.glob(WEBPAGE_DIR + '*.png', recursive=True)\n",
    "    [os.remove(file) for file in fileList];\n",
    "            \n",
    "for i, obj in enumerate(cat):\n",
    "    ind = obj['viz-id']\n",
    "    try: \n",
    "        copyfile(FIGURE_DIR + f'nsa_{ind}_cutout.png', WEBPAGE_DIR + f'nsa_{ind}_cutout.png')\n",
    "    except Exception as e:\n",
    "        print(ind, e)"
   ]
  },
  {
   "cell_type": "markdown",
   "id": "d79d43d4",
   "metadata": {},
   "source": [
    "### Generate webpage for cutouts. WE use `diezi/webpage/gen_web_cutout.py`"
   ]
  },
  {
   "cell_type": "code",
   "execution_count": 174,
   "id": "5a660ae6",
   "metadata": {},
   "outputs": [],
   "source": [
    "sys.path.append('/home/jiaxuanl/Research/Packages/kuaizi/diezi/webpage/')\n",
    "from gen_web_cutout import webpage_cutout"
   ]
  },
  {
   "cell_type": "code",
   "execution_count": 175,
   "id": "2f2d5405",
   "metadata": {},
   "outputs": [],
   "source": [
    "#FOR NSA SAMPLE\n",
    "FIGURE_DIR = f'/tigress/jiaxuanl/public_html/NSA/cutout_RGB/figure/20hosts/{category}/'\n",
    "WEBPAGE_DIR = f'/tigress/jiaxuanl/public_html/NSA/cutout_RGB/20hosts/{category}/'\n",
    "SCARLET_DIR = '/tigress/jiaxuanl/public_html/NSA/vanilla_result/'\n",
    "sample_name = 'NSA'"
   ]
  },
  {
   "cell_type": "code",
   "execution_count": 176,
   "id": "4ce57ed0",
   "metadata": {},
   "outputs": [
    {
     "name": "stdout",
     "output_type": "stream",
     "text": [
      "You have 76 galaxies to be displayed\n",
      "Total pages: 4\n"
     ]
    }
   ],
   "source": [
    "webpage_cutout(FIGURE_DIR, WEBPAGE_DIR, sample_name, sample_title=f'{category}', SCARLET_DIR=SCARLET_DIR, \n",
    "               col_num=6, row_num=4)"
   ]
  },
  {
   "cell_type": "code",
   "execution_count": 177,
   "id": "16dc3f5b",
   "metadata": {},
   "outputs": [
    {
     "name": "stdout",
     "output_type": "stream",
     "text": [
      "The webpages are in /tigress/jiaxuanl/public_html/NSA/cutout_RGB/20hosts/large_A/\n"
     ]
    }
   ],
   "source": [
    "print('The webpages are in', WEBPAGE_DIR)"
   ]
  },
  {
   "cell_type": "markdown",
   "id": "f1c1be02",
   "metadata": {},
   "source": [
    "### The search box on webpage still doesn't work. Need to work on the javascript file"
   ]
  },
  {
   "cell_type": "code",
   "execution_count": null,
   "id": "b9587bf2",
   "metadata": {},
   "outputs": [],
   "source": []
  }
 ],
 "metadata": {
  "kernelspec": {
   "display_name": "Python 3",
   "language": "python",
   "name": "python3"
  },
  "language_info": {
   "codemirror_mode": {
    "name": "ipython",
    "version": 3
   },
   "file_extension": ".py",
   "mimetype": "text/x-python",
   "name": "python",
   "nbconvert_exporter": "python",
   "pygments_lexer": "ipython3",
   "version": "3.7.8"
  }
 },
 "nbformat": 4,
 "nbformat_minor": 5
}
