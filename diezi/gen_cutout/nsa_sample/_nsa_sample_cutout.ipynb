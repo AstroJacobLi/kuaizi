{
 "cells": [
  {
   "cell_type": "code",
   "execution_count": 1,
   "id": "accomplished-reaction",
   "metadata": {},
   "outputs": [],
   "source": [
    "%load_ext autoreload\n",
    "%autoreload 2"
   ]
  },
  {
   "cell_type": "code",
   "execution_count": 4,
   "id": "proud-benchmark",
   "metadata": {},
   "outputs": [],
   "source": [
    "import numpy as np\n",
    "import matplotlib.pyplot as plt\n",
    "import kuaizi as kz\n",
    "from astropy.table import Table, vstack\n",
    "import astropy.units as u\n",
    "\n",
    "from kuaizi.display import display_single\n",
    "from astropy.io import fits"
   ]
  },
  {
   "cell_type": "code",
   "execution_count": 3,
   "id": "allied-treat",
   "metadata": {},
   "outputs": [
    {
     "data": {
      "text/plain": [
       "'/scratch/gpfs/jiaxuanl/Data/HSC/LSBG'"
      ]
     },
     "execution_count": 3,
     "metadata": {},
     "output_type": "execute_result"
    }
   ],
   "source": [
    "kz.utils.set_env(project='HSC', name='LSBG', data_dir='/scratch/gpfs/jiaxuanl/Data/')"
   ]
  },
  {
   "cell_type": "code",
   "execution_count": 19,
   "id": "3436ae2c",
   "metadata": {},
   "outputs": [
    {
     "name": "stdout",
     "output_type": "stream",
     "text": [
      "Total LSBGs: 86002\n",
      "# of LSBGs: 5576\n"
     ]
    }
   ],
   "source": [
    "lsbg_cat = Table.read('./Catalog/NSA/lsbg_NSA_MW_match.fits')\n",
    "print('Total LSBGs:', len(lsbg_cat))\n",
    "flag = (lsbg_cat['host_z'] <= 0.04) & (lsbg_cat['host_z'] >= 0.02)\n",
    "lsbg_cat = lsbg_cat[flag]\n",
    "print('# of LSBGs:', len(lsbg_cat))\n",
    "lsbg_cat.write('./Catalog/NSA/z002_004/lsbg_NSA_MW_z002_004.fits', overwrite=True)"
   ]
  },
  {
   "cell_type": "code",
   "execution_count": 20,
   "id": "9d5fe6d7",
   "metadata": {},
   "outputs": [],
   "source": [
    "lsbg_cat = Table.read('./Catalog/NSA/z002_004/lsbg_NSA_MW_z002_004.fits') # This contains both candy+galaxy and junks"
   ]
  },
  {
   "cell_type": "code",
   "execution_count": 21,
   "id": "a171d51b",
   "metadata": {},
   "outputs": [],
   "source": [
    "cat = lsbg_cat#[(lsbg_cat['good_votes'] + lsbg_cat['bad_votes']) > 2]"
   ]
  },
  {
   "cell_type": "code",
   "execution_count": 22,
   "id": "8d74ebaa",
   "metadata": {},
   "outputs": [
    {
     "data": {
      "text/plain": [
       "5576"
      ]
     },
     "execution_count": 22,
     "metadata": {},
     "output_type": "execute_result"
    }
   ],
   "source": [
    "len(cat)"
   ]
  },
  {
   "cell_type": "code",
   "execution_count": null,
   "id": "c5813dec",
   "metadata": {},
   "outputs": [],
   "source": []
  },
  {
   "cell_type": "markdown",
   "id": "gothic-poster",
   "metadata": {},
   "source": [
    "### Adaptive cutout size"
   ]
  },
  {
   "cell_type": "code",
   "execution_count": 39,
   "id": "1ae50ea6",
   "metadata": {},
   "outputs": [],
   "source": [
    "obj_cat = Table.read('./Catalog/NSA/z002_004/lsbg_NSA_MW_z002_004.fits')"
   ]
  },
  {
   "cell_type": "code",
   "execution_count": 42,
   "id": "ca151588",
   "metadata": {},
   "outputs": [
    {
     "data": {
      "text/plain": [
       "(array([2268., 2288.,  654.,  176.,   94.,   37.,   23.,   12.,   13.,\n",
       "           5.]),\n",
       " array([ 0.,  3.,  6.,  9., 12., 15., 18., 21., 24., 27., 30.]),\n",
       " <BarContainer object of 10 artists>)"
      ]
     },
     "execution_count": 42,
     "metadata": {},
     "output_type": "execute_result"
    },
    {
     "data": {
      "image/png": "[encoded data removed]",
      "text/plain": [
       "<Figure size 432x288 with 1 Axes>"
      ]
     },
     "metadata": {
      "needs_background": "light"
     },
     "output_type": "display_data"
    }
   ],
   "source": [
    "plt.hist(obj_cat['flux_radius_ave_i'], range=(0, 30))"
   ]
  },
  {
   "cell_type": "code",
   "execution_count": 18,
   "id": "going-earthquake",
   "metadata": {},
   "outputs": [],
   "source": [
    "## Adaptive cutout size??  \n",
    "# Normal objects, use 1.0 arcmin cutout.\n",
    "# Radius > 20 arcsec, use 1.5 arcmin cutout.\n",
    "# Radius > 30 arcsec, use 2.0 arcmin cutout.\n",
    "size = np.ones(len(cat)) * 1.0 * u.arcmin\n",
    "\n",
    "size[cat['flux_radius_ave_i'] > 20] = 1.5 * u.arcmin # shoud be larger\n",
    "size[cat['flux_radius_ave_i'] > 30] = 2 * u.arcmin # should be larger \n",
    "\n",
    "cat['cutout_size'] = size.value\n",
    "#cat.write('./Catalog/NSA/nsa_20hosts_sample_211103.fits', overwrite=True)"
   ]
  },
  {
   "cell_type": "code",
   "execution_count": null,
   "id": "dde0d682",
   "metadata": {},
   "outputs": [],
   "source": []
  },
  {
   "cell_type": "markdown",
   "id": "ahead-failing",
   "metadata": {},
   "source": [
    "### Generate cutout"
   ]
  },
  {
   "cell_type": "markdown",
   "id": "e8dee80d",
   "metadata": {},
   "source": [
    "Run `'/home/jiaxuanl/Research/Packages/kuaizi/diezi/gen_cutout/nsa_sample/lsbg_cutout_nsa.sh'`\n",
    "\n",
    "In the end, we get `$gpfs/Data/HSC/LSBG/Cutout/nsa_20hosts_cutout_cat.fits`"
   ]
  },
  {
   "cell_type": "code",
   "execution_count": null,
   "id": "cbe4376c",
   "metadata": {},
   "outputs": [],
   "source": []
  },
  {
   "cell_type": "raw",
   "id": "ebe347ff",
   "metadata": {},
   "source": [
    "import os, sys\n",
    "sys.path.append('/home/jiaxuanl/Research/Packages/kuaizi/diezi/gen_cutout/')\n",
    "from s18a_batch_cutout import batch_cutout"
   ]
  },
  {
   "cell_type": "raw",
   "id": "524bf04b",
   "metadata": {},
   "source": [
    "batch_cutout('/scratch/gpfs/jiaxuanl/Data/',\n",
    "             './Catalog/nsa_test_sample_210928.fits', \n",
    "             size='cutout_size',\n",
    "            unit='arcmin',\n",
    "            bands='grizy',\n",
    "            ra_name='ra',\n",
    "            dec_name='dec',\n",
    "            name='viz-id',\n",
    "            prefix='nsa',\n",
    "            output='./Cutout/NSA',\n",
    "            label='deepCoadd_calexp',\n",
    "            root='/tigress/HSC/DR/s18a_wide',\n",
    "            njobs=1,\n",
    "            psf=True,)"
   ]
  },
  {
   "cell_type": "raw",
   "id": "1e8bc28f",
   "metadata": {},
   "source": [
    "##### NO LONGER AVAILABLE #####\n",
    "#### Download quick RGB from Johnny's website\n",
    "import urllib\n",
    "\n",
    "temp = cat\n",
    "for k, idx in enumerate(temp['viz-id'].data):\n",
    "    suffix = ''\n",
    "    if temp[k]['is_galaxy'] >= 1:\n",
    "        suffix += '_gal'\n",
    "    if temp[k]['is_candy'] >= 1:\n",
    "        suffix += '_cd'\n",
    "    if temp[k]['bad_votes'] >= 1:\n",
    "        suffix += '_jk'\n",
    "        \n",
    "    url = f'https://hugs-detections.nyc3.digitaloceanspaces.com/hugs-{idx}.png'\n",
    "    urllib.request.urlretrieve(url, filename=f'{idx}' + suffix + '.png')"
   ]
  },
  {
   "cell_type": "code",
   "execution_count": null,
   "id": "numerical-gather",
   "metadata": {},
   "outputs": [],
   "source": []
  }
 ],
 "metadata": {
  "kernelspec": {
   "display_name": "Python 3",
   "language": "python",
   "name": "python3"
  },
  "language_info": {
   "codemirror_mode": {
    "name": "ipython",
    "version": 3
   },
   "file_extension": ".py",
   "mimetype": "text/x-python",
   "name": "python",
   "nbconvert_exporter": "python",
   "pygments_lexer": "ipython3",
   "version": "3.7.8"
  }
 },
 "nbformat": 4,
 "nbformat_minor": 5
}
