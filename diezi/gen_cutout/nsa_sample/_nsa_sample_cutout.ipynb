{
 "cells": [
  {
   "cell_type": "markdown",
   "id": "cb51f57d",
   "metadata": {},
   "source": [
    "### Prepare catalogs for cutouts.\n",
    "This notebook is for generating cutout images for LSBGs matched with MW-like hosts. We currently focus on two redshift bins: 0.01-0.02 and 0.02-0.04. "
   ]
  },
  {
   "cell_type": "code",
   "execution_count": 1,
   "id": "accomplished-reaction",
   "metadata": {},
   "outputs": [],
   "source": [
    "%load_ext autoreload\n",
    "%autoreload 2"
   ]
  },
  {
   "cell_type": "code",
   "execution_count": 4,
   "id": "proud-benchmark",
   "metadata": {},
   "outputs": [],
   "source": [
    "import numpy as np\n",
    "import matplotlib.pyplot as plt\n",
    "import kuaizi as kz\n",
    "from astropy.table import Table, vstack\n",
    "import astropy.units as u\n",
    "\n",
    "from kuaizi.display import display_single\n",
    "from astropy.io import fits"
   ]
  },
  {
   "cell_type": "code",
   "execution_count": 5,
   "id": "allied-treat",
   "metadata": {},
   "outputs": [
    {
     "data": {
      "text/plain": [
       "'/scratch/gpfs/jiaxuanl/Data/HSC/LSBG'"
      ]
     },
     "execution_count": 5,
     "metadata": {},
     "output_type": "execute_result"
    }
   ],
   "source": [
    "kz.utils.set_env(project='HSC', name='LSBG', data_dir='/scratch/gpfs/jiaxuanl/Data/')"
   ]
  },
  {
   "cell_type": "code",
   "execution_count": 20,
   "id": "3436ae2c",
   "metadata": {},
   "outputs": [
    {
     "name": "stdout",
     "output_type": "stream",
     "text": [
      "Total LSBGs: 86002\n",
      "# of LSBGs: 5576\n"
     ]
    }
   ],
   "source": [
    "lsbg_cat = Table.read('./Catalog/NSA/lsbg_NSA_MW_match.fits')\n",
    "print('Total LSBGs:', len(lsbg_cat))\n",
    "flag = (lsbg_cat['host_z'] <= 0.04) & (lsbg_cat['host_z'] >= 0.02)\n",
    "lsbg_cat = lsbg_cat[flag]\n",
    "print('# of LSBGs:', len(lsbg_cat))\n",
    "lsbg_cat.write('./Catalog/NSA/z002_004/lsbg_NSA_MW_z002_004.fits', overwrite=True)"
   ]
  },
  {
   "cell_type": "code",
   "execution_count": 21,
   "id": "e43c92a2",
   "metadata": {},
   "outputs": [
    {
     "name": "stdout",
     "output_type": "stream",
     "text": [
      "Total LSBGs: 86002\n",
      "# of LSBGs: 2791\n"
     ]
    }
   ],
   "source": [
    "lsbg_cat = Table.read('./Catalog/NSA/lsbg_NSA_MW_match.fits')\n",
    "print('Total LSBGs:', len(lsbg_cat))\n",
    "flag = (lsbg_cat['host_z'] <= 0.02) & (lsbg_cat['host_z'] >= 0.01)\n",
    "lsbg_cat = lsbg_cat[flag]\n",
    "print('# of LSBGs:', len(lsbg_cat))\n",
    "lsbg_cat.write('./Catalog/NSA/z001_002/lsbg_NSA_MW_z001_002.fits', overwrite=True)"
   ]
  },
  {
   "cell_type": "code",
   "execution_count": null,
   "id": "b01845d7",
   "metadata": {},
   "outputs": [],
   "source": []
  },
  {
   "cell_type": "code",
   "execution_count": 24,
   "id": "dc82ee7c",
   "metadata": {},
   "outputs": [
    {
     "data": {
      "text/html": [
       "<i>Table length=2791</i>\n",
       "<table id=\"table47532308645456\" class=\"table-striped table-bordered table-condensed\">\n",
       "<thead><tr><th>ra</th><th>dec</th><th>a_image</th><th>b_image</th><th>theta_image</th><th>ellipticity</th><th>mag_auto_g</th><th>mag_auto_r</th><th>mag_auto_i</th><th>flux_radius_ave_g</th><th>flux_radius_ave_i</th><th>mu_ave_g</th><th>mu_ave_i</th><th>acorr_ratio</th><th>g-i</th><th>g-r</th><th>A_g</th><th>A_r</th><th>A_i</th><th>tract</th><th>patch</th><th>synth_id</th><th>viz-id</th><th>is_candy</th><th>is_galaxy</th><th>is_tidal</th><th>is_outskirts</th><th>is_cirrus</th><th>is_junk</th><th>num_votes</th><th>good_votes</th><th>bad_votes</th><th>host_name</th><th>host_z</th><th>host_ang_diam_dist</th><th>host_stellar_mass</th><th>host_halo_mass</th><th>host_r_vir</th><th>host_r_vir_ang</th><th>host_300kpc_ang</th><th>host_nvotes</th><th>host_spiral</th><th>host_elliptical</th><th>host_uncertain</th><th>host_RA</th><th>host_DEC</th></tr></thead>\n",
       "<thead><tr><th></th><th></th><th></th><th></th><th></th><th></th><th></th><th></th><th></th><th></th><th></th><th></th><th></th><th></th><th></th><th></th><th></th><th></th><th></th><th></th><th></th><th></th><th></th><th></th><th></th><th></th><th></th><th></th><th></th><th></th><th></th><th></th><th></th><th></th><th>Mpc</th><th></th><th></th><th></th><th></th><th></th><th></th><th></th><th></th><th></th><th></th><th></th></tr></thead>\n",
       "<thead><tr><th>float64</th><th>float64</th><th>float64</th><th>float64</th><th>float64</th><th>float64</th><th>float64</th><th>float64</th><th>float64</th><th>float64</th><th>float64</th><th>float64</th><th>float64</th><th>float64</th><th>float64</th><th>float64</th><th>float64</th><th>float64</th><th>float64</th><th>int64</th><th>bytes3</th><th>int64</th><th>int64</th><th>int64</th><th>int64</th><th>int64</th><th>int64</th><th>int64</th><th>int64</th><th>int64</th><th>int64</th><th>int64</th><th>bytes19</th><th>float64</th><th>float64</th><th>float64</th><th>float64</th><th>float64</th><th>float64</th><th>float64</th><th>float64</th><th>float64</th><th>float64</th><th>float64</th><th>float64</th><th>float64</th></tr></thead>\n",
       "<tr><td>148.644722</td><td>0.6324236</td><td>26.481</td><td>19.073</td><td>-29.64</td><td>0.28</td><td>17.8636</td><td>17.4643</td><td>17.2559</td><td>5.299812</td><td>5.179692</td><td>22.965983582252385</td><td>22.334202242303963</td><td>1.0666763135780277</td><td>0.5990814941543471</td><td>0.4005263876679588</td><td>0.091888629160825</td><td>0.06511501682878135</td><td>0.04647012331517132</td><td>9569</td><td>1,3</td><td>-1</td><td>29</td><td>2</td><td>0</td><td>0</td><td>0</td><td>0</td><td>0</td><td>2</td><td>2</td><td>0</td><td>J095320.22+004151.8</td><td>0.012554815039038658</td><td>54.714014475531776</td><td>10.752464621791468</td><td>12.382583618164062</td><td>351.1550435804657</td><td>0.3677248170364548</td><td>0.31415594657593937</td><td>66.0</td><td>1.0</td><td>0.0</td><td>0.0</td><td>148.3342549085445</td><td>0.6976978629829147</td></tr>\n",
       "<tr><td>30.6411865</td><td>-5.4208379</td><td>5.668</td><td>4.748</td><td>-70.15</td><td>0.162</td><td>23.5773</td><td>23.0723</td><td>23.05</td><td>2.5482240000000003</td><td>2.1488880000000004</td><td>26.92808632341621</td><td>26.27463419035521</td><td>1.6249965069592989</td><td>0.5496779663821286</td><td>0.5456349463904673</td><td>0.074698957876451</td><td>0.05293390426691903</td><td>0.03777692425858255</td><td>8521</td><td>7,3</td><td>-1</td><td>43</td><td>2</td><td>0</td><td>0</td><td>1</td><td>0</td><td>0</td><td>3</td><td>2</td><td>1</td><td>J020121.49-052219.9</td><td>0.017789000645279884</td><td>77.0315676422389</td><td>10.972699492702112</td><td>12.893357276916504</td><td>518.0964037442687</td><td>0.38535808639757846</td><td>0.2231388310819797</td><td>nan</td><td>nan</td><td>nan</td><td>nan</td><td>30.340051418028484</td><td>-5.370902302608455</td></tr>\n",
       "<tr><td>140.8198114</td><td>2.0691864</td><td>10.544</td><td>5.124</td><td>62.6</td><td>0.514</td><td>22.0173</td><td>21.3246</td><td>21.2354</td><td>2.887416</td><td>3.8090640000000002</td><td>25.55167748736025</td><td>25.225512041216582</td><td>1.4917182105111195</td><td>0.5945250268581581</td><td>0.5098150033168867</td><td>0.12315944190711851</td><td>0.0872744452240051</td><td>0.06228446876527645</td><td>9807</td><td>7,3</td><td>-1</td><td>49</td><td>0</td><td>0</td><td>0</td><td>0</td><td>0</td><td>2</td><td>2</td><td>0</td><td>2</td><td>J092336.19+020813.0</td><td>0.01691265217959881</td><td>73.31488765931118</td><td>10.756346076259241</td><td>12.393817901611328</td><td>353.28309055437614</td><td>0.27609168681102775</td><td>0.2344508080285824</td><td>27.0</td><td>1.0</td><td>0.0</td><td>0.0</td><td>140.90209285723307</td><td>2.1364878170321813</td></tr>\n",
       "<tr><td>345.5167346</td><td>2.2063418</td><td>11.774</td><td>8.612</td><td>-57.13</td><td>0.269</td><td>20.8373</td><td>19.8149</td><td>19.414</td><td>2.4748080000000003</td><td>1.9799640000000003</td><td>24.107183165139027</td><td>22.26925349694107</td><td>1.2194126703078205</td><td>1.3496326844563633</td><td>0.9817483033528749</td><td>0.22875258520186648</td><td>0.16210088855474053</td><td>0.11568526965822817</td><td>9944</td><td>2,4</td><td>-1</td><td>120</td><td>1</td><td>1</td><td>0</td><td>0</td><td>0</td><td>0</td><td>2</td><td>2</td><td>0</td><td>J230142.90+021548.9</td><td>0.010647382587194443</td><td>46.50968570644832</td><td>10.305697768458948</td><td>11.776466369628906</td><td>220.77522584559384</td><td>0.2719753723273668</td><td>0.3695732226553101</td><td>nan</td><td>nan</td><td>nan</td><td>nan</td><td>345.4286664848169</td><td>2.2636530794913856</td></tr>\n",
       "<tr><td>223.6637535</td><td>43.9890614</td><td>19.809</td><td>10.672</td><td>-60.07</td><td>0.461</td><td>18.8501</td><td>18.4248</td><td>18.1278</td><td>3.6796200000000003</td><td>3.394188</td><td>23.05989897669728</td><td>22.156143598069637</td><td>1.1780269037252458</td><td>0.723296751469487</td><td>0.43076817264346534</td><td>0.0673775985601727</td><td>0.047745771203636135</td><td>0.03407435002965739</td><td>15999</td><td>4,5</td><td>-1</td><td>136</td><td>0</td><td>2</td><td>0</td><td>0</td><td>0</td><td>0</td><td>2</td><td>2</td><td>0</td><td>J145509.05+434906.8</td><td>0.01857396401464939</td><td>80.35391785752009</td><td>10.55821832967721</td><td>12.060482025146484</td><td>273.2647341911828</td><td>0.1948494476885082</td><td>0.21391283613514508</td><td>66.0</td><td>1.0</td><td>0.0</td><td>0.0</td><td>223.78776865877816</td><td>43.818586488016564</td></tr>\n",
       "<tr><td>132.81308</td><td>-2.1314523</td><td>18.227</td><td>11.242</td><td>27.87</td><td>0.383</td><td>20.8189</td><td>20.1771</td><td>20.1253</td><td>12.427548000000002</td><td>5.789784000000001</td><td>27.657198594798377</td><td>25.745605379618688</td><td>1.2806087924783782</td><td>0.6891054839511626</td><td>0.6396071125669557</td><td>0.05077006907752537</td><td>0.0359771816444821</td><td>0.025675553028689756</td><td>9073</td><td>2,5</td><td>-1</td><td>139</td><td>0</td><td>0</td><td>0</td><td>0</td><td>0</td><td>2</td><td>2</td><td>0</td><td>2</td><td>J085143.80-020803.0</td><td>0.011027646251022816</td><td>48.14835551990719</td><td>10.319839804896937</td><td>11.788872718811035</td><td>222.8373473491274</td><td>0.2651729220735193</td><td>0.3569952594051434</td><td>nan</td><td>nan</td><td>nan</td><td>nan</td><td>132.93200465781206</td><td>-2.1298216665987946</td></tr>\n",
       "<tr><td>179.7186056</td><td>-1.9491382</td><td>15.748</td><td>9.62</td><td>0.08</td><td>0.389</td><td>19.7978</td><td>19.1893</td><td>18.8895</td><td>3.159828</td><td>3.060792</td><td>23.777676858904346</td><td>22.792886793679674</td><td>1.210732247879125</td><td>0.8656059499549269</td><td>0.572339802789452</td><td>0.0839488509359954</td><td>0.059488653725445546</td><td>0.04245480089092251</td><td>9105</td><td>6,5</td><td>-1</td><td>141</td><td>0</td><td>2</td><td>0</td><td>0</td><td>0</td><td>0</td><td>2</td><td>2</td><td>0</td><td>J115805.80-020712.0</td><td>0.019513528794050217</td><td>84.32224268233712</td><td>11.036745398769007</td><td>13.06769847869873</td><td>591.6716483700335</td><td>0.40203255859571363</td><td>0.20384577816256005</td><td>nan</td><td>nan</td><td>nan</td><td>nan</td><td>179.52408841702794</td><td>-2.120041256711893</td></tr>\n",
       "<tr><td>345.4633885</td><td>2.2134347</td><td>18.418</td><td>11.082</td><td>39.05</td><td>0.398</td><td>19.6637</td><td>19.2983</td><td>19.1095</td><td>3.4155240000000004</td><td>3.248364</td><td>23.575300057275744</td><td>22.994687377667603</td><td>1.1501736149450072</td><td>0.4552366866973028</td><td>0.3144063572395863</td><td>0.2433111964378133</td><td>0.17241755367739878</td><td>0.12304788313511436</td><td>9944</td><td>2,4</td><td>-1</td><td>217</td><td>1</td><td>1</td><td>0</td><td>0</td><td>0</td><td>0</td><td>2</td><td>2</td><td>0</td><td>J230142.90+021548.9</td><td>0.010647382587194443</td><td>46.50968570644832</td><td>10.305697768458948</td><td>11.776466369628906</td><td>220.77522584559384</td><td>0.2719753723273668</td><td>0.3695732226553101</td><td>nan</td><td>nan</td><td>nan</td><td>nan</td><td>345.4286664848169</td><td>2.2636530794913856</td></tr>\n",
       "<tr><td>234.4098857</td><td>43.2692238</td><td>19.174</td><td>14.33</td><td>37.89</td><td>0.253</td><td>18.7804</td><td>17.925</td><td>17.5629</td><td>3.8444280000000006</td><td>3.1917480000000005</td><td>23.152937751475566</td><td>21.48914435100672</td><td>1.0989300761992709</td><td>1.3025312083909064</td><td>0.9034274082003968</td><td>0.07094956400012165</td><td>0.050276972200519236</td><td>0.03588077239102966</td><td>16004</td><td>2,1</td><td>-1</td><td>258</td><td>0</td><td>2</td><td>0</td><td>0</td><td>0</td><td>0</td><td>2</td><td>2</td><td>0</td><td>J153713.26+431753.9</td><td>0.01913272775709629</td><td>82.71499825402</td><td>10.797280638942347</td><td>12.479351043701172</td><td>376.7583545203038</td><td>0.26097641540559074</td><td>0.20780673787940637</td><td>38.0</td><td>1.0</td><td>0.0</td><td>0.0</td><td>234.30530576833672</td><td>43.29829986491807</td></tr>\n",
       "<tr><td>...</td><td>...</td><td>...</td><td>...</td><td>...</td><td>...</td><td>...</td><td>...</td><td>...</td><td>...</td><td>...</td><td>...</td><td>...</td><td>...</td><td>...</td><td>...</td><td>...</td><td>...</td><td>...</td><td>...</td><td>...</td><td>...</td><td>...</td><td>...</td><td>...</td><td>...</td><td>...</td><td>...</td><td>...</td><td>...</td><td>...</td><td>...</td><td>...</td><td>...</td><td>...</td><td>...</td><td>...</td><td>...</td><td>...</td><td>...</td><td>...</td><td>...</td><td>...</td><td>...</td><td>...</td><td>...</td></tr>\n",
       "<tr><td>34.9132167</td><td>-6.8044942</td><td>8.542</td><td>7.917</td><td>11.31</td><td>0.073</td><td>21.4493</td><td>20.8074</td><td>20.7388</td><td>2.6912760000000002</td><td>2.4349920000000003</td><td>25.072252255122127</td><td>24.1734538912096</td><td>1.2819776096494164</td><td>0.7514480595713573</td><td>0.6085678799225405</td><td>0.06909463291978056</td><td>0.04896251284231897</td><td>0.03494269249113554</td><td>8282</td><td>1,3</td><td>-1</td><td>90681</td><td>0</td><td>0</td><td>0</td><td>0</td><td>0</td><td>0</td><td>0</td><td>0</td><td>0</td><td>J021905.19-064727.0</td><td>0.01815592125058174</td><td>78.58534951296166</td><td>11.134954779872523</td><td>13.353865623474121</td><td>737.596751230423</td><td>0.5377742999616334</td><td>0.21872695306664963</td><td>nan</td><td>nan</td><td>nan</td><td>nan</td><td>34.77165612582804</td><td>-6.790965703935359</td></tr>\n",
       "<tr><td>153.5901203</td><td>-1.4953757</td><td>15.851</td><td>14.088</td><td>56.04</td><td>0.111</td><td>19.2084</td><td>18.3213</td><td>17.9028</td><td>3.218712</td><td>2.747724</td><td>23.082327419997377</td><td>21.407125568991155</td><td>1.2671729369033753</td><td>1.289443363691073</td><td>0.8681164259055019</td><td>0.10976952765129369</td><td>0.07778595355679363</td><td>0.05551289134236473</td><td>9087</td><td>2,8</td><td>-1</td><td>90747</td><td>0</td><td>0</td><td>0</td><td>0</td><td>0</td><td>0</td><td>0</td><td>0</td><td>0</td><td>J101436.99-013516.0</td><td>0.017398729920387268</td><td>75.37737510663015</td><td>10.466856330165491</td><td>11.942056655883789</td><td>249.69552338316987</td><td>0.18979832387371903</td><td>0.22803571482032256</td><td>nan</td><td>nan</td><td>nan</td><td>nan</td><td>153.6504372871432</td><td>-1.579973605476669</td></tr>\n",
       "<tr><td>31.5299769</td><td>-5.2776097</td><td>13.701</td><td>10.914</td><td>62.1</td><td>0.203</td><td>19.7301</td><td>19.0097</td><td>18.7206</td><td>2.852808</td><td>2.4778320000000003</td><td>23.40904667240189</td><td>22.083481832947907</td><td>1.1821837247015867</td><td>1.0174649797133433</td><td>0.7215673409824588</td><td>0.06703724692538107</td><td>0.0475045879078404</td><td>0.03390222663872504</td><td>8521</td><td>2,4</td><td>-1</td><td>90786</td><td>0</td><td>0</td><td>0</td><td>0</td><td>0</td><td>0</td><td>0</td><td>0</td><td>0</td><td>J020548.80-051739.9</td><td>0.017135214060544968</td><td>74.25954940057744</td><td>10.470932334193812</td><td>11.946685791015625</td><td>250.62337422621445</td><td>0.19337125527433155</td><td>0.23146834073799513</td><td>nan</td><td>nan</td><td>nan</td><td>nan</td><td>31.453829636543627</td><td>-5.294315212369948</td></tr>\n",
       "<tr><td>29.9172382</td><td>-5.1731757</td><td>12.161</td><td>10.629</td><td>-15.51</td><td>0.126</td><td>19.4144</td><td>18.6694</td><td>18.2764</td><td>2.504208</td><td>2.528148</td><td>22.910747774385307</td><td>21.775555129606435</td><td>1.1753247324465474</td><td>1.0715150804047857</td><td>0.7124231575352368</td><td>0.07199377037004075</td><td>0.05101692790527786</td><td>0.036408850774827285</td><td>8520</td><td>3,4</td><td>-1</td><td>90845</td><td>0</td><td>0</td><td>0</td><td>0</td><td>0</td><td>0</td><td>0</td><td>0</td><td>0</td><td>J015933.99-052050.0</td><td>0.012678790837526321</td><td>55.2459378277725</td><td>10.318161338100062</td><td>11.78825569152832</td><td>222.51418534628976</td><td>0.23077032628944918</td><td>0.3111311657685698</td><td>nan</td><td>nan</td><td>nan</td><td>nan</td><td>29.891883177746355</td><td>-5.347200578352699</td></tr>\n",
       "<tr><td>175.0717609</td><td>-0.7547265</td><td>8.529</td><td>7.889</td><td>-17.33</td><td>0.075</td><td>22.8021</td><td>22.2744</td><td>22.272</td><td>3.578736</td><td>3.58974</td><td>27.10707768205777</td><td>26.479797421968648</td><td>1.2642067861662998</td><td>0.5606742479377935</td><td>0.4767698007242844</td><td>0.04334759475413972</td><td>0.030717395478420687</td><td>0.021921842691932706</td><td>9344</td><td>3,4</td><td>-1</td><td>90864</td><td>0</td><td>0</td><td>0</td><td>0</td><td>0</td><td>0</td><td>0</td><td>0</td><td>0</td><td>J114006.40-005015.8</td><td>0.019599061459302902</td><td>84.68304414872382</td><td>10.380018561610804</td><td>11.849642753601074</td><td>232.29516897928377</td><td>0.15716880717740883</td><td>0.20297728256857364</td><td>51.0</td><td>0.0</td><td>1.0</td><td>0.0</td><td>175.02669158902455</td><td>-0.837744399646087</td></tr>\n",
       "<tr><td>128.9501052</td><td>0.4920366</td><td>7.27</td><td>4.357</td><td>9.89</td><td>0.401</td><td>22.2311</td><td>21.5803</td><td>21.7655</td><td>6.260604000000001</td><td>5.729724000000001</td><td>27.751752890586957</td><td>26.95015550106899</td><td>1.6875672113681282</td><td>0.6962294872921453</td><td>0.7684355300558209</td><td>0.12274578697402995</td><td>0.08698131702984924</td><td>0.062075274266173514</td><td>9556</td><td>4,3</td><td>-1</td><td>90872</td><td>0</td><td>0</td><td>0</td><td>0</td><td>2</td><td>0</td><td>2</td><td>0</td><td>2</td><td>J083553.50+004225.9</td><td>0.013445989228785038</td><td>58.53404284836464</td><td>10.902924865016566</td><td>12.714315414428711</td><td>452.7380268747052</td><td>0.44316053549252743</td><td>0.293653620318824</td><td>nan</td><td>nan</td><td>nan</td><td>nan</td><td>128.97309773364591</td><td>0.7071236626481564</td></tr>\n",
       "<tr><td>228.8476063</td><td>43.1658738</td><td>8.325</td><td>5.681</td><td>7.17</td><td>0.318</td><td>22.251</td><td>21.619</td><td>21.0599</td><td>2.845416</td><td>4.916184</td><td>25.967820354485813</td><td>26.127080488420006</td><td>1.569618063401252</td><td>0.631531889392828</td><td>0.34995934906635995</td><td>0.0770176480556847</td><td>0.05457699712204567</td><td>0.0389495374485136</td><td>16001</td><td>0,0</td><td>-1</td><td>90915</td><td>0</td><td>0</td><td>0</td><td>0</td><td>0</td><td>1</td><td>1</td><td>0</td><td>1</td><td>J151505.55+430901.9</td><td>0.01788690686225891</td><td>77.44630300254684</td><td>10.405561774501429</td><td>11.874576568603516</td><td>237.0237315113578</td><td>0.17535322598108022</td><td>0.22194388493880945</td><td>30.0</td><td>0.0</td><td>0.0</td><td>1.0</td><td>228.7731906935897</td><td>43.15051789760724</td></tr>\n",
       "<tr><td>226.6077922</td><td>42.6638465</td><td>9.737</td><td>8.16</td><td>70.99</td><td>0.162</td><td>22.5534</td><td>22.1198</td><td>21.7246</td><td>2.627268</td><td>3.2324880000000005</td><td>26.13181592791073</td><td>25.61169080862663</td><td>1.3800813614359473</td><td>0.603986890069721</td><td>0.2625066648596224</td><td>0.05283084130449819</td><td>0.03743750616412166</td><td>0.026717731374220396</td><td>15822</td><td>5,5</td><td>-1</td><td>90917</td><td>0</td><td>0</td><td>0</td><td>0</td><td>0</td><td>1</td><td>1</td><td>0</td><td>1</td><td>J150633.40+423821.9</td><td>0.018281953409314156</td><td>79.11873051447486</td><td>10.573101371059046</td><td>12.081480026245117</td><td>277.7525445691416</td><td>0.20114135045635906</td><td>0.21725239360277593</td><td>34.0</td><td>0.0</td><td>0.0</td><td>1.0</td><td>226.64009097154573</td><td>42.64037616431761</td></tr>\n",
       "<tr><td>140.0729189</td><td>1.3475834</td><td>16.498</td><td>9.713</td><td>-26.03</td><td>0.411</td><td>20.2037</td><td>19.8978</td><td>19.7816</td><td>3.2172840000000003</td><td>2.921688</td><td>24.205312071872253</td><td>23.573283973442862</td><td>1.1863262540569097</td><td>0.4293229839978959</td><td>0.3179077915682233</td><td>0.07582177267510097</td><td>0.05372956424332085</td><td>0.03834475667299415</td><td>9564</td><td>8,7</td><td>-1</td><td>90965</td><td>0</td><td>0</td><td>0</td><td>0</td><td>0</td><td>0</td><td>0</td><td>0</td><td>0</td><td>J092002.16+010217.8</td><td>0.017026357352733612</td><td>73.7975724258961</td><td>11.054197638759241</td><td>13.11524486541748</td><td>614.56707112211</td><td>0.477144389211597</td><td>0.23291732259933853</td><td>49.0</td><td>0.0</td><td>1.0</td><td>0.0</td><td>140.00904242708972</td><td>1.038303362255731</td></tr>\n",
       "<tr><td>134.6279171</td><td>2.9175874</td><td>90.456</td><td>25.694</td><td>-15.71</td><td>0.716</td><td>18.7607</td><td>17.9597</td><td>17.5806</td><td>19.183416</td><td>26.526108</td><td>26.697246545149877</td><td>26.138433480860677</td><td>1.1575692564953013</td><td>0.683753378475404</td><td>0.48749804913881745</td><td>0.12047198209575935</td><td>0.08537003123457615</td><td>0.060925360571161935</td><td>10045</td><td>8,0</td><td>-1</td><td>90969</td><td>0</td><td>0</td><td>0</td><td>0</td><td>0</td><td>0</td><td>0</td><td>0</td><td>0</td><td>J085736.09+030525.9</td><td>0.012058045715093613</td><td>52.58098278509941</td><td>10.884945243129359</td><td>12.670150756835938</td><td>438.0083194204315</td><td>0.47728334713768367</td><td>0.32690019297068634</td><td>30.0</td><td>0.0</td><td>1.0</td><td>0.0</td><td>134.39949178267227</td><td>3.090234330182581</td></tr>\n",
       "</table>"
      ],
      "text/plain": [
       "<Table length=2791>\n",
       "     ra        dec     a_image ...      host_RA             host_DEC     \n",
       "                               ...                                       \n",
       "  float64    float64   float64 ...      float64             float64      \n",
       "----------- ---------- ------- ... ------------------ -------------------\n",
       " 148.644722  0.6324236  26.481 ...  148.3342549085445  0.6976978629829147\n",
       " 30.6411865 -5.4208379   5.668 ... 30.340051418028484  -5.370902302608455\n",
       "140.8198114  2.0691864  10.544 ... 140.90209285723307  2.1364878170321813\n",
       "345.5167346  2.2063418  11.774 ...  345.4286664848169  2.2636530794913856\n",
       "223.6637535 43.9890614  19.809 ... 223.78776865877816  43.818586488016564\n",
       "  132.81308 -2.1314523  18.227 ... 132.93200465781206 -2.1298216665987946\n",
       "179.7186056 -1.9491382  15.748 ... 179.52408841702794  -2.120041256711893\n",
       "345.4633885  2.2134347  18.418 ...  345.4286664848169  2.2636530794913856\n",
       "234.4098857 43.2692238  19.174 ... 234.30530576833672   43.29829986491807\n",
       "        ...        ...     ... ...                ...                 ...\n",
       " 34.9132167 -6.8044942   8.542 ...  34.77165612582804  -6.790965703935359\n",
       "153.5901203 -1.4953757  15.851 ...  153.6504372871432  -1.579973605476669\n",
       " 31.5299769 -5.2776097  13.701 ... 31.453829636543627  -5.294315212369948\n",
       " 29.9172382 -5.1731757  12.161 ... 29.891883177746355  -5.347200578352699\n",
       "175.0717609 -0.7547265   8.529 ... 175.02669158902455  -0.837744399646087\n",
       "128.9501052  0.4920366    7.27 ... 128.97309773364591  0.7071236626481564\n",
       "228.8476063 43.1658738   8.325 ...  228.7731906935897   43.15051789760724\n",
       "226.6077922 42.6638465   9.737 ... 226.64009097154573   42.64037616431761\n",
       "140.0729189  1.3475834  16.498 ... 140.00904242708972   1.038303362255731\n",
       "134.6279171  2.9175874  90.456 ... 134.39949178267227   3.090234330182581"
      ]
     },
     "execution_count": 24,
     "metadata": {},
     "output_type": "execute_result"
    }
   ],
   "source": [
    "lsbg_cat"
   ]
  },
  {
   "cell_type": "code",
   "execution_count": null,
   "id": "0a917d36",
   "metadata": {},
   "outputs": [],
   "source": []
  },
  {
   "cell_type": "code",
   "execution_count": null,
   "id": "18ef81e1",
   "metadata": {},
   "outputs": [],
   "source": []
  },
  {
   "cell_type": "code",
   "execution_count": null,
   "id": "d8e12537",
   "metadata": {},
   "outputs": [],
   "source": []
  },
  {
   "cell_type": "markdown",
   "id": "0adc13ff",
   "metadata": {},
   "source": [
    "#### Add cutout size to the catalogs"
   ]
  },
  {
   "cell_type": "code",
   "execution_count": 18,
   "id": "9d5fe6d7",
   "metadata": {},
   "outputs": [],
   "source": [
    "cat = Table.read('./Catalog/NSA/z001_002/lsbg_NSA_MW_z001_002.fits')\n",
    "## Adaptive cutout size??  \n",
    "# Normal objects, use 1.0 arcmin cutout.\n",
    "# Radius > 20 arcsec, use 1.5 arcmin cutout.\n",
    "# Radius > 30 arcsec, use 2.0 arcmin cutout.\n",
    "size = np.ones(len(cat)) * 1.0 * u.arcmin\n",
    "\n",
    "size[cat['flux_radius_ave_i'] > 20] = 1.5 * u.arcmin # shoud be larger\n",
    "size[cat['flux_radius_ave_i'] > 30] = 2 * u.arcmin # should be larger \n",
    "\n",
    "cat['cutout_size'] = size.value\n",
    "cat.write('./Catalog/NSA/z001_002/lsbg_NSA_MW_z001_002.fits', overwrite=True)"
   ]
  },
  {
   "cell_type": "code",
   "execution_count": 19,
   "id": "a171d51b",
   "metadata": {},
   "outputs": [],
   "source": [
    "cat = Table.read('./Catalog/NSA/z002_004/lsbg_NSA_MW_z002_004.fits')\n",
    "## Adaptive cutout size??  \n",
    "# Normal objects, use 1.0 arcmin cutout.\n",
    "# Radius > 20 arcsec, use 1.5 arcmin cutout.\n",
    "# Radius > 30 arcsec, use 2.0 arcmin cutout.\n",
    "size = np.ones(len(cat)) * 1.0 * u.arcmin\n",
    "\n",
    "size[cat['flux_radius_ave_i'] > 20] = 1.5 * u.arcmin # shoud be larger\n",
    "size[cat['flux_radius_ave_i'] > 30] = 2 * u.arcmin # should be larger \n",
    "\n",
    "cat['cutout_size'] = size.value\n",
    "cat.write('./Catalog/NSA/z002_004/lsbg_NSA_MW_z002_004.fits', overwrite=True)"
   ]
  },
  {
   "cell_type": "markdown",
   "id": "e8dee80d",
   "metadata": {},
   "source": [
    "Generate cutout\n",
    "\n",
    "\n",
    "Run `'/home/jiaxuanl/Research/Packages/kuaizi/diezi/gen_cutout/nsa_sample/lsbg_cutout_nsa.sh'`\n",
    "\n",
    "In the end, we get `$gpfs/Data/HSC/LSBG/Cutout/nsa_xxxx_cutout_cat.fits`"
   ]
  },
  {
   "cell_type": "raw",
   "id": "ebe347ff",
   "metadata": {},
   "source": [
    "import os, sys\n",
    "sys.path.append('/home/jiaxuanl/Research/Packages/kuaizi/diezi/gen_cutout/')\n",
    "from s18a_batch_cutout import batch_cutout"
   ]
  },
  {
   "cell_type": "raw",
   "id": "524bf04b",
   "metadata": {},
   "source": [
    "batch_cutout('/scratch/gpfs/jiaxuanl/Data/',\n",
    "             './Catalog/nsa_test_sample_210928.fits', \n",
    "             size='cutout_size',\n",
    "            unit='arcmin',\n",
    "            bands='grizy',\n",
    "            ra_name='ra',\n",
    "            dec_name='dec',\n",
    "            name='viz-id',\n",
    "            prefix='nsa',\n",
    "            output='./Cutout/NSA',\n",
    "            label='deepCoadd_calexp',\n",
    "            root='/tigress/HSC/DR/s18a_wide',\n",
    "            njobs=1,\n",
    "            psf=True,)"
   ]
  }
 ],
 "metadata": {
  "kernelspec": {
   "display_name": "Python 3",
   "language": "python",
   "name": "python3"
  },
  "language_info": {
   "codemirror_mode": {
    "name": "ipython",
    "version": 3
   },
   "file_extension": ".py",
   "mimetype": "text/x-python",
   "name": "python",
   "nbconvert_exporter": "python",
   "pygments_lexer": "ipython3",
   "version": "3.7.8"
  }
 },
 "nbformat": 4,
 "nbformat_minor": 5
}
