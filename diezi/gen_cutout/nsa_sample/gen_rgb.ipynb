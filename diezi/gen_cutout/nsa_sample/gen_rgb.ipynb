{
 "cells": [
  {
   "cell_type": "code",
   "execution_count": 18,
   "id": "5d603894",
   "metadata": {},
   "outputs": [
    {
     "name": "stdout",
     "output_type": "stream",
     "text": [
      "The autoreload extension is already loaded. To reload it, use:\n",
      "  %reload_ext autoreload\n"
     ]
    }
   ],
   "source": [
    "%load_ext autoreload\n",
    "%autoreload 2"
   ]
  },
  {
   "cell_type": "code",
   "execution_count": 19,
   "id": "f8fa35e6",
   "metadata": {},
   "outputs": [],
   "source": [
    "import numpy as np\n",
    "import matplotlib.pyplot as plt\n",
    "import kuaizi as kz\n",
    "from astropy.table import Table\n",
    "import astropy.units as u\n",
    "\n",
    "from kuaizi.display import display_single\n",
    "from astropy.io import fits\n",
    "import os\n",
    "import sys\n",
    "from shutil import copyfile"
   ]
  },
  {
   "cell_type": "code",
   "execution_count": 20,
   "id": "61773d5c",
   "metadata": {},
   "outputs": [
    {
     "data": {
      "text/plain": [
       "'/scratch/gpfs/jiaxuanl/Data/HSC/LSBG'"
      ]
     },
     "execution_count": 20,
     "metadata": {},
     "output_type": "execute_result"
    }
   ],
   "source": [
    "kz.utils.set_env(project='HSC', name='LSBG', data_dir='/scratch/gpfs/jiaxuanl/Data/')"
   ]
  },
  {
   "cell_type": "code",
   "execution_count": 23,
   "id": "78d1f66b",
   "metadata": {},
   "outputs": [],
   "source": [
    "cat = Table.read('./Cutout/NSA/nsa_cutout_cat.fits')"
   ]
  },
  {
   "cell_type": "code",
   "execution_count": 24,
   "id": "d97d3a05",
   "metadata": {},
   "outputs": [
    {
     "data": {
      "text/html": [
       "<i>Table length=100</i>\n",
       "<table id=\"table46977341123536\" class=\"table-striped table-bordered table-condensed\">\n",
       "<thead><tr><th>ra</th><th>dec</th><th>a_image</th><th>b_image</th><th>theta_image</th><th>ellipticity</th><th>mag_auto_g</th><th>mag_auto_r</th><th>mag_auto_i</th><th>flux_radius_ave_g</th><th>flux_radius_ave_i</th><th>mu_ave_g</th><th>mu_ave_i</th><th>acorr_ratio</th><th>g-i</th><th>g-r</th><th>A_g</th><th>A_r</th><th>A_i</th><th>tract</th><th>patch</th><th>synth_id</th><th>viz-id</th><th>is_candy</th><th>is_galaxy</th><th>is_tidal</th><th>is_outskirts</th><th>is_cirrus</th><th>is_junk</th><th>num_votes</th><th>good_votes</th><th>bad_votes</th><th>cutout_size</th><th>prefix</th><th>radius</th><th>image_flag [5]</th><th>psf_flag [5]</th></tr></thead>\n",
       "<thead><tr><th></th><th></th><th></th><th></th><th></th><th></th><th></th><th></th><th></th><th></th><th></th><th></th><th></th><th></th><th></th><th></th><th></th><th></th><th></th><th></th><th></th><th></th><th></th><th></th><th></th><th></th><th></th><th></th><th></th><th></th><th></th><th></th><th></th><th></th><th>arcmin</th><th></th><th></th></tr></thead>\n",
       "<thead><tr><th>float64</th><th>float64</th><th>float64</th><th>float64</th><th>float64</th><th>float64</th><th>float64</th><th>float64</th><th>float64</th><th>float64</th><th>float64</th><th>float64</th><th>float64</th><th>float64</th><th>float64</th><th>float64</th><th>float64</th><th>float64</th><th>float64</th><th>int64</th><th>bytes3</th><th>int64</th><th>int64</th><th>int64</th><th>int64</th><th>int64</th><th>int64</th><th>int64</th><th>int64</th><th>int64</th><th>int64</th><th>int64</th><th>float64</th><th>bytes57</th><th>float64</th><th>bool</th><th>bool</th></tr></thead>\n",
       "<tr><td>233.8016874</td><td>43.5542719</td><td>6.492</td><td>5.061</td><td>5.95</td><td>0.22</td><td>23.5222</td><td>23.6272</td><td>22.9757</td><td>2.935632</td><td>0.8137080000000001</td><td>27.040179908948534</td><td>24.15471611513387</td><td>1.7362257902378089</td><td>1.1240313297700208</td><td>0.4055601455840791</td><td>0.06568911818117336</td><td>0.04654926376525461</td><td>0.033220447951196545</td><td>16004</td><td>4,2</td><td>-1</td><td>18809</td><td>0</td><td>0</td><td>0</td><td>0</td><td>0</td><td>2</td><td>2</td><td>0</td><td>2</td><td>1.0</td><td>/scratch/gpfs/jiaxuanl/Data/HSC/LSBG/Cutout/NSA/nsa_18809</td><td>1.0</td><td>True .. True</td><td>True .. True</td></tr>\n",
       "<tr><td>224.4561174</td><td>-0.9291037</td><td>14.119</td><td>9.869</td><td>53.11</td><td>0.301</td><td>19.6318</td><td>19.169</td><td>18.9775</td><td>2.69388</td><td>2.4884160000000004</td><td>23.14438259811236</td><td>22.36824095728265</td><td>1.2908956146130863</td><td>0.5915190410240171</td><td>0.42324076135458144</td><td>0.15190033815353532</td><td>0.1076410995081192</td><td>0.07681937917755342</td><td>9377</td><td>0,3</td><td>-1</td><td>87312</td><td>1</td><td>0</td><td>0</td><td>0</td><td>0</td><td>0</td><td>1</td><td>1</td><td>0</td><td>1.0</td><td>/scratch/gpfs/jiaxuanl/Data/HSC/LSBG/Cutout/NSA/nsa_87312</td><td>1.0</td><td>True .. True</td><td>True .. True</td></tr>\n",
       "<tr><td>341.3537285</td><td>3.2736835</td><td>7.361</td><td>5.714</td><td>12.23</td><td>0.224</td><td>22.3655</td><td>21.5069</td><td>21.1127</td><td>2.7330240000000003</td><td>3.6174600000000003</td><td>25.67505341732977</td><td>24.487508652348964</td><td>1.5925034031509135</td><td>0.9076084327185318</td><td>0.5710845704761327</td><td>0.22313681916207126</td><td>0.1581213896382014</td><td>0.11284525188060207</td><td>10183</td><td>0,2</td><td>-1</td><td>89859</td><td>0</td><td>0</td><td>0</td><td>0</td><td>0</td><td>1</td><td>1</td><td>0</td><td>1</td><td>1.0</td><td>/scratch/gpfs/jiaxuanl/Data/HSC/LSBG/Cutout/NSA/nsa_89859</td><td>1.0</td><td>True .. True</td><td>True .. True</td></tr>\n",
       "<tr><td>217.7986521</td><td>1.2353161</td><td>10.92</td><td>8.207</td><td>-37.26</td><td>0.248</td><td>22.0973</td><td>21.3385</td><td>21.0301</td><td>3.43938</td><td>5.1767520000000005</td><td>26.171154129076257</td><td>25.844846028114173</td><td>1.25510924806672</td><td>0.6874064533973304</td><td>0.4951610006885372</td><td>0.10721410273243694</td><td>0.07597510342097526</td><td>0.05422055612976628</td><td>9616</td><td>4,7</td><td>-1</td><td>27799</td><td>2</td><td>0</td><td>0</td><td>0</td><td>0</td><td>0</td><td>2</td><td>2</td><td>0</td><td>1.0</td><td>/scratch/gpfs/jiaxuanl/Data/HSC/LSBG/Cutout/NSA/nsa_27799</td><td>1.0</td><td>True .. True</td><td>True .. True</td></tr>\n",
       "<tr><td>180.7597942</td><td>-1.4974917</td><td>13.672</td><td>9.265</td><td>-12.76</td><td>0.322</td><td>20.496</td><td>20.055</td><td>19.8495</td><td>2.611644</td><td>2.3632560000000002</td><td>24.035064662514774</td><td>23.17199364778578</td><td>1.3162279669493444</td><td>0.6281640763069939</td><td>0.4342510387241492</td><td>0.06400434374185174</td><td>0.04535538246600134</td><td>0.03236842004884862</td><td>9106</td><td>8,8</td><td>-1</td><td>29750</td><td>0</td><td>2</td><td>0</td><td>0</td><td>0</td><td>0</td><td>2</td><td>2</td><td>0</td><td>1.0</td><td>/scratch/gpfs/jiaxuanl/Data/HSC/LSBG/Cutout/NSA/nsa_29750</td><td>1.0</td><td>True .. True</td><td>True .. True</td></tr>\n",
       "<tr><td>34.7036257</td><td>-6.7654166</td><td>12.291</td><td>11.173</td><td>26.74</td><td>0.091</td><td>20.8427</td><td>20.2532</td><td>20.0851</td><td>3.561936</td><td>4.286268</td><td>25.024618338828635</td><td>24.633132649198014</td><td>1.1445992724031469</td><td>0.5681974125559849</td><td>0.432182204397834</td><td>0.07385035369618563</td><td>0.05233255809401833</td><td>0.037347766252169345</td><td>8282</td><td>2,4</td><td>-1</td><td>48372</td><td>2</td><td>0</td><td>0</td><td>0</td><td>0</td><td>0</td><td>2</td><td>2</td><td>0</td><td>1.0</td><td>/scratch/gpfs/jiaxuanl/Data/HSC/LSBG/Cutout/NSA/nsa_48372</td><td>1.0</td><td>True .. True</td><td>True .. True</td></tr>\n",
       "<tr><td>351.1385074</td><td>1.5299615</td><td>12.815</td><td>10.12</td><td>-19.92</td><td>0.21</td><td>19.7768</td><td>19.3266</td><td>19.0715</td><td>2.735964</td><td>2.6691000000000003</td><td>23.45754237600703</td><td>22.702363492234216</td><td>1.230077458514783</td><td>0.6521869486901707</td><td>0.4116800410927032</td><td>0.10543272520943547</td><td>0.0747127663021394</td><td>0.05331967389960625</td><td>9948</td><td>4,0</td><td>-1</td><td>26739</td><td>0</td><td>2</td><td>0</td><td>0</td><td>0</td><td>0</td><td>2</td><td>2</td><td>0</td><td>1.0</td><td>/scratch/gpfs/jiaxuanl/Data/HSC/LSBG/Cutout/NSA/nsa_26739</td><td>1.0</td><td>True .. True</td><td>True .. True</td></tr>\n",
       "<tr><td>176.7385685</td><td>-1.9880663</td><td>12.92</td><td>8.987</td><td>-0.98</td><td>0.304</td><td>19.8322</td><td>19.031</td><td>18.6303</td><td>2.5476360000000002</td><td>2.3357040000000002</td><td>23.38033399579325</td><td>21.930052293729368</td><td>1.227850443205251</td><td>1.1453909109734925</td><td>0.785296394328556</td><td>0.05423891415688321</td><td>0.03843530848543749</td><td>0.027429825130375514</td><td>9103</td><td>6,5</td><td>-1</td><td>65197</td><td>0</td><td>2</td><td>0</td><td>0</td><td>0</td><td>0</td><td>2</td><td>2</td><td>0</td><td>1.0</td><td>/scratch/gpfs/jiaxuanl/Data/HSC/LSBG/Cutout/NSA/nsa_65197</td><td>1.0</td><td>True .. True</td><td>True .. True</td></tr>\n",
       "<tr><td>352.6176391</td><td>0.3503451</td><td>12.015</td><td>8.953</td><td>-45.2</td><td>0.255</td><td>19.4849</td><td>18.7817</td><td>18.4066</td><td>2.4752280000000004</td><td>2.331084</td><td>22.942955058883765</td><td>21.75163610515314</td><td>1.1890374363722171</td><td>1.0253196764066577</td><td>0.6727677942272022</td><td>0.09929705017351559</td><td>0.0703648444007189</td><td>0.05021672658017259</td><td>9707</td><td>4,2</td><td>-1</td><td>50161</td><td>0</td><td>2</td><td>0</td><td>0</td><td>0</td><td>0</td><td>2</td><td>2</td><td>0</td><td>1.0</td><td>/scratch/gpfs/jiaxuanl/Data/HSC/LSBG/Cutout/NSA/nsa_50161</td><td>1.0</td><td>True .. True</td><td>True .. True</td></tr>\n",
       "<tr><td>...</td><td>...</td><td>...</td><td>...</td><td>...</td><td>...</td><td>...</td><td>...</td><td>...</td><td>...</td><td>...</td><td>...</td><td>...</td><td>...</td><td>...</td><td>...</td><td>...</td><td>...</td><td>...</td><td>...</td><td>...</td><td>...</td><td>...</td><td>...</td><td>...</td><td>...</td><td>...</td><td>...</td><td>...</td><td>...</td><td>...</td><td>...</td><td>...</td><td>...</td><td>...</td><td>...</td><td>...</td></tr>\n",
       "<tr><td>191.4506729</td><td>-0.4253047</td><td>11.779</td><td>9.397</td><td>89.16</td><td>0.202</td><td>20.1825</td><td>19.3742</td><td>18.986</td><td>2.53848</td><td>2.024484</td><td>23.66988549799291</td><td>21.90093972152708</td><td>1.2975296325517267</td><td>1.2275433204807402</td><td>0.8245209060656189</td><td>0.06445096676206277</td><td>0.04567187282767887</td><td>0.03259428724280007</td><td>9355</td><td>2,6</td><td>-1</td><td>74063</td><td>0</td><td>1</td><td>0</td><td>0</td><td>0</td><td>0</td><td>1</td><td>1</td><td>0</td><td>1.0</td><td>/scratch/gpfs/jiaxuanl/Data/HSC/LSBG/Cutout/NSA/nsa_74063</td><td>1.0</td><td>True .. True</td><td>True .. True</td></tr>\n",
       "<tr><td>191.7067093</td><td>0.0387927</td><td>17.956</td><td>10.408</td><td>85.07</td><td>0.42</td><td>18.9251</td><td>18.5106</td><td>18.2989</td><td>3.135132</td><td>3.085236</td><td>22.805140559921686</td><td>22.166910419898358</td><td>1.282321022894113</td><td>0.60339849447732</td><td>0.38088296733268806</td><td>0.05462820234969861</td><td>0.038711169682387726</td><td>0.027626696827020483</td><td>9355</td><td>1,8</td><td>-1</td><td>30689</td><td>0</td><td>2</td><td>0</td><td>0</td><td>0</td><td>0</td><td>2</td><td>2</td><td>0</td><td>1.0</td><td>/scratch/gpfs/jiaxuanl/Data/HSC/LSBG/Cutout/NSA/nsa_30689</td><td>1.0</td><td>True .. True</td><td>True .. True</td></tr>\n",
       "<tr><td>18.9017515</td><td>0.3499151</td><td>14.442</td><td>8.762</td><td>-84.42</td><td>0.393</td><td>20.6763</td><td>19.9289</td><td>19.5889</td><td>2.945208</td><td>3.1205160000000003</td><td>24.426404304810475</td><td>23.488163833299552</td><td>1.2067005033041172</td><td>0.9699919703598876</td><td>0.6488062803998854</td><td>0.08680954932821616</td><td>0.06151582972809874</td><td>0.043901519688101895</td><td>9482</td><td>6,2</td><td>-1</td><td>63070</td><td>2</td><td>0</td><td>0</td><td>0</td><td>0</td><td>0</td><td>2</td><td>2</td><td>0</td><td>1.0</td><td>/scratch/gpfs/jiaxuanl/Data/HSC/LSBG/Cutout/NSA/nsa_63070</td><td>1.0</td><td>True .. True</td><td>True .. True</td></tr>\n",
       "<tr><td>191.4716337</td><td>0.1355722</td><td>32.021</td><td>8.644</td><td>85.9</td><td>0.73</td><td>20.2357</td><td>19.2301</td><td>18.9297</td><td>4.9261800000000004</td><td>6.570564</td><td>24.881298415188777</td><td>23.93812321538205</td><td>1.4641121737669942</td><td>1.1552687549269824</td><td>0.8710391534050139</td><td>0.04963048518214414</td><td>0.03516963858716122</td><td>0.025099240109126408</td><td>9598</td><td>2,1</td><td>-1</td><td>32849</td><td>0</td><td>2</td><td>0</td><td>0</td><td>0</td><td>0</td><td>2</td><td>2</td><td>0</td><td>1.0</td><td>/scratch/gpfs/jiaxuanl/Data/HSC/LSBG/Cutout/NSA/nsa_32849</td><td>1.0</td><td>True .. True</td><td>True .. True</td></tr>\n",
       "<tr><td>36.0450781</td><td>-1.4677155</td><td>5.996</td><td>3.938</td><td>43.05</td><td>0.343</td><td>23.3959</td><td>22.7564</td><td>22.6685</td><td>2.8103040000000004</td><td>5.051508</td><td>26.984240559883602</td><td>27.906634220628483</td><td>1.8395785840191379</td><td>0.11737570979050316</td><td>0.2979040792382067</td><td>0.08441466223235954</td><td>0.0598187414705647</td><td>0.042690372022860454</td><td>9008</td><td>2,8</td><td>-1</td><td>67414</td><td>0</td><td>0</td><td>0</td><td>0</td><td>0</td><td>2</td><td>2</td><td>0</td><td>2</td><td>1.0</td><td>/scratch/gpfs/jiaxuanl/Data/HSC/LSBG/Cutout/NSA/nsa_67414</td><td>1.0</td><td>True .. True</td><td>True .. True</td></tr>\n",
       "<tr><td>177.2830589</td><td>-0.9221218</td><td>12.305</td><td>11.119</td><td>31.07</td><td>0.096</td><td>20.561</td><td>20.0291</td><td>19.7079</td><td>2.9488200000000004</td><td>2.867508</td><td>24.464596269436797</td><td>23.55515596021337</td><td>1.1749880809536843</td><td>0.8180767458695739</td><td>0.5157585072647929</td><td>0.06397871126637952</td><td>0.045337218531170884</td><td>0.03235545713595129</td><td>9346</td><td>7,3</td><td>-1</td><td>25050</td><td>0</td><td>2</td><td>0</td><td>0</td><td>0</td><td>0</td><td>2</td><td>2</td><td>0</td><td>1.0</td><td>/scratch/gpfs/jiaxuanl/Data/HSC/LSBG/Cutout/NSA/nsa_25050</td><td>1.0</td><td>True .. True</td><td>True .. True</td></tr>\n",
       "<tr><td>333.8285702</td><td>0.0890812</td><td>11.94</td><td>4.651</td><td>43.72</td><td>0.61</td><td>22.3138</td><td>21.6762</td><td>21.651</td><td>6.809964000000001</td><td>8.80488</td><td>27.59445178860148</td><td>27.862117182323228</td><td>1.499030848762664</td><td>0.24949541407761328</td><td>0.31957276599568973</td><td>0.21082191882795742</td><td>0.1493946848236469</td><td>0.1066173329055708</td><td>9694</td><td>1,0</td><td>-1</td><td>45828</td><td>1</td><td>0</td><td>0</td><td>0</td><td>2</td><td>0</td><td>3</td><td>1</td><td>2</td><td>1.0</td><td>/scratch/gpfs/jiaxuanl/Data/HSC/LSBG/Cutout/NSA/nsa_45828</td><td>1.0</td><td>True .. True</td><td>True .. True</td></tr>\n",
       "<tr><td>180.6376876</td><td>1.9556516</td><td>8.168</td><td>3.346</td><td>-9.08</td><td>0.59</td><td>22.3466</td><td>21.812</td><td>22.1102</td><td>5.283600000000001</td><td>4.627896</td><td>27.46908801928145</td><td>27.160553199600464</td><td>1.6834686511415247</td><td>0.34516525926349106</td><td>0.5717412229200318</td><td>0.06197879649632502</td><td>0.043920019416356516</td><td>0.03134405575981794</td><td>9833</td><td>1,2</td><td>-1</td><td>26991</td><td>0</td><td>0</td><td>1</td><td>1</td><td>0</td><td>0</td><td>2</td><td>0</td><td>2</td><td>1.0</td><td>/scratch/gpfs/jiaxuanl/Data/HSC/LSBG/Cutout/NSA/nsa_26991</td><td>1.0</td><td>True .. True</td><td>True .. True</td></tr>\n",
       "<tr><td>225.2125983</td><td>1.8526809</td><td>15.816</td><td>9.627</td><td>39.34</td><td>0.391</td><td>20.3572</td><td>19.9289</td><td>19.3573</td><td>3.192588</td><td>3.2274480000000003</td><td>24.134843915789233</td><td>23.16456337182897</td><td>1.2540085279179396</td><td>0.9022436737010004</td><td>0.479070050454532</td><td>0.14699493299415473</td><td>0.10416498344868805</td><td>0.07433860669515711</td><td>9863</td><td>1,2</td><td>-1</td><td>16042</td><td>0</td><td>2</td><td>0</td><td>0</td><td>0</td><td>0</td><td>2</td><td>2</td><td>0</td><td>1.0</td><td>/scratch/gpfs/jiaxuanl/Data/HSC/LSBG/Cutout/NSA/nsa_16042</td><td>1.0</td><td>True .. True</td><td>True .. True</td></tr>\n",
       "<tr><td>333.6213699</td><td>1.073002</td><td>11.355</td><td>5.436</td><td>84.99</td><td>0.521</td><td>21.7284</td><td>21.0753</td><td>20.869</td><td>8.530619999999999</td><td>7.777224</td><td>27.83029280341094</td><td>26.758938991776827</td><td>1.4129484417016198</td><td>0.2951165361984057</td><td>0.26832151257753467</td><td>0.13309007413676915</td><td>0.09431158671430191</td><td>0.067306610335174</td><td>9694</td><td>2,6</td><td>-1</td><td>13049</td><td>0</td><td>0</td><td>0</td><td>0</td><td>2</td><td>0</td><td>2</td><td>0</td><td>2</td><td>1.0</td><td>/scratch/gpfs/jiaxuanl/Data/HSC/LSBG/Cutout/NSA/nsa_13049</td><td>1.0</td><td>True .. True</td><td>True .. True</td></tr>\n",
       "</table>"
      ],
      "text/plain": [
       "<Table length=100>\n",
       "     ra        dec     a_image b_image ...  radius image_flag [5] psf_flag [5]\n",
       "                                       ...  arcmin                            \n",
       "  float64    float64   float64 float64 ... float64      bool          bool    \n",
       "----------- ---------- ------- ------- ... ------- -------------- ------------\n",
       "233.8016874 43.5542719   6.492   5.061 ...     1.0   True .. True True .. True\n",
       "224.4561174 -0.9291037  14.119   9.869 ...     1.0   True .. True True .. True\n",
       "341.3537285  3.2736835   7.361   5.714 ...     1.0   True .. True True .. True\n",
       "217.7986521  1.2353161   10.92   8.207 ...     1.0   True .. True True .. True\n",
       "180.7597942 -1.4974917  13.672   9.265 ...     1.0   True .. True True .. True\n",
       " 34.7036257 -6.7654166  12.291  11.173 ...     1.0   True .. True True .. True\n",
       "351.1385074  1.5299615  12.815   10.12 ...     1.0   True .. True True .. True\n",
       "176.7385685 -1.9880663   12.92   8.987 ...     1.0   True .. True True .. True\n",
       "352.6176391  0.3503451  12.015   8.953 ...     1.0   True .. True True .. True\n",
       "        ...        ...     ...     ... ...     ...            ...          ...\n",
       "191.4506729 -0.4253047  11.779   9.397 ...     1.0   True .. True True .. True\n",
       "191.7067093  0.0387927  17.956  10.408 ...     1.0   True .. True True .. True\n",
       " 18.9017515  0.3499151  14.442   8.762 ...     1.0   True .. True True .. True\n",
       "191.4716337  0.1355722  32.021   8.644 ...     1.0   True .. True True .. True\n",
       " 36.0450781 -1.4677155   5.996   3.938 ...     1.0   True .. True True .. True\n",
       "177.2830589 -0.9221218  12.305  11.119 ...     1.0   True .. True True .. True\n",
       "333.8285702  0.0890812   11.94   4.651 ...     1.0   True .. True True .. True\n",
       "180.6376876  1.9556516   8.168   3.346 ...     1.0   True .. True True .. True\n",
       "225.2125983  1.8526809  15.816   9.627 ...     1.0   True .. True True .. True\n",
       "333.6213699   1.073002  11.355   5.436 ...     1.0   True .. True True .. True"
      ]
     },
     "execution_count": 24,
     "metadata": {},
     "output_type": "execute_result"
    }
   ],
   "source": [
    "cat"
   ]
  },
  {
   "cell_type": "markdown",
   "id": "030d99ca",
   "metadata": {},
   "source": [
    "### Generate RGB images"
   ]
  },
  {
   "cell_type": "code",
   "execution_count": 25,
   "id": "6dec1f3f",
   "metadata": {},
   "outputs": [],
   "source": [
    "def _display_cutout_rgb(images, ax=None):\n",
    "    import scarlet\n",
    "    from scarlet.display import AsinhMapping\n",
    "\n",
    "    if ax is None:\n",
    "        fig, ax = plt.subplots(figsize=(5, 5))\n",
    "        \n",
    "    # Display\n",
    "    norm = AsinhMapping(minimum=-0.2, stretch=1, Q=1)\n",
    "    img_rgb = scarlet.display.img_to_rgb(images, norm=norm)\n",
    "    plt.imshow(img_rgb, origin='lower')\n",
    "    ax.axis('off')\n",
    "    \n",
    "    if ax is None:\n",
    "        return fig\n",
    "    return ax"
   ]
  },
  {
   "cell_type": "code",
   "execution_count": 26,
   "id": "cc00def1",
   "metadata": {},
   "outputs": [],
   "source": [
    "CUTOUT_DIR = '/scratch/gpfs/jiaxuanl/Data/HSC/LSBG/Cutout/NSA/'\n",
    "FIGURE_DIR = '/scratch/gpfs/jiaxuanl/Data/HSC/LSBG/Figure/NSA/Cutout_RGB/'\n",
    "WEBPAGE_DIR = '/tigress/jiaxuanl/public_html/NSA/cutout_RGB/figure/'"
   ]
  },
  {
   "cell_type": "code",
   "execution_count": 27,
   "id": "ea364788",
   "metadata": {},
   "outputs": [],
   "source": [
    "# Check file exsistence\n",
    "for filt in 'grizy':\n",
    "    for obj in cat:\n",
    "        if not os.path.isfile(CUTOUT_DIR + f\"nsa_{obj['viz-id']}_{filt}.fits\"):\n",
    "            print(f\"NSA/nsa_{obj['viz-id']}_{filt}.fits not found!\")"
   ]
  },
  {
   "cell_type": "code",
   "execution_count": 28,
   "id": "283a33cc",
   "metadata": {},
   "outputs": [
    {
     "name": "stdout",
     "output_type": "stream",
     "text": [
      "Progress: 0 / 100\n",
      "Progress: 10 / 100\n",
      "Progress: 20 / 100\n",
      "Progress: 30 / 100\n",
      "Progress: 40 / 100\n",
      "Progress: 50 / 100\n",
      "Progress: 60 / 100\n",
      "Progress: 70 / 100\n",
      "Progress: 80 / 100\n",
      "Progress: 90 / 100\n"
     ]
    }
   ],
   "source": [
    "# Display each cutout\n",
    "for i, obj in enumerate(cat):\n",
    "    ind = obj['viz-id']\n",
    "    \n",
    "    images = np.asarray([fits.open(f'{CUTOUT_DIR}/nsa_{ind}_{filt}.fits')[1].data for filt in 'grizy'])\n",
    "    fig, ax = plt.subplots(figsize=(5, 5))\n",
    "    ax = _display_cutout_rgb(images, ax=ax)\n",
    "    plt.savefig(FIGURE_DIR + f'nsa_{ind}_cutout.png', dpi=70, bbox_inches='tight')\n",
    "    plt.close()\n",
    "    if i % 10 == 0:\n",
    "        print(f'Progress: {i} / {len(cat)}')"
   ]
  },
  {
   "cell_type": "code",
   "execution_count": 29,
   "id": "fc08666a",
   "metadata": {},
   "outputs": [],
   "source": [
    "# Copy figures in FIGURE_DIR to WEBPAGE_DIR\n",
    "for i, obj in enumerate(cat):\n",
    "    ind = obj['viz-id']\n",
    "    copyfile(FIGURE_DIR + f'nsa_{ind}_cutout.png', WEBPAGE_DIR + f'nsa_{ind}_cutout.png')"
   ]
  },
  {
   "cell_type": "markdown",
   "id": "d79d43d4",
   "metadata": {},
   "source": [
    "### Generate webpage for cutouts. WE use `diezi/webpage/gen_web_cutout.py`"
   ]
  },
  {
   "cell_type": "code",
   "execution_count": 30,
   "id": "5a660ae6",
   "metadata": {},
   "outputs": [],
   "source": [
    "sys.path.append('/home/jiaxuanl/Research/Packages/kuaizi/diezi/webpage/')\n",
    "from gen_web_cutout import webpage_cutout"
   ]
  },
  {
   "cell_type": "code",
   "execution_count": 31,
   "id": "2f2d5405",
   "metadata": {},
   "outputs": [],
   "source": [
    "#FOR NSA SAMPLE\n",
    "FIGURE_DIR = '/tigress/jiaxuanl/public_html/NSA/cutout_RGB/figure'\n",
    "WEBPAGE_DIR = '/tigress/jiaxuanl/public_html/NSA/cutout_RGB/'\n",
    "SCARLET_DIR = '/tigress/jiaxuanl/public_html/NSA/scarlet_result/'\n",
    "sample_name = 'NSA'"
   ]
  },
  {
   "cell_type": "code",
   "execution_count": 32,
   "id": "4ce57ed0",
   "metadata": {},
   "outputs": [
    {
     "name": "stdout",
     "output_type": "stream",
     "text": [
      "You have 98 galaxies to be displayed\n",
      "Total pages: 5\n"
     ]
    }
   ],
   "source": [
    "webpage_cutout(FIGURE_DIR, WEBPAGE_DIR, sample_name, SCARLET_DIR=SCARLET_DIR, \n",
    "               col_num=6, row_num=4)"
   ]
  },
  {
   "cell_type": "code",
   "execution_count": 33,
   "id": "16dc3f5b",
   "metadata": {},
   "outputs": [
    {
     "name": "stdout",
     "output_type": "stream",
     "text": [
      "The webpages are in /tigress/jiaxuanl/public_html/NSA/cutout_RGB/\n"
     ]
    }
   ],
   "source": [
    "print('The webpages are in', WEBPAGE_DIR)"
   ]
  },
  {
   "cell_type": "markdown",
   "id": "f1c1be02",
   "metadata": {},
   "source": [
    "### The search box on webpage still doesn't work. Need to work on the javascript file"
   ]
  }
 ],
 "metadata": {
  "kernelspec": {
   "display_name": "Python 3",
   "language": "python",
   "name": "python3"
  },
  "language_info": {
   "codemirror_mode": {
    "name": "ipython",
    "version": 3
   },
   "file_extension": ".py",
   "mimetype": "text/x-python",
   "name": "python",
   "nbconvert_exporter": "python",
   "pygments_lexer": "ipython3",
   "version": "3.7.8"
  }
 },
 "nbformat": 4,
 "nbformat_minor": 5
}
