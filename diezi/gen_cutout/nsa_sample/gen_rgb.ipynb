{
 "cells": [
  {
   "cell_type": "code",
   "execution_count": 1,
   "id": "5d603894",
   "metadata": {},
   "outputs": [],
   "source": [
    "%load_ext autoreload\n",
    "%autoreload 2"
   ]
  },
  {
   "cell_type": "code",
   "execution_count": 42,
   "id": "f8fa35e6",
   "metadata": {},
   "outputs": [],
   "source": [
    "import numpy as np\n",
    "import matplotlib.pyplot as plt\n",
    "import kuaizi as kz\n",
    "from astropy.table import Table\n",
    "import astropy.units as u\n",
    "\n",
    "from kuaizi.display import display_single\n",
    "from astropy.io import fits\n",
    "import os\n",
    "import sys\n",
    "from shutil import copyfile"
   ]
  },
  {
   "cell_type": "code",
   "execution_count": 4,
   "id": "61773d5c",
   "metadata": {},
   "outputs": [
    {
     "data": {
      "text/plain": [
       "'/scratch/gpfs/jiaxuanl/Data/HSC/LSBG'"
      ]
     },
     "execution_count": 4,
     "metadata": {},
     "output_type": "execute_result"
    }
   ],
   "source": [
    "kz.utils.set_env(project='HSC', name='LSBG', data_dir='/scratch/gpfs/jiaxuanl/Data/')"
   ]
  },
  {
   "cell_type": "code",
   "execution_count": 5,
   "id": "78d1f66b",
   "metadata": {},
   "outputs": [],
   "source": [
    "cat = Table.read('./Catalog/nsa_test_sample_210927.fits')"
   ]
  },
  {
   "cell_type": "markdown",
   "id": "030d99ca",
   "metadata": {},
   "source": [
    "### Generate RGB images"
   ]
  },
  {
   "cell_type": "code",
   "execution_count": 23,
   "id": "6dec1f3f",
   "metadata": {},
   "outputs": [],
   "source": [
    "def _display_cutout_rgb(images, ax=None):\n",
    "    import scarlet\n",
    "    from scarlet.display import AsinhMapping\n",
    "\n",
    "    if ax is None:\n",
    "        fig, ax = plt.subplots(figsize=(5, 5))\n",
    "        \n",
    "    # Display\n",
    "    norm = AsinhMapping(minimum=-0.2, stretch=1, Q=1)\n",
    "    img_rgb = scarlet.display.img_to_rgb(images, norm=norm)\n",
    "    plt.imshow(img_rgb, origin='lower')\n",
    "    ax.axis('off')\n",
    "    \n",
    "    if ax is None:\n",
    "        return fig\n",
    "    return ax"
   ]
  },
  {
   "cell_type": "code",
   "execution_count": 39,
   "id": "cc00def1",
   "metadata": {},
   "outputs": [],
   "source": [
    "CUTOUT_DIR = '/scratch/gpfs/jiaxuanl/Data/HSC/LSBG/Cutout/NSA/'\n",
    "FIGURE_DIR = '/scratch/gpfs/jiaxuanl/Data/HSC/LSBG/Figure/NSA/Cutout_RGB/'\n",
    "WEBPAGE_DIR = '/tigress/jiaxuanl/public_html/NSA/cutout_RGB/figure/'"
   ]
  },
  {
   "cell_type": "code",
   "execution_count": 40,
   "id": "ea364788",
   "metadata": {},
   "outputs": [],
   "source": [
    "# Check file exsistence\n",
    "for filt in 'grizy':\n",
    "    for obj in cat:\n",
    "        if not os.path.isfile(CUTOUT_DIR + f\"nsa_{obj['viz-id']}_{filt}.fits\"):\n",
    "            print(f\"NSA/nsa_{obj['viz-id']}_{filt}.fits not found!\")"
   ]
  },
  {
   "cell_type": "code",
   "execution_count": 28,
   "id": "283a33cc",
   "metadata": {},
   "outputs": [
    {
     "name": "stdout",
     "output_type": "stream",
     "text": [
      "Progress: 0 / 50\n",
      "Progress: 10 / 50\n",
      "Progress: 20 / 50\n",
      "Progress: 30 / 50\n",
      "Progress: 40 / 50\n"
     ]
    }
   ],
   "source": [
    "# Display each cutout\n",
    "for i, obj in enumerate(cat):\n",
    "    ind = obj['viz-id']\n",
    "    \n",
    "    images = np.asarray([fits.open(f'{CUTOUT_DIR}/nsa_{ind}_{filt}.fits')[1].data for filt in 'grizy'])\n",
    "    fig, ax = plt.subplots(figsize=(5, 5))\n",
    "    ax = _display_cutout_rgb(images, ax=ax)\n",
    "    plt.savefig(FIGURE_DIR + f'nsa_{ind}_cutout.png', dpi=70, bbox_inches='tight')\n",
    "    plt.close()\n",
    "    if i % 10 == 0:\n",
    "        print(f'Progress: {i} / {len(cat)}')"
   ]
  },
  {
   "cell_type": "code",
   "execution_count": 41,
   "id": "fc08666a",
   "metadata": {},
   "outputs": [],
   "source": [
    "# Copy figures in FIGURE_DIR to WEBPAGE_DIR\n",
    "for i, obj in enumerate(cat):\n",
    "    ind = obj['viz-id']\n",
    "    copyfile(FIGURE_DIR + f'nsa_{ind}_cutout.png', WEBPAGE_DIR + f'nsa_{ind}_cutout.png')"
   ]
  },
  {
   "cell_type": "markdown",
   "id": "d79d43d4",
   "metadata": {},
   "source": [
    "### Generate webpage for cutouts. WE use `diezi/webpage/gen_web_cutout.py`"
   ]
  },
  {
   "cell_type": "code",
   "execution_count": 46,
   "id": "5a660ae6",
   "metadata": {},
   "outputs": [],
   "source": [
    "sys.path.append('/home/jiaxuanl/Research/Packages/kuaizi/diezi/webpage/')\n",
    "from gen_web_cutout import webpage_cutout"
   ]
  },
  {
   "cell_type": "code",
   "execution_count": 77,
   "id": "2f2d5405",
   "metadata": {},
   "outputs": [],
   "source": [
    "#FOR NSA SAMPLE\n",
    "FIGURE_DIR = '/tigress/jiaxuanl/public_html/NSA/cutout_RGB/figure'\n",
    "WEBPAGE_DIR = '/tigress/jiaxuanl/public_html/NSA/cutout_RGB/'\n",
    "SCARLET_DIR = '/tigress/jiaxuanl/public_html/candy/gpfs_scarlet_zoomin/'\n",
    "sample_name = 'NSA'"
   ]
  },
  {
   "cell_type": "code",
   "execution_count": 78,
   "id": "4ce57ed0",
   "metadata": {},
   "outputs": [
    {
     "name": "stdout",
     "output_type": "stream",
     "text": [
      "You have 50 galaxies to be displayed\n",
      "Total pages: 3\n"
     ]
    }
   ],
   "source": [
    "webpage_cutout(FIGURE_DIR, WEBPAGE_DIR, sample_name, SCARLET_DIR=SCARLET_DIR, \n",
    "               col_num=6, row_num=4)"
   ]
  },
  {
   "cell_type": "code",
   "execution_count": 79,
   "id": "16dc3f5b",
   "metadata": {},
   "outputs": [
    {
     "name": "stdout",
     "output_type": "stream",
     "text": [
      "The webpages are in /tigress/jiaxuanl/public_html/NSA/cutout_RGB/\n"
     ]
    }
   ],
   "source": [
    "print('The webpages are in', WEBPAGE_DIR)"
   ]
  },
  {
   "cell_type": "markdown",
   "id": "f1c1be02",
   "metadata": {},
   "source": [
    "### Search box still doesn't work. Need to work on the javascript file"
   ]
  }
 ],
 "metadata": {
  "kernelspec": {
   "display_name": "Python 3",
   "language": "python",
   "name": "python3"
  },
  "language_info": {
   "codemirror_mode": {
    "name": "ipython",
    "version": 3
   },
   "file_extension": ".py",
   "mimetype": "text/x-python",
   "name": "python",
   "nbconvert_exporter": "python",
   "pygments_lexer": "ipython3",
   "version": "3.7.8"
  }
 },
 "nbformat": 4,
 "nbformat_minor": 5
}
