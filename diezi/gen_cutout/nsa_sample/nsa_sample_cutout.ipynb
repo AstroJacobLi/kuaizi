{
 "cells": [
  {
   "cell_type": "code",
   "execution_count": 1,
   "id": "accomplished-reaction",
   "metadata": {},
   "outputs": [],
   "source": [
    "%load_ext autoreload\n",
    "%autoreload 2"
   ]
  },
  {
   "cell_type": "code",
   "execution_count": 4,
   "id": "proud-benchmark",
   "metadata": {},
   "outputs": [],
   "source": [
    "import numpy as np\n",
    "import matplotlib.pyplot as plt\n",
    "import kuaizi as kz\n",
    "from astropy.table import Table, vstack\n",
    "import astropy.units as u\n",
    "\n",
    "from kuaizi.display import display_single\n",
    "from astropy.io import fits\n",
    "\n",
    "#from tiger_cutout_hsc import cutout_one, prepare_catalog # generate_cutout, get_psf\n",
    "#import lsst.daf.persistence as dafPersist"
   ]
  },
  {
   "cell_type": "code",
   "execution_count": 5,
   "id": "allied-treat",
   "metadata": {},
   "outputs": [
    {
     "data": {
      "text/plain": [
       "'/scratch/gpfs/jiaxuanl/Data/HSC/LSBG'"
      ]
     },
     "execution_count": 5,
     "metadata": {},
     "output_type": "execute_result"
    }
   ],
   "source": [
    "kz.utils.set_env(project='HSC', name='LSBG', data_dir='/scratch/gpfs/jiaxuanl/Data/')"
   ]
  },
  {
   "cell_type": "code",
   "execution_count": 9,
   "id": "9d5fe6d7",
   "metadata": {},
   "outputs": [],
   "source": [
    "# Select 100 galaxies\n",
    "lsbg_cat = Table.read('./Catalog/lsbg_NSA_z001_002_20hosts.fits') # This contains both candy+galaxy and junks\n",
    "\n",
    "#rnd = np.random.randint(0, len(lsbg_cat), 1000)\n",
    "\n",
    "# rnd = np.random.randint(0, len(lsbg_cat), 200)\n",
    "\n",
    "# rnd = np.array([5639, 2575,  782,  865,  636, 1205, 3672, 6502, 2581,  531, 6369,\n",
    "#        5619, 5341, 1798,  472,  742,  523, 5345, 6639, 5890, 4942, 4686,\n",
    "#        2807,  161,  565, 5138, 3618,   95, 3581, 4915, 4825, 6124, 4654,\n",
    "#        3804, 1685,  583, 4148, 3393, 7455, 1085, 4428, 5972, 2193,  150,\n",
    "#        6056, 1109, 1008, 2546, 6907, 4958])\n",
    "# cat = lsbg_cat[rnd]"
   ]
  },
  {
   "cell_type": "code",
   "execution_count": 10,
   "id": "a171d51b",
   "metadata": {},
   "outputs": [],
   "source": [
    "cat = lsbg_cat#[(lsbg_cat['good_votes'] + lsbg_cat['bad_votes']) > 2]"
   ]
  },
  {
   "cell_type": "code",
   "execution_count": 11,
   "id": "8d74ebaa",
   "metadata": {},
   "outputs": [
    {
     "data": {
      "text/plain": [
       "501"
      ]
     },
     "execution_count": 11,
     "metadata": {},
     "output_type": "execute_result"
    }
   ],
   "source": [
    "len(cat)"
   ]
  },
  {
   "cell_type": "markdown",
   "id": "gothic-poster",
   "metadata": {},
   "source": [
    "### Adaptive cutout size"
   ]
  },
  {
   "cell_type": "code",
   "execution_count": 12,
   "id": "going-earthquake",
   "metadata": {},
   "outputs": [],
   "source": [
    "## Adaptive cutout size??  \n",
    "# Normal objects, use 1.0 arcmin cutout.\n",
    "# Radius > 20 arcsec, use 1.5 arcmin cutout.\n",
    "# Radius > 30 arcsec, use 2.0 arcmin cutout.\n",
    "size = np.ones(len(cat)) * 1.0 * u.arcmin\n",
    "\n",
    "size[cat['flux_radius_ave_i'] > 20] = 1.5 * u.arcmin # shoud be larger\n",
    "size[cat['flux_radius_ave_i'] > 30] = 2 * u.arcmin # should be larger \n",
    "\n",
    "cat['cutout_size'] = size.value\n",
    "cat.write('./Catalog/nsa_20hosts_sample_211103.fits', overwrite=True)"
   ]
  },
  {
   "cell_type": "code",
   "execution_count": 13,
   "id": "7a539cfe",
   "metadata": {},
   "outputs": [
    {
     "data": {
      "text/html": [
       "<i>Table length=501</i>\n",
       "<table id=\"table47583726167376\" class=\"table-striped table-bordered table-condensed\">\n",
       "<thead><tr><th>ra</th><th>dec</th><th>a_image</th><th>b_image</th><th>theta_image</th><th>ellipticity</th><th>mag_auto_g</th><th>mag_auto_r</th><th>mag_auto_i</th><th>flux_radius_ave_g</th><th>flux_radius_ave_i</th><th>mu_ave_g</th><th>mu_ave_i</th><th>acorr_ratio</th><th>g-i</th><th>g-r</th><th>A_g</th><th>A_r</th><th>A_i</th><th>tract</th><th>patch</th><th>synth_id</th><th>viz-id</th><th>is_candy</th><th>is_galaxy</th><th>is_tidal</th><th>is_outskirts</th><th>is_cirrus</th><th>is_junk</th><th>num_votes</th><th>good_votes</th><th>bad_votes</th><th>cutout_size</th></tr></thead>\n",
       "<thead><tr><th>float64</th><th>float64</th><th>float64</th><th>float64</th><th>float64</th><th>float64</th><th>float64</th><th>float64</th><th>float64</th><th>float64</th><th>float64</th><th>float64</th><th>float64</th><th>float64</th><th>float64</th><th>float64</th><th>float64</th><th>float64</th><th>float64</th><th>int64</th><th>bytes3</th><th>int64</th><th>int64</th><th>int64</th><th>int64</th><th>int64</th><th>int64</th><th>int64</th><th>int64</th><th>int64</th><th>int64</th><th>int64</th><th>float64</th></tr></thead>\n",
       "<tr><td>148.644722</td><td>0.6324236</td><td>26.481</td><td>19.073</td><td>-29.64</td><td>0.28</td><td>17.8636</td><td>17.4643</td><td>17.2559</td><td>5.299812</td><td>5.179692</td><td>22.965983582252385</td><td>22.334202242303963</td><td>1.0666763135780277</td><td>0.5990814941543471</td><td>0.4005263876679588</td><td>0.091888629160825</td><td>0.06511501682878135</td><td>0.04647012331517132</td><td>9569</td><td>1,3</td><td>-1</td><td>29</td><td>2</td><td>0</td><td>0</td><td>0</td><td>0</td><td>0</td><td>2</td><td>2</td><td>0</td><td>1.0</td></tr>\n",
       "<tr><td>148.6218765</td><td>0.7762161</td><td>16.637</td><td>13.652</td><td>22.08</td><td>0.179</td><td>21.3117</td><td>20.3191</td><td>20.2705</td><td>9.04974</td><td>11.158476000000002</td><td>27.387469794055974</td><td>27.12978041616876</td><td>1.2295926211096606</td><td>0.66058848201742</td><td>0.6362756883982565</td><td>0.1044180460811507</td><td>0.07399373447940495</td><td>0.05280652809857141</td><td>9569</td><td>1,4</td><td>-1</td><td>71</td><td>0</td><td>0</td><td>0</td><td>0</td><td>1</td><td>1</td><td>2</td><td>0</td><td>2</td><td>1.0</td></tr>\n",
       "<tr><td>177.2698169</td><td>-1.3470333</td><td>16.677</td><td>14.109</td><td>-89.87</td><td>0.154</td><td>18.246</td><td>17.9568</td><td>17.7463</td><td>3.769248</td><td>3.4680240000000007</td><td>22.621140107224814</td><td>21.898387993447997</td><td>1.1231178296395317</td><td>0.521845271199144</td><td>0.307726311307631</td><td>0.05756829675417243</td><td>0.04079460806180298</td><td>0.0291135679533164</td><td>9346</td><td>7,1</td><td>-1</td><td>441</td><td>0</td><td>2</td><td>0</td><td>0</td><td>0</td><td>0</td><td>2</td><td>2</td><td>0</td><td>1.0</td></tr>\n",
       "<tr><td>148.3725403</td><td>1.0200613</td><td>12.367</td><td>5.024</td><td>-30.94</td><td>0.594</td><td>22.3699</td><td>21.5443</td><td>21.6433</td><td>4.0249440000000005</td><td>3.2844</td><td>26.99839167413158</td><td>25.954364311900566</td><td>1.4396221128498627</td><td>0.8657919171570793</td><td>0.8350967371476666</td><td>0.09267680339872514</td><td>0.06567354054639013</td><td>0.04686872055580439</td><td>9569</td><td>3,6</td><td>-1</td><td>571</td><td>0</td><td>0</td><td>0</td><td>1</td><td>0</td><td>1</td><td>2</td><td>0</td><td>2</td><td>1.0</td></tr>\n",
       "<tr><td>148.5526387</td><td>0.811883</td><td>7.292</td><td>5.432</td><td>32.1</td><td>0.255</td><td>22.2204</td><td>21.5026</td><td>21.1455</td><td>5.051844</td><td>5.244540000000001</td><td>27.017050464307594</td><td>26.45471917337883</td><td>1.5767805868036053</td><td>0.810413385487835</td><td>0.5477956252375097</td><td>0.10537923949801004</td><td>0.07467486473552148</td><td>0.05329262498584795</td><td>9569</td><td>2,4</td><td>-1</td><td>658</td><td>0</td><td>0</td><td>0</td><td>0</td><td>0</td><td>2</td><td>2</td><td>0</td><td>2</td><td>1.0</td></tr>\n",
       "<tr><td>343.0545009</td><td>1.0592549</td><td>73.457</td><td>41.452</td><td>-31.43</td><td>0.436</td><td>17.8586</td><td>17.1306</td><td>16.6868</td><td>15.930768</td><td>16.751364000000002</td><td>25.23200920729965</td><td>24.309323325800257</td><td>1.0794807676521885</td><td>0.9561652838461318</td><td>0.6178557555588597</td><td>0.2572131022061703</td><td>0.18226885776502816</td><td>0.13007838605230077</td><td>9701</td><td>7,6</td><td>-1</td><td>783</td><td>0</td><td>1</td><td>0</td><td>1</td><td>0</td><td>1</td><td>3</td><td>1</td><td>2</td><td>1.0</td></tr>\n",
       "<tr><td>184.522397</td><td>-1.0402111</td><td>50.831</td><td>13.71</td><td>42.53</td><td>0.73</td><td>19.4873</td><td>18.9621</td><td>18.6324</td><td>5.481</td><td>6.817272</td><td>24.396628428501575</td><td>23.775435998074652</td><td>1.1609416167830167</td><td>0.7268039023484364</td><td>0.4641975444381913</td><td>0.08375067816489719</td><td>0.059348222603086746</td><td>0.042354580513333406</td><td>9351</td><td>8,2</td><td>-1</td><td>1001</td><td>0</td><td>0</td><td>0</td><td>2</td><td>0</td><td>0</td><td>2</td><td>0</td><td>2</td><td>1.0</td></tr>\n",
       "<tr><td>16.2733746</td><td>-0.9957193</td><td>14.986</td><td>11.664</td><td>-31.04</td><td>0.222</td><td>18.9533</td><td>18.5787</td><td>18.3287</td><td>3.1489920000000002</td><td>2.986872</td><td>22.883729889450308</td><td>22.13938479931992</td><td>1.2217132162921536</td><td>0.5976824913147268</td><td>0.3645364873707568</td><td>0.08601946531882873</td><td>0.060955952689587575</td><td>0.043501956633555515</td><td>9237</td><td>4,3</td><td>-1</td><td>1083</td><td>0</td><td>2</td><td>0</td><td>0</td><td>0</td><td>0</td><td>2</td><td>2</td><td>0</td><td>1.0</td></tr>\n",
       "<tr><td>148.1755984</td><td>0.7029789</td><td>4.913</td><td>4.275</td><td>-82.63</td><td>0.13</td><td>22.7233</td><td>22.142</td><td>22.4515</td><td>4.952304000000001</td><td>2.6455800000000003</td><td>27.91116732100387</td><td>27.599959820668012</td><td>1.8292946662904634</td><td>0.24540053969913048</td><td>0.35195338447846264</td><td>0.09488482800544593</td><td>0.06723821248390863</td><td>0.047985367704579056</td><td>9569</td><td>4,4</td><td>-1</td><td>1160</td><td>0</td><td>0</td><td>0</td><td>0</td><td>0</td><td>2</td><td>2</td><td>0</td><td>2</td><td>1.0</td></tr>\n",
       "<tr><td>174.728913</td><td>-0.2221168</td><td>15.659</td><td>7.589</td><td>-60.69</td><td>0.515</td><td>19.0829</td><td>18.4562</td><td>18.1519</td><td>2.5759440000000002</td><td>2.2701000000000002</td><td>22.578931625736914</td><td>21.358522581036084</td><td>1.260647960051824</td><td>0.9301724050104349</td><td>0.625043307584373</td><td>0.06540370125235255</td><td>0.046347008836727405</td><td>0.033076106262788875</td><td>9344</td><td>4,7</td><td>-1</td><td>1346</td><td>0</td><td>2</td><td>0</td><td>0</td><td>0</td><td>0</td><td>2</td><td>2</td><td>0</td><td>1.0</td></tr>\n",
       "<tr><td>...</td><td>...</td><td>...</td><td>...</td><td>...</td><td>...</td><td>...</td><td>...</td><td>...</td><td>...</td><td>...</td><td>...</td><td>...</td><td>...</td><td>...</td><td>...</td><td>...</td><td>...</td><td>...</td><td>...</td><td>...</td><td>...</td><td>...</td><td>...</td><td>...</td><td>...</td><td>...</td><td>...</td><td>...</td><td>...</td><td>...</td><td>...</td><td>...</td></tr>\n",
       "<tr><td>148.549505</td><td>0.658399</td><td>11.393</td><td>7.561</td><td>29.92</td><td>0.336</td><td>21.5075</td><td>21.1815</td><td>20.9751</td><td>2.8045920000000004</td><td>2.8901040000000005</td><td>25.150658756613936</td><td>24.754706299866374</td><td>1.250577543965061</td><td>0.47337333115396174</td><td>0.3146424768129129</td><td>0.11517141450515841</td><td>0.08161389131806926</td><td>0.058244745659119704</td><td>9569</td><td>2,4</td><td>-1</td><td>89172</td><td>0</td><td>0</td><td>0</td><td>0</td><td>0</td><td>0</td><td>0</td><td>0</td><td>0</td><td>1.0</td></tr>\n",
       "<tr><td>18.302992</td><td>-0.3748203</td><td>6.327</td><td>5.52</td><td>0.22</td><td>0.128</td><td>22.7858</td><td>22.1089</td><td>21.7199</td><td>2.7312600000000002</td><td>4.359936</td><td>26.134550239683684</td><td>25.734187051952443</td><td>1.5612338551555958</td><td>0.7615292848536834</td><td>0.5918872254894678</td><td>0.08653174096873957</td><td>0.061318966458206725</td><td>0.04376102582242165</td><td>9238</td><td>1,6</td><td>-1</td><td>89621</td><td>0</td><td>0</td><td>0</td><td>0</td><td>0</td><td>0</td><td>0</td><td>0</td><td>0</td><td>1.0</td></tr>\n",
       "<tr><td>177.3622836</td><td>-1.4330978</td><td>14.466</td><td>8.218</td><td>48.65</td><td>0.432</td><td>21.4134</td><td>20.75</td><td>20.547</td><td>3.7310280000000002</td><td>3.698856</td><td>25.628287819035968</td><td>24.783810760627997</td><td>1.2555441041987911</td><td>0.8338474645674865</td><td>0.5658276042694431</td><td>0.057563859232365386</td><td>0.040791463501809185</td><td>0.02911132379985073</td><td>9346</td><td>6,0</td><td>-1</td><td>89628</td><td>0</td><td>0</td><td>0</td><td>0</td><td>0</td><td>0</td><td>0</td><td>0</td><td>0</td><td>1.0</td></tr>\n",
       "<tr><td>179.4633769</td><td>-2.0762518</td><td>10.793</td><td>8.568</td><td>73.23</td><td>0.206</td><td>21.2477</td><td>20.5536</td><td>20.2945</td><td>4.057368</td><td>4.073664</td><td>25.658241216226997</td><td>24.704199325598598</td><td>1.2566672131206575</td><td>0.9068451046847378</td><td>0.5867124459405668</td><td>0.07031450347574858</td><td>0.049826949416313014</td><td>0.035559608160485284</td><td>9105</td><td>7,5</td><td>-1</td><td>89837</td><td>1</td><td>0</td><td>0</td><td>0</td><td>0</td><td>0</td><td>1</td><td>1</td><td>0</td><td>1.0</td></tr>\n",
       "<tr><td>17.0008354</td><td>-0.6844435</td><td>15.503</td><td>5.264</td><td>-72.26</td><td>0.66</td><td>21.8619</td><td>20.1825</td><td>19.6995</td><td>2.7231120000000004</td><td>5.661012</td><td>25.30259699150727</td><td>25.323321195948832</td><td>1.4521423736054515</td><td>0.910926041994418</td><td>0.6422577794485249</td><td>0.1120300414468385</td><td>0.0793878208953625</td><td>0.05665608344125609</td><td>9238</td><td>8,4</td><td>-1</td><td>89876</td><td>0</td><td>0</td><td>1</td><td>0</td><td>0</td><td>0</td><td>1</td><td>0</td><td>1</td><td>1.0</td></tr>\n",
       "<tr><td>16.1232378</td><td>-0.7700239</td><td>9.491</td><td>6.106</td><td>38.35</td><td>0.357</td><td>22.5809</td><td>21.9573</td><td>21.3486</td><td>2.6944680000000005</td><td>3.759756</td><td>26.20846533731461</td><td>25.92713829220824</td><td>1.3350385410324648</td><td>1.0504718413544307</td><td>0.6631101843278308</td><td>0.08988500431859976</td><td>0.0636951886464312</td><td>0.04545684567303143</td><td>9237</td><td>5,4</td><td>-1</td><td>89915</td><td>0</td><td>0</td><td>0</td><td>0</td><td>0</td><td>1</td><td>1</td><td>0</td><td>1</td><td>1.0</td></tr>\n",
       "<tr><td>16.2085935</td><td>-0.7861372</td><td>17.605</td><td>15.248</td><td>-60.55</td><td>0.134</td><td>19.3892</td><td>18.6819</td><td>18.3666</td><td>3.9438</td><td>5.710488</td><td>23.565639122072955</td><td>23.367527996432212</td><td>1.234381981180868</td><td>0.7174705617559209</td><td>0.46622732739303924</td><td>0.08948296235488822</td><td>0.06341028974792727</td><td>0.04525352411080799</td><td>9237</td><td>4,4</td><td>-1</td><td>89929</td><td>0</td><td>1</td><td>0</td><td>0</td><td>0</td><td>0</td><td>1</td><td>1</td><td>0</td><td>1.0</td></tr>\n",
       "<tr><td>148.1337261</td><td>0.9577893</td><td>19.374</td><td>12.62</td><td>-58.8</td><td>0.349</td><td>18.7937</td><td>18.1832</td><td>17.8972</td><td>3.6769320000000003</td><td>3.6844920000000005</td><td>22.972451430073477</td><td>22.14264730858444</td><td>1.1227230870846576</td><td>0.8279728971553544</td><td>0.5723105563957092</td><td>0.12832279317693496</td><td>0.09093334957264397</td><td>0.06489569033228847</td><td>9569</td><td>4,5</td><td>-1</td><td>90269</td><td>0</td><td>0</td><td>0</td><td>0</td><td>0</td><td>0</td><td>0</td><td>0</td><td>0</td><td>1.0</td></tr>\n",
       "<tr><td>179.5245502</td><td>-2.3209053</td><td>18.138</td><td>13.541</td><td>-57.43</td><td>0.253</td><td>18.4052</td><td>17.7574</td><td>17.3927</td><td>3.3743640000000004</td><td>3.378144</td><td>22.71564711109123</td><td>21.73635882850592</td><td>1.2749599788705317</td><td>0.9772537580400996</td><td>0.6274375720111207</td><td>0.06645300391512032</td><td>0.047090575926242086</td><td>0.0336067619552186</td><td>9105</td><td>7,3</td><td>-1</td><td>90549</td><td>0</td><td>0</td><td>0</td><td>0</td><td>0</td><td>0</td><td>0</td><td>0</td><td>0</td><td>1.0</td></tr>\n",
       "<tr><td>148.4780528</td><td>0.4823376</td><td>7.057</td><td>3.475</td><td>42.18</td><td>0.508</td><td>23.4556</td><td>22.7853</td><td>22.5433</td><td>2.4223920000000003</td><td>2.628108</td><td>26.758762655027308</td><td>26.251395506247295</td><td>1.807015963584982</td><td>0.9464934790820357</td><td>0.7283698731509896</td><td>0.15660530796481262</td><td>0.11097518111580132</td><td>0.0791987870468508</td><td>9569</td><td>2,3</td><td>-1</td><td>90715</td><td>0</td><td>0</td><td>0</td><td>0</td><td>0</td><td>0</td><td>0</td><td>0</td><td>0</td><td>1.0</td></tr>\n",
       "</table>"
      ],
      "text/plain": [
       "<Table length=501>\n",
       "     ra        dec     a_image b_image ... good_votes bad_votes cutout_size\n",
       "  float64    float64   float64 float64 ...   int64      int64     float64  \n",
       "----------- ---------- ------- ------- ... ---------- --------- -----------\n",
       " 148.644722  0.6324236  26.481  19.073 ...          2         0         1.0\n",
       "148.6218765  0.7762161  16.637  13.652 ...          0         2         1.0\n",
       "177.2698169 -1.3470333  16.677  14.109 ...          2         0         1.0\n",
       "148.3725403  1.0200613  12.367   5.024 ...          0         2         1.0\n",
       "148.5526387   0.811883   7.292   5.432 ...          0         2         1.0\n",
       "343.0545009  1.0592549  73.457  41.452 ...          1         2         1.0\n",
       " 184.522397 -1.0402111  50.831   13.71 ...          0         2         1.0\n",
       " 16.2733746 -0.9957193  14.986  11.664 ...          2         0         1.0\n",
       "148.1755984  0.7029789   4.913   4.275 ...          0         2         1.0\n",
       " 174.728913 -0.2221168  15.659   7.589 ...          2         0         1.0\n",
       "        ...        ...     ...     ... ...        ...       ...         ...\n",
       " 148.549505   0.658399  11.393   7.561 ...          0         0         1.0\n",
       "  18.302992 -0.3748203   6.327    5.52 ...          0         0         1.0\n",
       "177.3622836 -1.4330978  14.466   8.218 ...          0         0         1.0\n",
       "179.4633769 -2.0762518  10.793   8.568 ...          1         0         1.0\n",
       " 17.0008354 -0.6844435  15.503   5.264 ...          0         1         1.0\n",
       " 16.1232378 -0.7700239   9.491   6.106 ...          0         1         1.0\n",
       " 16.2085935 -0.7861372  17.605  15.248 ...          1         0         1.0\n",
       "148.1337261  0.9577893  19.374   12.62 ...          0         0         1.0\n",
       "179.5245502 -2.3209053  18.138  13.541 ...          0         0         1.0\n",
       "148.4780528  0.4823376   7.057   3.475 ...          0         0         1.0"
      ]
     },
     "execution_count": 13,
     "metadata": {},
     "output_type": "execute_result"
    }
   ],
   "source": [
    "cat"
   ]
  },
  {
   "cell_type": "code",
   "execution_count": null,
   "id": "6be936a7",
   "metadata": {},
   "outputs": [],
   "source": []
  },
  {
   "cell_type": "markdown",
   "id": "ahead-failing",
   "metadata": {},
   "source": [
    "### Generate cutout"
   ]
  },
  {
   "cell_type": "markdown",
   "id": "e8dee80d",
   "metadata": {},
   "source": [
    "Run `'/home/jiaxuanl/Research/Packages/kuaizi/diezi/gen_cutout/nsa_sample/lsbg_cutout_nsa.sh'`"
   ]
  },
  {
   "cell_type": "code",
   "execution_count": null,
   "id": "cbe4376c",
   "metadata": {},
   "outputs": [],
   "source": []
  },
  {
   "cell_type": "raw",
   "id": "ebe347ff",
   "metadata": {},
   "source": [
    "import os, sys\n",
    "sys.path.append('/home/jiaxuanl/Research/Packages/kuaizi/diezi/gen_cutout/')\n",
    "from s18a_batch_cutout import batch_cutout"
   ]
  },
  {
   "cell_type": "raw",
   "id": "524bf04b",
   "metadata": {},
   "source": [
    "batch_cutout('/scratch/gpfs/jiaxuanl/Data/',\n",
    "             './Catalog/nsa_test_sample_210928.fits', \n",
    "             size='cutout_size',\n",
    "            unit='arcmin',\n",
    "            bands='grizy',\n",
    "            ra_name='ra',\n",
    "            dec_name='dec',\n",
    "            name='viz-id',\n",
    "            prefix='nsa',\n",
    "            output='./Cutout/NSA',\n",
    "            label='deepCoadd_calexp',\n",
    "            root='/tigress/HSC/DR/s18a_wide',\n",
    "            njobs=1,\n",
    "            psf=True,)"
   ]
  },
  {
   "cell_type": "code",
   "execution_count": null,
   "id": "c485935a",
   "metadata": {},
   "outputs": [],
   "source": []
  },
  {
   "cell_type": "code",
   "execution_count": null,
   "id": "d099269d",
   "metadata": {},
   "outputs": [],
   "source": [
    "#### Download quick RGB from Johnny's website\n",
    "import urllib\n",
    "\n",
    "temp = cat\n",
    "for k, idx in enumerate(temp['viz-id'].data):\n",
    "    suffix = ''\n",
    "    if temp[k]['is_galaxy'] >= 1:\n",
    "        suffix += '_gal'\n",
    "    if temp[k]['is_candy'] >= 1:\n",
    "        suffix += '_cd'\n",
    "    if temp[k]['bad_votes'] >= 1:\n",
    "        suffix += '_jk'\n",
    "        \n",
    "    url = f'https://hugs-detections.nyc3.digitaloceanspaces.com/hugs-{idx}.png'\n",
    "    urllib.request.urlretrieve(url, filename=f'{idx}' + suffix + '.png')"
   ]
  },
  {
   "cell_type": "code",
   "execution_count": null,
   "id": "numerical-gather",
   "metadata": {},
   "outputs": [],
   "source": []
  }
 ],
 "metadata": {
  "kernelspec": {
   "display_name": "Python 3",
   "language": "python",
   "name": "python3"
  },
  "language_info": {
   "codemirror_mode": {
    "name": "ipython",
    "version": 3
   },
   "file_extension": ".py",
   "mimetype": "text/x-python",
   "name": "python",
   "nbconvert_exporter": "python",
   "pygments_lexer": "ipython3",
   "version": "3.7.8"
  }
 },
 "nbformat": 4,
 "nbformat_minor": 5
}
