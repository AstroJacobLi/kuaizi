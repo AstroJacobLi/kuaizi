{
 "cells": [
  {
   "cell_type": "code",
   "execution_count": 1,
   "id": "accomplished-reaction",
   "metadata": {},
   "outputs": [],
   "source": [
    "%load_ext autoreload\n",
    "%autoreload 2"
   ]
  },
  {
   "cell_type": "code",
   "execution_count": 4,
   "id": "proud-benchmark",
   "metadata": {},
   "outputs": [],
   "source": [
    "import numpy as np\n",
    "import matplotlib.pyplot as plt\n",
    "import kuaizi as kz\n",
    "from astropy.table import Table\n",
    "import astropy.units as u\n",
    "\n",
    "from kuaizi.display import display_single\n",
    "from astropy.io import fits\n",
    "\n",
    "#from tiger_cutout_hsc import cutout_one, prepare_catalog # generate_cutout, get_psf\n",
    "#import lsst.daf.persistence as dafPersist"
   ]
  },
  {
   "cell_type": "code",
   "execution_count": 3,
   "id": "allied-treat",
   "metadata": {},
   "outputs": [
    {
     "data": {
      "text/plain": [
       "'/scratch/gpfs/jiaxuanl/Data/HSC/LSBG'"
      ]
     },
     "execution_count": 3,
     "metadata": {},
     "output_type": "execute_result"
    }
   ],
   "source": [
    "kz.utils.set_env(project='HSC', name='LSBG', data_dir='/scratch/gpfs/jiaxuanl/Data/')"
   ]
  },
  {
   "cell_type": "code",
   "execution_count": 25,
   "id": "9d5fe6d7",
   "metadata": {},
   "outputs": [],
   "source": [
    "# Select 100 galaxies\n",
    "lsbg_cat = Table.read('./Catalog/lsbg_NSA_z005.fits') # This contains both candy+galaxy and junks\n",
    "\n",
    "rnd = np.random.randint(0, len(lsbg_cat), 50)\n",
    "\n",
    "# rnd = np.array([5639, 2575,  782,  865,  636, 1205, 3672, 6502, 2581,  531, 6369,\n",
    "#        5619, 5341, 1798,  472,  742,  523, 5345, 6639, 5890, 4942, 4686,\n",
    "#        2807,  161,  565, 5138, 3618,   95, 3581, 4915, 4825, 6124, 4654,\n",
    "#        3804, 1685,  583, 4148, 3393, 7455, 1085, 4428, 5972, 2193,  150,\n",
    "#        6056, 1109, 1008, 2546, 6907, 4958])\n",
    "cat = lsbg_cat[rnd]"
   ]
  },
  {
   "cell_type": "markdown",
   "id": "gothic-poster",
   "metadata": {},
   "source": [
    "### Adaptive cutout size"
   ]
  },
  {
   "cell_type": "code",
   "execution_count": 26,
   "id": "going-earthquake",
   "metadata": {},
   "outputs": [],
   "source": [
    "## Adaptive cutout size??  \n",
    "# Normal objects, use 1.0 arcmin cutout.\n",
    "# Radius > 20 arcsec, use 1.5 arcmin cutout.\n",
    "# Radius > 30 arcsec, use 2.0 arcmin cutout.\n",
    "size = np.ones(len(cat)) * 1.0 * u.arcmin\n",
    "\n",
    "size[cat['flux_radius_ave_i'] > 20] = 1.5 * u.arcmin # shoud be larger\n",
    "size[cat['flux_radius_ave_i'] > 30] = 2 * u.arcmin # should be larger \n",
    "\n",
    "cat['cutout_size'] = size.value\n",
    "cat.write('./Catalog/nsa_test_sample_210927.fits', overwrite=True)"
   ]
  },
  {
   "cell_type": "markdown",
   "id": "ahead-failing",
   "metadata": {},
   "source": [
    "### Generate cutout"
   ]
  },
  {
   "cell_type": "markdown",
   "id": "e8dee80d",
   "metadata": {},
   "source": [
    "Run `'/home/jiaxuanl/Research/Packages/kuaizi/diezi/gen_cutout/nsa_sample/lsbg_cutout_nsa.sh'`"
   ]
  },
  {
   "cell_type": "raw",
   "id": "a965f7a3",
   "metadata": {},
   "source": [
    "import os, sys\n",
    "sys.path.append('/home/jiaxuanl/Research/Packages/kuaizi/diezi/gen_cutout/')\n",
    "from s18a_batch_cutout import batch_cutout"
   ]
  },
  {
   "cell_type": "raw",
   "id": "fbfa694c",
   "metadata": {},
   "source": [
    "batch_cutout('/scratch/gpfs/jiaxuanl/Data/',\n",
    "             './Catalog/nsa_test_sample_210921.fits', \n",
    "             size='cutout_size',\n",
    "            unit='arcmin',\n",
    "            bands='grizy',\n",
    "            ra_name='ra',\n",
    "            dec_name='dec',\n",
    "            name='viz-id',\n",
    "            prefix='nsa',\n",
    "            output='./Cutout/NSA',\n",
    "            label='deepCoadd_calexp',\n",
    "            root='/tigress/HSC/DR/s18a_wide',\n",
    "            njobs=1,\n",
    "            psf=True,)"
   ]
  },
  {
   "cell_type": "code",
   "execution_count": null,
   "id": "d099269d",
   "metadata": {},
   "outputs": [],
   "source": [
    "#### Download quick RGB from Johnny's website\n",
    "import urllib\n",
    "\n",
    "temp = cat\n",
    "for k, idx in enumerate(temp['viz-id'].data):\n",
    "    suffix = ''\n",
    "    if temp[k]['is_galaxy'] >= 1:\n",
    "        suffix += '_gal'\n",
    "    if temp[k]['is_candy'] >= 1:\n",
    "        suffix += '_cd'\n",
    "    if temp[k]['bad_votes'] >= 1:\n",
    "        suffix += '_jk'\n",
    "        \n",
    "    url = f'https://hugs-detections.nyc3.digitaloceanspaces.com/hugs-{idx}.png'\n",
    "    urllib.request.urlretrieve(url, filename=f'{idx}' + suffix + '.png')"
   ]
  },
  {
   "cell_type": "code",
   "execution_count": null,
   "id": "numerical-gather",
   "metadata": {},
   "outputs": [],
   "source": []
  }
 ],
 "metadata": {
  "kernelspec": {
   "display_name": "Python 3",
   "language": "python",
   "name": "python3"
  },
  "language_info": {
   "codemirror_mode": {
    "name": "ipython",
    "version": 3
   },
   "file_extension": ".py",
   "mimetype": "text/x-python",
   "name": "python",
   "nbconvert_exporter": "python",
   "pygments_lexer": "ipython3",
   "version": "3.7.8"
  }
 },
 "nbformat": 4,
 "nbformat_minor": 5
}
