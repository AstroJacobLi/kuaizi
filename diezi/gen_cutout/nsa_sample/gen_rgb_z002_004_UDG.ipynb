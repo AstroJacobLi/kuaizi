{
 "cells": [
  {
   "cell_type": "code",
   "execution_count": 1,
   "id": "5d603894",
   "metadata": {},
   "outputs": [],
   "source": [
    "%load_ext autoreload\n",
    "%autoreload 2"
   ]
  },
  {
   "cell_type": "code",
   "execution_count": 4,
   "id": "f8fa35e6",
   "metadata": {},
   "outputs": [],
   "source": [
    "import numpy as np\n",
    "import matplotlib.pyplot as plt\n",
    "import kuaizi as kz\n",
    "from astropy.table import Table\n",
    "import astropy.units as u\n",
    "\n",
    "from kuaizi.display import display_single\n",
    "from astropy.io import fits\n",
    "import os\n",
    "import sys\n",
    "from shutil import copyfile"
   ]
  },
  {
   "cell_type": "code",
   "execution_count": 5,
   "id": "61773d5c",
   "metadata": {},
   "outputs": [
    {
     "data": {
      "text/plain": [
       "'/scratch/gpfs/jiaxuanl/Data/HSC/LSBG'"
      ]
     },
     "execution_count": 5,
     "metadata": {},
     "output_type": "execute_result"
    }
   ],
   "source": [
    "kz.utils.set_env(project='HSC', name='LSBG', data_dir='/scratch/gpfs/jiaxuanl/Data/')"
   ]
  },
  {
   "cell_type": "code",
   "execution_count": 6,
   "id": "78d1f66b",
   "metadata": {},
   "outputs": [],
   "source": [
    "cat = Table.read('./Catalog/NSA/z002_004/UDG_NSA_MW_z002_004_JG.fits')"
   ]
  },
  {
   "cell_type": "code",
   "execution_count": 7,
   "id": "510dc891",
   "metadata": {},
   "outputs": [
    {
     "data": {
      "text/plain": [
       "105"
      ]
     },
     "execution_count": 7,
     "metadata": {},
     "output_type": "execute_result"
    }
   ],
   "source": [
    "len(cat)"
   ]
  },
  {
   "cell_type": "code",
   "execution_count": 20,
   "id": "42be73f9",
   "metadata": {},
   "outputs": [
    {
     "data": {
      "text/plain": [
       "array([  931,  1760,  2071,  4032,  4188,  4221,  4363,  5051,  6675,\n",
       "       11959, 12500, 12814, 13292, 14037, 14970, 15381, 15401, 17439,\n",
       "       17947, 18077, 19656, 19965, 21244, 21384, 21531, 22086, 23739,\n",
       "       24267, 25205, 27799, 28347, 29725, 30027, 30675, 32512, 33007,\n",
       "       33394, 34727, 35129, 38086, 38470, 39390, 40671, 40955, 41290,\n",
       "       41501, 44405, 44841, 44926, 45970, 46914, 47949, 48838, 49557,\n",
       "       51149, 51341, 51815, 52367, 52915, 54980, 57828, 58901, 59939,\n",
       "       60199, 60461, 60721, 62121, 62214, 62470, 63264, 63430, 64077,\n",
       "       64379, 64482, 64638, 65334, 66772, 69656, 70143, 72306, 74461,\n",
       "       74926, 75879, 76145, 78228, 79056, 79133, 79706, 80065, 81294,\n",
       "       81343, 81848, 82230, 82983, 83554, 84101, 84314, 85545, 85715,\n",
       "       86966, 88425, 88587, 89144, 89269, 90593])"
      ]
     },
     "execution_count": 20,
     "metadata": {},
     "output_type": "execute_result"
    }
   ],
   "source": [
    "cat['viz-id'].data"
   ]
  },
  {
   "cell_type": "code",
   "execution_count": 8,
   "id": "69dd5d9c",
   "metadata": {},
   "outputs": [],
   "source": [
    "category = \"UDG_new\""
   ]
  },
  {
   "cell_type": "markdown",
   "id": "030d99ca",
   "metadata": {},
   "source": [
    "### Generate RGB images"
   ]
  },
  {
   "cell_type": "code",
   "execution_count": 9,
   "id": "6dec1f3f",
   "metadata": {},
   "outputs": [],
   "source": [
    "from kuaizi.display import display_HSC_cutout_rgb"
   ]
  },
  {
   "cell_type": "code",
   "execution_count": 10,
   "id": "cc00def1",
   "metadata": {},
   "outputs": [],
   "source": [
    "CUTOUT_DIR = '/scratch/gpfs/jiaxuanl/Data/HSC/LSBG/Cutout/NSA/'\n",
    "FIGURE_DIR = '/scratch/gpfs/jiaxuanl/Data/HSC/LSBG/Figure/NSA/Cutout_RGB/'\n",
    "WEBPAGE_FIG_DIR = f'/tigress/jiaxuanl/public_html/NSA/cutout_RGB/z002_004/figure/{category}/'"
   ]
  },
  {
   "cell_type": "code",
   "execution_count": 11,
   "id": "ea364788",
   "metadata": {},
   "outputs": [],
   "source": [
    "problem_ids = []\n",
    "# Check file exsistence\n",
    "for filt in 'grizy':\n",
    "    for obj in cat:\n",
    "        if not os.path.isfile(CUTOUT_DIR + f\"nsa_{obj['viz-id']}_{filt}.fits\"):\n",
    "            #print(f\"NSA/nsa_{obj['viz-id']}_{filt}.fits not found!\")\n",
    "            problem_ids.append(obj['viz-id'])\n",
    "            \n",
    "if not os.path.isdir(FIGURE_DIR):\n",
    "    os.mkdir(FIGURE_DIR)"
   ]
  },
  {
   "cell_type": "code",
   "execution_count": 12,
   "id": "bc17ae34",
   "metadata": {},
   "outputs": [
    {
     "name": "stdout",
     "output_type": "stream",
     "text": [
      "# of no cutouts: (0,)\n"
     ]
    }
   ],
   "source": [
    "print('# of no cutouts:', np.unique(problem_ids).shape)"
   ]
  },
  {
   "cell_type": "code",
   "execution_count": null,
   "id": "5761fb71",
   "metadata": {},
   "outputs": [],
   "source": []
  },
  {
   "cell_type": "code",
   "execution_count": 13,
   "id": "3fd28387",
   "metadata": {},
   "outputs": [
    {
     "name": "stdout",
     "output_type": "stream",
     "text": [
      "Progress: 0 / 105\n",
      "Progress: 10 / 105\n",
      "Progress: 20 / 105\n",
      "Progress: 30 / 105\n",
      "Progress: 40 / 105\n",
      "Progress: 50 / 105\n",
      "Progress: 60 / 105\n",
      "Progress: 70 / 105\n",
      "Progress: 80 / 105\n",
      "Progress: 90 / 105\n",
      "Progress: 100 / 105\n"
     ]
    }
   ],
   "source": [
    "# Display each cutout\n",
    "for i, obj in enumerate(cat):\n",
    "    ind = obj['viz-id']\n",
    "    try:\n",
    "        images = np.asarray([fits.open(f'{CUTOUT_DIR}/nsa_{ind}_{filt}.fits')[1].data for filt in 'griz'])\n",
    "        fig, ax = plt.subplots(figsize=(5, 5))\n",
    "        size = int(obj['rhalf_ellip'] * 5) if obj['rhalf_ellip'] * 5 > 100 else 100\n",
    "        ax = display_HSC_cutout_rgb(images, ax=ax, half_width=size)\n",
    "        plt.savefig(FIGURE_DIR + f'nsa_{ind}_cutout.png', dpi=70, bbox_inches='tight')\n",
    "        plt.close()\n",
    "    except Exception as e:\n",
    "        print(ind, e)\n",
    "        \n",
    "    if i % 10 == 0:\n",
    "        print(f'Progress: {i} / {len(cat)}')"
   ]
  },
  {
   "cell_type": "code",
   "execution_count": 21,
   "id": "4291358e",
   "metadata": {},
   "outputs": [],
   "source": [
    "# Copy figures in FIGURE_DIR to WEBPAGE_FIG_DIR\n",
    "if not os.path.isdir(WEBPAGE_FIG_DIR):\n",
    "    os.mkdir(WEBPAGE_FIG_DIR)\n",
    "else:\n",
    "    import glob\n",
    "    fileList = glob.glob(WEBPAGE_FIG_DIR + '*.png', recursive=True)\n",
    "    [os.remove(file) for file in fileList];\n",
    "            \n",
    "for i, obj in enumerate(cat):\n",
    "    ind = obj['viz-id']\n",
    "    try: \n",
    "        copyfile(FIGURE_DIR + f'nsa_{ind}_cutout.png', WEBPAGE_FIG_DIR + f'nsa_{ind}_cutout.png')\n",
    "    except Exception as e:\n",
    "        print(ind, e)"
   ]
  },
  {
   "cell_type": "markdown",
   "id": "d79d43d4",
   "metadata": {},
   "source": [
    "### Generate webpage for cutouts. We use `diezi/webpage/gen_web_cutout.py`"
   ]
  },
  {
   "cell_type": "code",
   "execution_count": 26,
   "id": "5a660ae6",
   "metadata": {},
   "outputs": [],
   "source": [
    "sys.path.append('/home/jiaxuanl/Research/Packages/kuaizi/diezi/webpage/')\n",
    "from gen_web_cutout import webpage_cutout"
   ]
  },
  {
   "cell_type": "code",
   "execution_count": 34,
   "id": "2f2d5405",
   "metadata": {},
   "outputs": [],
   "source": [
    "#FOR NSA SAMPLE\n",
    "WEBPAGE_FIG_DIR = f'/tigress/jiaxuanl/public_html/NSA/cutout_RGB/z002_004/figure/{category}/'\n",
    "WEBPAGE_DIR = f'/tigress/jiaxuanl/public_html/NSA/cutout_RGB/z002_004/page/{category}/'\n",
    "SCARLET_DIR = None #'/tigress/jiaxuanl/public_html/NSA/scarlet_result/'\n",
    "sample_name = 'NSA'"
   ]
  },
  {
   "cell_type": "code",
   "execution_count": 35,
   "id": "b507172e",
   "metadata": {},
   "outputs": [],
   "source": [
    "# Non-UDG based on visual inspection\n",
    "bad_idx = np.array([1760, 12500, 17439, 28347, \n",
    "                30027, 30675, 39390, 41501, 49557, \n",
    "                63848, 64077, 64379, 66143, \n",
    "                78228, 81848, 86966, ])"
   ]
  },
  {
   "cell_type": "code",
   "execution_count": 38,
   "id": "4d42273a",
   "metadata": {},
   "outputs": [
    {
     "name": "stdout",
     "output_type": "stream",
     "text": [
      "You have 105 galaxies to be displayed\n",
      "Total pages: 5\n"
     ]
    }
   ],
   "source": [
    "webpage_cutout(WEBPAGE_FIG_DIR, WEBPAGE_DIR, sample_name, sample_title=f'{category}', SCARLET_DIR=SCARLET_DIR, \n",
    "               col_num=6, row_num=4, colored_idx=bad_idx, color='red')"
   ]
  },
  {
   "cell_type": "code",
   "execution_count": 39,
   "id": "16dc3f5b",
   "metadata": {},
   "outputs": [
    {
     "name": "stdout",
     "output_type": "stream",
     "text": [
      "The webpages are in /tigress/jiaxuanl/public_html/NSA/cutout_RGB/z002_004/page/UDG_new/\n"
     ]
    }
   ],
   "source": [
    "print('The webpages are in', WEBPAGE_DIR)"
   ]
  },
  {
   "cell_type": "markdown",
   "id": "f1c1be02",
   "metadata": {},
   "source": [
    "### The search box on webpage still doesn't work. Need to work on the javascript file"
   ]
  }
 ],
 "metadata": {
  "kernelspec": {
   "display_name": "Python 3",
   "language": "python",
   "name": "python3"
  },
  "language_info": {
   "codemirror_mode": {
    "name": "ipython",
    "version": 3
   },
   "file_extension": ".py",
   "mimetype": "text/x-python",
   "name": "python",
   "nbconvert_exporter": "python",
   "pygments_lexer": "ipython3",
   "version": "3.7.8"
  }
 },
 "nbformat": 4,
 "nbformat_minor": 5
}
